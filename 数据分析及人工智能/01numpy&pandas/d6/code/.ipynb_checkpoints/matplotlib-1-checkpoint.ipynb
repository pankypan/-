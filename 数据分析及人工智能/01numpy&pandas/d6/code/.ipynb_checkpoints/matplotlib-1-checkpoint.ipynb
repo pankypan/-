{
 "cells": [
  {
   "cell_type": "code",
   "execution_count": 1,
   "metadata": {},
   "outputs": [],
   "source": [
    "import numpy as np\n",
    "import pandas as pd\n",
    "import matplotlib.pyplot as plt\n",
    "%matplotlib inline"
   ]
  },
  {
   "cell_type": "markdown",
   "metadata": {},
   "source": [
    "### 图片灰度处理"
   ]
  },
  {
   "cell_type": "markdown",
   "metadata": {},
   "source": [
    "三种方法"
   ]
  },
  {
   "cell_type": "code",
   "execution_count": 2,
   "metadata": {
    "collapsed": true
   },
   "outputs": [
    {
     "data": {
      "text/plain": [
       "array([[[0.24313726, 0.24313726, 0.24705882],\n",
       "        [0.22745098, 0.23137255, 0.2509804 ],\n",
       "        [0.38039216, 0.3882353 , 0.42352942],\n",
       "        ...,\n",
       "        [0.34509805, 0.36078432, 0.3764706 ],\n",
       "        [0.12941177, 0.12941177, 0.13333334],\n",
       "        [0.7411765 , 0.7411765 , 0.7411765 ]],\n",
       "\n",
       "       [[0.14117648, 0.14509805, 0.14901961],\n",
       "        [0.47843137, 0.49019608, 0.53333336],\n",
       "        [0.87058824, 0.8901961 , 0.96862745],\n",
       "        ...,\n",
       "        [0.8117647 , 0.84705883, 0.8784314 ],\n",
       "        [0.2901961 , 0.29411766, 0.29803923],\n",
       "        [0.77254903, 0.77254903, 0.77254903]],\n",
       "\n",
       "       [[0.3529412 , 0.35686275, 0.3647059 ],\n",
       "        [0.5176471 , 0.5294118 , 0.5764706 ],\n",
       "        [0.88235295, 0.9019608 , 0.9764706 ],\n",
       "        ...,\n",
       "        [0.827451  , 0.8627451 , 0.89411765],\n",
       "        [0.29803923, 0.3019608 , 0.30588236],\n",
       "        [0.7764706 , 0.7764706 , 0.7764706 ]],\n",
       "\n",
       "       ...,\n",
       "\n",
       "       [[0.33333334, 0.34509805, 0.35686275],\n",
       "        [0.21176471, 0.27450982, 0.3254902 ],\n",
       "        [0.36078432, 0.46666667, 0.5568628 ],\n",
       "        ...,\n",
       "        [0.5176471 , 0.6039216 , 0.6392157 ],\n",
       "        [0.25490198, 0.26666668, 0.27058825],\n",
       "        [0.7764706 , 0.7764706 , 0.7764706 ]],\n",
       "\n",
       "       [[0.34901962, 0.35686275, 0.36862746],\n",
       "        [0.23921569, 0.29411766, 0.3372549 ],\n",
       "        [0.40784314, 0.5019608 , 0.5764706 ],\n",
       "        ...,\n",
       "        [0.3137255 , 0.38431373, 0.4       ],\n",
       "        [0.20784314, 0.21960784, 0.21960784],\n",
       "        [0.76862746, 0.76862746, 0.76862746]],\n",
       "\n",
       "       [[0.3529412 , 0.35686275, 0.35686275],\n",
       "        [0.09411765, 0.10196079, 0.10980392],\n",
       "        [0.1882353 , 0.2       , 0.20784314],\n",
       "        ...,\n",
       "        [0.20392157, 0.21568628, 0.21568628],\n",
       "        [0.10196079, 0.10196079, 0.10196079],\n",
       "        [0.7294118 , 0.7294118 , 0.7294118 ]]], dtype=float32)"
      ]
     },
     "execution_count": 2,
     "metadata": {},
     "output_type": "execute_result"
    }
   ],
   "source": [
    "jin = plt.imread('./jinzhengen.png')\n",
    "jin"
   ]
  },
  {
   "cell_type": "code",
   "execution_count": null,
   "metadata": {
    "collapsed": true
   },
   "outputs": [],
   "source": []
  },
  {
   "cell_type": "markdown",
   "metadata": {
    "collapsed": true
   },
   "source": [
    "# matplotlib"
   ]
  },
  {
   "cell_type": "markdown",
   "metadata": {},
   "source": [
    "## 目录\n",
    "+ 一、【重点】Matplotlib基础知识\n",
    "\n",
    "+ 二、设置plot的风格和样式\n",
    "    + 1、【重点】点和线的样式\n",
    "    + 2、X、Y轴坐标刻度\n",
    "\n",
    "\n",
    "+ 三、2D图形\n",
    "    + 1、示例\n",
    "    + 2、【重点】直方图\n",
    "    + 3、【重点】条形图\n",
    "    + 4、【重点】饼图\n",
    "    + 5、【重点】散点图\n",
    "    \n",
    "=============以上为重点=================\n",
    "\n",
    "#### 下面的自学\n",
    "+ 四、图形内的文字、注释、箭头\n",
    "    + 1、图形内的文字\n",
    "    + 2、注释\n",
    "    + 3、箭头\n",
    "    \n",
    "+ 五、3D图\n",
    "    + 1、曲面图"
   ]
  },
  {
   "cell_type": "markdown",
   "metadata": {},
   "source": [
    "## 一、Matplotlib基础知识"
   ]
  },
  {
   "cell_type": "markdown",
   "metadata": {},
   "source": [
    "Matplotlib中的基本图表包括的元素\n",
    "+ x轴和y轴  \n",
    "水平和垂直的轴线\n",
    "\n",
    "\n",
    "+ x轴和y轴刻度  \n",
    "刻度标示坐标轴的分隔，包括最小刻度和最大刻度\n",
    "\n",
    "\n",
    "+ x轴和y轴刻度标签  \n",
    "表示特定坐标轴的值\n",
    "\n",
    "\n",
    "+ 绘图区域  \n",
    "实际绘图的区域"
   ]
  },
  {
   "cell_type": "code",
   "execution_count": 1,
   "metadata": {
    "collapsed": true
   },
   "outputs": [],
   "source": [
    "import numpy as np\n",
    "import matplotlib.pyplot as plt\n",
    "%matplotlib inline"
   ]
  },
  {
   "cell_type": "code",
   "execution_count": null,
   "metadata": {
    "collapsed": true
   },
   "outputs": [],
   "source": [
    "#pandas 绘图，提供方便\n",
    "#matplotlib专门绘图工具，样式更加丰富"
   ]
  },
  {
   "cell_type": "markdown",
   "metadata": {},
   "source": [
    "### 只含单一曲线的图"
   ]
  },
  {
   "cell_type": "markdown",
   "metadata": {},
   "source": [
    "### 包含多个曲线的图"
   ]
  },
  {
   "cell_type": "markdown",
   "metadata": {},
   "source": [
    "1、可以使用多个plot函数（推荐），在一个图中绘制多个曲线"
   ]
  },
  {
   "cell_type": "markdown",
   "metadata": {},
   "source": [
    "2、也可以在一个plot函数中传入多对X,Y值，在一个图中绘制多个曲线"
   ]
  },
  {
   "cell_type": "markdown",
   "metadata": {},
   "source": [
    "### 网格线\n",
    "绘制正选余弦"
   ]
  },
  {
   "cell_type": "markdown",
   "metadata": {},
   "source": [
    "使用plt.grid(True)方法为图添加网格线"
   ]
  },
  {
   "cell_type": "markdown",
   "metadata": {},
   "source": [
    "设置grid参数（参数与plot函数相同），使用plt面向对象的方法，创建多个子图显示不同网格线\n",
    "![](1.PNG)\n",
    "\n",
    "- lw代表linewidth，线的粗细\n",
    "- alpha表示线的明暗程度\n",
    "- color代表颜色\n"
   ]
  },
  {
   "cell_type": "markdown",
   "metadata": {},
   "source": [
    "### 坐标轴界限"
   ]
  },
  {
   "cell_type": "markdown",
   "metadata": {},
   "source": [
    "#### axis方法\n",
    "如果axis方法没有任何参数，则返回当前坐标轴的上下限axis(xmin =,ymax = )"
   ]
  },
  {
   "cell_type": "markdown",
   "metadata": {},
   "source": [
    "##### plt.axis('xxx') 'tight'、'off'、'equal'……\n",
    "\n",
    "设置坐标轴类型  \n",
    "关闭坐标轴\n",
    "![](2.png)"
   ]
  },
  {
   "cell_type": "markdown",
   "metadata": {},
   "source": [
    "#### xlim方法和ylim方法\n",
    "\n",
    "除了plt.axis方法，还可以通过xlim，ylim方法设置坐标轴范围"
   ]
  },
  {
   "cell_type": "markdown",
   "metadata": {},
   "source": [
    "### 坐标轴标签\n",
    "xlabel方法和ylabel方法  \n",
    "plt.ylabel('y = x^2 + 5',rotation = 60)旋转"
   ]
  },
  {
   "cell_type": "markdown",
   "metadata": {},
   "source": [
    "### 标题\n",
    "title方法"
   ]
  },
  {
   "cell_type": "markdown",
   "metadata": {},
   "source": [
    "### 图例"
   ]
  },
  {
   "cell_type": "markdown",
   "metadata": {},
   "source": [
    "#### legend方法\n",
    "\n",
    "两种传参方法：\n",
    "- 【推荐使用】在plot函数中增加label参数\n",
    "- 在legend方法中传入字符串列表\n",
    "![](3.png)\n"
   ]
  },
  {
   "cell_type": "markdown",
   "metadata": {},
   "source": [
    "label参数为'_xxx'，则图例中不显示  \n",
    "plt.plot(x, x*1.5, label = '_xxx')"
   ]
  },
  {
   "cell_type": "markdown",
   "metadata": {
    "collapsed": true
   },
   "source": [
    "### loc参数"
   ]
  },
  {
   "cell_type": "markdown",
   "metadata": {
    "collapsed": true
   },
   "source": [
    "| 字符串       | 数值      | 字符串   |  数值 |\n",
    "| :-------------: |:-----------:| :-----:|  :-----:|\n",
    "| best        |  0        | center left   |   6 |\n",
    "| upper right    | 1        | center right  |   7  |\n",
    "| upper left    |  2        | lower center  |   8  |\n",
    "| lower left    |  3        | upper center  |   9 |\n",
    "| lower right   |  4        | center      |   10 |\n",
    "| right       |  5        |"
   ]
  },
  {
   "cell_type": "markdown",
   "metadata": {},
   "source": [
    "loc参数可以是2元素的元组，表示图例左下角的坐标"
   ]
  },
  {
   "cell_type": "markdown",
   "metadata": {},
   "source": [
    "图例也可以超过图的界限loc = (-0.1,0.9)"
   ]
  },
  {
   "cell_type": "markdown",
   "metadata": {},
   "source": [
    "### ncol参数\n",
    "ncol控制图例中有几列"
   ]
  },
  {
   "cell_type": "markdown",
   "metadata": {},
   "source": [
    "### linestyle、color、marker\n",
    "修改线条样式  \n",
    "![](4.png)"
   ]
  },
  {
   "cell_type": "markdown",
   "metadata": {},
   "source": [
    "### 保存图片"
   ]
  },
  {
   "cell_type": "markdown",
   "metadata": {},
   "source": [
    "figure.savefig的选项\n",
    "+ filename  \n",
    "含有文件路径的字符串或Python的文件型对象。图像格式由文件扩展名推断得出，例如，.pdf推断出PDF，.png推断出PNG\n",
    "（“png”、“pdf”、“svg”、“ps”、“eps”……）\n",
    "+ dpi  \n",
    "图像分辨率（每英寸点数），默认为100\n",
    "+ facecolor  \n",
    "图像的背景色，默认为“w”（白色） "
   ]
  },
  {
   "cell_type": "markdown",
   "metadata": {
    "collapsed": true
   },
   "source": [
    "## 二、设置plot的风格和样式\n",
    "plot语句中支持除X,Y以外的参数，以字符串形式存在，来控制颜色、线型、点型等要素，语法形式为：  \n",
    "plt.plot(X, Y, 'format', ...) "
   ]
  },
  {
   "cell_type": "markdown",
   "metadata": {
    "collapsed": true
   },
   "source": [
    "### 点和线的样式"
   ]
  },
  {
   "cell_type": "markdown",
   "metadata": {},
   "source": [
    "#### 颜色\n",
    "参数color或c"
   ]
  },
  {
   "cell_type": "markdown",
   "metadata": {
    "collapsed": true
   },
   "source": [
    "##### 颜色值的方式\n",
    "+ 别名\n",
    "    + color='r'\n",
    "    \n",
    "    \n",
    "    \n",
    "+ 合法的HTML颜色名\n",
    "    + color = 'red'\n",
    "\n",
    "| 颜色       | 别名      | HTML颜色名  | 颜色   |  别名 |HTML颜色名|\n",
    "| :-------------: |:---------:|:-----------:| :------:|  :-----:| :-----:|\n",
    "| 蓝色        | b       | blue      | 绿色   |  g   |  green  |\n",
    "| 红色        | r       | red      | 黄色    |  y   |  yellow |\n",
    "| 青色        | c       | cyan      | 黑色   |  k   |  black  |\n",
    "| 洋红色      | m        | magenta    | 白色   |  w   |  white  |\n",
    "\n",
    "\n",
    "\n",
    "\n",
    "\n",
    "\n",
    "+ HTML十六进制字符串\n",
    "    + color = '#eeefff'       \n",
    "\n",
    "\n",
    "\n",
    "\n",
    "+ 归一化到[0, 1]的RGB元组\n",
    "    + color = (0.3, 0.3, 0.4)\n",
    "\n"
   ]
  },
  {
   "cell_type": "markdown",
   "metadata": {},
   "source": [
    "##### 透明度\n",
    "alpha参数 "
   ]
  },
  {
   "cell_type": "markdown",
   "metadata": {},
   "source": [
    "##### 背景色\n",
    "设置背景色，通过plt.subplot()方法传入facecolor参数，来设置坐标轴的背景色"
   ]
  },
  {
   "cell_type": "markdown",
   "metadata": {
    "collapsed": true
   },
   "source": [
    "#### 线型\n",
    "参数linestyle或ls"
   ]
  },
  {
   "cell_type": "markdown",
   "metadata": {},
   "source": [
    "| 线条风格     | 描述      | 线条风格 |  描述 |\n",
    "| :-------------: |:------------:| :----:|  :-----:|\n",
    "| '-'        | 实线     | ':'     |  虚线 |\n",
    "| '--'       | 破折线    | 'steps'  |  阶梯线 |\n",
    "| '-.'       | 点划线    | 'None' / '，' |  什么都不画 |"
   ]
  },
  {
   "cell_type": "markdown",
   "metadata": {},
   "source": [
    "##### 线宽\n",
    "linewidth或lw参数"
   ]
  },
  {
   "cell_type": "markdown",
   "metadata": {},
   "source": [
    "##### 不同宽度的破折线\n",
    "dashes参数  \n",
    "设置破折号序列各段的宽度  \n",
    "![](5.png)"
   ]
  },
  {
   "cell_type": "markdown",
   "metadata": {},
   "source": [
    "#### 点型\n",
    "marker参数"
   ]
  },
  {
   "cell_type": "markdown",
   "metadata": {},
   "source": [
    "| 标记        | 描述       | 标记   |  描述 |\n",
    "| :-------------: |:-----------:| :----:|  :-----:|\n",
    "| '1'         | 一角朝下的三脚架      | '3'     |  一角朝左的三脚架 |\n",
    "| '2'         | 一角朝上的三脚架      | '4'     |  一角朝右的三脚架 |"
   ]
  },
  {
   "cell_type": "markdown",
   "metadata": {},
   "source": [
    "| 标记        | 描述       | 标记   |  描述 |\n",
    "| :-------------: |:-----------:| :----:|  :-----:|\n",
    "| 's'         | 正方形   | 'p'   | 五边形     | \n",
    "| 'h'         | 六边形1    | 'H'     | 六边形2    |\n",
    "| '8'         | 八边形     | "
   ]
  },
  {
   "cell_type": "markdown",
   "metadata": {},
   "source": [
    "| 标记        | 描述       | 标记   |  描述 |\n",
    "| :-------------: |:-----------:| :----:|  :-----:|\n",
    "| '.'     |  点 | 'x'   | X   |\n",
    "| '\\*'    |  星号  | '+'         | 加号       |\n",
    "| ','         | 像素       |"
   ]
  },
  {
   "cell_type": "markdown",
   "metadata": {},
   "source": [
    "| 标记        | 描述       | 标记   |  描述 |\n",
    "| :-------------: |:-----------:| :----:|  :-----:|\n",
    "| 'o'         | 圆圈      | 'D'         | 菱形      |\n",
    "| 'd'    |  小菱形  |'','None',' ',None| 无       | "
   ]
  },
  {
   "cell_type": "markdown",
   "metadata": {},
   "source": [
    "| 标记     | 描述     | 标记   |  描述 |\n",
    "| :--------: |:----------:| :------:| :----:|\n",
    "| '\\_'     |  水平线    | '&#124;'     |  水平线   \n",
    "![](6.png)"
   ]
  },
  {
   "cell_type": "markdown",
   "metadata": {},
   "source": [
    "| 标记        | 描述       | 标记   |  描述 |\n",
    "| :-------------: |:-----------:| :----:|  :-----:|\n",
    "| 'v'         | 一角朝下的三角形 | '<'     |  一角朝左的三角形 |\n",
    "| '^'         | 一角朝上的三角形 | '>'     |  一角朝右的三角形 |"
   ]
  },
  {
   "cell_type": "markdown",
   "metadata": {},
   "source": [
    "#### 多参数连用\n",
    "颜色、点型、线型"
   ]
  },
  {
   "cell_type": "markdown",
   "metadata": {},
   "source": [
    "#### 更多点和线的设置"
   ]
  },
  {
   "cell_type": "markdown",
   "metadata": {},
   "source": [
    "| 参数        | 描述       | 参数       |  描述   |\n",
    "| :-------------: |:-----------:| :-------------:|  :------:|\n",
    "| color或c      | 线的颜色   | linestyle或ls  |  线型   |\n",
    "| linewidth或lw   | 线宽     | marker       |  点型  |\n",
    "| markeredgecolor  | 点边缘的颜色 | markeredgewidth | 点边缘的宽度 |\n",
    "| markerfacecolor  | 点内部的颜色 | markersize    |  点的大小    |  \n",
    "![](7.png)"
   ]
  },
  {
   "cell_type": "markdown",
   "metadata": {},
   "source": [
    "#### 在一条语句中为多个曲线进行设置"
   ]
  },
  {
   "cell_type": "markdown",
   "metadata": {},
   "source": [
    "##### 多个曲线同一设置\n",
    "属性名声明  \n",
    "\n",
    "plt.plot(x1, y1, x2, y2, fmt, ...)"
   ]
  },
  {
   "cell_type": "markdown",
   "metadata": {},
   "source": [
    "##### 多个曲线不同设置\n",
    "多个都进行设置时，无需声明属性\n",
    "plt.plot(x1, y1, fmt1, x2, y2, fmt2, ...)"
   ]
  },
  {
   "cell_type": "markdown",
   "metadata": {},
   "source": [
    "#### 三种设置方式"
   ]
  },
  {
   "cell_type": "markdown",
   "metadata": {},
   "source": [
    "##### 向方法传入关键字参数"
   ]
  },
  {
   "cell_type": "markdown",
   "metadata": {},
   "source": [
    "##### 对实例使用一系列的setter方法"
   ]
  },
  {
   "cell_type": "markdown",
   "metadata": {},
   "source": [
    "##### 使用setp()方法"
   ]
  },
  {
   "cell_type": "markdown",
   "metadata": {},
   "source": [
    "### X、Y轴坐标刻度\n",
    "xticks()和yticks()方法  \n",
    "![](8.png)"
   ]
  },
  {
   "cell_type": "markdown",
   "metadata": {},
   "source": [
    "#### 面向对象方法\n",
    "set_xticks、set_yticks、set_xticklabels、set_yticklabels方法"
   ]
  },
  {
   "cell_type": "code",
   "execution_count": null,
   "metadata": {
    "collapsed": true
   },
   "outputs": [],
   "source": []
  },
  {
   "cell_type": "markdown",
   "metadata": {},
   "source": [
    "#### 正弦余弦\n",
    "LaTex语法，用$\\pi$等表达式在图表上写上希腊字母  \n",
    "![](9.png)"
   ]
  },
  {
   "cell_type": "markdown",
   "metadata": {},
   "source": [
    "## 三、2D图形"
   ]
  },
  {
   "cell_type": "markdown",
   "metadata": {},
   "source": [
    "### 直方图\n",
    "\n",
    "【直方图的参数只有一个x！！！不像条形图需要传入x,y】\n",
    "\n",
    "hist()的参数\n",
    "+ bins  \n",
    "可以是一个bin数量的整数值，也可以是表示bin的一个序列。默认值为10\n",
    "+ normed  \n",
    "如果值为True，直方图的值将进行归一化处理，形成概率密度，默认值为False\n",
    "+ color  \n",
    "指定直方图的颜色。可以是单一颜色值或颜色的序列。如果指定了多个数据集合，颜色序列将会设置为相同的顺序。如果未指定，将会使用一个默认的线条颜色\n",
    "+ orientation  \n",
    "通过设置orientation为horizontal创建水平直方图。默认值为vertical"
   ]
  },
  {
   "cell_type": "code",
   "execution_count": null,
   "metadata": {
    "collapsed": true
   },
   "outputs": [],
   "source": []
  },
  {
   "cell_type": "markdown",
   "metadata": {},
   "source": [
    "### 条形图\n",
    "\n",
    "【条形图有两个参数x,y！】\n",
    "\n",
    "bar()、barh()"
   ]
  },
  {
   "cell_type": "code",
   "execution_count": null,
   "metadata": {
    "collapsed": true
   },
   "outputs": [],
   "source": []
  },
  {
   "cell_type": "markdown",
   "metadata": {},
   "source": [
    "#### 水平条形图\n",
    "barh()"
   ]
  },
  {
   "cell_type": "markdown",
   "metadata": {},
   "source": [
    "### 饼图\n",
    "\n",
    "【饼图也只有一个参数x！】\n",
    "\n",
    "pie()  \n",
    "饼图适合展示各部分占总体的比例，条形图适合比较各部分的大小"
   ]
  },
  {
   "cell_type": "markdown",
   "metadata": {},
   "source": [
    "普通各部分占满饼图"
   ]
  },
  {
   "cell_type": "markdown",
   "metadata": {},
   "source": [
    "普通未占满饼图"
   ]
  },
  {
   "cell_type": "markdown",
   "metadata": {},
   "source": [
    "饼图阴影、分裂等属性设置\n",
    "#labels参数设置每一块的标签；labeldistance参数设置标签距离圆心的距离（比例值）\n",
    "#autopct参数设置比例值的显示格式(%1.1f%%)；pctdistance参数设置比例值文字距离圆心的距离\n",
    "#explode参数设置每一块顶点距圆形的长度（比例值）；colors参数设置每一块的颜色；\n",
    "#shadow参数为布尔值，设置是否绘制阴影"
   ]
  },
  {
   "cell_type": "markdown",
   "metadata": {},
   "source": [
    "startangle设置旋转角度"
   ]
  },
  {
   "cell_type": "markdown",
   "metadata": {},
   "source": [
    "### 散点图\n",
    "\n",
    "【散点图需要两个参数x,y，但此时x不是表示x轴的刻度，而是每个点的横坐标！】\n",
    "\n",
    "scatter()  \n",
    "![](10.png)"
   ]
  },
  {
   "cell_type": "code",
   "execution_count": null,
   "metadata": {
    "collapsed": true
   },
   "outputs": [],
   "source": []
  },
  {
   "cell_type": "markdown",
   "metadata": {},
   "source": [
    "## <font color = red>四、图形内的文字、注释、箭头(自学)</font>"
   ]
  },
  {
   "cell_type": "markdown",
   "metadata": {},
   "source": [
    "控制文字属性的方法:  \n",
    "\n",
    "\n",
    "| Pyplot函数     | API方法                | 描述                     |\n",
    "| :-------------: |:------------------------------:| :---------------------------------:|\n",
    "| text()       |  mpl.axes.Axes.text()       | 在Axes对象的任意位置添加文字     |\n",
    "| xlabel()      |  mpl.axes.Axes.set_xlabel()   | 为X轴添加标签               |\n",
    "| ylabel()      |  mpl.axes.Axes.set_ylabel()   | 为Y轴添加标签               |\n",
    "| title()       | mpl.axes.Axes.set_title()   |  为Axes对象添加标题            |\n",
    "| legend()      | mpl.axes.Axes.legend()      |  为Axes对象添加图例            |\n",
    "| figtext()     |  mpl.figure.Figure.text()    |  在Figure对象的任意位置添加文字    |\n",
    "| suptitle()     | mpl.figure.Figure.suptitle() |  为Figure对象添加中心化的标题     |\n",
    "| annnotate()    |  mpl.axes.Axes.annotate()    |  为Axes对象添加注释（箭头可选）    |  \n",
    "\n",
    "\n",
    "所有的方法会返回一个matplotlib.text.Text对象"
   ]
  },
  {
   "cell_type": "markdown",
   "metadata": {
    "collapsed": true
   },
   "source": [
    "### 图形内的文字\n",
    "text()  \n",
    "![](14.png)"
   ]
  },
  {
   "cell_type": "markdown",
   "metadata": {},
   "source": [
    "使用figtext()"
   ]
  },
  {
   "cell_type": "markdown",
   "metadata": {
    "collapsed": true
   },
   "source": [
    "### 注释\n",
    "annotate()  \n",
    "xy参数设置箭头指示的位置，xytext参数设置注释文字的位置  \n",
    "arrowprops参数以字典的形式设置箭头的样式  \n",
    "width参数设置箭头长方形部分的宽度，headlength参数设置箭头尖端的长度，  \n",
    "headwidth参数设置箭头尖端底部的宽度，  \n",
    "facecolor设置箭头颜色  \n",
    "shrink参数设置箭头顶点、尾部与指示点、注释文字的距离（比例值）  \n",
    "![](15.png)"
   ]
  },
  {
   "cell_type": "code",
   "execution_count": null,
   "metadata": {
    "collapsed": true
   },
   "outputs": [],
   "source": []
  },
  {
   "cell_type": "markdown",
   "metadata": {},
   "source": [
    "练习  \n",
    "三个随机正太分布数据\n",
    "![](16.png)  \n",
    "设置图例  \n",
    "bbox_to_anchor,ncol mode,borderaxespad  \n",
    "设置注解 arrowstyle"
   ]
  },
  {
   "cell_type": "markdown",
   "metadata": {},
   "source": [
    "### 箭头\n",
    "箭头的样式，没必要记"
   ]
  },
  {
   "cell_type": "code",
   "execution_count": 135,
   "metadata": {},
   "outputs": [
    {
     "data": {
      "image/png": "[encoded data removed]",
      "text/plain": [
       "<matplotlib.figure.Figure at 0x7fcf063b9ef0>"
      ]
     },
     "metadata": {},
     "output_type": "display_data"
    }
   ],
   "source": [
    "plt.figure(figsize=(12,9))\n",
    "plt.axis([0, 10, 0, 20]);\n",
    "arrstyles = ['-', '->', '-[', '<-', '<->', 'fancy', 'simple', 'wedge']\n",
    "for i, style in enumerate(arrstyles):\n",
    "    plt.annotate(style, xytext=(1, 2+2*i), xy=(4, 1+2*i), arrowprops=dict(arrowstyle=style));\n",
    "\n",
    "connstyles=[\"arc\", \"arc,angleA=10,armA=30,rad=30\", \"arc3,rad=.2\", \"arc3,rad=-.2\", \"angle\", \"angle3\"]\n",
    "for i, style in enumerate(connstyles):\n",
    "    plt.annotate(style, xytext=(6, 2+2*i), xy=(8, 1+2*i), arrowprops=dict(arrowstyle='->', connectionstyle=style));\n",
    "plt.show()"
   ]
  },
  {
   "cell_type": "markdown",
   "metadata": {},
   "source": [
    "## <font color = red>五、3D图(自学)</font>"
   ]
  },
  {
   "cell_type": "markdown",
   "metadata": {},
   "source": [
    "#### 曲面图  \n",
    "![](11.png)"
   ]
  },
  {
   "cell_type": "markdown",
   "metadata": {},
   "source": [
    "导包  \n",
    "from mpl_toolkits.mplot3d.axes3d import Axes3D"
   ]
  },
  {
   "cell_type": "code",
   "execution_count": null,
   "metadata": {
    "collapsed": true
   },
   "outputs": [],
   "source": []
  },
  {
   "cell_type": "markdown",
   "metadata": {},
   "source": [
    "生成数据"
   ]
  },
  {
   "cell_type": "code",
   "execution_count": null,
   "metadata": {
    "collapsed": true
   },
   "outputs": [],
   "source": []
  },
  {
   "cell_type": "markdown",
   "metadata": {},
   "source": [
    "绘制图形"
   ]
  },
  {
   "cell_type": "code",
   "execution_count": null,
   "metadata": {
    "collapsed": true
   },
   "outputs": [],
   "source": []
  },
  {
   "cell_type": "markdown",
   "metadata": {},
   "source": [
    "## <font color = red>玫瑰图/极坐标条形图(自学)</font>  \n",
    "![](13.png)"
   ]
  },
  {
   "cell_type": "markdown",
   "metadata": {},
   "source": [
    "创建极坐标条形图"
   ]
  },
  {
   "cell_type": "code",
   "execution_count": null,
   "metadata": {
    "collapsed": true
   },
   "outputs": [],
   "source": []
  },
  {
   "cell_type": "markdown",
   "metadata": {},
   "source": [
    "使用np.histogram计算一组数据的直方图"
   ]
  },
  {
   "cell_type": "code",
   "execution_count": null,
   "metadata": {
    "collapsed": true
   },
   "outputs": [],
   "source": []
  }
 ],
 "metadata": {
  "kernelspec": {
   "display_name": "Python 3",
   "language": "python",
   "name": "python3"
  },
  "language_info": {
   "codemirror_mode": {
    "name": "ipython",
    "version": 3
   },
   "file_extension": ".py",
   "mimetype": "text/x-python",
   "name": "python",
   "nbconvert_exporter": "python",
   "pygments_lexer": "ipython3",
   "version": "3.6.3"
  }
 },
 "nbformat": 4,
 "nbformat_minor": 1
}
