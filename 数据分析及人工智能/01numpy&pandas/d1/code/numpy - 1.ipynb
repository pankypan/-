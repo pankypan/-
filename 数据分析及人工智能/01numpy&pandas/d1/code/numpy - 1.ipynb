{
 "cells": [
  {
   "cell_type": "markdown",
   "metadata": {},
   "source": [
    "# numpy get started"
   ]
  },
  {
   "cell_type": "code",
   "execution_count": null,
   "metadata": {},
   "outputs": [],
   "source": [
    "python: 一切皆对象\n",
    "linux: 一切皆文件.\n",
    "数据分析: 一切皆矩阵"
   ]
  },
  {
   "cell_type": "markdown",
   "metadata": {},
   "source": [
    "导入numpy库，并查看numpy版本"
   ]
  },
  {
   "cell_type": "code",
   "execution_count": 1,
   "metadata": {},
   "outputs": [],
   "source": [
    "import numpy as  np"
   ]
  },
  {
   "cell_type": "code",
   "execution_count": 2,
   "metadata": {
    "scrolled": true
   },
   "outputs": [
    {
     "data": {
      "text/plain": [
       "'1.16.3'"
      ]
     },
     "execution_count": 2,
     "metadata": {},
     "output_type": "execute_result"
    }
   ],
   "source": [
    "np.__version__"
   ]
  },
  {
   "cell_type": "code",
   "execution_count": 3,
   "metadata": {
    "collapsed": true
   },
   "outputs": [
    {
     "name": "stdout",
     "output_type": "stream",
     "text": [
      "Looking in indexes: https://pypi.douban.com/simple\n",
      "Collecting matplotlib\n",
      "  Downloading https://pypi.doubanio.com/packages/44/0c/9ec1c91ef546457de35c95f285f581e0433ce76b1bc80fbb297fc12485ed/matplotlib-3.1.0-cp36-cp36m-win_amd64.whl (9.1MB)\n",
      "Collecting kiwisolver>=1.0.1 (from matplotlib)\n",
      "  Downloading https://pypi.doubanio.com/packages/64/46/75ab48386cbd56065f5542360562be524ad599911455b6d95520cb118613/kiwisolver-1.1.0-cp36-none-win_amd64.whl (57kB)\n",
      "Requirement already satisfied: python-dateutil>=2.1 in e:\\1901\\.env\\lib\\site-packages (from matplotlib) (2.8.0)\n",
      "Collecting pyparsing!=2.0.4,!=2.1.2,!=2.1.6,>=2.0.1 (from matplotlib)\n",
      "  Downloading https://pypi.doubanio.com/packages/dd/d9/3ec19e966301a6e25769976999bd7bbe552016f0d32b577dc9d63d2e0c49/pyparsing-2.4.0-py2.py3-none-any.whl (62kB)\n",
      "Collecting cycler>=0.10 (from matplotlib)\n",
      "  Downloading https://pypi.doubanio.com/packages/f7/d2/e07d3ebb2bd7af696440ce7e754c59dd546ffe1bbe732c8ab68b9c834e61/cycler-0.10.0-py2.py3-none-any.whl\n",
      "Requirement already satisfied: numpy>=1.11 in e:\\1901\\.env\\lib\\site-packages (from matplotlib) (1.16.3)\n",
      "Requirement already satisfied: setuptools in e:\\1901\\.env\\lib\\site-packages (from kiwisolver>=1.0.1->matplotlib) (41.0.1)\n",
      "Requirement already satisfied: six>=1.5 in e:\\1901\\.env\\lib\\site-packages (from python-dateutil>=2.1->matplotlib) (1.12.0)\n",
      "Installing collected packages: kiwisolver, pyparsing, cycler, matplotlib\n",
      "Successfully installed cycler-0.10.0 kiwisolver-1.1.0 matplotlib-3.1.0 pyparsing-2.4.0\n"
     ]
    }
   ],
   "source": [
    "!pip install matplotlib -i https://pypi.douban.com/simple"
   ]
  },
  {
   "cell_type": "code",
   "execution_count": 4,
   "metadata": {},
   "outputs": [],
   "source": [
    "import matplotlib.pyplot as plt\n",
    "%matplotlib inline"
   ]
  },
  {
   "cell_type": "code",
   "execution_count": 7,
   "metadata": {},
   "outputs": [],
   "source": [
    "#  读取猫的图片\n",
    "cat = plt.imread('cat.jpg')"
   ]
  },
  {
   "cell_type": "code",
   "execution_count": 6,
   "metadata": {
    "collapsed": true
   },
   "outputs": [
    {
     "name": "stdout",
     "output_type": "stream",
     "text": [
      "Looking in indexes: https://pypi.douban.com/simple\n",
      "Collecting pillow\n",
      "  Downloading https://pypi.doubanio.com/packages/e6/37/fc5bde88462cf8a069e522dd6a0d259b69faba1326f0a3ce8b4e11d9f317/Pillow-6.0.0-cp36-cp36m-win_amd64.whl (2.0MB)\n",
      "Installing collected packages: pillow\n",
      "Successfully installed pillow-6.0.0\n"
     ]
    }
   ],
   "source": [
    "!pip install pillow -i https://pypi.douban.com/simple"
   ]
  },
  {
   "cell_type": "code",
   "execution_count": null,
   "metadata": {},
   "outputs": [],
   "source": [
    "numpy 里面的矩阵不是真正的矩阵, 只是numpy用来表示矩阵的一种数据结构, 叫做ndarray"
   ]
  },
  {
   "cell_type": "code",
   "execution_count": 8,
   "metadata": {
    "collapsed": true
   },
   "outputs": [
    {
     "data": {
      "text/plain": [
       "array([[[231, 186, 131],\n",
       "        [232, 187, 132],\n",
       "        [233, 188, 133],\n",
       "        ...,\n",
       "        [100,  55,  52],\n",
       "        [ 92,  48,  49],\n",
       "        [ 85,  43,  44]],\n",
       "\n",
       "       [[232, 187, 132],\n",
       "        [232, 187, 132],\n",
       "        [233, 188, 133],\n",
       "        ...,\n",
       "        [100,  55,  52],\n",
       "        [ 92,  48,  49],\n",
       "        [ 84,  42,  43]],\n",
       "\n",
       "       [[232, 187, 132],\n",
       "        [233, 188, 133],\n",
       "        [233, 188, 133],\n",
       "        ...,\n",
       "        [ 99,  54,  51],\n",
       "        [ 91,  47,  48],\n",
       "        [ 83,  41,  42]],\n",
       "\n",
       "       ...,\n",
       "\n",
       "       [[199, 119,  82],\n",
       "        [199, 119,  82],\n",
       "        [200, 120,  83],\n",
       "        ...,\n",
       "        [189,  99,  64],\n",
       "        [187,  97,  62],\n",
       "        [187,  97,  62]],\n",
       "\n",
       "       [[199, 119,  82],\n",
       "        [199, 119,  82],\n",
       "        [199, 119,  82],\n",
       "        ...,\n",
       "        [188,  98,  64],\n",
       "        [188,  95,  62],\n",
       "        [188,  95,  62]],\n",
       "\n",
       "       [[199, 119,  82],\n",
       "        [199, 119,  82],\n",
       "        [199, 119,  82],\n",
       "        ...,\n",
       "        [188,  98,  64],\n",
       "        [188,  95,  62],\n",
       "        [188,  95,  62]]], dtype=uint8)"
      ]
     },
     "execution_count": 8,
     "metadata": {},
     "output_type": "execute_result"
    }
   ],
   "source": [
    "cat"
   ]
  },
  {
   "cell_type": "code",
   "execution_count": null,
   "metadata": {},
   "outputs": [],
   "source": [
    "cat是一个彩色图片.\n",
    "jpg的结尾的图片,里面RGB颜色值都是0到255的整数.\n",
    "png结尾的图片,里面RBG颜色值都是0到1的浮点数."
   ]
  },
  {
   "cell_type": "code",
   "execution_count": null,
   "metadata": {},
   "outputs": [],
   "source": [
    "[[[1,2,3,4], [3,4,5,6]], [[1,2,3,4], [3,4,5,6]]]"
   ]
  },
  {
   "cell_type": "code",
   "execution_count": null,
   "metadata": {},
   "outputs": [],
   "source": [
    "unsigned int8 0 到255"
   ]
  },
  {
   "cell_type": "markdown",
   "metadata": {},
   "source": [
    "## 一、创建ndarray"
   ]
  },
  {
   "cell_type": "markdown",
   "metadata": {},
   "source": [
    "### 1. 使用np.array()由python list创建"
   ]
  },
  {
   "cell_type": "markdown",
   "metadata": {},
   "source": [
    "参数为列表：\n",
    "[1, 4, 2, 5, 3]"
   ]
  },
  {
   "cell_type": "code",
   "execution_count": 11,
   "metadata": {},
   "outputs": [
    {
     "data": {
      "text/plain": [
       "array(['1', '4', '2', '5', '3.0'], dtype='<U11')"
      ]
     },
     "execution_count": 11,
     "metadata": {},
     "output_type": "execute_result"
    }
   ],
   "source": [
    "l = [1, 4, 2, '5', 3.0]\n",
    "n = np.array(l)\n",
    "n"
   ]
  },
  {
   "cell_type": "code",
   "execution_count": 13,
   "metadata": {},
   "outputs": [],
   "source": [
    "n[0] = 2"
   ]
  },
  {
   "cell_type": "code",
   "execution_count": 14,
   "metadata": {},
   "outputs": [
    {
     "data": {
      "text/plain": [
       "array(['2', '4', '2', '5', '3.0'], dtype='<U11')"
      ]
     },
     "execution_count": 14,
     "metadata": {},
     "output_type": "execute_result"
    }
   ],
   "source": [
    "n"
   ]
  },
  {
   "cell_type": "code",
   "execution_count": 15,
   "metadata": {},
   "outputs": [
    {
     "data": {
      "text/plain": [
       "[1, 4, 2, '5', 3.0]"
      ]
     },
     "execution_count": 15,
     "metadata": {},
     "output_type": "execute_result"
    }
   ],
   "source": [
    "l"
   ]
  },
  {
   "cell_type": "code",
   "execution_count": 16,
   "metadata": {},
   "outputs": [],
   "source": [
    "l[0] = 10"
   ]
  },
  {
   "cell_type": "code",
   "execution_count": 17,
   "metadata": {},
   "outputs": [
    {
     "data": {
      "text/plain": [
       "array(['2', '4', '2', '5', '3.0'], dtype='<U11')"
      ]
     },
     "execution_count": 17,
     "metadata": {},
     "output_type": "execute_result"
    }
   ],
   "source": [
    "n"
   ]
  },
  {
   "cell_type": "markdown",
   "metadata": {},
   "source": [
    "注意：\n",
    "- numpy默认ndarray的所有元素的类型是相同的\n",
    "- 如果传进来的列表中包含不同的类型，则统一为同一类型，优先级：str>float>int"
   ]
  },
  {
   "cell_type": "markdown",
   "metadata": {},
   "source": [
    "### 2. 使用np的routines函数创建"
   ]
  },
  {
   "cell_type": "markdown",
   "metadata": {},
   "source": [
    "包含以下常见创建方法：\n",
    "\n",
    "1) np.ones(shape, dtype=None, order='C')"
   ]
  },
  {
   "cell_type": "code",
   "execution_count": 18,
   "metadata": {},
   "outputs": [
    {
     "data": {
      "text/plain": [
       "array([[1, 1, 1, 1, 1, 1, 1, 1],\n",
       "       [1, 1, 1, 1, 1, 1, 1, 1],\n",
       "       [1, 1, 1, 1, 1, 1, 1, 1],\n",
       "       [1, 1, 1, 1, 1, 1, 1, 1],\n",
       "       [1, 1, 1, 1, 1, 1, 1, 1],\n",
       "       [1, 1, 1, 1, 1, 1, 1, 1],\n",
       "       [1, 1, 1, 1, 1, 1, 1, 1],\n",
       "       [1, 1, 1, 1, 1, 1, 1, 1]], dtype=int8)"
      ]
     },
     "execution_count": 18,
     "metadata": {},
     "output_type": "execute_result"
    }
   ],
   "source": [
    "# 用来产生全是1的ndarray\n",
    "# shape是用来指定ndarray的形状\n",
    "# dtype是数字的类型\n",
    "np.ones(shape=(8,8), dtype=np.int8)"
   ]
  },
  {
   "cell_type": "markdown",
   "metadata": {},
   "source": [
    "2) np.zeros(shape, dtype=float, order='C')"
   ]
  },
  {
   "cell_type": "code",
   "execution_count": 19,
   "metadata": {},
   "outputs": [
    {
     "data": {
      "text/plain": [
       "array([[0., 0., 0., 0., 0., 0., 0., 0.],\n",
       "       [0., 0., 0., 0., 0., 0., 0., 0.],\n",
       "       [0., 0., 0., 0., 0., 0., 0., 0.],\n",
       "       [0., 0., 0., 0., 0., 0., 0., 0.],\n",
       "       [0., 0., 0., 0., 0., 0., 0., 0.],\n",
       "       [0., 0., 0., 0., 0., 0., 0., 0.],\n",
       "       [0., 0., 0., 0., 0., 0., 0., 0.],\n",
       "       [0., 0., 0., 0., 0., 0., 0., 0.]], dtype=float32)"
      ]
     },
     "execution_count": 19,
     "metadata": {},
     "output_type": "execute_result"
    }
   ],
   "source": [
    "# 全是0 的ndarray\n",
    "np.zeros(shape=(8,8), dtype=np.float32)"
   ]
  },
  {
   "cell_type": "code",
   "execution_count": 21,
   "metadata": {},
   "outputs": [
    {
     "data": {
      "text/plain": [
       "array([[0., 0., 0., 0., 0., 0., 0., 0.],\n",
       "       [0., 0., 0., 0., 0., 0., 0., 0.],\n",
       "       [0., 0., 0., 0., 0., 0., 0., 0.],\n",
       "       [0., 0., 0., 0., 0., 0., 0., 0.],\n",
       "       [0., 0., 0., 0., 0., 0., 0., 0.],\n",
       "       [0., 0., 0., 0., 0., 0., 0., 0.],\n",
       "       [0., 0., 0., 0., 0., 0., 0., 0.],\n",
       "       [0., 0., 0., 0., 0., 0., 0., 0.]])"
      ]
     },
     "execution_count": 21,
     "metadata": {},
     "output_type": "execute_result"
    }
   ],
   "source": [
    "np.zeros(shape=(8,8))"
   ]
  },
  {
   "cell_type": "markdown",
   "metadata": {},
   "source": [
    "3) np.full(shape, fill_value, dtype=None, order='C')"
   ]
  },
  {
   "cell_type": "code",
   "execution_count": 22,
   "metadata": {},
   "outputs": [
    {
     "data": {
      "text/plain": [
       "array([[8., 8., 8., 8., 8., 8., 8., 8.],\n",
       "       [8., 8., 8., 8., 8., 8., 8., 8.],\n",
       "       [8., 8., 8., 8., 8., 8., 8., 8.],\n",
       "       [8., 8., 8., 8., 8., 8., 8., 8.],\n",
       "       [8., 8., 8., 8., 8., 8., 8., 8.],\n",
       "       [8., 8., 8., 8., 8., 8., 8., 8.],\n",
       "       [8., 8., 8., 8., 8., 8., 8., 8.],\n",
       "       [8., 8., 8., 8., 8., 8., 8., 8.]])"
      ]
     },
     "execution_count": 22,
     "metadata": {},
     "output_type": "execute_result"
    }
   ],
   "source": [
    "# 按照指定数字产生ndarray\n",
    "np.full(shape=(8,8), fill_value=8.)"
   ]
  },
  {
   "cell_type": "markdown",
   "metadata": {},
   "source": [
    "4) np.eye(N, M=None, k=0, dtype=float)  \n",
    "对角线为1其他的位置为0"
   ]
  },
  {
   "cell_type": "code",
   "execution_count": 25,
   "metadata": {
    "scrolled": false
   },
   "outputs": [
    {
     "data": {
      "text/plain": [
       "array([[0., 1., 0., 0., 0., 0., 0., 0.],\n",
       "       [0., 0., 1., 0., 0., 0., 0., 0.],\n",
       "       [0., 0., 0., 1., 0., 0., 0., 0.],\n",
       "       [0., 0., 0., 0., 1., 0., 0., 0.],\n",
       "       [0., 0., 0., 0., 0., 1., 0., 0.],\n",
       "       [0., 0., 0., 0., 0., 0., 1., 0.],\n",
       "       [0., 0., 0., 0., 0., 0., 0., 1.],\n",
       "       [0., 0., 0., 0., 0., 0., 0., 0.]])"
      ]
     },
     "execution_count": 25,
     "metadata": {},
     "output_type": "execute_result"
    }
   ],
   "source": [
    "# 生成对角线全是1,其他位置全是0的2维ndarray\n",
    "# k=0 表示主对角线的索引.\n",
    "np.eye(8, k=1)\n",
    "#像这种主对角线全是1, 其他位置全是0的矩阵,我们叫做单位矩阵.\n",
    "# 任何矩阵乘于他的单位矩阵,等于他本身.\n",
    "# 如果一个矩阵可以通过矩阵的行列式变化为单位矩阵,那么说明这个矩阵有唯一的解."
   ]
  },
  {
   "cell_type": "code",
   "execution_count": null,
   "metadata": {},
   "outputs": [],
   "source": [
    "x + y = 10 \n",
    "x - y = 5\n",
    "问, x,y?\n",
    "x= 7.5  y = 2.5\n",
    "2x = 15 -> x = 7.5\n",
    "\n",
    "1   1  \n",
    "1  -1\n",
    "\n",
    "1  0 \n",
    "1  -1\n",
    "\n",
    "1   0\n",
    "0   1"
   ]
  },
  {
   "cell_type": "markdown",
   "metadata": {},
   "source": [
    "5) np.linspace(start, stop, num=50, endpoint=True, retstep=False, dtype=None)"
   ]
  },
  {
   "cell_type": "code",
   "execution_count": null,
   "metadata": {},
   "outputs": [],
   "source": [
    "line space"
   ]
  },
  {
   "cell_type": "code",
   "execution_count": 28,
   "metadata": {},
   "outputs": [
    {
     "data": {
      "text/plain": [
       "(array([ 0.        ,  3.33333333,  6.66666667, 10.        , 13.33333333,\n",
       "        16.66666667, 20.        , 23.33333333, 26.66666667, 30.        ,\n",
       "        33.33333333, 36.66666667, 40.        , 43.33333333, 46.66666667,\n",
       "        50.        , 53.33333333, 56.66666667, 60.        , 63.33333333,\n",
       "        66.66666667, 70.        , 73.33333333, 76.66666667, 80.        ,\n",
       "        83.33333333, 86.66666667, 90.        , 93.33333333, 96.66666667]),\n",
       " 3.3333333333333335)"
      ]
     },
     "execution_count": 28,
     "metadata": {},
     "output_type": "execute_result"
    }
   ],
   "source": [
    "# endpoint是否包含stop的值\n",
    "# retstep是否返回步长.\n",
    "np.linspace(0, 100, num=30, endpoint=False, retstep=True)"
   ]
  },
  {
   "cell_type": "markdown",
   "metadata": {},
   "source": [
    "6) np.arange([start, ]stop, [step, ]dtype=None)"
   ]
  },
  {
   "cell_type": "code",
   "execution_count": 29,
   "metadata": {},
   "outputs": [
    {
     "data": {
      "text/plain": [
       "range(0, 10)"
      ]
     },
     "execution_count": 29,
     "metadata": {},
     "output_type": "execute_result"
    }
   ],
   "source": [
    "range(0,10)"
   ]
  },
  {
   "cell_type": "code",
   "execution_count": 30,
   "metadata": {},
   "outputs": [
    {
     "data": {
      "text/plain": [
       "array([ 0,  1,  2,  3,  4,  5,  6,  7,  8,  9, 10, 11, 12, 13, 14, 15, 16,\n",
       "       17, 18, 19, 20, 21, 22, 23, 24, 25, 26, 27, 28, 29, 30, 31, 32, 33,\n",
       "       34, 35, 36, 37, 38, 39, 40, 41, 42, 43, 44, 45, 46, 47, 48, 49, 50,\n",
       "       51, 52, 53, 54, 55, 56, 57, 58, 59, 60, 61, 62, 63, 64, 65, 66, 67,\n",
       "       68, 69, 70, 71, 72, 73, 74, 75, 76, 77, 78, 79, 80, 81, 82, 83, 84,\n",
       "       85, 86, 87, 88, 89, 90, 91, 92, 93, 94, 95, 96, 97, 98, 99])"
      ]
     },
     "execution_count": 30,
     "metadata": {},
     "output_type": "execute_result"
    }
   ],
   "source": [
    "# 就把np.arange当成numpy版本的range\n",
    "# 使用np.arange的时候,尽量用整形参数.\n",
    "np.arange(100)"
   ]
  },
  {
   "cell_type": "code",
   "execution_count": 32,
   "metadata": {},
   "outputs": [
    {
     "data": {
      "text/plain": [
       "array([ 0.1    ,  0.43333,  0.76666,  1.09999,  1.43332,  1.76665,\n",
       "        2.09998,  2.43331,  2.76664,  3.09997,  3.4333 ,  3.76663,\n",
       "        4.09996,  4.43329,  4.76662,  5.09995,  5.43328,  5.76661,\n",
       "        6.09994,  6.43327,  6.7666 ,  7.09993,  7.43326,  7.76659,\n",
       "        8.09992,  8.43325,  8.76658,  9.09991,  9.43324,  9.76657,\n",
       "       10.0999 , 10.43323, 10.76656, 11.09989])"
      ]
     },
     "execution_count": 32,
     "metadata": {},
     "output_type": "execute_result"
    }
   ],
   "source": [
    "np.arange(0.1, 11.1, step=0.33333)"
   ]
  },
  {
   "cell_type": "markdown",
   "metadata": {},
   "source": [
    "7) np.random.randint(low, high=None, size=None, dtype='l')"
   ]
  },
  {
   "cell_type": "code",
   "execution_count": null,
   "metadata": {},
   "outputs": [],
   "source": []
  },
  {
   "cell_type": "code",
   "execution_count": 33,
   "metadata": {
    "collapsed": true
   },
   "outputs": [
    {
     "data": {
      "text/plain": [
       "array([[[ 9, 38, 75, 49, 13],\n",
       "        [73, 18, 39,  7, 71],\n",
       "        [22, 85, 86, 12, 68],\n",
       "        [33, 97, 92,  9, 30]],\n",
       "\n",
       "       [[88, 66,  2, 89, 32],\n",
       "        [66, 75, 66, 44, 44],\n",
       "        [16, 25, 81, 65, 23],\n",
       "        [ 4, 41, 75, 38, 60]],\n",
       "\n",
       "       [[29,  1, 20, 65, 36],\n",
       "        [87, 97, 45, 55, 98],\n",
       "        [83, 69, 38, 79, 81],\n",
       "        [34, 63, 37, 21, 11]]])"
      ]
     },
     "execution_count": 33,
     "metadata": {},
     "output_type": "execute_result"
    }
   ],
   "source": [
    "# 左闭右开区间\n",
    "np.random.randint(0, 100, size=(3,4,5))"
   ]
  },
  {
   "cell_type": "code",
   "execution_count": null,
   "metadata": {},
   "outputs": [],
   "source": [
    "伪随机数"
   ]
  },
  {
   "cell_type": "code",
   "execution_count": 52,
   "metadata": {
    "collapsed": true
   },
   "outputs": [
    {
     "ename": "TypeError",
     "evalue": "Cannot cast array from dtype('O') to dtype('int64') according to the rule 'safe'",
     "output_type": "error",
     "traceback": [
      "\u001b[1;31m---------------------------------------------------------------------------\u001b[0m",
      "\u001b[1;31mTypeError\u001b[0m                                 Traceback (most recent call last)",
      "\u001b[1;32mmtrand.pyx\u001b[0m in \u001b[0;36mmtrand.RandomState.seed\u001b[1;34m()\u001b[0m\n",
      "\u001b[1;31mTypeError\u001b[0m: 'mtrand.RandomState' object cannot be interpreted as an integer",
      "\nDuring handling of the above exception, another exception occurred:\n",
      "\u001b[1;31mTypeError\u001b[0m                                 Traceback (most recent call last)",
      "\u001b[1;32m<ipython-input-52-a75f5e334a71>\u001b[0m in \u001b[0;36m<module>\u001b[1;34m\u001b[0m\n\u001b[1;32m----> 1\u001b[1;33m \u001b[0mnp\u001b[0m\u001b[1;33m.\u001b[0m\u001b[0mrandom\u001b[0m\u001b[1;33m.\u001b[0m\u001b[0mseed\u001b[0m\u001b[1;33m(\u001b[0m\u001b[0mnp\u001b[0m\u001b[1;33m.\u001b[0m\u001b[0mrandom\u001b[0m\u001b[1;33m.\u001b[0m\u001b[0mRandomState\u001b[0m\u001b[1;33m(\u001b[0m\u001b[1;36m1\u001b[0m\u001b[1;33m)\u001b[0m\u001b[1;33m)\u001b[0m\u001b[1;33m\u001b[0m\u001b[0m\n\u001b[0m\u001b[0;32m      2\u001b[0m \u001b[1;31m# np.random.RandomState(1)\u001b[0m\u001b[1;33m\u001b[0m\u001b[1;33m\u001b[0m\u001b[0m\n\u001b[0;32m      3\u001b[0m \u001b[0mnp\u001b[0m\u001b[1;33m.\u001b[0m\u001b[0mrandom\u001b[0m\u001b[1;33m.\u001b[0m\u001b[0mrandint\u001b[0m\u001b[1;33m(\u001b[0m\u001b[1;36m0\u001b[0m\u001b[1;33m,\u001b[0m \u001b[1;36m100\u001b[0m\u001b[1;33m,\u001b[0m \u001b[0msize\u001b[0m\u001b[1;33m=\u001b[0m\u001b[1;33m(\u001b[0m\u001b[1;36m3\u001b[0m\u001b[1;33m,\u001b[0m\u001b[1;36m4\u001b[0m\u001b[1;33m,\u001b[0m\u001b[1;36m5\u001b[0m\u001b[1;33m)\u001b[0m\u001b[1;33m)\u001b[0m\u001b[1;33m\u001b[0m\u001b[0m\n",
      "\u001b[1;32mmtrand.pyx\u001b[0m in \u001b[0;36mmtrand.RandomState.seed\u001b[1;34m()\u001b[0m\n",
      "\u001b[1;31mTypeError\u001b[0m: Cannot cast array from dtype('O') to dtype('int64') according to the rule 'safe'"
     ]
    }
   ],
   "source": [
    "np.random.seed(1)\n",
    "# np.random.RandomState(1)\n",
    "np.random.randint(0, 100, size=(3,4,5))"
   ]
  },
  {
   "cell_type": "markdown",
   "metadata": {},
   "source": [
    "8) np.random.randn(d0, d1, ..., dn)  \n",
    "\n",
    "标准正太分布"
   ]
  },
  {
   "cell_type": "code",
   "execution_count": 56,
   "metadata": {
    "collapsed": true
   },
   "outputs": [
    {
     "data": {
      "text/plain": [
       "array([[[ 0.2417245 , -0.13442333],\n",
       "        [-1.43883521,  0.97956799],\n",
       "        [ 0.80008192,  0.07879758],\n",
       "        ...,\n",
       "        [-0.28925432,  1.1580739 ],\n",
       "        [-0.30037247,  0.6645509 ],\n",
       "        [-2.76945753, -0.08097926]],\n",
       "\n",
       "       [[-0.66989768, -1.4265402 ],\n",
       "        [ 0.5000688 , -2.19200205],\n",
       "        [ 0.31185756, -1.41502372],\n",
       "        ...,\n",
       "        [-0.11257678,  0.43355503],\n",
       "        [-0.03794933,  1.10559519],\n",
       "        [ 0.82978447, -1.16713308]],\n",
       "\n",
       "       [[ 0.59728335, -0.72799834],\n",
       "        [-1.81314641,  0.12681659],\n",
       "        [ 1.42865215, -1.24211919],\n",
       "        ...,\n",
       "        [-1.40614072, -0.67194331],\n",
       "        [ 0.16350741,  0.65366082],\n",
       "        [ 1.44879147,  1.22874855]],\n",
       "\n",
       "       ...,\n",
       "\n",
       "       [[-0.37043577,  0.91578079],\n",
       "        [ 0.9186561 ,  0.78078868],\n",
       "        [-0.19189495, -1.4034421 ],\n",
       "        ...,\n",
       "        [-0.9400336 ,  0.48619898],\n",
       "        [-2.05374717,  1.59797249],\n",
       "        [-1.08271494, -0.20625176]],\n",
       "\n",
       "       [[-0.13592778, -0.68868828],\n",
       "        [ 0.83733686,  0.36280255],\n",
       "        [ 0.01527762,  0.89487315],\n",
       "        ...,\n",
       "        [ 0.11510712, -0.68247448],\n",
       "        [-0.59370347, -1.18890413],\n",
       "        [ 0.67952383, -1.31620779]],\n",
       "\n",
       "       [[ 0.68359511, -1.14883245],\n",
       "        [-0.06565216,  1.18102614],\n",
       "        [-0.85647252, -0.17670083],\n",
       "        ...,\n",
       "        [-0.42233386, -0.47198461],\n",
       "        [-0.40517393,  0.7688245 ],\n",
       "        [-1.25717119, -0.2166383 ]]])"
      ]
     },
     "execution_count": 56,
     "metadata": {},
     "output_type": "execute_result"
    }
   ],
   "source": [
    "# 平均值为0, 方差为1的正态分布, 就是标准正态分布.\n",
    "n = np.random.randn(1000, 30, 2)\n",
    "n"
   ]
  },
  {
   "cell_type": "markdown",
   "metadata": {},
   "source": [
    "9)np.random.normal(loc=0.0, scale=1.0, size=None)"
   ]
  },
  {
   "cell_type": "code",
   "execution_count": 53,
   "metadata": {
    "collapsed": true
   },
   "outputs": [
    {
     "data": {
      "text/plain": [
       "array([[11.51807729,  6.36315749],\n",
       "       [ 9.08079118,  9.63744275],\n",
       "       [12.79913444, 12.41166113],\n",
       "       ...,\n",
       "       [ 7.73764589,  9.00154904],\n",
       "       [ 9.98214402, 12.19151284],\n",
       "       [11.61179222, 12.32280034]])"
      ]
     },
     "execution_count": 53,
     "metadata": {},
     "output_type": "execute_result"
    }
   ],
   "source": [
    "# 正态分布 也叫高斯分布\n",
    "# 概率密度曲线\n",
    "# loc = location \n",
    "# scale = \n",
    "n = np.random.normal(loc=10, scale=3, size=(10000, 2))\n",
    "n"
   ]
  },
  {
   "cell_type": "code",
   "execution_count": 54,
   "metadata": {},
   "outputs": [
    {
     "data": {
      "text/plain": [
       "9.99526303211945"
      ]
     },
     "execution_count": 54,
     "metadata": {},
     "output_type": "execute_result"
    }
   ],
   "source": [
    "n.mean()"
   ]
  },
  {
   "cell_type": "code",
   "execution_count": 55,
   "metadata": {},
   "outputs": [
    {
     "data": {
      "text/plain": [
       "3.018610240584875"
      ]
     },
     "execution_count": 55,
     "metadata": {},
     "output_type": "execute_result"
    }
   ],
   "source": [
    "n.std()"
   ]
  },
  {
   "cell_type": "markdown",
   "metadata": {},
   "source": [
    "10) np.random.random(size=None)  \n",
    "\n",
    "生成0到1的随机数，左闭右开"
   ]
  },
  {
   "cell_type": "code",
   "execution_count": 57,
   "metadata": {
    "collapsed": true
   },
   "outputs": [
    {
     "data": {
      "text/plain": [
       "array([[[0.57210795, 0.29222842, 0.14202408, ..., 0.52098942,\n",
       "         0.42776156, 0.10390198],\n",
       "        [0.74629868, 0.63830079, 0.56734542, ..., 0.04257487,\n",
       "         0.74760188, 0.05020761],\n",
       "        [0.26179884, 0.47151131, 0.06576876, ..., 0.30813051,\n",
       "         0.7037856 , 0.26710087],\n",
       "        ...,\n",
       "        [0.80890442, 0.56087178, 0.22684691, ..., 0.69710264,\n",
       "         0.3092199 , 0.88868343],\n",
       "        [0.04497676, 0.37504553, 0.1074436 , ..., 0.45861081,\n",
       "         0.26478714, 0.17948922],\n",
       "        [0.23414614, 0.94534305, 0.51228842, ..., 0.3961447 ,\n",
       "         0.65589839, 0.4279652 ]],\n",
       "\n",
       "       [[0.12592818, 0.45747296, 0.60454081, ..., 0.73542837,\n",
       "         0.39537679, 0.04128584],\n",
       "        [0.59746222, 0.34431164, 0.26369779, ..., 0.86675332,\n",
       "         0.40873996, 0.44496789],\n",
       "        [0.55567123, 0.74689184, 0.32312772, ..., 0.89664295,\n",
       "         0.88151051, 0.83441817],\n",
       "        ...,\n",
       "        [0.14183225, 0.15759657, 0.08575352, ..., 0.30153351,\n",
       "         0.98037971, 0.78373766],\n",
       "        [0.05813746, 0.29422888, 0.56040335, ..., 0.59625018,\n",
       "         0.50951888, 0.09961437],\n",
       "        [0.1157439 , 0.17959318, 0.79748466, ..., 0.57170776,\n",
       "         0.31291678, 0.02079679]],\n",
       "\n",
       "       [[0.2338546 , 0.75203429, 0.06185306, ..., 0.78365979,\n",
       "         0.92930723, 0.68710641],\n",
       "        [0.3601565 , 0.81274437, 0.77028625, ..., 0.47452594,\n",
       "         0.88672953, 0.73736935],\n",
       "        [0.10599982, 0.44032699, 0.4765612 , ..., 0.33696461,\n",
       "         0.69769831, 0.89179749],\n",
       "        ...,\n",
       "        [0.66252821, 0.5577997 , 0.12736322, ..., 0.94526097,\n",
       "         0.92663688, 0.50172019],\n",
       "        [0.53094731, 0.71605465, 0.58958052, ..., 0.14813388,\n",
       "         0.34122528, 0.17634772],\n",
       "        [0.54440578, 0.93290906, 0.07848201, ..., 0.84475818,\n",
       "         0.85883166, 0.18682851]],\n",
       "\n",
       "       ...,\n",
       "\n",
       "       [[0.1170963 , 0.83468896, 0.18404499, ..., 0.28577499,\n",
       "         0.75215301, 0.38540686],\n",
       "        [0.26398682, 0.84250451, 0.68344192, ..., 0.37114077,\n",
       "         0.14392671, 0.9476557 ],\n",
       "        [0.51568238, 0.68599109, 0.7797745 , ..., 0.88950747,\n",
       "         0.15859502, 0.48102418],\n",
       "        ...,\n",
       "        [0.68292854, 0.03690401, 0.32591217, ..., 0.53121417,\n",
       "         0.59529761, 0.33219739],\n",
       "        [0.85375281, 0.78422574, 0.70142365, ..., 0.98917724,\n",
       "         0.78939317, 0.71340867],\n",
       "        [0.87215825, 0.02550563, 0.81606473, ..., 0.48276521,\n",
       "         0.86171651, 0.50520304]],\n",
       "\n",
       "       [[0.26474279, 0.35987827, 0.86631641, ..., 0.98936144,\n",
       "         0.70688295, 0.42579801],\n",
       "        [0.8894288 , 0.51153775, 0.28905644, ..., 0.39692631,\n",
       "         0.03298358, 0.08574653],\n",
       "        [0.98188414, 0.69198429, 0.09936286, ..., 0.00464347,\n",
       "         0.38164554, 0.70503021],\n",
       "        ...,\n",
       "        [0.12253552, 0.94851857, 0.97788192, ..., 0.69276157,\n",
       "         0.41260928, 0.42958322],\n",
       "        [0.51883714, 0.28184137, 0.62701821, ..., 0.72942688,\n",
       "         0.91821286, 0.70570638],\n",
       "        [0.58611301, 0.05070943, 0.87097943, ..., 0.75417546,\n",
       "         0.69766369, 0.84391023]],\n",
       "\n",
       "       [[0.22346246, 0.24016695, 0.85002979, ..., 0.68870932,\n",
       "         0.99080937, 0.01186984],\n",
       "        [0.60353104, 0.09812593, 0.95268775, ..., 0.78679418,\n",
       "         0.90330294, 0.76290231],\n",
       "        [0.54834329, 0.58438397, 0.23089927, ..., 0.79543018,\n",
       "         0.08675931, 0.21527781],\n",
       "        ...,\n",
       "        [0.76380682, 0.10819969, 0.93331103, ..., 0.5784081 ,\n",
       "         0.38718293, 0.42530884],\n",
       "        [0.95756025, 0.95837649, 0.87312059, ..., 0.74237926,\n",
       "         0.03420951, 0.69093741],\n",
       "        [0.05713684, 0.57505367, 0.26065234, ..., 0.3394773 ,\n",
       "         0.62349902, 0.07731196]]])"
      ]
     },
     "execution_count": 57,
     "metadata": {},
     "output_type": "execute_result"
    }
   ],
   "source": [
    "np.random.random(size=(1000, 200, 50))"
   ]
  },
  {
   "cell_type": "code",
   "execution_count": 61,
   "metadata": {
    "collapsed": true
   },
   "outputs": [
    {
     "data": {
      "text/plain": [
       "array([[[3.74511968e-01, 4.55392802e-02, 4.08888063e-01, ...,\n",
       "         7.95269342e-03, 3.04694099e-01, 7.73213609e-01],\n",
       "        [5.92727510e-01, 8.23752522e-01, 1.76294194e-01, ...,\n",
       "         8.53612327e-01, 1.07148386e-01, 1.33031729e-01],\n",
       "        [6.28092820e-01, 9.88701637e-01, 1.83757359e-01, ...,\n",
       "         1.10176155e-01, 1.15770176e-01, 9.52292948e-01],\n",
       "        ...,\n",
       "        [9.83625096e-01, 9.71594370e-01, 8.38740156e-01, ...,\n",
       "         6.10472042e-01, 6.83297410e-01, 3.71054668e-01],\n",
       "        [8.56243695e-01, 5.39507523e-02, 3.94243270e-01, ...,\n",
       "         3.47518980e-01, 4.41340306e-01, 2.58501414e-01],\n",
       "        [2.00362529e-01, 9.92788879e-01, 8.17781716e-01, ...,\n",
       "         9.88461599e-01, 7.91426736e-01, 2.29824611e-01]],\n",
       "\n",
       "       [[7.28016164e-01, 3.03448722e-01, 9.71187145e-01, ...,\n",
       "         5.53291642e-01, 7.80736057e-01, 9.72834759e-01],\n",
       "        [9.93878141e-01, 2.63752250e-01, 7.72490434e-02, ...,\n",
       "         7.78303572e-01, 3.37231220e-01, 5.60399533e-02],\n",
       "        [1.61095898e-01, 7.44381338e-01, 6.14689931e-02, ...,\n",
       "         3.18911391e-01, 5.49414309e-01, 7.98287391e-01],\n",
       "        ...,\n",
       "        [2.30485624e-01, 2.09121570e-01, 1.04492434e-01, ...,\n",
       "         8.33739066e-01, 1.86059511e-02, 6.30206502e-01],\n",
       "        [1.16375094e-01, 9.15641630e-01, 5.52573646e-01, ...,\n",
       "         2.69983854e-01, 9.50488560e-01, 9.48838822e-01],\n",
       "        [4.91820111e-01, 6.31196664e-01, 3.62301881e-01, ...,\n",
       "         8.82156473e-02, 8.93968092e-01, 7.10949952e-01]],\n",
       "\n",
       "       [[4.73681578e-01, 6.82624603e-01, 9.40988691e-01, ...,\n",
       "         6.90930597e-01, 5.50494290e-01, 1.85270071e-01],\n",
       "        [2.60926499e-01, 7.10109893e-01, 1.88366408e-01, ...,\n",
       "         1.20688091e-01, 3.05167133e-01, 6.07033920e-01],\n",
       "        [7.31925085e-02, 4.22926086e-01, 1.14194275e-01, ...,\n",
       "         4.23129433e-01, 3.71016610e-01, 1.66290455e-01],\n",
       "        ...,\n",
       "        [9.65162739e-01, 1.27072377e-01, 4.17754186e-01, ...,\n",
       "         9.08520531e-01, 7.26263439e-01, 1.94103688e-01],\n",
       "        [8.57720359e-01, 1.25646235e-01, 2.92094193e-02, ...,\n",
       "         3.14386429e-01, 5.80501565e-01, 1.07979585e-01],\n",
       "        [5.81275036e-01, 2.83163358e-01, 9.37713941e-01, ...,\n",
       "         9.06839430e-01, 4.95316138e-01, 5.04536313e-01]],\n",
       "\n",
       "       ...,\n",
       "\n",
       "       [[4.37859110e-01, 2.09671370e-01, 3.50496704e-01, ...,\n",
       "         1.44671193e-01, 8.95758367e-01, 1.83247561e-01],\n",
       "        [7.19760909e-01, 8.17114592e-01, 7.47251914e-01, ...,\n",
       "         1.12389310e-01, 6.68187644e-01, 9.71896089e-01],\n",
       "        [6.39573067e-01, 6.03070163e-01, 4.31136679e-01, ...,\n",
       "         2.72943158e-01, 5.55615141e-01, 4.27141042e-01],\n",
       "        ...,\n",
       "        [1.16215521e-01, 5.61324495e-01, 8.65792567e-01, ...,\n",
       "         5.36247500e-01, 8.08234833e-01, 1.00906638e-03],\n",
       "        [2.96675791e-01, 3.15251019e-01, 3.77317226e-01, ...,\n",
       "         1.63209545e-01, 8.92262454e-01, 8.75018907e-01],\n",
       "        [2.59329407e-01, 8.90832160e-01, 5.10472276e-02, ...,\n",
       "         7.78243621e-01, 4.44614055e-01, 2.01838446e-01]],\n",
       "\n",
       "       [[2.66448990e-02, 8.30319586e-01, 9.81003251e-01, ...,\n",
       "         5.08482028e-01, 2.96176847e-01, 1.27036358e-01],\n",
       "        [3.85725456e-02, 4.71620446e-01, 6.64263952e-01, ...,\n",
       "         5.01270720e-01, 1.19504765e-01, 8.73017002e-01],\n",
       "        [3.41103810e-01, 2.04637808e-01, 8.67698492e-02, ...,\n",
       "         2.03865336e-01, 5.50373164e-01, 1.86376690e-01],\n",
       "        ...,\n",
       "        [2.14626940e-01, 6.01378381e-01, 1.68916780e-01, ...,\n",
       "         8.17266481e-01, 9.25480438e-01, 3.69989473e-01],\n",
       "        [8.70977413e-01, 5.88511296e-01, 1.27753322e-01, ...,\n",
       "         7.67800224e-01, 1.36093319e-01, 9.93407108e-01],\n",
       "        [7.14400059e-01, 2.93044880e-01, 8.86101183e-01, ...,\n",
       "         4.03775031e-01, 2.88035305e-01, 8.80283039e-01]],\n",
       "\n",
       "       [[2.95544491e-01, 6.27372023e-01, 8.22294203e-01, ...,\n",
       "         1.49551541e-01, 5.90783063e-01, 7.52862057e-01],\n",
       "        [2.99476562e-02, 2.83964420e-01, 9.56606804e-02, ...,\n",
       "         2.36600598e-01, 7.97756241e-02, 9.00877531e-01],\n",
       "        [6.97269796e-02, 3.76667769e-01, 5.24450923e-01, ...,\n",
       "         9.15470925e-01, 1.05308017e-01, 5.19896337e-01],\n",
       "        ...,\n",
       "        [9.04456965e-01, 7.32135673e-01, 5.52122538e-01, ...,\n",
       "         5.97211453e-01, 2.19157004e-01, 9.06272354e-01],\n",
       "        [5.59883362e-01, 6.43547834e-04, 1.01107529e-01, ...,\n",
       "         6.79627094e-01, 3.40779323e-01, 6.86628683e-01],\n",
       "        [8.56617525e-02, 3.56407394e-01, 9.39879083e-01, ...,\n",
       "         4.09928579e-03, 2.24378789e-01, 3.04949401e-01]]])"
      ]
     },
     "execution_count": 61,
     "metadata": {},
     "output_type": "execute_result"
    }
   ],
   "source": [
    "np.random.random((1000,  200, 50))"
   ]
  },
  {
   "cell_type": "code",
   "execution_count": null,
   "metadata": {},
   "outputs": [],
   "source": [
    "dimension 维度"
   ]
  },
  {
   "cell_type": "code",
   "execution_count": 58,
   "metadata": {
    "collapsed": true
   },
   "outputs": [
    {
     "data": {
      "text/plain": [
       "array([[[0.03797368, 0.93871338, 0.71223342],\n",
       "        [0.18696404, 0.18285969, 0.749174  ],\n",
       "        [0.82847294, 0.90660898, 0.65487842],\n",
       "        ...,\n",
       "        [0.66587153, 0.94767219, 0.0302862 ],\n",
       "        [0.14517877, 0.03451033, 0.59574901],\n",
       "        [0.8678393 , 0.56878485, 0.30185761]],\n",
       "\n",
       "       [[0.1887381 , 0.1101112 , 0.92355507],\n",
       "        [0.12925742, 0.01547303, 0.96302479],\n",
       "        [0.60724881, 0.65323864, 0.63673453],\n",
       "        ...,\n",
       "        [0.73034494, 0.5114338 , 0.7083376 ],\n",
       "        [0.63897543, 0.21648675, 0.68859376],\n",
       "        [0.85383462, 0.62108899, 0.88962533]],\n",
       "\n",
       "       [[0.70084569, 0.15830597, 0.6112098 ],\n",
       "        [0.68508502, 0.39829192, 0.965467  ],\n",
       "        [0.39425145, 0.34156001, 0.7608983 ],\n",
       "        ...,\n",
       "        [0.60408264, 0.66661795, 0.71956994],\n",
       "        [0.45114873, 0.5119692 , 0.25770238],\n",
       "        [0.60469786, 0.27457299, 0.27647694]],\n",
       "\n",
       "       ...,\n",
       "\n",
       "       [[0.66377205, 0.68583713, 0.70464348],\n",
       "        [0.19432692, 0.47994485, 0.77379018],\n",
       "        [0.09508323, 0.18055172, 0.8856379 ],\n",
       "        ...,\n",
       "        [0.57524818, 0.50227546, 0.96029196],\n",
       "        [0.04168993, 0.86402397, 0.24132658],\n",
       "        [0.47900707, 0.62233512, 0.21255756]],\n",
       "\n",
       "       [[0.17602133, 0.17386564, 0.21980121],\n",
       "        [0.82269884, 0.64820563, 0.67713558],\n",
       "        [0.53353828, 0.77000737, 0.87066286],\n",
       "        ...,\n",
       "        [0.34202597, 0.69104787, 0.31899062],\n",
       "        [0.42055629, 0.42375721, 0.24866347],\n",
       "        [0.99949938, 0.37189384, 0.78835558]],\n",
       "\n",
       "       [[0.18758242, 0.05871639, 0.74521557],\n",
       "        [0.25651019, 0.02834241, 0.09170511],\n",
       "        [0.30173323, 0.52276313, 0.77519319],\n",
       "        ...,\n",
       "        [0.64191118, 0.37835662, 0.21088433],\n",
       "        [0.45596617, 0.07798755, 0.72682499],\n",
       "        [0.9135246 , 0.34991927, 0.35148978]]])"
      ]
     },
     "execution_count": 58,
     "metadata": {},
     "output_type": "execute_result"
    }
   ],
   "source": [
    "# 和np.random.random一样\n",
    "np.random.rand(100, 20, 3)"
   ]
  },
  {
   "cell_type": "markdown",
   "metadata": {},
   "source": [
    "## 二、ndarray的属性"
   ]
  },
  {
   "cell_type": "markdown",
   "metadata": {},
   "source": [
    "4个必记参数：\n",
    "ndim：维度\n",
    "shape：形状（各维度的长度）\n",
    "size：总长度\n",
    "\n",
    "dtype：元素类型\n"
   ]
  },
  {
   "cell_type": "code",
   "execution_count": 62,
   "metadata": {
    "collapsed": true
   },
   "outputs": [
    {
     "data": {
      "text/plain": [
       "array([[[36, 31, 60, 84, 83],\n",
       "        [30, 39,  2, 15, 97],\n",
       "        [61, 75, 15, 42, 95],\n",
       "        [11, 50, 69, 49, 17]],\n",
       "\n",
       "       [[69, 81, 35, 26, 92],\n",
       "        [ 6, 28, 88,  2, 79],\n",
       "        [29, 49, 50, 67, 40],\n",
       "        [69, 89,  4, 39, 54]],\n",
       "\n",
       "       [[40, 43, 12, 94, 70],\n",
       "        [ 0, 20, 83, 71, 32],\n",
       "        [62, 80,  9, 79, 99],\n",
       "        [91,  4,  1, 79, 33]]])"
      ]
     },
     "execution_count": 62,
     "metadata": {},
     "output_type": "execute_result"
    }
   ],
   "source": [
    "n = np.random.randint(0, 100, size=(3,4,5))\n",
    "n"
   ]
  },
  {
   "cell_type": "code",
   "execution_count": 63,
   "metadata": {},
   "outputs": [
    {
     "data": {
      "text/plain": [
       "3"
      ]
     },
     "execution_count": 63,
     "metadata": {},
     "output_type": "execute_result"
    }
   ],
   "source": [
    "# 维度\n",
    "n.ndim"
   ]
  },
  {
   "cell_type": "code",
   "execution_count": 64,
   "metadata": {},
   "outputs": [
    {
     "data": {
      "text/plain": [
       "(3, 4, 5)"
      ]
     },
     "execution_count": 64,
     "metadata": {},
     "output_type": "execute_result"
    }
   ],
   "source": [
    "n.shape"
   ]
  },
  {
   "cell_type": "code",
   "execution_count": 65,
   "metadata": {},
   "outputs": [
    {
     "data": {
      "text/plain": [
       "60"
      ]
     },
     "execution_count": 65,
     "metadata": {},
     "output_type": "execute_result"
    }
   ],
   "source": [
    "n.size"
   ]
  },
  {
   "cell_type": "code",
   "execution_count": 66,
   "metadata": {},
   "outputs": [
    {
     "data": {
      "text/plain": [
       "dtype('int32')"
      ]
     },
     "execution_count": 66,
     "metadata": {},
     "output_type": "execute_result"
    }
   ],
   "source": [
    "n.dtype"
   ]
  },
  {
   "cell_type": "markdown",
   "metadata": {},
   "source": [
    "## 三、ndarray的基本操作"
   ]
  },
  {
   "cell_type": "markdown",
   "metadata": {},
   "source": [
    "### 1. 索引\n",
    "一维与列表完全一致\n",
    "多维时同理"
   ]
  },
  {
   "cell_type": "code",
   "execution_count": 68,
   "metadata": {},
   "outputs": [
    {
     "data": {
      "text/plain": [
       "array([5, 2, 3, 1, 7])"
      ]
     },
     "execution_count": 68,
     "metadata": {},
     "output_type": "execute_result"
    }
   ],
   "source": [
    "l = [5,2,3,1,7]\n",
    "n2 = np.array(l)\n",
    "n2"
   ]
  },
  {
   "cell_type": "code",
   "execution_count": 69,
   "metadata": {},
   "outputs": [
    {
     "data": {
      "text/plain": [
       "5"
      ]
     },
     "execution_count": 69,
     "metadata": {},
     "output_type": "execute_result"
    }
   ],
   "source": [
    "n2[0]"
   ]
  },
  {
   "cell_type": "code",
   "execution_count": 70,
   "metadata": {},
   "outputs": [
    {
     "data": {
      "text/plain": [
       "5"
      ]
     },
     "execution_count": 70,
     "metadata": {},
     "output_type": "execute_result"
    }
   ],
   "source": [
    "l[0]"
   ]
  },
  {
   "cell_type": "code",
   "execution_count": 71,
   "metadata": {
    "scrolled": true
   },
   "outputs": [
    {
     "data": {
      "text/plain": [
       "array([[91, 71, 78, 17, 85],\n",
       "       [83, 88, 45, 56, 11],\n",
       "       [91, 75, 62, 39, 46],\n",
       "       [64, 74, 83, 24, 86]])"
      ]
     },
     "execution_count": 71,
     "metadata": {},
     "output_type": "execute_result"
    }
   ],
   "source": [
    "n3 = np.random.randint(0,100, size=(4,5))\n",
    "n3"
   ]
  },
  {
   "cell_type": "code",
   "execution_count": 72,
   "metadata": {},
   "outputs": [
    {
     "data": {
      "text/plain": [
       "45"
      ]
     },
     "execution_count": 72,
     "metadata": {},
     "output_type": "execute_result"
    }
   ],
   "source": [
    "n3[1, 2]"
   ]
  },
  {
   "cell_type": "code",
   "execution_count": null,
   "metadata": {},
   "outputs": [],
   "source": []
  },
  {
   "cell_type": "code",
   "execution_count": 73,
   "metadata": {},
   "outputs": [
    {
     "data": {
      "text/plain": [
       "50"
      ]
     },
     "execution_count": 73,
     "metadata": {},
     "output_type": "execute_result"
    }
   ],
   "source": [
    "n[1, 2, 2]"
   ]
  },
  {
   "cell_type": "code",
   "execution_count": 74,
   "metadata": {
    "collapsed": true
   },
   "outputs": [
    {
     "data": {
      "text/plain": [
       "array([[[[49, 10, 76, 15, 27, 69],\n",
       "         [73,  0, 12, 94, 42, 41],\n",
       "         [67, 66, 27, 33, 82, 29]],\n",
       "\n",
       "        [[ 3, 57, 42, 68, 54, 50],\n",
       "         [66,  9, 33, 80, 44, 50],\n",
       "         [51, 87, 46, 80, 97, 73]],\n",
       "\n",
       "        [[77, 25, 15, 15, 36, 11],\n",
       "         [ 8, 95, 29, 32, 95, 43],\n",
       "         [78, 92, 74, 23, 18, 93]],\n",
       "\n",
       "        [[12, 90, 86, 39, 90, 71],\n",
       "         [15, 56, 65, 30, 44, 66],\n",
       "         [47, 22, 24, 12, 17, 52]]],\n",
       "\n",
       "\n",
       "       [[[24, 18,  7, 29, 10, 78],\n",
       "         [17, 17, 34, 27, 79,  6],\n",
       "         [62, 59, 39, 32, 19, 31]],\n",
       "\n",
       "        [[19, 56, 53, 28, 26, 50],\n",
       "         [10, 98, 58, 73, 78, 41],\n",
       "         [73, 84, 43,  5, 52, 59]],\n",
       "\n",
       "        [[ 0, 26, 21, 95, 93, 56],\n",
       "         [89,  4, 24,  8,  5, 90],\n",
       "         [94, 27, 65, 24, 27, 59]],\n",
       "\n",
       "        [[78, 47, 52, 97, 31, 64],\n",
       "         [15,  5, 31, 34, 34, 43],\n",
       "         [12, 24, 59, 78, 86, 69]]],\n",
       "\n",
       "\n",
       "       [[[81, 69,  1, 38, 60,  2],\n",
       "         [96, 49, 78, 26, 67, 43],\n",
       "         [84, 60, 87, 26, 47, 88]],\n",
       "\n",
       "        [[33, 37, 48, 92, 52, 69],\n",
       "         [80, 66, 90,  9, 12, 48],\n",
       "         [80, 65,  1, 33, 15, 37]],\n",
       "\n",
       "        [[31, 61, 97, 72, 54, 85],\n",
       "         [52, 86, 80, 76, 61, 48],\n",
       "         [ 8, 12, 89, 83, 42, 51]],\n",
       "\n",
       "        [[90, 57, 68, 90, 57, 93],\n",
       "         [83, 86, 97, 25,  0, 14],\n",
       "         [ 5, 23, 28,  8, 33, 31]]]])"
      ]
     },
     "execution_count": 74,
     "metadata": {},
     "output_type": "execute_result"
    }
   ],
   "source": [
    "n4 = np.random.randint(0,100, size=(3, 4, 3, 6))\n",
    "n4"
   ]
  },
  {
   "cell_type": "code",
   "execution_count": 75,
   "metadata": {},
   "outputs": [
    {
     "data": {
      "text/plain": [
       "32"
      ]
     },
     "execution_count": 75,
     "metadata": {},
     "output_type": "execute_result"
    }
   ],
   "source": [
    "n4[0, 2, 1, 3]"
   ]
  },
  {
   "cell_type": "code",
   "execution_count": 76,
   "metadata": {},
   "outputs": [],
   "source": [
    "n4[0, 2, 1, 3] = 88\n"
   ]
  },
  {
   "cell_type": "code",
   "execution_count": 77,
   "metadata": {},
   "outputs": [
    {
     "data": {
      "text/plain": [
       "88"
      ]
     },
     "execution_count": 77,
     "metadata": {},
     "output_type": "execute_result"
    }
   ],
   "source": [
    "n4[0, 2, 1, 3]"
   ]
  },
  {
   "cell_type": "markdown",
   "metadata": {},
   "source": [
    "根据索引修改数据"
   ]
  },
  {
   "cell_type": "markdown",
   "metadata": {},
   "source": [
    "### 2. 切片\n",
    "一维与列表完全一致\n",
    "多维时同理"
   ]
  },
  {
   "cell_type": "code",
   "execution_count": 78,
   "metadata": {},
   "outputs": [
    {
     "data": {
      "text/plain": [
       "array([5, 2, 3, 1, 7])"
      ]
     },
     "execution_count": 78,
     "metadata": {},
     "output_type": "execute_result"
    }
   ],
   "source": [
    "l = [5,2,3,1,7]\n",
    "n2 = np.array(l)\n",
    "n2"
   ]
  },
  {
   "cell_type": "code",
   "execution_count": 80,
   "metadata": {},
   "outputs": [
    {
     "data": {
      "text/plain": [
       "[3, 1, 7]"
      ]
     },
     "execution_count": 80,
     "metadata": {},
     "output_type": "execute_result"
    }
   ],
   "source": [
    "l[2:]"
   ]
  },
  {
   "cell_type": "code",
   "execution_count": 81,
   "metadata": {},
   "outputs": [
    {
     "data": {
      "text/plain": [
       "array([3, 1, 7])"
      ]
     },
     "execution_count": 81,
     "metadata": {},
     "output_type": "execute_result"
    }
   ],
   "source": [
    "n2[2:]"
   ]
  },
  {
   "cell_type": "code",
   "execution_count": 82,
   "metadata": {
    "scrolled": true
   },
   "outputs": [
    {
     "data": {
      "text/plain": [
       "array([[91, 71, 78, 17, 85],\n",
       "       [83, 88, 45, 56, 11],\n",
       "       [91, 75, 62, 39, 46],\n",
       "       [64, 74, 83, 24, 86]])"
      ]
     },
     "execution_count": 82,
     "metadata": {},
     "output_type": "execute_result"
    }
   ],
   "source": [
    "n3"
   ]
  },
  {
   "cell_type": "code",
   "execution_count": 83,
   "metadata": {
    "scrolled": true
   },
   "outputs": [
    {
     "data": {
      "text/plain": [
       "array([[91, 75, 62, 39, 46],\n",
       "       [64, 74, 83, 24, 86]])"
      ]
     },
     "execution_count": 83,
     "metadata": {},
     "output_type": "execute_result"
    }
   ],
   "source": [
    "n3[2:]"
   ]
  },
  {
   "cell_type": "code",
   "execution_count": 84,
   "metadata": {
    "scrolled": true
   },
   "outputs": [
    {
     "data": {
      "text/plain": [
       "array([[75, 62],\n",
       "       [74, 83]])"
      ]
     },
     "execution_count": 84,
     "metadata": {},
     "output_type": "execute_result"
    }
   ],
   "source": [
    "n3[2:, 1:3]"
   ]
  },
  {
   "cell_type": "code",
   "execution_count": 85,
   "metadata": {
    "scrolled": true
   },
   "outputs": [
    {
     "data": {
      "text/plain": [
       "array([[[36, 31, 60, 84, 83],\n",
       "        [30, 39,  2, 15, 97],\n",
       "        [61, 75, 15, 42, 95],\n",
       "        [11, 50, 69, 49, 17]],\n",
       "\n",
       "       [[69, 81, 35, 26, 92],\n",
       "        [ 6, 28, 88,  2, 79],\n",
       "        [29, 49, 50, 67, 40],\n",
       "        [69, 89,  4, 39, 54]],\n",
       "\n",
       "       [[40, 43, 12, 94, 70],\n",
       "        [ 0, 20, 83, 71, 32],\n",
       "        [62, 80,  9, 79, 99],\n",
       "        [91,  4,  1, 79, 33]]])"
      ]
     },
     "execution_count": 85,
     "metadata": {},
     "output_type": "execute_result"
    }
   ],
   "source": [
    "n"
   ]
  },
  {
   "cell_type": "code",
   "execution_count": 86,
   "metadata": {},
   "outputs": [
    {
     "data": {
      "text/plain": [
       "array([[28, 88],\n",
       "       [49, 50]])"
      ]
     },
     "execution_count": 86,
     "metadata": {},
     "output_type": "execute_result"
    }
   ],
   "source": [
    "n[1, 1:3, 1:3]"
   ]
  },
  {
   "cell_type": "markdown",
   "metadata": {},
   "source": [
    "# 将数据反转，例如[1,2,3]---->[3,2,1]"
   ]
  },
  {
   "cell_type": "markdown",
   "metadata": {},
   "source": [
    "两个::进行切片"
   ]
  },
  {
   "cell_type": "code",
   "execution_count": 88,
   "metadata": {},
   "outputs": [
    {
     "data": {
      "text/plain": [
       "[5, 2, 3, 1, 7]"
      ]
     },
     "execution_count": 88,
     "metadata": {},
     "output_type": "execute_result"
    }
   ],
   "source": [
    "l"
   ]
  },
  {
   "cell_type": "code",
   "execution_count": 87,
   "metadata": {},
   "outputs": [
    {
     "data": {
      "text/plain": [
       "[7, 1, 3, 2, 5]"
      ]
     },
     "execution_count": 87,
     "metadata": {},
     "output_type": "execute_result"
    }
   ],
   "source": [
    "l[::-1]"
   ]
  },
  {
   "cell_type": "code",
   "execution_count": 89,
   "metadata": {
    "scrolled": true
   },
   "outputs": [
    {
     "data": {
      "text/plain": [
       "array([[[36, 31, 60, 84, 83],\n",
       "        [30, 39,  2, 15, 97],\n",
       "        [61, 75, 15, 42, 95],\n",
       "        [11, 50, 69, 49, 17]],\n",
       "\n",
       "       [[69, 81, 35, 26, 92],\n",
       "        [ 6, 28, 88,  2, 79],\n",
       "        [29, 49, 50, 67, 40],\n",
       "        [69, 89,  4, 39, 54]],\n",
       "\n",
       "       [[40, 43, 12, 94, 70],\n",
       "        [ 0, 20, 83, 71, 32],\n",
       "        [62, 80,  9, 79, 99],\n",
       "        [91,  4,  1, 79, 33]]])"
      ]
     },
     "execution_count": 89,
     "metadata": {},
     "output_type": "execute_result"
    }
   ],
   "source": [
    "n"
   ]
  },
  {
   "cell_type": "code",
   "execution_count": 92,
   "metadata": {
    "collapsed": true
   },
   "outputs": [
    {
     "data": {
      "text/plain": [
       "array([[[33, 79,  1,  4, 91],\n",
       "        [99, 79,  9, 80, 62],\n",
       "        [32, 71, 83, 20,  0],\n",
       "        [70, 94, 12, 43, 40]],\n",
       "\n",
       "       [[54, 39,  4, 89, 69],\n",
       "        [40, 67, 50, 49, 29],\n",
       "        [79,  2, 88, 28,  6],\n",
       "        [92, 26, 35, 81, 69]],\n",
       "\n",
       "       [[17, 49, 69, 50, 11],\n",
       "        [95, 42, 15, 75, 61],\n",
       "        [97, 15,  2, 39, 30],\n",
       "        [83, 84, 60, 31, 36]]])"
      ]
     },
     "execution_count": 92,
     "metadata": {},
     "output_type": "execute_result"
    }
   ],
   "source": [
    "n[::-1, ::-1, ::-1]"
   ]
  },
  {
   "cell_type": "markdown",
   "metadata": {},
   "source": [
    "### 3. 变形\n",
    "使用reshape函数"
   ]
  },
  {
   "cell_type": "code",
   "execution_count": 93,
   "metadata": {
    "scrolled": true
   },
   "outputs": [
    {
     "data": {
      "text/plain": [
       "array([[[36, 31, 60, 84, 83],\n",
       "        [30, 39,  2, 15, 97],\n",
       "        [61, 75, 15, 42, 95],\n",
       "        [11, 50, 69, 49, 17]],\n",
       "\n",
       "       [[69, 81, 35, 26, 92],\n",
       "        [ 6, 28, 88,  2, 79],\n",
       "        [29, 49, 50, 67, 40],\n",
       "        [69, 89,  4, 39, 54]],\n",
       "\n",
       "       [[40, 43, 12, 94, 70],\n",
       "        [ 0, 20, 83, 71, 32],\n",
       "        [62, 80,  9, 79, 99],\n",
       "        [91,  4,  1, 79, 33]]])"
      ]
     },
     "execution_count": 93,
     "metadata": {},
     "output_type": "execute_result"
    }
   ],
   "source": [
    "n"
   ]
  },
  {
   "cell_type": "code",
   "execution_count": 94,
   "metadata": {},
   "outputs": [
    {
     "data": {
      "text/plain": [
       "60"
      ]
     },
     "execution_count": 94,
     "metadata": {},
     "output_type": "execute_result"
    }
   ],
   "source": [
    "n.size"
   ]
  },
  {
   "cell_type": "code",
   "execution_count": 95,
   "metadata": {
    "scrolled": true
   },
   "outputs": [
    {
     "data": {
      "text/plain": [
       "array([[36, 31, 60, 84, 83, 30, 39,  2, 15, 97],\n",
       "       [61, 75, 15, 42, 95, 11, 50, 69, 49, 17],\n",
       "       [69, 81, 35, 26, 92,  6, 28, 88,  2, 79],\n",
       "       [29, 49, 50, 67, 40, 69, 89,  4, 39, 54],\n",
       "       [40, 43, 12, 94, 70,  0, 20, 83, 71, 32],\n",
       "       [62, 80,  9, 79, 99, 91,  4,  1, 79, 33]])"
      ]
     },
     "execution_count": 95,
     "metadata": {},
     "output_type": "execute_result"
    }
   ],
   "source": [
    "n.reshape(6,10)"
   ]
  },
  {
   "cell_type": "code",
   "execution_count": 96,
   "metadata": {
    "scrolled": true
   },
   "outputs": [
    {
     "data": {
      "text/plain": [
       "array([[36, 31, 60, 84, 83, 30],\n",
       "       [39,  2, 15, 97, 61, 75],\n",
       "       [15, 42, 95, 11, 50, 69],\n",
       "       [49, 17, 69, 81, 35, 26],\n",
       "       [92,  6, 28, 88,  2, 79],\n",
       "       [29, 49, 50, 67, 40, 69],\n",
       "       [89,  4, 39, 54, 40, 43],\n",
       "       [12, 94, 70,  0, 20, 83],\n",
       "       [71, 32, 62, 80,  9, 79],\n",
       "       [99, 91,  4,  1, 79, 33]])"
      ]
     },
     "execution_count": 96,
     "metadata": {},
     "output_type": "execute_result"
    }
   ],
   "source": [
    "n.reshape(10,6)"
   ]
  },
  {
   "cell_type": "code",
   "execution_count": 97,
   "metadata": {
    "collapsed": true
   },
   "outputs": [
    {
     "ename": "ValueError",
     "evalue": "cannot reshape array of size 60 into shape (3,8)",
     "output_type": "error",
     "traceback": [
      "\u001b[1;31m---------------------------------------------------------------------------\u001b[0m",
      "\u001b[1;31mValueError\u001b[0m                                Traceback (most recent call last)",
      "\u001b[1;32m<ipython-input-97-44cced7f55c0>\u001b[0m in \u001b[0;36m<module>\u001b[1;34m\u001b[0m\n\u001b[1;32m----> 1\u001b[1;33m \u001b[0mn\u001b[0m\u001b[1;33m.\u001b[0m\u001b[0mreshape\u001b[0m\u001b[1;33m(\u001b[0m\u001b[1;36m3\u001b[0m\u001b[1;33m,\u001b[0m\u001b[1;36m8\u001b[0m\u001b[1;33m)\u001b[0m\u001b[1;33m\u001b[0m\u001b[0m\n\u001b[0m",
      "\u001b[1;31mValueError\u001b[0m: cannot reshape array of size 60 into shape (3,8)"
     ]
    }
   ],
   "source": [
    "n.reshape(3,8)"
   ]
  },
  {
   "cell_type": "code",
   "execution_count": null,
   "metadata": {},
   "outputs": [],
   "source": [
    "# reshape之后的size不能发生变化."
   ]
  },
  {
   "cell_type": "code",
   "execution_count": 98,
   "metadata": {
    "collapsed": true
   },
   "outputs": [
    {
     "data": {
      "text/plain": [
       "array([[36, 31, 60, 84, 83, 30],\n",
       "       [39,  2, 15, 97, 61, 75],\n",
       "       [15, 42, 95, 11, 50, 69],\n",
       "       [49, 17, 69, 81, 35, 26],\n",
       "       [92,  6, 28, 88,  2, 79],\n",
       "       [29, 49, 50, 67, 40, 69],\n",
       "       [89,  4, 39, 54, 40, 43],\n",
       "       [12, 94, 70,  0, 20, 83],\n",
       "       [71, 32, 62, 80,  9, 79],\n",
       "       [99, 91,  4,  1, 79, 33]])"
      ]
     },
     "execution_count": 98,
     "metadata": {},
     "output_type": "execute_result"
    }
   ],
   "source": [
    "n.reshape((10,6))"
   ]
  },
  {
   "cell_type": "code",
   "execution_count": 100,
   "metadata": {},
   "outputs": [
    {
     "data": {
      "text/plain": [
       "array([[36, 31, 60, 84, 83, 30],\n",
       "       [39,  2, 15, 97, 61, 75],\n",
       "       [15, 42, 95, 11, 50, 69],\n",
       "       [49, 17, 69, 81, 35, 26],\n",
       "       [92,  6, 28, 88,  2, 79],\n",
       "       [29, 49, 50, 67, 40, 69],\n",
       "       [89,  4, 39, 54, 40, 43],\n",
       "       [12, 94, 70,  0, 20, 83],\n",
       "       [71, 32, 62, 80,  9, 79],\n",
       "       [99, 91,  4,  1, 79, 33]])"
      ]
     },
     "execution_count": 100,
     "metadata": {},
     "output_type": "execute_result"
    }
   ],
   "source": [
    "np.reshape(n, (10,6))"
   ]
  },
  {
   "cell_type": "markdown",
   "metadata": {},
   "source": [
    "### 4. 级联\n",
    "1. np.concatenate()\n",
    "级联需要注意的点：\n",
    "- 级联的参数是列表：一定要加中括号或小括号\n",
    "- 维度必须相同\n",
    "- 形状相符\n",
    "- 【重点】级联的方向默认是shape这个tuple的第一个值所代表的维度方向\n",
    "- 可通过axis参数改变级联的方向"
   ]
  },
  {
   "cell_type": "code",
   "execution_count": 106,
   "metadata": {
    "scrolled": true
   },
   "outputs": [
    {
     "data": {
      "text/plain": [
       "array([[47, 56,  8, 59,  3],\n",
       "       [67, 26, 25,  1, 10],\n",
       "       [70,  4, 45, 91, 49],\n",
       "       [40, 32, 87, 40, 50]])"
      ]
     },
     "metadata": {},
     "output_type": "display_data"
    },
    {
     "data": {
      "text/plain": [
       "array([[92, 82, 32,  8, 23],\n",
       "       [17, 48, 80,  2, 92],\n",
       "       [79, 25, 18,  6, 72],\n",
       "       [13, 66,  0, 58,  7]])"
      ]
     },
     "metadata": {},
     "output_type": "display_data"
    }
   ],
   "source": [
    "n1 = np.random.randint(0,100, size=(4,5))\n",
    "n2 = np.random.randint(0,100, size=(4,5))\n",
    "display(n1, n2)"
   ]
  },
  {
   "cell_type": "code",
   "execution_count": 102,
   "metadata": {
    "scrolled": true
   },
   "outputs": [
    {
     "data": {
      "text/plain": [
       "array([[78, 82, 59, 23, 64],\n",
       "       [30, 94, 73,  0,  8],\n",
       "       [99,  8, 65, 79, 65],\n",
       "       [94, 55, 74, 94, 26],\n",
       "       [56, 43, 62, 62, 58],\n",
       "       [99, 41, 19, 56, 34],\n",
       "       [80, 90, 90,  1, 34],\n",
       "       [95, 53, 12,  4, 69]])"
      ]
     },
     "execution_count": 102,
     "metadata": {},
     "output_type": "execute_result"
    }
   ],
   "source": [
    "# axis=0 , 增加了行数, 垂直方向级联\n",
    "# axis=1 , 增加列数, 在水平方向上级联\n",
    "np.concatenate((n1,n2), axis=0)"
   ]
  },
  {
   "cell_type": "code",
   "execution_count": 103,
   "metadata": {
    "scrolled": true
   },
   "outputs": [
    {
     "data": {
      "text/plain": [
       "array([[78, 82, 59, 23, 64, 56, 43, 62, 62, 58],\n",
       "       [30, 94, 73,  0,  8, 99, 41, 19, 56, 34],\n",
       "       [99,  8, 65, 79, 65, 80, 90, 90,  1, 34],\n",
       "       [94, 55, 74, 94, 26, 95, 53, 12,  4, 69]])"
      ]
     },
     "execution_count": 103,
     "metadata": {},
     "output_type": "execute_result"
    }
   ],
   "source": [
    "np.concatenate((n1,n2), axis=1)"
   ]
  },
  {
   "cell_type": "code",
   "execution_count": null,
   "metadata": {},
   "outputs": [],
   "source": [
    "# 级联的时候,水平级联要求行数一致.\n",
    "# 垂直级联,要求列数一致."
   ]
  },
  {
   "cell_type": "code",
   "execution_count": 104,
   "metadata": {},
   "outputs": [
    {
     "data": {
      "text/plain": [
       "array([[27, 24, 61, 89, 37],\n",
       "       [ 4, 60, 78,  6,  3],\n",
       "       [22, 86, 58,  1, 49],\n",
       "       [64, 50, 44, 11, 16]])"
      ]
     },
     "metadata": {},
     "output_type": "display_data"
    },
    {
     "data": {
      "text/plain": [
       "array([[43, 29,  5,  4],\n",
       "       [ 3, 31, 25, 97],\n",
       "       [68, 82, 63, 66],\n",
       "       [55,  4, 78, 86],\n",
       "       [19, 13, 18, 30]])"
      ]
     },
     "metadata": {},
     "output_type": "display_data"
    }
   ],
   "source": [
    "n1 = np.random.randint(0,100, size=(4,5))\n",
    "n2 = np.random.randint(0,100, size=(5,4))\n",
    "display(n1, n2)"
   ]
  },
  {
   "cell_type": "code",
   "execution_count": 105,
   "metadata": {
    "collapsed": true
   },
   "outputs": [
    {
     "ename": "ValueError",
     "evalue": "all the input array dimensions except for the concatenation axis must match exactly",
     "output_type": "error",
     "traceback": [
      "\u001b[1;31m---------------------------------------------------------------------------\u001b[0m",
      "\u001b[1;31mValueError\u001b[0m                                Traceback (most recent call last)",
      "\u001b[1;32m<ipython-input-105-08b3901ffe4d>\u001b[0m in \u001b[0;36m<module>\u001b[1;34m\u001b[0m\n\u001b[1;32m----> 1\u001b[1;33m \u001b[0mnp\u001b[0m\u001b[1;33m.\u001b[0m\u001b[0mconcatenate\u001b[0m\u001b[1;33m(\u001b[0m\u001b[1;33m(\u001b[0m\u001b[0mn1\u001b[0m\u001b[1;33m,\u001b[0m\u001b[0mn2\u001b[0m\u001b[1;33m)\u001b[0m\u001b[1;33m,\u001b[0m \u001b[0maxis\u001b[0m\u001b[1;33m=\u001b[0m\u001b[1;36m0\u001b[0m\u001b[1;33m)\u001b[0m\u001b[1;33m\u001b[0m\u001b[0m\n\u001b[0m",
      "\u001b[1;31mValueError\u001b[0m: all the input array dimensions except for the concatenation axis must match exactly"
     ]
    }
   ],
   "source": [
    "np.concatenate((n1,n2), axis=0)"
   ]
  },
  {
   "cell_type": "markdown",
   "metadata": {},
   "source": [
    "2. np.hstack与np.vstack  \n",
    "水平级联与垂直级联,处理自己，进行维度的变更"
   ]
  },
  {
   "cell_type": "code",
   "execution_count": 107,
   "metadata": {
    "scrolled": true
   },
   "outputs": [
    {
     "data": {
      "text/plain": [
       "array([[47, 56,  8, 59,  3, 92, 82, 32,  8, 23],\n",
       "       [67, 26, 25,  1, 10, 17, 48, 80,  2, 92],\n",
       "       [70,  4, 45, 91, 49, 79, 25, 18,  6, 72],\n",
       "       [40, 32, 87, 40, 50, 13, 66,  0, 58,  7]])"
      ]
     },
     "execution_count": 107,
     "metadata": {},
     "output_type": "execute_result"
    }
   ],
   "source": [
    "np.hstack((n1, n2)) # h = horizontal  "
   ]
  },
  {
   "cell_type": "code",
   "execution_count": 108,
   "metadata": {},
   "outputs": [
    {
     "data": {
      "text/plain": [
       "array([[47, 56,  8, 59,  3],\n",
       "       [67, 26, 25,  1, 10],\n",
       "       [70,  4, 45, 91, 49],\n",
       "       [40, 32, 87, 40, 50],\n",
       "       [92, 82, 32,  8, 23],\n",
       "       [17, 48, 80,  2, 92],\n",
       "       [79, 25, 18,  6, 72],\n",
       "       [13, 66,  0, 58,  7]])"
      ]
     },
     "execution_count": 108,
     "metadata": {},
     "output_type": "execute_result"
    }
   ],
   "source": [
    "np.vstack((n1,n2)) # v = vertical垂直的"
   ]
  },
  {
   "cell_type": "markdown",
   "metadata": {},
   "source": [
    "### 5. 切分"
   ]
  },
  {
   "cell_type": "markdown",
   "metadata": {},
   "source": [
    "与级联类似，三个函数完成切分工作：\n",
    "- np.split\n",
    "- np.vsplit\n",
    "- np.hsplit"
   ]
  },
  {
   "cell_type": "code",
   "execution_count": 110,
   "metadata": {
    "scrolled": true
   },
   "outputs": [
    {
     "data": {
      "text/plain": [
       "array([[92, 82, 32,  8, 23],\n",
       "       [17, 48, 80,  2, 92],\n",
       "       [79, 25, 18,  6, 72],\n",
       "       [13, 66,  0, 58,  7]])"
      ]
     },
     "execution_count": 110,
     "metadata": {},
     "output_type": "execute_result"
    }
   ],
   "source": [
    "n2"
   ]
  },
  {
   "cell_type": "code",
   "execution_count": 111,
   "metadata": {},
   "outputs": [
    {
     "data": {
      "text/plain": [
       "[array([[92, 82, 32,  8, 23]]),\n",
       " array([[17, 48, 80,  2, 92]]),\n",
       " array([[79, 25, 18,  6, 72],\n",
       "        [13, 66,  0, 58,  7]])]"
      ]
     },
     "execution_count": 111,
     "metadata": {},
     "output_type": "execute_result"
    }
   ],
   "source": [
    "\n",
    "# 左闭右开区间.\n",
    "np.split(n2, [1,2] )"
   ]
  },
  {
   "cell_type": "code",
   "execution_count": 112,
   "metadata": {
    "scrolled": true
   },
   "outputs": [
    {
     "data": {
      "text/plain": [
       "array([[12, 56, 42, 81, 26],\n",
       "       [19, 36, 72, 77, 91],\n",
       "       [ 4, 16, 79, 85, 60],\n",
       "       [75, 57, 59, 12, 37],\n",
       "       [ 5, 28, 25, 85, 23],\n",
       "       [70,  4, 97, 41, 82],\n",
       "       [ 6, 87, 87, 72, 92]])"
      ]
     },
     "execution_count": 112,
     "metadata": {},
     "output_type": "execute_result"
    }
   ],
   "source": [
    "n2 = np.random.randint(0, 100, size=(7,5))\n",
    "n2"
   ]
  },
  {
   "cell_type": "code",
   "execution_count": 113,
   "metadata": {
    "scrolled": true
   },
   "outputs": [
    {
     "data": {
      "text/plain": [
       "[array([[12, 56, 42, 81, 26],\n",
       "        [19, 36, 72, 77, 91]]), array([[ 4, 16, 79, 85, 60],\n",
       "        [75, 57, 59, 12, 37],\n",
       "        [ 5, 28, 25, 85, 23]]), array([[70,  4, 97, 41, 82],\n",
       "        [ 6, 87, 87, 72, 92]])]"
      ]
     },
     "execution_count": 113,
     "metadata": {},
     "output_type": "execute_result"
    }
   ],
   "source": [
    "np.split(n2, [2, 5])"
   ]
  },
  {
   "cell_type": "code",
   "execution_count": 114,
   "metadata": {},
   "outputs": [
    {
     "data": {
      "text/plain": [
       "[array([[12],\n",
       "        [19],\n",
       "        [ 4],\n",
       "        [75],\n",
       "        [ 5],\n",
       "        [70],\n",
       "        [ 6]]), array([[56, 42],\n",
       "        [36, 72],\n",
       "        [16, 79],\n",
       "        [57, 59],\n",
       "        [28, 25],\n",
       "        [ 4, 97],\n",
       "        [87, 87]]), array([[81, 26],\n",
       "        [77, 91],\n",
       "        [85, 60],\n",
       "        [12, 37],\n",
       "        [85, 23],\n",
       "        [41, 82],\n",
       "        [72, 92]])]"
      ]
     },
     "execution_count": 114,
     "metadata": {},
     "output_type": "execute_result"
    }
   ],
   "source": [
    "np.split(n2, [1, 3], axis=1)"
   ]
  },
  {
   "cell_type": "code",
   "execution_count": 115,
   "metadata": {
    "scrolled": true
   },
   "outputs": [
    {
     "data": {
      "text/plain": [
       "[array([[12, 56],\n",
       "        [19, 36],\n",
       "        [ 4, 16],\n",
       "        [75, 57],\n",
       "        [ 5, 28],\n",
       "        [70,  4],\n",
       "        [ 6, 87]]), array([[42, 81, 26],\n",
       "        [72, 77, 91],\n",
       "        [79, 85, 60],\n",
       "        [59, 12, 37],\n",
       "        [25, 85, 23],\n",
       "        [97, 41, 82],\n",
       "        [87, 72, 92]]), array([], shape=(7, 0), dtype=int32)]"
      ]
     },
     "execution_count": 115,
     "metadata": {},
     "output_type": "execute_result"
    }
   ],
   "source": [
    "np.hsplit(n2, [2, 5])"
   ]
  },
  {
   "cell_type": "code",
   "execution_count": 116,
   "metadata": {},
   "outputs": [
    {
     "data": {
      "text/plain": [
       "[array([[12, 56, 42, 81, 26]]), array([[19, 36, 72, 77, 91],\n",
       "        [ 4, 16, 79, 85, 60]]), array([[75, 57, 59, 12, 37],\n",
       "        [ 5, 28, 25, 85, 23],\n",
       "        [70,  4, 97, 41, 82],\n",
       "        [ 6, 87, 87, 72, 92]])]"
      ]
     },
     "execution_count": 116,
     "metadata": {},
     "output_type": "execute_result"
    }
   ],
   "source": [
    "np.vsplit(n2, [1, 3])"
   ]
  },
  {
   "cell_type": "markdown",
   "metadata": {},
   "source": [
    "### 6. 副本\n",
    "所有赋值运算不会为ndarray的任何元素创建副本。对赋值后的对象的操作也对原来的对象生效。"
   ]
  },
  {
   "cell_type": "code",
   "execution_count": 117,
   "metadata": {
    "scrolled": true
   },
   "outputs": [
    {
     "data": {
      "text/plain": [
       "array([[12, 56, 42, 81, 26],\n",
       "       [19, 36, 72, 77, 91],\n",
       "       [ 4, 16, 79, 85, 60],\n",
       "       [75, 57, 59, 12, 37],\n",
       "       [ 5, 28, 25, 85, 23],\n",
       "       [70,  4, 97, 41, 82],\n",
       "       [ 6, 87, 87, 72, 92]])"
      ]
     },
     "execution_count": 117,
     "metadata": {},
     "output_type": "execute_result"
    }
   ],
   "source": [
    "n2"
   ]
  },
  {
   "cell_type": "code",
   "execution_count": 118,
   "metadata": {},
   "outputs": [],
   "source": [
    "n = n2"
   ]
  },
  {
   "cell_type": "code",
   "execution_count": 119,
   "metadata": {
    "scrolled": true
   },
   "outputs": [
    {
     "data": {
      "text/plain": [
       "array([[12, 56, 42, 81, 26],\n",
       "       [19, 36, 72, 77, 91],\n",
       "       [ 4, 16, 79, 85, 60],\n",
       "       [75, 57, 59, 12, 37],\n",
       "       [ 5, 28, 25, 85, 23],\n",
       "       [70,  4, 97, 41, 82],\n",
       "       [ 6, 87, 87, 72, 92]])"
      ]
     },
     "metadata": {},
     "output_type": "display_data"
    },
    {
     "data": {
      "text/plain": [
       "array([[12, 56, 42, 81, 26],\n",
       "       [19, 36, 72, 77, 91],\n",
       "       [ 4, 16, 79, 85, 60],\n",
       "       [75, 57, 59, 12, 37],\n",
       "       [ 5, 28, 25, 85, 23],\n",
       "       [70,  4, 97, 41, 82],\n",
       "       [ 6, 87, 87, 72, 92]])"
      ]
     },
     "metadata": {},
     "output_type": "display_data"
    }
   ],
   "source": [
    "display(n, n2)"
   ]
  },
  {
   "cell_type": "code",
   "execution_count": 120,
   "metadata": {},
   "outputs": [],
   "source": [
    "n[0,0] = 88"
   ]
  },
  {
   "cell_type": "code",
   "execution_count": 121,
   "metadata": {
    "scrolled": true
   },
   "outputs": [
    {
     "data": {
      "text/plain": [
       "array([[88, 56, 42, 81, 26],\n",
       "       [19, 36, 72, 77, 91],\n",
       "       [ 4, 16, 79, 85, 60],\n",
       "       [75, 57, 59, 12, 37],\n",
       "       [ 5, 28, 25, 85, 23],\n",
       "       [70,  4, 97, 41, 82],\n",
       "       [ 6, 87, 87, 72, 92]])"
      ]
     },
     "execution_count": 121,
     "metadata": {},
     "output_type": "execute_result"
    }
   ],
   "source": [
    "n"
   ]
  },
  {
   "cell_type": "code",
   "execution_count": 122,
   "metadata": {
    "scrolled": true
   },
   "outputs": [
    {
     "data": {
      "text/plain": [
       "array([[88, 56, 42, 81, 26],\n",
       "       [19, 36, 72, 77, 91],\n",
       "       [ 4, 16, 79, 85, 60],\n",
       "       [75, 57, 59, 12, 37],\n",
       "       [ 5, 28, 25, 85, 23],\n",
       "       [70,  4, 97, 41, 82],\n",
       "       [ 6, 87, 87, 72, 92]])"
      ]
     },
     "execution_count": 122,
     "metadata": {},
     "output_type": "execute_result"
    }
   ],
   "source": [
    "n2"
   ]
  },
  {
   "cell_type": "markdown",
   "metadata": {},
   "source": [
    "可使用copy()函数创建副本"
   ]
  },
  {
   "cell_type": "code",
   "execution_count": 123,
   "metadata": {},
   "outputs": [],
   "source": [
    "# 深拷贝\n",
    "n = n2.copy()"
   ]
  },
  {
   "cell_type": "code",
   "execution_count": 126,
   "metadata": {},
   "outputs": [],
   "source": [
    "n[0,0] =108"
   ]
  },
  {
   "cell_type": "code",
   "execution_count": 127,
   "metadata": {},
   "outputs": [
    {
     "data": {
      "text/plain": [
       "array([[88, 56, 42, 81, 26],\n",
       "       [19, 36, 72, 77, 91],\n",
       "       [ 4, 16, 79, 85, 60],\n",
       "       [75, 57, 59, 12, 37],\n",
       "       [ 5, 28, 25, 85, 23],\n",
       "       [70,  4, 97, 41, 82],\n",
       "       [ 6, 87, 87, 72, 92]])"
      ]
     },
     "execution_count": 127,
     "metadata": {},
     "output_type": "execute_result"
    }
   ],
   "source": [
    "n2"
   ]
  },
  {
   "cell_type": "markdown",
   "metadata": {},
   "source": [
    "## 四、ndarray的聚合操作"
   ]
  },
  {
   "cell_type": "markdown",
   "metadata": {},
   "source": [
    "### 1. 求和np.sum"
   ]
  },
  {
   "cell_type": "code",
   "execution_count": 128,
   "metadata": {
    "scrolled": false
   },
   "outputs": [
    {
     "data": {
      "text/plain": [
       "array([[108,  56,  42,  81,  26],\n",
       "       [ 19,  36,  72,  77,  91],\n",
       "       [  4,  16,  79,  85,  60],\n",
       "       [ 75,  57,  59,  12,  37],\n",
       "       [  5,  28,  25,  85,  23],\n",
       "       [ 70,   4,  97,  41,  82],\n",
       "       [  6,  87,  87,  72,  92]])"
      ]
     },
     "execution_count": 128,
     "metadata": {},
     "output_type": "execute_result"
    }
   ],
   "source": [
    "n"
   ]
  },
  {
   "cell_type": "code",
   "execution_count": 130,
   "metadata": {
    "collapsed": true
   },
   "outputs": [
    {
     "data": {
      "text/plain": [
       "array([[[[49, 10, 76, 15, 27, 69],\n",
       "         [73,  0, 12, 94, 42, 41],\n",
       "         [67, 66, 27, 33, 82, 29]],\n",
       "\n",
       "        [[ 3, 57, 42, 68, 54, 50],\n",
       "         [66,  9, 33, 80, 44, 50],\n",
       "         [51, 87, 46, 80, 97, 73]],\n",
       "\n",
       "        [[77, 25, 15, 15, 36, 11],\n",
       "         [ 8, 95, 29, 88, 95, 43],\n",
       "         [78, 92, 74, 23, 18, 93]],\n",
       "\n",
       "        [[12, 90, 86, 39, 90, 71],\n",
       "         [15, 56, 65, 30, 44, 66],\n",
       "         [47, 22, 24, 12, 17, 52]]],\n",
       "\n",
       "\n",
       "       [[[24, 18,  7, 29, 10, 78],\n",
       "         [17, 17, 34, 27, 79,  6],\n",
       "         [62, 59, 39, 32, 19, 31]],\n",
       "\n",
       "        [[19, 56, 53, 28, 26, 50],\n",
       "         [10, 98, 58, 73, 78, 41],\n",
       "         [73, 84, 43,  5, 52, 59]],\n",
       "\n",
       "        [[ 0, 26, 21, 95, 93, 56],\n",
       "         [89,  4, 24,  8,  5, 90],\n",
       "         [94, 27, 65, 24, 27, 59]],\n",
       "\n",
       "        [[78, 47, 52, 97, 31, 64],\n",
       "         [15,  5, 31, 34, 34, 43],\n",
       "         [12, 24, 59, 78, 86, 69]]],\n",
       "\n",
       "\n",
       "       [[[81, 69,  1, 38, 60,  2],\n",
       "         [96, 49, 78, 26, 67, 43],\n",
       "         [84, 60, 87, 26, 47, 88]],\n",
       "\n",
       "        [[33, 37, 48, 92, 52, 69],\n",
       "         [80, 66, 90,  9, 12, 48],\n",
       "         [80, 65,  1, 33, 15, 37]],\n",
       "\n",
       "        [[31, 61, 97, 72, 54, 85],\n",
       "         [52, 86, 80, 76, 61, 48],\n",
       "         [ 8, 12, 89, 83, 42, 51]],\n",
       "\n",
       "        [[90, 57, 68, 90, 57, 93],\n",
       "         [83, 86, 97, 25,  0, 14],\n",
       "         [ 5, 23, 28,  8, 33, 31]]]])"
      ]
     },
     "execution_count": 130,
     "metadata": {},
     "output_type": "execute_result"
    }
   ],
   "source": [
    "n4"
   ]
  },
  {
   "cell_type": "code",
   "execution_count": 131,
   "metadata": {},
   "outputs": [
    {
     "data": {
      "text/plain": [
       "10560"
      ]
     },
     "execution_count": 131,
     "metadata": {},
     "output_type": "execute_result"
    }
   ],
   "source": [
    "n4.sum()"
   ]
  },
  {
   "cell_type": "code",
   "execution_count": 129,
   "metadata": {},
   "outputs": [
    {
     "data": {
      "text/plain": [
       "1896"
      ]
     },
     "execution_count": 129,
     "metadata": {},
     "output_type": "execute_result"
    }
   ],
   "source": [
    "n.sum()"
   ]
  },
  {
   "cell_type": "code",
   "execution_count": 132,
   "metadata": {},
   "outputs": [
    {
     "data": {
      "text/plain": [
       "array([287, 284, 461, 453, 411])"
      ]
     },
     "execution_count": 132,
     "metadata": {},
     "output_type": "execute_result"
    }
   ],
   "source": [
    "n.sum(axis=0) # 聚合运算axis=0  表示是对列操作"
   ]
  },
  {
   "cell_type": "code",
   "execution_count": 133,
   "metadata": {},
   "outputs": [
    {
     "data": {
      "text/plain": [
       "array([313, 295, 244, 240, 166, 294, 344])"
      ]
     },
     "execution_count": 133,
     "metadata": {},
     "output_type": "execute_result"
    }
   ],
   "source": [
    "n.sum(axis=1) # 聚合运算axis=1,表示对行操作."
   ]
  },
  {
   "cell_type": "code",
   "execution_count": 134,
   "metadata": {},
   "outputs": [
    {
     "data": {
      "text/plain": [
       "array([313, 295, 244, 240, 166, 294, 344])"
      ]
     },
     "execution_count": 134,
     "metadata": {},
     "output_type": "execute_result"
    }
   ],
   "source": [
    "np.sum(n, axis=1)"
   ]
  },
  {
   "cell_type": "markdown",
   "metadata": {},
   "source": [
    "### 2. 最大最小值：np.max/ np.min\n",
    "同理"
   ]
  },
  {
   "cell_type": "code",
   "execution_count": 136,
   "metadata": {},
   "outputs": [
    {
     "data": {
      "text/plain": [
       "array([108,  91,  85,  75,  85,  97,  92])"
      ]
     },
     "execution_count": 136,
     "metadata": {},
     "output_type": "execute_result"
    }
   ],
   "source": [
    "np.max(n, axis=1)"
   ]
  },
  {
   "cell_type": "markdown",
   "metadata": {},
   "source": [
    "### 3. 其他聚合操作\n",
    "    Function Name\tNaN-safe Version\tDescription\n",
    "    np.sum\tnp.nansum\tCompute sum of elements\n",
    "    np.prod\tnp.nanprod\tCompute product of elements\n",
    "    np.mean\tnp.nanmean\tCompute mean of elements\n",
    "    np.std\tnp.nanstd\tCompute standard deviation\n",
    "    np.var\tnp.nanvar\tCompute variance\n",
    "    np.min\tnp.nanmin\tFind minimum value\n",
    "    np.max\tnp.nanmax\tFind maximum value\n",
    "    np.argmin\tnp.nanargmin\tFind index of minimum value\n",
    "    np.argmax\tnp.nanargmax\tFind index of maximum value\n",
    "    np.median\tnp.nanmedian\tCompute median of elements\n",
    "    np.percentile\tnp.nanpercentile\tCompute rank-based statistics of elements\n",
    "    np.any\tN/A\tEvaluate whether any elements are true\n",
    "    np.all\tN/A\tEvaluate whether all elements are true\n",
    "    np.power 幂运算"
   ]
  },
  {
   "cell_type": "code",
   "execution_count": 175,
   "metadata": {
    "scrolled": true
   },
   "outputs": [
    {
     "data": {
      "text/plain": [
       "array([0, 5, 8, 7, 4, 1, 6, 3, 9, 2])"
      ]
     },
     "execution_count": 175,
     "metadata": {},
     "output_type": "execute_result"
    }
   ],
   "source": [
    "n"
   ]
  },
  {
   "cell_type": "code",
   "execution_count": 176,
   "metadata": {},
   "outputs": [
    {
     "data": {
      "text/plain": [
       "0"
      ]
     },
     "execution_count": 176,
     "metadata": {},
     "output_type": "execute_result"
    }
   ],
   "source": [
    "n.argmin()"
   ]
  },
  {
   "cell_type": "code",
   "execution_count": 177,
   "metadata": {},
   "outputs": [
    {
     "data": {
      "text/plain": [
       "8"
      ]
     },
     "execution_count": 177,
     "metadata": {},
     "output_type": "execute_result"
    }
   ],
   "source": [
    "n.argmax()"
   ]
  },
  {
   "cell_type": "markdown",
   "metadata": {},
   "source": [
    "np.sum 和 np.nansum 的区别\n",
    "nan not a number"
   ]
  },
  {
   "cell_type": "markdown",
   "metadata": {},
   "source": [
    "#### 操作文件\n",
    "\n",
    "使用pandas打开文件president_heights.csv\n",
    "获取文件中的数据"
   ]
  },
  {
   "cell_type": "code",
   "execution_count": 137,
   "metadata": {
    "collapsed": true
   },
   "outputs": [
    {
     "name": "stdout",
     "output_type": "stream",
     "text": [
      "Collecting pandas\n",
      "  Downloading https://files.pythonhosted.org/packages/d0/4e/9db3468e504ac9aeadb37eb32bcf0a74d063d24ad1471104bd8a7ba20c97/pandas-0.24.2-cp36-cp36m-win_amd64.whl (8.8MB)\n",
      "Requirement already satisfied: numpy>=1.12.0 in e:\\1901\\.env\\lib\\site-packages (from pandas) (1.16.3)\n",
      "Collecting pytz>=2011k (from pandas)\n",
      "  Using cached https://files.pythonhosted.org/packages/3d/73/fe30c2daaaa0713420d0382b16fbb761409f532c56bdcc514bf7b6262bb6/pytz-2019.1-py2.py3-none-any.whl\n",
      "Requirement already satisfied: python-dateutil>=2.5.0 in e:\\1901\\.env\\lib\\site-packages (from pandas) (2.8.0)\n",
      "Requirement already satisfied: six>=1.5 in e:\\1901\\.env\\lib\\site-packages (from python-dateutil>=2.5.0->pandas) (1.12.0)\n",
      "Installing collected packages: pytz, pandas\n",
      "Successfully installed pandas-0.24.2 pytz-2019.1\n"
     ]
    }
   ],
   "source": [
    "!pip install pandas"
   ]
  },
  {
   "cell_type": "code",
   "execution_count": 138,
   "metadata": {},
   "outputs": [],
   "source": [
    "import pandas as pd"
   ]
  },
  {
   "cell_type": "code",
   "execution_count": 139,
   "metadata": {},
   "outputs": [
    {
     "data": {
      "text/html": [
       "<div>\n",
       "<style scoped>\n",
       "    .dataframe tbody tr th:only-of-type {\n",
       "        vertical-align: middle;\n",
       "    }\n",
       "\n",
       "    .dataframe tbody tr th {\n",
       "        vertical-align: top;\n",
       "    }\n",
       "\n",
       "    .dataframe thead th {\n",
       "        text-align: right;\n",
       "    }\n",
       "</style>\n",
       "<table border=\"1\" class=\"dataframe\">\n",
       "  <thead>\n",
       "    <tr style=\"text-align: right;\">\n",
       "      <th></th>\n",
       "      <th>order</th>\n",
       "      <th>name</th>\n",
       "      <th>height(cm)</th>\n",
       "    </tr>\n",
       "  </thead>\n",
       "  <tbody>\n",
       "    <tr>\n",
       "      <th>0</th>\n",
       "      <td>1</td>\n",
       "      <td>George Washington</td>\n",
       "      <td>189</td>\n",
       "    </tr>\n",
       "    <tr>\n",
       "      <th>1</th>\n",
       "      <td>2</td>\n",
       "      <td>John Adams</td>\n",
       "      <td>170</td>\n",
       "    </tr>\n",
       "    <tr>\n",
       "      <th>2</th>\n",
       "      <td>3</td>\n",
       "      <td>Thomas Jefferson</td>\n",
       "      <td>189</td>\n",
       "    </tr>\n",
       "    <tr>\n",
       "      <th>3</th>\n",
       "      <td>4</td>\n",
       "      <td>James Madison</td>\n",
       "      <td>163</td>\n",
       "    </tr>\n",
       "    <tr>\n",
       "      <th>4</th>\n",
       "      <td>5</td>\n",
       "      <td>James Monroe</td>\n",
       "      <td>183</td>\n",
       "    </tr>\n",
       "    <tr>\n",
       "      <th>5</th>\n",
       "      <td>6</td>\n",
       "      <td>John Quincy Adams</td>\n",
       "      <td>171</td>\n",
       "    </tr>\n",
       "    <tr>\n",
       "      <th>6</th>\n",
       "      <td>7</td>\n",
       "      <td>Andrew Jackson</td>\n",
       "      <td>185</td>\n",
       "    </tr>\n",
       "    <tr>\n",
       "      <th>7</th>\n",
       "      <td>8</td>\n",
       "      <td>Martin Van Buren</td>\n",
       "      <td>168</td>\n",
       "    </tr>\n",
       "    <tr>\n",
       "      <th>8</th>\n",
       "      <td>9</td>\n",
       "      <td>William Henry Harrison</td>\n",
       "      <td>173</td>\n",
       "    </tr>\n",
       "    <tr>\n",
       "      <th>9</th>\n",
       "      <td>10</td>\n",
       "      <td>John Tyler</td>\n",
       "      <td>183</td>\n",
       "    </tr>\n",
       "    <tr>\n",
       "      <th>10</th>\n",
       "      <td>11</td>\n",
       "      <td>James K. Polk</td>\n",
       "      <td>173</td>\n",
       "    </tr>\n",
       "    <tr>\n",
       "      <th>11</th>\n",
       "      <td>12</td>\n",
       "      <td>Zachary Taylor</td>\n",
       "      <td>173</td>\n",
       "    </tr>\n",
       "    <tr>\n",
       "      <th>12</th>\n",
       "      <td>13</td>\n",
       "      <td>Millard Fillmore</td>\n",
       "      <td>175</td>\n",
       "    </tr>\n",
       "    <tr>\n",
       "      <th>13</th>\n",
       "      <td>14</td>\n",
       "      <td>Franklin Pierce</td>\n",
       "      <td>178</td>\n",
       "    </tr>\n",
       "    <tr>\n",
       "      <th>14</th>\n",
       "      <td>15</td>\n",
       "      <td>James Buchanan</td>\n",
       "      <td>183</td>\n",
       "    </tr>\n",
       "    <tr>\n",
       "      <th>15</th>\n",
       "      <td>16</td>\n",
       "      <td>Abraham Lincoln</td>\n",
       "      <td>193</td>\n",
       "    </tr>\n",
       "    <tr>\n",
       "      <th>16</th>\n",
       "      <td>17</td>\n",
       "      <td>Andrew Johnson</td>\n",
       "      <td>178</td>\n",
       "    </tr>\n",
       "    <tr>\n",
       "      <th>17</th>\n",
       "      <td>18</td>\n",
       "      <td>Ulysses S. Grant</td>\n",
       "      <td>173</td>\n",
       "    </tr>\n",
       "    <tr>\n",
       "      <th>18</th>\n",
       "      <td>19</td>\n",
       "      <td>Rutherford B. Hayes</td>\n",
       "      <td>174</td>\n",
       "    </tr>\n",
       "    <tr>\n",
       "      <th>19</th>\n",
       "      <td>20</td>\n",
       "      <td>James A. Garfield</td>\n",
       "      <td>183</td>\n",
       "    </tr>\n",
       "    <tr>\n",
       "      <th>20</th>\n",
       "      <td>21</td>\n",
       "      <td>Chester A. Arthur</td>\n",
       "      <td>183</td>\n",
       "    </tr>\n",
       "    <tr>\n",
       "      <th>21</th>\n",
       "      <td>23</td>\n",
       "      <td>Benjamin Harrison</td>\n",
       "      <td>168</td>\n",
       "    </tr>\n",
       "    <tr>\n",
       "      <th>22</th>\n",
       "      <td>25</td>\n",
       "      <td>William McKinley</td>\n",
       "      <td>170</td>\n",
       "    </tr>\n",
       "    <tr>\n",
       "      <th>23</th>\n",
       "      <td>26</td>\n",
       "      <td>Theodore Roosevelt</td>\n",
       "      <td>178</td>\n",
       "    </tr>\n",
       "    <tr>\n",
       "      <th>24</th>\n",
       "      <td>27</td>\n",
       "      <td>William Howard Taft</td>\n",
       "      <td>182</td>\n",
       "    </tr>\n",
       "    <tr>\n",
       "      <th>25</th>\n",
       "      <td>28</td>\n",
       "      <td>Woodrow Wilson</td>\n",
       "      <td>180</td>\n",
       "    </tr>\n",
       "    <tr>\n",
       "      <th>26</th>\n",
       "      <td>29</td>\n",
       "      <td>Warren G. Harding</td>\n",
       "      <td>183</td>\n",
       "    </tr>\n",
       "    <tr>\n",
       "      <th>27</th>\n",
       "      <td>30</td>\n",
       "      <td>Calvin Coolidge</td>\n",
       "      <td>178</td>\n",
       "    </tr>\n",
       "    <tr>\n",
       "      <th>28</th>\n",
       "      <td>31</td>\n",
       "      <td>Herbert Hoover</td>\n",
       "      <td>182</td>\n",
       "    </tr>\n",
       "    <tr>\n",
       "      <th>29</th>\n",
       "      <td>32</td>\n",
       "      <td>Franklin D. Roosevelt</td>\n",
       "      <td>188</td>\n",
       "    </tr>\n",
       "    <tr>\n",
       "      <th>30</th>\n",
       "      <td>33</td>\n",
       "      <td>Harry S. Truman</td>\n",
       "      <td>175</td>\n",
       "    </tr>\n",
       "    <tr>\n",
       "      <th>31</th>\n",
       "      <td>34</td>\n",
       "      <td>Dwight D. Eisenhower</td>\n",
       "      <td>179</td>\n",
       "    </tr>\n",
       "    <tr>\n",
       "      <th>32</th>\n",
       "      <td>35</td>\n",
       "      <td>John F. Kennedy</td>\n",
       "      <td>183</td>\n",
       "    </tr>\n",
       "    <tr>\n",
       "      <th>33</th>\n",
       "      <td>36</td>\n",
       "      <td>Lyndon B. Johnson</td>\n",
       "      <td>193</td>\n",
       "    </tr>\n",
       "    <tr>\n",
       "      <th>34</th>\n",
       "      <td>37</td>\n",
       "      <td>Richard Nixon</td>\n",
       "      <td>182</td>\n",
       "    </tr>\n",
       "    <tr>\n",
       "      <th>35</th>\n",
       "      <td>38</td>\n",
       "      <td>Gerald Ford</td>\n",
       "      <td>183</td>\n",
       "    </tr>\n",
       "    <tr>\n",
       "      <th>36</th>\n",
       "      <td>39</td>\n",
       "      <td>Jimmy Carter</td>\n",
       "      <td>177</td>\n",
       "    </tr>\n",
       "    <tr>\n",
       "      <th>37</th>\n",
       "      <td>40</td>\n",
       "      <td>Ronald Reagan</td>\n",
       "      <td>185</td>\n",
       "    </tr>\n",
       "    <tr>\n",
       "      <th>38</th>\n",
       "      <td>41</td>\n",
       "      <td>George H. W. Bush</td>\n",
       "      <td>188</td>\n",
       "    </tr>\n",
       "    <tr>\n",
       "      <th>39</th>\n",
       "      <td>42</td>\n",
       "      <td>Bill Clinton</td>\n",
       "      <td>188</td>\n",
       "    </tr>\n",
       "    <tr>\n",
       "      <th>40</th>\n",
       "      <td>43</td>\n",
       "      <td>George W. Bush</td>\n",
       "      <td>182</td>\n",
       "    </tr>\n",
       "    <tr>\n",
       "      <th>41</th>\n",
       "      <td>44</td>\n",
       "      <td>Barack Obama</td>\n",
       "      <td>185</td>\n",
       "    </tr>\n",
       "  </tbody>\n",
       "</table>\n",
       "</div>"
      ],
      "text/plain": [
       "    order                    name  height(cm)\n",
       "0       1       George Washington         189\n",
       "1       2              John Adams         170\n",
       "2       3        Thomas Jefferson         189\n",
       "3       4           James Madison         163\n",
       "4       5            James Monroe         183\n",
       "5       6       John Quincy Adams         171\n",
       "6       7          Andrew Jackson         185\n",
       "7       8        Martin Van Buren         168\n",
       "8       9  William Henry Harrison         173\n",
       "9      10              John Tyler         183\n",
       "10     11           James K. Polk         173\n",
       "11     12          Zachary Taylor         173\n",
       "12     13        Millard Fillmore         175\n",
       "13     14         Franklin Pierce         178\n",
       "14     15          James Buchanan         183\n",
       "15     16         Abraham Lincoln         193\n",
       "16     17          Andrew Johnson         178\n",
       "17     18        Ulysses S. Grant         173\n",
       "18     19     Rutherford B. Hayes         174\n",
       "19     20       James A. Garfield         183\n",
       "20     21       Chester A. Arthur         183\n",
       "21     23       Benjamin Harrison         168\n",
       "22     25        William McKinley         170\n",
       "23     26      Theodore Roosevelt         178\n",
       "24     27     William Howard Taft         182\n",
       "25     28          Woodrow Wilson         180\n",
       "26     29       Warren G. Harding         183\n",
       "27     30         Calvin Coolidge         178\n",
       "28     31          Herbert Hoover         182\n",
       "29     32   Franklin D. Roosevelt         188\n",
       "30     33         Harry S. Truman         175\n",
       "31     34    Dwight D. Eisenhower         179\n",
       "32     35         John F. Kennedy         183\n",
       "33     36       Lyndon B. Johnson         193\n",
       "34     37           Richard Nixon         182\n",
       "35     38             Gerald Ford         183\n",
       "36     39            Jimmy Carter         177\n",
       "37     40           Ronald Reagan         185\n",
       "38     41       George H. W. Bush         188\n",
       "39     42            Bill Clinton         188\n",
       "40     43          George W. Bush         182\n",
       "41     44            Barack Obama         185"
      ]
     },
     "execution_count": 139,
     "metadata": {},
     "output_type": "execute_result"
    }
   ],
   "source": [
    "heights = pd.read_csv('./president_heights.csv')\n",
    "heights"
   ]
  },
  {
   "cell_type": "code",
   "execution_count": 142,
   "metadata": {},
   "outputs": [],
   "source": [
    "data = heights['height(cm)'].values.copy()"
   ]
  },
  {
   "cell_type": "code",
   "execution_count": 143,
   "metadata": {
    "scrolled": true
   },
   "outputs": [
    {
     "data": {
      "text/plain": [
       "array([189, 170, 189, 163, 183, 171, 185, 168, 173, 183, 173, 173, 175,\n",
       "       178, 183, 193, 178, 173, 174, 183, 183, 168, 170, 178, 182, 180,\n",
       "       183, 178, 182, 188, 175, 179, 183, 193, 182, 183, 177, 185, 188,\n",
       "       188, 182, 185], dtype=int64)"
      ]
     },
     "execution_count": 143,
     "metadata": {},
     "output_type": "execute_result"
    }
   ],
   "source": [
    "data"
   ]
  },
  {
   "cell_type": "code",
   "execution_count": 144,
   "metadata": {},
   "outputs": [
    {
     "data": {
      "text/plain": [
       "179.73809523809524"
      ]
     },
     "execution_count": 144,
     "metadata": {},
     "output_type": "execute_result"
    }
   ],
   "source": [
    "# 平均身高\n",
    "data.mean()"
   ]
  },
  {
   "cell_type": "code",
   "execution_count": 145,
   "metadata": {},
   "outputs": [
    {
     "data": {
      "text/plain": [
       "193"
      ]
     },
     "execution_count": 145,
     "metadata": {},
     "output_type": "execute_result"
    }
   ],
   "source": [
    "#  最高身高\n",
    "data.max()"
   ]
  },
  {
   "cell_type": "code",
   "execution_count": 146,
   "metadata": {},
   "outputs": [
    {
     "data": {
      "text/plain": [
       "163"
      ]
     },
     "execution_count": 146,
     "metadata": {},
     "output_type": "execute_result"
    }
   ],
   "source": [
    "data.min()"
   ]
  },
  {
   "cell_type": "markdown",
   "metadata": {},
   "source": [
    "## 五、ndarray的矩阵操作"
   ]
  },
  {
   "cell_type": "markdown",
   "metadata": {},
   "source": [
    "### 1. 基本矩阵操作"
   ]
  },
  {
   "cell_type": "markdown",
   "metadata": {},
   "source": [
    "1) 算术运算符：\n",
    "- 加减乘除"
   ]
  },
  {
   "cell_type": "code",
   "execution_count": 148,
   "metadata": {
    "scrolled": true
   },
   "outputs": [
    {
     "data": {
      "text/plain": [
       "array([[109,  57,  43,  82,  27],\n",
       "       [ 20,  37,  73,  78,  92],\n",
       "       [  5,  17,  80,  86,  61],\n",
       "       [ 76,  58,  60,  13,  38],\n",
       "       [  6,  29,  26,  86,  24],\n",
       "       [ 71,   5,  98,  42,  83],\n",
       "       [  7,  88,  88,  73,  93]])"
      ]
     },
     "execution_count": 148,
     "metadata": {},
     "output_type": "execute_result"
    }
   ],
   "source": [
    "n + 1 # ndarray和普通单个数字运算,是各个元素分别运算."
   ]
  },
  {
   "cell_type": "code",
   "execution_count": null,
   "metadata": {},
   "outputs": [],
   "source": [
    "矩阵和矩阵运算,要求行列要完全相同."
   ]
  },
  {
   "cell_type": "code",
   "execution_count": 155,
   "metadata": {
    "scrolled": false
   },
   "outputs": [
    {
     "ename": "ValueError",
     "evalue": "operands could not be broadcast together with shapes (3,4) (4,6) ",
     "output_type": "error",
     "traceback": [
      "\u001b[1;31m---------------------------------------------------------------------------\u001b[0m",
      "\u001b[1;31mValueError\u001b[0m                                Traceback (most recent call last)",
      "\u001b[1;32m<ipython-input-155-7fb1059652d4>\u001b[0m in \u001b[0;36m<module>\u001b[1;34m\u001b[0m\n\u001b[1;32m----> 1\u001b[1;33m \u001b[0mn1\u001b[0m \u001b[1;33m+\u001b[0m \u001b[0mn2\u001b[0m\u001b[1;33m\u001b[0m\u001b[0m\n\u001b[0m",
      "\u001b[1;31mValueError\u001b[0m: operands could not be broadcast together with shapes (3,4) (4,6) "
     ]
    }
   ],
   "source": [
    "n1 + n2"
   ]
  },
  {
   "cell_type": "code",
   "execution_count": 159,
   "metadata": {},
   "outputs": [
    {
     "data": {
      "text/plain": [
       "array([[6, 1, 5, 8],\n",
       "       [8, 4, 8, 1],\n",
       "       [9, 5, 4, 0]])"
      ]
     },
     "metadata": {},
     "output_type": "display_data"
    },
    {
     "data": {
      "text/plain": [
       "array([[0, 6, 3, 5, 4, 0],\n",
       "       [5, 4, 6, 7, 8, 8],\n",
       "       [4, 9, 7, 3, 7, 2],\n",
       "       [3, 4, 6, 4, 8, 5]])"
      ]
     },
     "metadata": {},
     "output_type": "display_data"
    }
   ],
   "source": [
    "display(n1, n2)"
   ]
  },
  {
   "cell_type": "code",
   "execution_count": 156,
   "metadata": {},
   "outputs": [],
   "source": [
    "n3 = n1.copy()"
   ]
  },
  {
   "cell_type": "code",
   "execution_count": 157,
   "metadata": {
    "scrolled": true
   },
   "outputs": [
    {
     "data": {
      "text/plain": [
       "array([[12,  2, 10, 16],\n",
       "       [16,  8, 16,  2],\n",
       "       [18, 10,  8,  0]])"
      ]
     },
     "execution_count": 157,
     "metadata": {},
     "output_type": "execute_result"
    }
   ],
   "source": [
    "n1 + n3"
   ]
  },
  {
   "cell_type": "code",
   "execution_count": null,
   "metadata": {},
   "outputs": [],
   "source": [
    "普通的矩阵之间的数学运算,是对应的元素分别进行数学运算,这就要求矩阵的行列需要完全一致."
   ]
  },
  {
   "cell_type": "markdown",
   "metadata": {},
   "source": [
    "2) 矩阵积np.dot()"
   ]
  },
  {
   "cell_type": "code",
   "execution_count": 149,
   "metadata": {
    "scrolled": true
   },
   "outputs": [
    {
     "data": {
      "text/plain": [
       "array([[ 49, 117, 107,  84, 131,  58],\n",
       "       [ 55, 140, 110,  96, 128,  53],\n",
       "       [ 41, 110,  85,  92, 104,  48]])"
      ]
     },
     "execution_count": 149,
     "metadata": {},
     "output_type": "execute_result"
    }
   ],
   "source": [
    "n1 = np.random.randint(0,10, size=(3,4))\n",
    "n2 = np.random.randint(0,10, size=(4, 6))\n",
    "np.dot(n1,  n2)"
   ]
  },
  {
   "cell_type": "code",
   "execution_count": null,
   "metadata": {},
   "outputs": [],
   "source": [
    "矩阵的乘法,没有交换律 A.B != B.A"
   ]
  },
  {
   "cell_type": "code",
   "execution_count": 150,
   "metadata": {
    "collapsed": true
   },
   "outputs": [
    {
     "ename": "ValueError",
     "evalue": "shapes (4,6) and (3,4) not aligned: 6 (dim 1) != 3 (dim 0)",
     "output_type": "error",
     "traceback": [
      "\u001b[1;31m---------------------------------------------------------------------------\u001b[0m",
      "\u001b[1;31mValueError\u001b[0m                                Traceback (most recent call last)",
      "\u001b[1;32m<ipython-input-150-d995686fc818>\u001b[0m in \u001b[0;36m<module>\u001b[1;34m\u001b[0m\n\u001b[1;32m----> 1\u001b[1;33m \u001b[0mnp\u001b[0m\u001b[1;33m.\u001b[0m\u001b[0mdot\u001b[0m\u001b[1;33m(\u001b[0m\u001b[0mn2\u001b[0m\u001b[1;33m,\u001b[0m \u001b[0mn1\u001b[0m\u001b[1;33m)\u001b[0m\u001b[1;33m\u001b[0m\u001b[0m\n\u001b[0m",
      "\u001b[1;31mValueError\u001b[0m: shapes (4,6) and (3,4) not aligned: 6 (dim 1) != 3 (dim 0)"
     ]
    }
   ],
   "source": [
    "np.dot(n2, n1)"
   ]
  },
  {
   "cell_type": "markdown",
   "metadata": {},
   "source": [
    "### 2. 广播机制"
   ]
  },
  {
   "cell_type": "markdown",
   "metadata": {},
   "source": [
    "【重要】ndarray广播机制的两条规则\n",
    "- 规则一：为缺失的维度补1\n",
    "- 规则二：假定缺失元素用已有值填充\n",
    "\n",
    "\n",
    "例1：\n",
    "m = np.ones((2, 3))\n",
    "a = np.arange(3)\n",
    "求m+a"
   ]
  },
  {
   "cell_type": "code",
   "execution_count": 152,
   "metadata": {},
   "outputs": [
    {
     "data": {
      "text/plain": [
       "array([[1., 1., 1.],\n",
       "       [1., 1., 1.]])"
      ]
     },
     "execution_count": 152,
     "metadata": {},
     "output_type": "execute_result"
    }
   ],
   "source": [
    "m = np.ones((2,3))\n",
    "m"
   ]
  },
  {
   "cell_type": "code",
   "execution_count": 153,
   "metadata": {},
   "outputs": [],
   "source": [
    "a  = np.arange(3)"
   ]
  },
  {
   "cell_type": "code",
   "execution_count": 154,
   "metadata": {
    "scrolled": true
   },
   "outputs": [
    {
     "data": {
      "text/plain": [
       "array([0, 1, 2])"
      ]
     },
     "execution_count": 154,
     "metadata": {},
     "output_type": "execute_result"
    }
   ],
   "source": [
    "a"
   ]
  },
  {
   "cell_type": "code",
   "execution_count": 158,
   "metadata": {
    "scrolled": true
   },
   "outputs": [
    {
     "data": {
      "text/plain": [
       "array([[1., 2., 3.],\n",
       "       [1., 2., 3.]])"
      ]
     },
     "execution_count": 158,
     "metadata": {},
     "output_type": "execute_result"
    }
   ],
   "source": [
    "m + a"
   ]
  },
  {
   "cell_type": "code",
   "execution_count": null,
   "metadata": {},
   "outputs": [],
   "source": [
    "a -> [[0, 1, 2], [0, 1, 2]]"
   ]
  },
  {
   "cell_type": "markdown",
   "metadata": {},
   "source": [
    "例2：\n",
    "a = np.arange(3).reshape((3, 1))\n",
    "b = np.arange(3)\n",
    "求a+b"
   ]
  },
  {
   "cell_type": "code",
   "execution_count": 160,
   "metadata": {
    "scrolled": true
   },
   "outputs": [
    {
     "data": {
      "text/plain": [
       "array([[0],\n",
       "       [1],\n",
       "       [2]])"
      ]
     },
     "execution_count": 160,
     "metadata": {},
     "output_type": "execute_result"
    }
   ],
   "source": [
    "a = np.arange(3).reshape(3,1)\n",
    "a"
   ]
  },
  {
   "cell_type": "code",
   "execution_count": 161,
   "metadata": {},
   "outputs": [
    {
     "data": {
      "text/plain": [
       "array([0, 1, 2])"
      ]
     },
     "execution_count": 161,
     "metadata": {},
     "output_type": "execute_result"
    }
   ],
   "source": [
    "b = np.arange(3)\n",
    "b"
   ]
  },
  {
   "cell_type": "code",
   "execution_count": 162,
   "metadata": {},
   "outputs": [
    {
     "data": {
      "text/plain": [
       "array([[0, 1, 2],\n",
       "       [1, 2, 3],\n",
       "       [2, 3, 4]])"
      ]
     },
     "execution_count": 162,
     "metadata": {},
     "output_type": "execute_result"
    }
   ],
   "source": [
    "a + b"
   ]
  },
  {
   "cell_type": "markdown",
   "metadata": {},
   "source": [
    "习题\n",
    "a = np.ones((4, 1))\n",
    "b = np.arange(4)\n",
    "求a+b"
   ]
  },
  {
   "cell_type": "code",
   "execution_count": 163,
   "metadata": {
    "scrolled": true
   },
   "outputs": [
    {
     "data": {
      "text/plain": [
       "array([[1.],\n",
       "       [1.],\n",
       "       [1.],\n",
       "       [1.]])"
      ]
     },
     "execution_count": 163,
     "metadata": {},
     "output_type": "execute_result"
    }
   ],
   "source": [
    "a = np.ones((4,1))\n",
    "a"
   ]
  },
  {
   "cell_type": "code",
   "execution_count": 164,
   "metadata": {},
   "outputs": [
    {
     "data": {
      "text/plain": [
       "array([0, 1, 2, 3])"
      ]
     },
     "execution_count": 164,
     "metadata": {},
     "output_type": "execute_result"
    }
   ],
   "source": [
    "b = np.arange(4)\n",
    "b"
   ]
  },
  {
   "cell_type": "code",
   "execution_count": 165,
   "metadata": {
    "scrolled": true
   },
   "outputs": [
    {
     "data": {
      "text/plain": [
       "array([[1., 2., 3., 4.],\n",
       "       [1., 2., 3., 4.],\n",
       "       [1., 2., 3., 4.],\n",
       "       [1., 2., 3., 4.]])"
      ]
     },
     "execution_count": 165,
     "metadata": {},
     "output_type": "execute_result"
    }
   ],
   "source": [
    "a + b"
   ]
  },
  {
   "cell_type": "markdown",
   "metadata": {
    "collapsed": true
   },
   "source": [
    "## 六、ndarray的排序"
   ]
  },
  {
   "cell_type": "markdown",
   "metadata": {},
   "source": [
    "小测验：\n",
    "使用以上所学numpy的知识，对一个ndarray对象进行选择排序。  \n",
    "\n",
    "def Sortn(x):  \n",
    "\n",
    "代码越短越好"
   ]
  },
  {
   "cell_type": "code",
   "execution_count": 178,
   "metadata": {},
   "outputs": [],
   "source": [
    "def select(arr):\n",
    "    for i in range(len(arr)  -1):\n",
    "        # 从剩下的ndarray中选出最小值的索引.\n",
    "        index = np.argmin(arr[i:]) + i\n",
    "        if arr[i] > arr[index]:\n",
    "            # 交换位置\n",
    "            arr[i], arr[index] = arr[index], arr[i]\n",
    "    return arr"
   ]
  },
  {
   "cell_type": "code",
   "execution_count": 179,
   "metadata": {},
   "outputs": [
    {
     "data": {
      "text/plain": [
       "array([0, 1, 2, 3, 4, 5, 6, 7, 8, 9])"
      ]
     },
     "execution_count": 179,
     "metadata": {},
     "output_type": "execute_result"
    }
   ],
   "source": [
    "select(n)"
   ]
  },
  {
   "cell_type": "markdown",
   "metadata": {
    "collapsed": true
   },
   "source": [
    "### 1. 快速排序\n",
    "np.sort()与ndarray.sort()都可以，但有区别：\n",
    "- np.sort()不改变输入\n",
    "- ndarray.sort()本地处理，不占用空间，但改变输入"
   ]
  },
  {
   "cell_type": "code",
   "execution_count": null,
   "metadata": {},
   "outputs": [],
   "source": [
    "# 排序只对1维的数据有意义."
   ]
  },
  {
   "cell_type": "code",
   "execution_count": 166,
   "metadata": {},
   "outputs": [],
   "source": [
    "n = np.arange(0, 10)"
   ]
  },
  {
   "cell_type": "code",
   "execution_count": 174,
   "metadata": {},
   "outputs": [],
   "source": [
    "np.random.shuffle(n)"
   ]
  },
  {
   "cell_type": "code",
   "execution_count": 168,
   "metadata": {
    "scrolled": true
   },
   "outputs": [
    {
     "data": {
      "text/plain": [
       "array([3, 2, 0, 1, 4, 8, 6, 7, 5, 9])"
      ]
     },
     "execution_count": 168,
     "metadata": {},
     "output_type": "execute_result"
    }
   ],
   "source": [
    "n"
   ]
  },
  {
   "cell_type": "code",
   "execution_count": 169,
   "metadata": {},
   "outputs": [
    {
     "data": {
      "text/plain": [
       "array([0, 1, 2, 3, 4, 5, 6, 7, 8, 9])"
      ]
     },
     "execution_count": 169,
     "metadata": {},
     "output_type": "execute_result"
    }
   ],
   "source": [
    "# 第一种np.sort()\n",
    "np.sort(n)"
   ]
  },
  {
   "cell_type": "code",
   "execution_count": 170,
   "metadata": {
    "scrolled": true
   },
   "outputs": [
    {
     "data": {
      "text/plain": [
       "array([3, 2, 0, 1, 4, 8, 6, 7, 5, 9])"
      ]
     },
     "execution_count": 170,
     "metadata": {},
     "output_type": "execute_result"
    }
   ],
   "source": [
    "n"
   ]
  },
  {
   "cell_type": "code",
   "execution_count": 171,
   "metadata": {},
   "outputs": [],
   "source": [
    "# 对象的sort方法\n",
    "n.sort()"
   ]
  },
  {
   "cell_type": "code",
   "execution_count": 172,
   "metadata": {
    "scrolled": true
   },
   "outputs": [
    {
     "data": {
      "text/plain": [
       "array([0, 1, 2, 3, 4, 5, 6, 7, 8, 9])"
      ]
     },
     "execution_count": 172,
     "metadata": {},
     "output_type": "execute_result"
    }
   ],
   "source": [
    "n"
   ]
  },
  {
   "cell_type": "markdown",
   "metadata": {},
   "source": [
    "### 部分排序"
   ]
  },
  {
   "cell_type": "code",
   "execution_count": 180,
   "metadata": {
    "scrolled": true
   },
   "outputs": [
    {
     "data": {
      "text/plain": [
       "array([62, 37,  0, 91, 40, 67,  4, 48, 49, 99, 38,  6,  8,  5, 36, 65, 98,\n",
       "       88, 54, 41, 28, 20, 60, 66, 87, 72, 32, 93, 33, 42,  3, 24, 95, 55,\n",
       "       84, 25, 14, 10, 21, 90, 18, 11, 61, 96,  7, 12, 56, 16, 76, 35, 63,\n",
       "       34, 31, 73, 58, 39, 46, 19, 43, 81, 86,  2, 44, 52, 77, 82, 17, 13,\n",
       "       15, 29, 53, 89, 51, 85, 70, 79, 26, 45, 71, 80, 57, 94, 83, 23, 75,\n",
       "        9, 68, 22, 59, 50, 47, 97,  1, 69, 30, 78, 64, 92, 27, 74])"
      ]
     },
     "execution_count": 180,
     "metadata": {},
     "output_type": "execute_result"
    }
   ],
   "source": [
    "n = np.arange(0,100)\n",
    "np.random.shuffle(n)\n",
    "n"
   ]
  },
  {
   "cell_type": "code",
   "execution_count": 181,
   "metadata": {
    "scrolled": true
   },
   "outputs": [
    {
     "data": {
      "text/plain": [
       "array([44, 35,  0, 27, 40, 30,  4, 48, 49,  1, 38,  6,  8,  5, 36, 47, 50,\n",
       "       59, 54, 41, 28, 20, 60, 22,  9, 23, 32, 57, 33, 42,  3, 24, 45, 55,\n",
       "       26, 25, 14, 10, 21, 51, 18, 11, 61, 53,  7, 12, 56, 16, 29, 37, 15,\n",
       "       34, 31, 13, 58, 39, 46, 19, 43, 17, 52,  2, 62, 68, 74, 82, 81, 73,\n",
       "       63, 76, 64, 78, 67, 85, 70, 79, 84, 69, 71, 80, 65, 77, 83, 72, 75,\n",
       "       66, 86, 90, 87, 91, 93, 92, 89, 88, 94, 95, 96, 97, 98, 99])"
      ]
     },
     "execution_count": 181,
     "metadata": {},
     "output_type": "execute_result"
    }
   ],
   "source": [
    "# 找出前五个最大的数\n",
    "np.partition(n, kth=-5)"
   ]
  },
  {
   "cell_type": "code",
   "execution_count": 182,
   "metadata": {},
   "outputs": [
    {
     "data": {
      "text/plain": [
       "array([ 1,  2,  0,  3,  4,  5,  6,  7,  8,  9, 10, 11, 12, 38, 36, 19, 39,\n",
       "       13, 31, 41, 28, 20, 34, 40, 27, 23, 32, 15, 33, 42, 35, 24, 30, 37,\n",
       "       26, 25, 14, 43, 21, 29, 18, 17, 16, 22, 44, 53, 56, 61, 51, 55, 57,\n",
       "       60, 54, 59, 58, 50, 46, 47, 49, 48, 52, 45, 62, 86, 77, 82, 81, 73,\n",
       "       63, 76, 96, 89, 90, 85, 70, 79, 84, 95, 71, 80, 93, 94, 83, 72, 75,\n",
       "       87, 68, 66, 88, 98, 65, 97, 99, 69, 67, 78, 64, 92, 91, 74])"
      ]
     },
     "execution_count": 182,
     "metadata": {},
     "output_type": "execute_result"
    }
   ],
   "source": [
    "# 找出最小的五个数\n",
    "np.partition(n, kth=5)"
   ]
  },
  {
   "cell_type": "markdown",
   "metadata": {},
   "source": [
    "### 第一题: 创建一个长度为10的一维全为0的ndarray对象，然后让第5个元素等于1"
   ]
  },
  {
   "cell_type": "code",
   "execution_count": null,
   "metadata": {},
   "outputs": [],
   "source": []
  }
 ],
 "metadata": {
  "kernelspec": {
   "display_name": "Python 3",
   "language": "python",
   "name": "python3"
  },
  "language_info": {
   "codemirror_mode": {
    "name": "ipython",
    "version": 3
   },
   "file_extension": ".py",
   "mimetype": "text/x-python",
   "name": "python",
   "nbconvert_exporter": "python",
   "pygments_lexer": "ipython3",
   "version": "3.6.3"
  }
 },
 "nbformat": 4,
 "nbformat_minor": 1
}
