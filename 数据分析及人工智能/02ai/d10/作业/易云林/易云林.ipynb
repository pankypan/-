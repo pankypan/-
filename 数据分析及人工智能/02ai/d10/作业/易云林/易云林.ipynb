{
 "cells": [
  {
   "cell_type": "markdown",
   "metadata": {},
   "source": [
    "# 城市气候与海洋的关系研究"
   ]
  },
  {
   "cell_type": "markdown",
   "metadata": {},
   "source": [
    "导入包"
   ]
  },
  {
   "cell_type": "code",
   "execution_count": 1,
   "metadata": {},
   "outputs": [],
   "source": [
    "import numpy as np\n",
    "import pandas as pd\n",
    "import matplotlib.pyplot as plt\n",
    "\n",
    "%matplotlib inline"
   ]
  },
  {
   "cell_type": "markdown",
   "metadata": {},
   "source": [
    "导入数据各个海滨城市数据"
   ]
  },
  {
   "cell_type": "code",
   "execution_count": 2,
   "metadata": {},
   "outputs": [
    {
     "data": {
      "text/html": [
       "<div>\n",
       "<style scoped>\n",
       "    .dataframe tbody tr th:only-of-type {\n",
       "        vertical-align: middle;\n",
       "    }\n",
       "\n",
       "    .dataframe tbody tr th {\n",
       "        vertical-align: top;\n",
       "    }\n",
       "\n",
       "    .dataframe thead th {\n",
       "        text-align: right;\n",
       "    }\n",
       "</style>\n",
       "<table border=\"1\" class=\"dataframe\">\n",
       "  <thead>\n",
       "    <tr style=\"text-align: right;\">\n",
       "      <th></th>\n",
       "      <th>temp</th>\n",
       "      <th>humidity</th>\n",
       "      <th>pressure</th>\n",
       "      <th>description</th>\n",
       "      <th>dt</th>\n",
       "      <th>wind_speed</th>\n",
       "      <th>wind_deg</th>\n",
       "      <th>city</th>\n",
       "      <th>day</th>\n",
       "      <th>dist</th>\n",
       "    </tr>\n",
       "  </thead>\n",
       "  <tbody>\n",
       "    <tr>\n",
       "      <th>0</th>\n",
       "      <td>28.79</td>\n",
       "      <td>54</td>\n",
       "      <td>1012</td>\n",
       "      <td>Sky is Clear</td>\n",
       "      <td>1437730850</td>\n",
       "      <td>3.10</td>\n",
       "      <td>70</td>\n",
       "      <td>Asti</td>\n",
       "      <td>2015-07-24 11:40:50</td>\n",
       "      <td>315</td>\n",
       "    </tr>\n",
       "    <tr>\n",
       "      <th>1</th>\n",
       "      <td>30.02</td>\n",
       "      <td>58</td>\n",
       "      <td>1012</td>\n",
       "      <td>Sky is Clear</td>\n",
       "      <td>1437734493</td>\n",
       "      <td>3.10</td>\n",
       "      <td>70</td>\n",
       "      <td>Asti</td>\n",
       "      <td>2015-07-24 12:41:33</td>\n",
       "      <td>315</td>\n",
       "    </tr>\n",
       "    <tr>\n",
       "      <th>2</th>\n",
       "      <td>30.79</td>\n",
       "      <td>49</td>\n",
       "      <td>1007</td>\n",
       "      <td>light rain</td>\n",
       "      <td>1437738045</td>\n",
       "      <td>2.06</td>\n",
       "      <td>24</td>\n",
       "      <td>Asti</td>\n",
       "      <td>2015-07-24 13:40:45</td>\n",
       "      <td>315</td>\n",
       "    </tr>\n",
       "    <tr>\n",
       "      <th>3</th>\n",
       "      <td>32.02</td>\n",
       "      <td>51</td>\n",
       "      <td>1011</td>\n",
       "      <td>few clouds</td>\n",
       "      <td>1437741579</td>\n",
       "      <td>4.10</td>\n",
       "      <td>10</td>\n",
       "      <td>Asti</td>\n",
       "      <td>2015-07-24 14:39:39</td>\n",
       "      <td>315</td>\n",
       "    </tr>\n",
       "    <tr>\n",
       "      <th>4</th>\n",
       "      <td>30.93</td>\n",
       "      <td>51</td>\n",
       "      <td>1011</td>\n",
       "      <td>few clouds</td>\n",
       "      <td>1437745188</td>\n",
       "      <td>2.60</td>\n",
       "      <td>120</td>\n",
       "      <td>Asti</td>\n",
       "      <td>2015-07-24 15:39:48</td>\n",
       "      <td>315</td>\n",
       "    </tr>\n",
       "    <tr>\n",
       "      <th>5</th>\n",
       "      <td>29.12</td>\n",
       "      <td>48</td>\n",
       "      <td>1009</td>\n",
       "      <td>light rain</td>\n",
       "      <td>1437748777</td>\n",
       "      <td>2.10</td>\n",
       "      <td>0</td>\n",
       "      <td>Asti</td>\n",
       "      <td>2015-07-24 16:39:37</td>\n",
       "      <td>315</td>\n",
       "    </tr>\n",
       "    <tr>\n",
       "      <th>6</th>\n",
       "      <td>29.10</td>\n",
       "      <td>58</td>\n",
       "      <td>1009</td>\n",
       "      <td>heavy intensity rain</td>\n",
       "      <td>1437752543</td>\n",
       "      <td>5.70</td>\n",
       "      <td>170</td>\n",
       "      <td>Asti</td>\n",
       "      <td>2015-07-24 17:42:23</td>\n",
       "      <td>315</td>\n",
       "    </tr>\n",
       "    <tr>\n",
       "      <th>7</th>\n",
       "      <td>29.04</td>\n",
       "      <td>54</td>\n",
       "      <td>1008</td>\n",
       "      <td>broken clouds</td>\n",
       "      <td>1437756041</td>\n",
       "      <td>1.00</td>\n",
       "      <td>0</td>\n",
       "      <td>Asti</td>\n",
       "      <td>2015-07-24 18:40:41</td>\n",
       "      <td>315</td>\n",
       "    </tr>\n",
       "    <tr>\n",
       "      <th>8</th>\n",
       "      <td>27.89</td>\n",
       "      <td>65</td>\n",
       "      <td>1008</td>\n",
       "      <td>scattered clouds</td>\n",
       "      <td>1437759569</td>\n",
       "      <td>1.00</td>\n",
       "      <td>0</td>\n",
       "      <td>Asti</td>\n",
       "      <td>2015-07-24 19:39:29</td>\n",
       "      <td>315</td>\n",
       "    </tr>\n",
       "    <tr>\n",
       "      <th>9</th>\n",
       "      <td>26.87</td>\n",
       "      <td>61</td>\n",
       "      <td>1008</td>\n",
       "      <td>Sky is Clear</td>\n",
       "      <td>1437763243</td>\n",
       "      <td>1.00</td>\n",
       "      <td>180</td>\n",
       "      <td>Asti</td>\n",
       "      <td>2015-07-24 20:40:43</td>\n",
       "      <td>315</td>\n",
       "    </tr>\n",
       "    <tr>\n",
       "      <th>10</th>\n",
       "      <td>26.53</td>\n",
       "      <td>61</td>\n",
       "      <td>1009</td>\n",
       "      <td>scattered clouds</td>\n",
       "      <td>1437766818</td>\n",
       "      <td>2.60</td>\n",
       "      <td>270</td>\n",
       "      <td>Asti</td>\n",
       "      <td>2015-07-24 21:40:18</td>\n",
       "      <td>315</td>\n",
       "    </tr>\n",
       "    <tr>\n",
       "      <th>11</th>\n",
       "      <td>26.29</td>\n",
       "      <td>57</td>\n",
       "      <td>1009</td>\n",
       "      <td>light rain</td>\n",
       "      <td>1437770378</td>\n",
       "      <td>3.60</td>\n",
       "      <td>300</td>\n",
       "      <td>Asti</td>\n",
       "      <td>2015-07-24 22:39:38</td>\n",
       "      <td>315</td>\n",
       "    </tr>\n",
       "    <tr>\n",
       "      <th>12</th>\n",
       "      <td>24.77</td>\n",
       "      <td>57</td>\n",
       "      <td>1009</td>\n",
       "      <td>few clouds</td>\n",
       "      <td>1437774026</td>\n",
       "      <td>2.10</td>\n",
       "      <td>0</td>\n",
       "      <td>Asti</td>\n",
       "      <td>2015-07-24 23:40:26</td>\n",
       "      <td>315</td>\n",
       "    </tr>\n",
       "    <tr>\n",
       "      <th>13</th>\n",
       "      <td>24.06</td>\n",
       "      <td>69</td>\n",
       "      <td>1009</td>\n",
       "      <td>Sky is Clear</td>\n",
       "      <td>1437777556</td>\n",
       "      <td>1.50</td>\n",
       "      <td>90</td>\n",
       "      <td>Asti</td>\n",
       "      <td>2015-07-25 00:39:16</td>\n",
       "      <td>315</td>\n",
       "    </tr>\n",
       "    <tr>\n",
       "      <th>14</th>\n",
       "      <td>24.67</td>\n",
       "      <td>64</td>\n",
       "      <td>1009</td>\n",
       "      <td>broken clouds</td>\n",
       "      <td>1437781277</td>\n",
       "      <td>4.10</td>\n",
       "      <td>10</td>\n",
       "      <td>Asti</td>\n",
       "      <td>2015-07-25 01:41:17</td>\n",
       "      <td>315</td>\n",
       "    </tr>\n",
       "    <tr>\n",
       "      <th>15</th>\n",
       "      <td>23.16</td>\n",
       "      <td>64</td>\n",
       "      <td>1009</td>\n",
       "      <td>Sky is Clear</td>\n",
       "      <td>1437784849</td>\n",
       "      <td>2.10</td>\n",
       "      <td>280</td>\n",
       "      <td>Asti</td>\n",
       "      <td>2015-07-25 02:40:49</td>\n",
       "      <td>315</td>\n",
       "    </tr>\n",
       "    <tr>\n",
       "      <th>16</th>\n",
       "      <td>22.84</td>\n",
       "      <td>64</td>\n",
       "      <td>1009</td>\n",
       "      <td>moderate rain</td>\n",
       "      <td>1437788406</td>\n",
       "      <td>1.50</td>\n",
       "      <td>290</td>\n",
       "      <td>Asti</td>\n",
       "      <td>2015-07-25 03:40:06</td>\n",
       "      <td>315</td>\n",
       "    </tr>\n",
       "    <tr>\n",
       "      <th>17</th>\n",
       "      <td>22.00</td>\n",
       "      <td>73</td>\n",
       "      <td>1009</td>\n",
       "      <td>moderate rain</td>\n",
       "      <td>1437792027</td>\n",
       "      <td>0.50</td>\n",
       "      <td>0</td>\n",
       "      <td>Asti</td>\n",
       "      <td>2015-07-25 04:40:27</td>\n",
       "      <td>315</td>\n",
       "    </tr>\n",
       "    <tr>\n",
       "      <th>18</th>\n",
       "      <td>21.66</td>\n",
       "      <td>83</td>\n",
       "      <td>1009</td>\n",
       "      <td>scattered clouds</td>\n",
       "      <td>1437795652</td>\n",
       "      <td>1.00</td>\n",
       "      <td>350</td>\n",
       "      <td>Asti</td>\n",
       "      <td>2015-07-25 05:40:52</td>\n",
       "      <td>315</td>\n",
       "    </tr>\n",
       "    <tr>\n",
       "      <th>19</th>\n",
       "      <td>21.48</td>\n",
       "      <td>77</td>\n",
       "      <td>1009</td>\n",
       "      <td>heavy intensity rain</td>\n",
       "      <td>1437799261</td>\n",
       "      <td>1.50</td>\n",
       "      <td>330</td>\n",
       "      <td>Asti</td>\n",
       "      <td>2015-07-25 06:41:01</td>\n",
       "      <td>315</td>\n",
       "    </tr>\n",
       "    <tr>\n",
       "      <th>20</th>\n",
       "      <td>20.97</td>\n",
       "      <td>93</td>\n",
       "      <td>1007</td>\n",
       "      <td>moderate rain</td>\n",
       "      <td>1437802783</td>\n",
       "      <td>0.51</td>\n",
       "      <td>0</td>\n",
       "      <td>Asti</td>\n",
       "      <td>2015-07-25 07:39:43</td>\n",
       "      <td>315</td>\n",
       "    </tr>\n",
       "    <tr>\n",
       "      <th>21</th>\n",
       "      <td>22.74</td>\n",
       "      <td>78</td>\n",
       "      <td>1010</td>\n",
       "      <td>Sky is Clear</td>\n",
       "      <td>1437806425</td>\n",
       "      <td>0.50</td>\n",
       "      <td>0</td>\n",
       "      <td>Asti</td>\n",
       "      <td>2015-07-25 08:40:25</td>\n",
       "      <td>315</td>\n",
       "    </tr>\n",
       "    <tr>\n",
       "      <th>22</th>\n",
       "      <td>24.34</td>\n",
       "      <td>64</td>\n",
       "      <td>1010</td>\n",
       "      <td>Sky is Clear</td>\n",
       "      <td>1437809987</td>\n",
       "      <td>1.00</td>\n",
       "      <td>0</td>\n",
       "      <td>Asti</td>\n",
       "      <td>2015-07-25 09:39:47</td>\n",
       "      <td>315</td>\n",
       "    </tr>\n",
       "    <tr>\n",
       "      <th>23</th>\n",
       "      <td>25.58</td>\n",
       "      <td>77</td>\n",
       "      <td>1006</td>\n",
       "      <td>light rain</td>\n",
       "      <td>1437813633</td>\n",
       "      <td>2.06</td>\n",
       "      <td>0</td>\n",
       "      <td>Asti</td>\n",
       "      <td>2015-07-25 10:40:33</td>\n",
       "      <td>315</td>\n",
       "    </tr>\n",
       "  </tbody>\n",
       "</table>\n",
       "</div>"
      ],
      "text/plain": [
       "     temp  humidity  pressure           description          dt  wind_speed  \\\n",
       "0   28.79        54      1012          Sky is Clear  1437730850        3.10   \n",
       "1   30.02        58      1012          Sky is Clear  1437734493        3.10   \n",
       "2   30.79        49      1007            light rain  1437738045        2.06   \n",
       "3   32.02        51      1011            few clouds  1437741579        4.10   \n",
       "4   30.93        51      1011            few clouds  1437745188        2.60   \n",
       "5   29.12        48      1009            light rain  1437748777        2.10   \n",
       "6   29.10        58      1009  heavy intensity rain  1437752543        5.70   \n",
       "7   29.04        54      1008         broken clouds  1437756041        1.00   \n",
       "8   27.89        65      1008      scattered clouds  1437759569        1.00   \n",
       "9   26.87        61      1008          Sky is Clear  1437763243        1.00   \n",
       "10  26.53        61      1009      scattered clouds  1437766818        2.60   \n",
       "11  26.29        57      1009            light rain  1437770378        3.60   \n",
       "12  24.77        57      1009            few clouds  1437774026        2.10   \n",
       "13  24.06        69      1009          Sky is Clear  1437777556        1.50   \n",
       "14  24.67        64      1009         broken clouds  1437781277        4.10   \n",
       "15  23.16        64      1009          Sky is Clear  1437784849        2.10   \n",
       "16  22.84        64      1009         moderate rain  1437788406        1.50   \n",
       "17  22.00        73      1009         moderate rain  1437792027        0.50   \n",
       "18  21.66        83      1009      scattered clouds  1437795652        1.00   \n",
       "19  21.48        77      1009  heavy intensity rain  1437799261        1.50   \n",
       "20  20.97        93      1007         moderate rain  1437802783        0.51   \n",
       "21  22.74        78      1010          Sky is Clear  1437806425        0.50   \n",
       "22  24.34        64      1010          Sky is Clear  1437809987        1.00   \n",
       "23  25.58        77      1006            light rain  1437813633        2.06   \n",
       "\n",
       "    wind_deg  city                  day  dist  \n",
       "0         70  Asti  2015-07-24 11:40:50   315  \n",
       "1         70  Asti  2015-07-24 12:41:33   315  \n",
       "2         24  Asti  2015-07-24 13:40:45   315  \n",
       "3         10  Asti  2015-07-24 14:39:39   315  \n",
       "4        120  Asti  2015-07-24 15:39:48   315  \n",
       "5          0  Asti  2015-07-24 16:39:37   315  \n",
       "6        170  Asti  2015-07-24 17:42:23   315  \n",
       "7          0  Asti  2015-07-24 18:40:41   315  \n",
       "8          0  Asti  2015-07-24 19:39:29   315  \n",
       "9        180  Asti  2015-07-24 20:40:43   315  \n",
       "10       270  Asti  2015-07-24 21:40:18   315  \n",
       "11       300  Asti  2015-07-24 22:39:38   315  \n",
       "12         0  Asti  2015-07-24 23:40:26   315  \n",
       "13        90  Asti  2015-07-25 00:39:16   315  \n",
       "14        10  Asti  2015-07-25 01:41:17   315  \n",
       "15       280  Asti  2015-07-25 02:40:49   315  \n",
       "16       290  Asti  2015-07-25 03:40:06   315  \n",
       "17         0  Asti  2015-07-25 04:40:27   315  \n",
       "18       350  Asti  2015-07-25 05:40:52   315  \n",
       "19       330  Asti  2015-07-25 06:41:01   315  \n",
       "20         0  Asti  2015-07-25 07:39:43   315  \n",
       "21         0  Asti  2015-07-25 08:40:25   315  \n",
       "22         0  Asti  2015-07-25 09:39:47   315  \n",
       "23         0  Asti  2015-07-25 10:40:33   315  "
      ]
     },
     "execution_count": 2,
     "metadata": {},
     "output_type": "execute_result"
    }
   ],
   "source": [
    "data = pd.read_csv('./asti_250715.csv',index_col='Unnamed: 0')\n",
    "data"
   ]
  },
  {
   "cell_type": "code",
   "execution_count": 3,
   "metadata": {},
   "outputs": [],
   "source": [
    "import os"
   ]
  },
  {
   "cell_type": "code",
   "execution_count": 4,
   "metadata": {},
   "outputs": [],
   "source": [
    "def getFiles(dir,suffix):\n",
    "    res = []\n",
    "    for root,dirs,files in os.walk(dir):\n",
    "        for filename in files:\n",
    "            name, suf = os.path.splitext(filename)\n",
    "            if suf == suffix:\n",
    "                res.append(os.path.join(root,filename))\n",
    "    return res"
   ]
  },
  {
   "cell_type": "code",
   "execution_count": 66,
   "metadata": {},
   "outputs": [
    {
     "data": {
      "text/plain": [
       "30"
      ]
     },
     "execution_count": 66,
     "metadata": {},
     "output_type": "execute_result"
    }
   ],
   "source": [
    "csvs = getFiles('./','.csv')\n",
    "len(csvs)"
   ]
  },
  {
   "cell_type": "code",
   "execution_count": 67,
   "metadata": {},
   "outputs": [],
   "source": [
    "import re\n",
    "import os"
   ]
  },
  {
   "cell_type": "code",
   "execution_count": 68,
   "metadata": {
    "collapsed": true
   },
   "outputs": [
    {
     "data": {
      "text/plain": [
       "['asti_150715.csv',\n",
       " 'asti_250715.csv',\n",
       " 'asti_270615.csv',\n",
       " 'bologna_150715.csv',\n",
       " 'bologna_250715.csv',\n",
       " 'bologna_270615.csv',\n",
       " 'cesena_150715.csv',\n",
       " 'cesena_250715.csv',\n",
       " 'cesena_270615.csv',\n",
       " 'faenza_150715.csv',\n",
       " 'faenza_250715.csv',\n",
       " 'faenza_270615.csv',\n",
       " 'ferrara_150715.csv',\n",
       " 'ferrara_250715.csv',\n",
       " 'ferrara_270615.csv',\n",
       " 'mantova_150715.csv',\n",
       " 'mantova_250715.csv',\n",
       " 'mantova_270615.csv',\n",
       " 'milano_150715.csv',\n",
       " 'milano_250715.csv',\n",
       " 'milano_270615.csv',\n",
       " 'piacenza_150715.csv',\n",
       " 'piacenza_250715.csv',\n",
       " 'piacenza_270615.csv',\n",
       " 'ravenna_150715.csv',\n",
       " 'ravenna_250715.csv',\n",
       " 'ravenna_270615.csv',\n",
       " 'torino_150715.csv',\n",
       " 'torino_250715.csv',\n",
       " 'torino_270615.csv']"
      ]
     },
     "execution_count": 68,
     "metadata": {},
     "output_type": "execute_result"
    }
   ],
   "source": [
    "[file for file in os.listdir() if file.endswith('.csv')]"
   ]
  },
  {
   "cell_type": "code",
   "execution_count": 70,
   "metadata": {
    "collapsed": true
   },
   "outputs": [
    {
     "data": {
      "text/plain": [
       "['asti_150715.csv',\n",
       " 'asti_250715.csv',\n",
       " 'asti_270615.csv',\n",
       " 'bologna_150715.csv',\n",
       " 'bologna_250715.csv',\n",
       " 'bologna_270615.csv',\n",
       " 'cesena_150715.csv',\n",
       " 'cesena_250715.csv',\n",
       " 'cesena_270615.csv',\n",
       " 'faenza_150715.csv',\n",
       " 'faenza_250715.csv',\n",
       " 'faenza_270615.csv',\n",
       " 'ferrara_150715.csv',\n",
       " 'ferrara_250715.csv',\n",
       " 'ferrara_270615.csv',\n",
       " 'mantova_150715.csv',\n",
       " 'mantova_250715.csv',\n",
       " 'mantova_270615.csv',\n",
       " 'milano_150715.csv',\n",
       " 'milano_250715.csv',\n",
       " 'milano_270615.csv',\n",
       " 'piacenza_150715.csv',\n",
       " 'piacenza_250715.csv',\n",
       " 'piacenza_270615.csv',\n",
       " 'ravenna_150715.csv',\n",
       " 'ravenna_250715.csv',\n",
       " 'ravenna_270615.csv',\n",
       " 'torino_150715.csv',\n",
       " 'torino_250715.csv',\n",
       " 'torino_270615.csv']"
      ]
     },
     "execution_count": 70,
     "metadata": {},
     "output_type": "execute_result"
    }
   ],
   "source": [
    "[file for file in os.listdir() if re.match(r'^[a-z]+_\\d{6}.csv$',file)]"
   ]
  },
  {
   "cell_type": "code",
   "execution_count": 6,
   "metadata": {},
   "outputs": [],
   "source": [
    "data_all = None\n",
    "for csv_path in csvs:\n",
    "    data = pd.read_csv(csv_path,index_col='Unnamed: 0')\n",
    "    data_all = pd.concat((data_all,data))\n",
    "data_all.reset_index(drop=True,inplace=True)"
   ]
  },
  {
   "cell_type": "markdown",
   "metadata": {},
   "source": [
    "查看行数"
   ]
  },
  {
   "cell_type": "code",
   "execution_count": 7,
   "metadata": {},
   "outputs": [
    {
     "data": {
      "text/plain": [
       "675"
      ]
     },
     "execution_count": 7,
     "metadata": {},
     "output_type": "execute_result"
    }
   ],
   "source": [
    "data_all.shape[0]"
   ]
  },
  {
   "cell_type": "markdown",
   "metadata": {},
   "source": [
    "去除没用的列"
   ]
  },
  {
   "cell_type": "code",
   "execution_count": 8,
   "metadata": {
    "collapsed": true
   },
   "outputs": [
    {
     "data": {
      "text/html": [
       "<div>\n",
       "<style scoped>\n",
       "    .dataframe tbody tr th:only-of-type {\n",
       "        vertical-align: middle;\n",
       "    }\n",
       "\n",
       "    .dataframe tbody tr th {\n",
       "        vertical-align: top;\n",
       "    }\n",
       "\n",
       "    .dataframe thead th {\n",
       "        text-align: right;\n",
       "    }\n",
       "</style>\n",
       "<table border=\"1\" class=\"dataframe\">\n",
       "  <thead>\n",
       "    <tr style=\"text-align: right;\">\n",
       "      <th></th>\n",
       "      <th>temp</th>\n",
       "      <th>humidity</th>\n",
       "      <th>pressure</th>\n",
       "      <th>dt</th>\n",
       "      <th>wind_speed</th>\n",
       "      <th>wind_deg</th>\n",
       "      <th>city</th>\n",
       "      <th>day</th>\n",
       "      <th>dist</th>\n",
       "    </tr>\n",
       "  </thead>\n",
       "  <tbody>\n",
       "    <tr>\n",
       "      <th>0</th>\n",
       "      <td>28.05</td>\n",
       "      <td>66</td>\n",
       "      <td>1014.0</td>\n",
       "      <td>1436863176</td>\n",
       "      <td>2.57</td>\n",
       "      <td>42.501</td>\n",
       "      <td>Asti</td>\n",
       "      <td>2015-07-14 10:39:36</td>\n",
       "      <td>315</td>\n",
       "    </tr>\n",
       "    <tr>\n",
       "      <th>1</th>\n",
       "      <td>29.51</td>\n",
       "      <td>64</td>\n",
       "      <td>1014.0</td>\n",
       "      <td>1436866759</td>\n",
       "      <td>1.54</td>\n",
       "      <td>263.000</td>\n",
       "      <td>Asti</td>\n",
       "      <td>2015-07-14 11:39:19</td>\n",
       "      <td>315</td>\n",
       "    </tr>\n",
       "    <tr>\n",
       "      <th>2</th>\n",
       "      <td>30.39</td>\n",
       "      <td>58</td>\n",
       "      <td>1017.0</td>\n",
       "      <td>1436870510</td>\n",
       "      <td>2.60</td>\n",
       "      <td>100.000</td>\n",
       "      <td>Asti</td>\n",
       "      <td>2015-07-14 12:41:50</td>\n",
       "      <td>315</td>\n",
       "    </tr>\n",
       "    <tr>\n",
       "      <th>3</th>\n",
       "      <td>31.10</td>\n",
       "      <td>54</td>\n",
       "      <td>1017.0</td>\n",
       "      <td>1436874098</td>\n",
       "      <td>2.10</td>\n",
       "      <td>90.000</td>\n",
       "      <td>Asti</td>\n",
       "      <td>2015-07-14 13:41:38</td>\n",
       "      <td>315</td>\n",
       "    </tr>\n",
       "    <tr>\n",
       "      <th>4</th>\n",
       "      <td>33.23</td>\n",
       "      <td>45</td>\n",
       "      <td>1016.0</td>\n",
       "      <td>1436877645</td>\n",
       "      <td>2.10</td>\n",
       "      <td>120.000</td>\n",
       "      <td>Asti</td>\n",
       "      <td>2015-07-14 14:40:45</td>\n",
       "      <td>315</td>\n",
       "    </tr>\n",
       "    <tr>\n",
       "      <th>5</th>\n",
       "      <td>32.95</td>\n",
       "      <td>46</td>\n",
       "      <td>1016.0</td>\n",
       "      <td>1436881329</td>\n",
       "      <td>2.10</td>\n",
       "      <td>110.000</td>\n",
       "      <td>Asti</td>\n",
       "      <td>2015-07-14 15:42:09</td>\n",
       "      <td>315</td>\n",
       "    </tr>\n",
       "    <tr>\n",
       "      <th>6</th>\n",
       "      <td>34.31</td>\n",
       "      <td>46</td>\n",
       "      <td>1015.0</td>\n",
       "      <td>1436884929</td>\n",
       "      <td>2.10</td>\n",
       "      <td>100.000</td>\n",
       "      <td>Asti</td>\n",
       "      <td>2015-07-14 16:42:09</td>\n",
       "      <td>315</td>\n",
       "    </tr>\n",
       "    <tr>\n",
       "      <th>7</th>\n",
       "      <td>32.47</td>\n",
       "      <td>49</td>\n",
       "      <td>1015.0</td>\n",
       "      <td>1436888513</td>\n",
       "      <td>2.10</td>\n",
       "      <td>100.000</td>\n",
       "      <td>Asti</td>\n",
       "      <td>2015-07-14 17:41:53</td>\n",
       "      <td>315</td>\n",
       "    </tr>\n",
       "    <tr>\n",
       "      <th>8</th>\n",
       "      <td>34.28</td>\n",
       "      <td>46</td>\n",
       "      <td>1015.0</td>\n",
       "      <td>1436892132</td>\n",
       "      <td>1.50</td>\n",
       "      <td>100.000</td>\n",
       "      <td>Asti</td>\n",
       "      <td>2015-07-14 18:42:12</td>\n",
       "      <td>315</td>\n",
       "    </tr>\n",
       "    <tr>\n",
       "      <th>9</th>\n",
       "      <td>31.41</td>\n",
       "      <td>46</td>\n",
       "      <td>1014.0</td>\n",
       "      <td>1436895723</td>\n",
       "      <td>2.10</td>\n",
       "      <td>240.000</td>\n",
       "      <td>Asti</td>\n",
       "      <td>2015-07-14 19:42:03</td>\n",
       "      <td>315</td>\n",
       "    </tr>\n",
       "    <tr>\n",
       "      <th>10</th>\n",
       "      <td>29.72</td>\n",
       "      <td>58</td>\n",
       "      <td>1014.0</td>\n",
       "      <td>1436899336</td>\n",
       "      <td>2.10</td>\n",
       "      <td>70.000</td>\n",
       "      <td>Asti</td>\n",
       "      <td>2015-07-14 20:42:16</td>\n",
       "      <td>315</td>\n",
       "    </tr>\n",
       "    <tr>\n",
       "      <th>11</th>\n",
       "      <td>27.68</td>\n",
       "      <td>62</td>\n",
       "      <td>1015.0</td>\n",
       "      <td>1436902943</td>\n",
       "      <td>1.50</td>\n",
       "      <td>40.000</td>\n",
       "      <td>Asti</td>\n",
       "      <td>2015-07-14 21:42:23</td>\n",
       "      <td>315</td>\n",
       "    </tr>\n",
       "    <tr>\n",
       "      <th>12</th>\n",
       "      <td>26.44</td>\n",
       "      <td>69</td>\n",
       "      <td>1015.0</td>\n",
       "      <td>1436906532</td>\n",
       "      <td>1.50</td>\n",
       "      <td>30.000</td>\n",
       "      <td>Asti</td>\n",
       "      <td>2015-07-14 22:42:12</td>\n",
       "      <td>315</td>\n",
       "    </tr>\n",
       "    <tr>\n",
       "      <th>13</th>\n",
       "      <td>26.17</td>\n",
       "      <td>69</td>\n",
       "      <td>1016.0</td>\n",
       "      <td>1436910149</td>\n",
       "      <td>1.50</td>\n",
       "      <td>330.000</td>\n",
       "      <td>Asti</td>\n",
       "      <td>2015-07-14 23:42:29</td>\n",
       "      <td>315</td>\n",
       "    </tr>\n",
       "    <tr>\n",
       "      <th>14</th>\n",
       "      <td>25.21</td>\n",
       "      <td>78</td>\n",
       "      <td>1014.0</td>\n",
       "      <td>1436913739</td>\n",
       "      <td>0.51</td>\n",
       "      <td>0.000</td>\n",
       "      <td>Asti</td>\n",
       "      <td>2015-07-15 00:42:19</td>\n",
       "      <td>315</td>\n",
       "    </tr>\n",
       "    <tr>\n",
       "      <th>15</th>\n",
       "      <td>24.45</td>\n",
       "      <td>73</td>\n",
       "      <td>1016.0</td>\n",
       "      <td>1436917311</td>\n",
       "      <td>2.60</td>\n",
       "      <td>350.000</td>\n",
       "      <td>Asti</td>\n",
       "      <td>2015-07-15 01:41:51</td>\n",
       "      <td>315</td>\n",
       "    </tr>\n",
       "    <tr>\n",
       "      <th>16</th>\n",
       "      <td>24.32</td>\n",
       "      <td>73</td>\n",
       "      <td>1016.0</td>\n",
       "      <td>1436920931</td>\n",
       "      <td>2.60</td>\n",
       "      <td>340.000</td>\n",
       "      <td>Asti</td>\n",
       "      <td>2015-07-15 02:42:11</td>\n",
       "      <td>315</td>\n",
       "    </tr>\n",
       "    <tr>\n",
       "      <th>17</th>\n",
       "      <td>24.24</td>\n",
       "      <td>73</td>\n",
       "      <td>1016.0</td>\n",
       "      <td>1436924426</td>\n",
       "      <td>2.10</td>\n",
       "      <td>360.000</td>\n",
       "      <td>Asti</td>\n",
       "      <td>2015-07-15 03:40:26</td>\n",
       "      <td>315</td>\n",
       "    </tr>\n",
       "    <tr>\n",
       "      <th>18</th>\n",
       "      <td>24.00</td>\n",
       "      <td>73</td>\n",
       "      <td>1016.0</td>\n",
       "      <td>1436928078</td>\n",
       "      <td>1.50</td>\n",
       "      <td>310.000</td>\n",
       "      <td>Asti</td>\n",
       "      <td>2015-07-15 04:41:18</td>\n",
       "      <td>315</td>\n",
       "    </tr>\n",
       "    <tr>\n",
       "      <th>19</th>\n",
       "      <td>23.00</td>\n",
       "      <td>83</td>\n",
       "      <td>1017.0</td>\n",
       "      <td>1436931718</td>\n",
       "      <td>0.50</td>\n",
       "      <td>0.000</td>\n",
       "      <td>Asti</td>\n",
       "      <td>2015-07-15 05:41:58</td>\n",
       "      <td>315</td>\n",
       "    </tr>\n",
       "    <tr>\n",
       "      <th>20</th>\n",
       "      <td>23.00</td>\n",
       "      <td>78</td>\n",
       "      <td>1017.0</td>\n",
       "      <td>1436935298</td>\n",
       "      <td>3.10</td>\n",
       "      <td>350.000</td>\n",
       "      <td>Asti</td>\n",
       "      <td>2015-07-15 06:41:38</td>\n",
       "      <td>315</td>\n",
       "    </tr>\n",
       "    <tr>\n",
       "      <th>21</th>\n",
       "      <td>25.00</td>\n",
       "      <td>73</td>\n",
       "      <td>1017.0</td>\n",
       "      <td>1436938882</td>\n",
       "      <td>1.50</td>\n",
       "      <td>330.000</td>\n",
       "      <td>Asti</td>\n",
       "      <td>2015-07-15 07:41:22</td>\n",
       "      <td>315</td>\n",
       "    </tr>\n",
       "    <tr>\n",
       "      <th>22</th>\n",
       "      <td>27.00</td>\n",
       "      <td>65</td>\n",
       "      <td>1017.0</td>\n",
       "      <td>1436942516</td>\n",
       "      <td>0.50</td>\n",
       "      <td>0.000</td>\n",
       "      <td>Asti</td>\n",
       "      <td>2015-07-15 08:41:56</td>\n",
       "      <td>315</td>\n",
       "    </tr>\n",
       "    <tr>\n",
       "      <th>23</th>\n",
       "      <td>27.00</td>\n",
       "      <td>65</td>\n",
       "      <td>1017.0</td>\n",
       "      <td>1436945951</td>\n",
       "      <td>2.10</td>\n",
       "      <td>50.000</td>\n",
       "      <td>Asti</td>\n",
       "      <td>2015-07-15 09:39:11</td>\n",
       "      <td>315</td>\n",
       "    </tr>\n",
       "    <tr>\n",
       "      <th>24</th>\n",
       "      <td>28.79</td>\n",
       "      <td>54</td>\n",
       "      <td>1012.0</td>\n",
       "      <td>1437730850</td>\n",
       "      <td>3.10</td>\n",
       "      <td>70.000</td>\n",
       "      <td>Asti</td>\n",
       "      <td>2015-07-24 11:40:50</td>\n",
       "      <td>315</td>\n",
       "    </tr>\n",
       "    <tr>\n",
       "      <th>25</th>\n",
       "      <td>30.02</td>\n",
       "      <td>58</td>\n",
       "      <td>1012.0</td>\n",
       "      <td>1437734493</td>\n",
       "      <td>3.10</td>\n",
       "      <td>70.000</td>\n",
       "      <td>Asti</td>\n",
       "      <td>2015-07-24 12:41:33</td>\n",
       "      <td>315</td>\n",
       "    </tr>\n",
       "    <tr>\n",
       "      <th>26</th>\n",
       "      <td>30.79</td>\n",
       "      <td>49</td>\n",
       "      <td>1007.0</td>\n",
       "      <td>1437738045</td>\n",
       "      <td>2.06</td>\n",
       "      <td>24.000</td>\n",
       "      <td>Asti</td>\n",
       "      <td>2015-07-24 13:40:45</td>\n",
       "      <td>315</td>\n",
       "    </tr>\n",
       "    <tr>\n",
       "      <th>27</th>\n",
       "      <td>32.02</td>\n",
       "      <td>51</td>\n",
       "      <td>1011.0</td>\n",
       "      <td>1437741579</td>\n",
       "      <td>4.10</td>\n",
       "      <td>10.000</td>\n",
       "      <td>Asti</td>\n",
       "      <td>2015-07-24 14:39:39</td>\n",
       "      <td>315</td>\n",
       "    </tr>\n",
       "    <tr>\n",
       "      <th>28</th>\n",
       "      <td>30.93</td>\n",
       "      <td>51</td>\n",
       "      <td>1011.0</td>\n",
       "      <td>1437745188</td>\n",
       "      <td>2.60</td>\n",
       "      <td>120.000</td>\n",
       "      <td>Asti</td>\n",
       "      <td>2015-07-24 15:39:48</td>\n",
       "      <td>315</td>\n",
       "    </tr>\n",
       "    <tr>\n",
       "      <th>29</th>\n",
       "      <td>29.12</td>\n",
       "      <td>48</td>\n",
       "      <td>1009.0</td>\n",
       "      <td>1437748777</td>\n",
       "      <td>2.10</td>\n",
       "      <td>0.000</td>\n",
       "      <td>Asti</td>\n",
       "      <td>2015-07-24 16:39:37</td>\n",
       "      <td>315</td>\n",
       "    </tr>\n",
       "    <tr>\n",
       "      <th>...</th>\n",
       "      <td>...</td>\n",
       "      <td>...</td>\n",
       "      <td>...</td>\n",
       "      <td>...</td>\n",
       "      <td>...</td>\n",
       "      <td>...</td>\n",
       "      <td>...</td>\n",
       "      <td>...</td>\n",
       "      <td>...</td>\n",
       "    </tr>\n",
       "    <tr>\n",
       "      <th>645</th>\n",
       "      <td>21.75</td>\n",
       "      <td>64</td>\n",
       "      <td>1009.0</td>\n",
       "      <td>1437781191</td>\n",
       "      <td>4.10</td>\n",
       "      <td>10.000</td>\n",
       "      <td>Torino</td>\n",
       "      <td>2015-07-25 01:39:51</td>\n",
       "      <td>357</td>\n",
       "    </tr>\n",
       "    <tr>\n",
       "      <th>646</th>\n",
       "      <td>23.01</td>\n",
       "      <td>64</td>\n",
       "      <td>1009.0</td>\n",
       "      <td>1437784762</td>\n",
       "      <td>2.10</td>\n",
       "      <td>280.000</td>\n",
       "      <td>Torino</td>\n",
       "      <td>2015-07-25 02:39:22</td>\n",
       "      <td>357</td>\n",
       "    </tr>\n",
       "    <tr>\n",
       "      <th>647</th>\n",
       "      <td>22.39</td>\n",
       "      <td>64</td>\n",
       "      <td>1009.0</td>\n",
       "      <td>1437788332</td>\n",
       "      <td>1.50</td>\n",
       "      <td>290.000</td>\n",
       "      <td>Torino</td>\n",
       "      <td>2015-07-25 03:38:52</td>\n",
       "      <td>357</td>\n",
       "    </tr>\n",
       "    <tr>\n",
       "      <th>648</th>\n",
       "      <td>21.50</td>\n",
       "      <td>73</td>\n",
       "      <td>1009.0</td>\n",
       "      <td>1437791949</td>\n",
       "      <td>0.50</td>\n",
       "      <td>0.000</td>\n",
       "      <td>Torino</td>\n",
       "      <td>2015-07-25 04:39:09</td>\n",
       "      <td>357</td>\n",
       "    </tr>\n",
       "    <tr>\n",
       "      <th>649</th>\n",
       "      <td>21.84</td>\n",
       "      <td>83</td>\n",
       "      <td>1009.0</td>\n",
       "      <td>1437795572</td>\n",
       "      <td>1.00</td>\n",
       "      <td>350.000</td>\n",
       "      <td>Torino</td>\n",
       "      <td>2015-07-25 05:39:32</td>\n",
       "      <td>357</td>\n",
       "    </tr>\n",
       "    <tr>\n",
       "      <th>650</th>\n",
       "      <td>21.84</td>\n",
       "      <td>77</td>\n",
       "      <td>1009.0</td>\n",
       "      <td>1437799177</td>\n",
       "      <td>1.50</td>\n",
       "      <td>330.000</td>\n",
       "      <td>Torino</td>\n",
       "      <td>2015-07-25 06:39:37</td>\n",
       "      <td>357</td>\n",
       "    </tr>\n",
       "    <tr>\n",
       "      <th>651</th>\n",
       "      <td>21.50</td>\n",
       "      <td>88</td>\n",
       "      <td>1010.0</td>\n",
       "      <td>1437802719</td>\n",
       "      <td>1.50</td>\n",
       "      <td>50.000</td>\n",
       "      <td>Torino</td>\n",
       "      <td>2015-07-25 07:38:39</td>\n",
       "      <td>357</td>\n",
       "    </tr>\n",
       "    <tr>\n",
       "      <th>652</th>\n",
       "      <td>23.54</td>\n",
       "      <td>78</td>\n",
       "      <td>1010.0</td>\n",
       "      <td>1437806353</td>\n",
       "      <td>0.50</td>\n",
       "      <td>0.000</td>\n",
       "      <td>Torino</td>\n",
       "      <td>2015-07-25 08:39:13</td>\n",
       "      <td>357</td>\n",
       "    </tr>\n",
       "    <tr>\n",
       "      <th>653</th>\n",
       "      <td>25.72</td>\n",
       "      <td>64</td>\n",
       "      <td>1010.0</td>\n",
       "      <td>1437809920</td>\n",
       "      <td>1.00</td>\n",
       "      <td>0.000</td>\n",
       "      <td>Torino</td>\n",
       "      <td>2015-07-25 09:38:40</td>\n",
       "      <td>357</td>\n",
       "    </tr>\n",
       "    <tr>\n",
       "      <th>654</th>\n",
       "      <td>25.84</td>\n",
       "      <td>64</td>\n",
       "      <td>1010.0</td>\n",
       "      <td>1437813560</td>\n",
       "      <td>1.50</td>\n",
       "      <td>0.000</td>\n",
       "      <td>Torino</td>\n",
       "      <td>2015-07-25 10:39:20</td>\n",
       "      <td>357</td>\n",
       "    </tr>\n",
       "    <tr>\n",
       "      <th>655</th>\n",
       "      <td>23.80</td>\n",
       "      <td>64</td>\n",
       "      <td>1019.0</td>\n",
       "      <td>1435387651</td>\n",
       "      <td>1.00</td>\n",
       "      <td>0.000</td>\n",
       "      <td>Torino</td>\n",
       "      <td>2015-06-27 08:47:31</td>\n",
       "      <td>357</td>\n",
       "    </tr>\n",
       "    <tr>\n",
       "      <th>656</th>\n",
       "      <td>24.68</td>\n",
       "      <td>60</td>\n",
       "      <td>1018.0</td>\n",
       "      <td>1435390804</td>\n",
       "      <td>2.10</td>\n",
       "      <td>80.000</td>\n",
       "      <td>Torino</td>\n",
       "      <td>2015-06-27 09:40:04</td>\n",
       "      <td>357</td>\n",
       "    </tr>\n",
       "    <tr>\n",
       "      <th>657</th>\n",
       "      <td>25.12</td>\n",
       "      <td>60</td>\n",
       "      <td>1018.0</td>\n",
       "      <td>1435394206</td>\n",
       "      <td>2.60</td>\n",
       "      <td>50.000</td>\n",
       "      <td>Torino</td>\n",
       "      <td>2015-06-27 10:36:46</td>\n",
       "      <td>357</td>\n",
       "    </tr>\n",
       "    <tr>\n",
       "      <th>658</th>\n",
       "      <td>25.54</td>\n",
       "      <td>60</td>\n",
       "      <td>1018.0</td>\n",
       "      <td>1435398681</td>\n",
       "      <td>2.60</td>\n",
       "      <td>50.000</td>\n",
       "      <td>Torino</td>\n",
       "      <td>2015-06-27 11:51:21</td>\n",
       "      <td>357</td>\n",
       "    </tr>\n",
       "    <tr>\n",
       "      <th>659</th>\n",
       "      <td>27.42</td>\n",
       "      <td>57</td>\n",
       "      <td>1017.0</td>\n",
       "      <td>1435402112</td>\n",
       "      <td>2.10</td>\n",
       "      <td>70.000</td>\n",
       "      <td>Torino</td>\n",
       "      <td>2015-06-27 12:48:32</td>\n",
       "      <td>357</td>\n",
       "    </tr>\n",
       "    <tr>\n",
       "      <th>660</th>\n",
       "      <td>28.97</td>\n",
       "      <td>47</td>\n",
       "      <td>1017.0</td>\n",
       "      <td>1435405743</td>\n",
       "      <td>1.50</td>\n",
       "      <td>60.000</td>\n",
       "      <td>Torino</td>\n",
       "      <td>2015-06-27 13:49:03</td>\n",
       "      <td>357</td>\n",
       "    </tr>\n",
       "    <tr>\n",
       "      <th>661</th>\n",
       "      <td>29.36</td>\n",
       "      <td>45</td>\n",
       "      <td>1017.0</td>\n",
       "      <td>1435409402</td>\n",
       "      <td>1.50</td>\n",
       "      <td>360.000</td>\n",
       "      <td>Torino</td>\n",
       "      <td>2015-06-27 14:50:02</td>\n",
       "      <td>357</td>\n",
       "    </tr>\n",
       "    <tr>\n",
       "      <th>662</th>\n",
       "      <td>30.56</td>\n",
       "      <td>45</td>\n",
       "      <td>1015.0</td>\n",
       "      <td>1435416605</td>\n",
       "      <td>2.10</td>\n",
       "      <td>170.000</td>\n",
       "      <td>Torino</td>\n",
       "      <td>2015-06-27 16:50:05</td>\n",
       "      <td>357</td>\n",
       "    </tr>\n",
       "    <tr>\n",
       "      <th>663</th>\n",
       "      <td>31.04</td>\n",
       "      <td>48</td>\n",
       "      <td>1015.0</td>\n",
       "      <td>1435420220</td>\n",
       "      <td>1.00</td>\n",
       "      <td>0.000</td>\n",
       "      <td>Torino</td>\n",
       "      <td>2015-06-27 17:50:20</td>\n",
       "      <td>357</td>\n",
       "    </tr>\n",
       "    <tr>\n",
       "      <th>664</th>\n",
       "      <td>31.32</td>\n",
       "      <td>48</td>\n",
       "      <td>1014.0</td>\n",
       "      <td>1435423957</td>\n",
       "      <td>2.10</td>\n",
       "      <td>90.000</td>\n",
       "      <td>Torino</td>\n",
       "      <td>2015-06-27 18:52:37</td>\n",
       "      <td>357</td>\n",
       "    </tr>\n",
       "    <tr>\n",
       "      <th>665</th>\n",
       "      <td>30.69</td>\n",
       "      <td>48</td>\n",
       "      <td>1014.0</td>\n",
       "      <td>1435427586</td>\n",
       "      <td>2.10</td>\n",
       "      <td>50.000</td>\n",
       "      <td>Torino</td>\n",
       "      <td>2015-06-27 19:53:06</td>\n",
       "      <td>357</td>\n",
       "    </tr>\n",
       "    <tr>\n",
       "      <th>666</th>\n",
       "      <td>25.15</td>\n",
       "      <td>73</td>\n",
       "      <td>1015.0</td>\n",
       "      <td>1435438091</td>\n",
       "      <td>2.60</td>\n",
       "      <td>10.000</td>\n",
       "      <td>Torino</td>\n",
       "      <td>2015-06-27 22:48:11</td>\n",
       "      <td>357</td>\n",
       "    </tr>\n",
       "    <tr>\n",
       "      <th>667</th>\n",
       "      <td>24.57</td>\n",
       "      <td>73</td>\n",
       "      <td>1016.0</td>\n",
       "      <td>1435441890</td>\n",
       "      <td>3.10</td>\n",
       "      <td>340.000</td>\n",
       "      <td>Torino</td>\n",
       "      <td>2015-06-27 23:51:30</td>\n",
       "      <td>357</td>\n",
       "    </tr>\n",
       "    <tr>\n",
       "      <th>668</th>\n",
       "      <td>24.00</td>\n",
       "      <td>73</td>\n",
       "      <td>1016.0</td>\n",
       "      <td>1435445529</td>\n",
       "      <td>3.10</td>\n",
       "      <td>340.000</td>\n",
       "      <td>Torino</td>\n",
       "      <td>2015-06-28 00:52:09</td>\n",
       "      <td>357</td>\n",
       "    </tr>\n",
       "    <tr>\n",
       "      <th>669</th>\n",
       "      <td>22.19</td>\n",
       "      <td>77</td>\n",
       "      <td>1017.0</td>\n",
       "      <td>1435452880</td>\n",
       "      <td>2.10</td>\n",
       "      <td>340.000</td>\n",
       "      <td>Torino</td>\n",
       "      <td>2015-06-28 02:54:40</td>\n",
       "      <td>357</td>\n",
       "    </tr>\n",
       "    <tr>\n",
       "      <th>670</th>\n",
       "      <td>20.50</td>\n",
       "      <td>77</td>\n",
       "      <td>1017.0</td>\n",
       "      <td>1435456195</td>\n",
       "      <td>2.10</td>\n",
       "      <td>340.000</td>\n",
       "      <td>Torino</td>\n",
       "      <td>2015-06-28 03:49:55</td>\n",
       "      <td>357</td>\n",
       "    </tr>\n",
       "    <tr>\n",
       "      <th>671</th>\n",
       "      <td>18.94</td>\n",
       "      <td>77</td>\n",
       "      <td>1018.0</td>\n",
       "      <td>1435459725</td>\n",
       "      <td>2.60</td>\n",
       "      <td>30.000</td>\n",
       "      <td>Torino</td>\n",
       "      <td>2015-06-28 04:48:45</td>\n",
       "      <td>357</td>\n",
       "    </tr>\n",
       "    <tr>\n",
       "      <th>672</th>\n",
       "      <td>19.07</td>\n",
       "      <td>77</td>\n",
       "      <td>1018.0</td>\n",
       "      <td>1435463493</td>\n",
       "      <td>2.10</td>\n",
       "      <td>360.000</td>\n",
       "      <td>Torino</td>\n",
       "      <td>2015-06-28 05:51:33</td>\n",
       "      <td>357</td>\n",
       "    </tr>\n",
       "    <tr>\n",
       "      <th>673</th>\n",
       "      <td>19.05</td>\n",
       "      <td>82</td>\n",
       "      <td>1018.0</td>\n",
       "      <td>1435466876</td>\n",
       "      <td>1.50</td>\n",
       "      <td>10.000</td>\n",
       "      <td>Torino</td>\n",
       "      <td>2015-06-28 06:47:56</td>\n",
       "      <td>357</td>\n",
       "    </tr>\n",
       "    <tr>\n",
       "      <th>674</th>\n",
       "      <td>21.20</td>\n",
       "      <td>82</td>\n",
       "      <td>1018.0</td>\n",
       "      <td>1435470573</td>\n",
       "      <td>1.00</td>\n",
       "      <td>40.000</td>\n",
       "      <td>Torino</td>\n",
       "      <td>2015-06-28 07:49:33</td>\n",
       "      <td>357</td>\n",
       "    </tr>\n",
       "  </tbody>\n",
       "</table>\n",
       "<p>675 rows × 9 columns</p>\n",
       "</div>"
      ],
      "text/plain": [
       "      temp  humidity  pressure          dt  wind_speed  wind_deg    city  \\\n",
       "0    28.05        66    1014.0  1436863176        2.57    42.501    Asti   \n",
       "1    29.51        64    1014.0  1436866759        1.54   263.000    Asti   \n",
       "2    30.39        58    1017.0  1436870510        2.60   100.000    Asti   \n",
       "3    31.10        54    1017.0  1436874098        2.10    90.000    Asti   \n",
       "4    33.23        45    1016.0  1436877645        2.10   120.000    Asti   \n",
       "5    32.95        46    1016.0  1436881329        2.10   110.000    Asti   \n",
       "6    34.31        46    1015.0  1436884929        2.10   100.000    Asti   \n",
       "7    32.47        49    1015.0  1436888513        2.10   100.000    Asti   \n",
       "8    34.28        46    1015.0  1436892132        1.50   100.000    Asti   \n",
       "9    31.41        46    1014.0  1436895723        2.10   240.000    Asti   \n",
       "10   29.72        58    1014.0  1436899336        2.10    70.000    Asti   \n",
       "11   27.68        62    1015.0  1436902943        1.50    40.000    Asti   \n",
       "12   26.44        69    1015.0  1436906532        1.50    30.000    Asti   \n",
       "13   26.17        69    1016.0  1436910149        1.50   330.000    Asti   \n",
       "14   25.21        78    1014.0  1436913739        0.51     0.000    Asti   \n",
       "15   24.45        73    1016.0  1436917311        2.60   350.000    Asti   \n",
       "16   24.32        73    1016.0  1436920931        2.60   340.000    Asti   \n",
       "17   24.24        73    1016.0  1436924426        2.10   360.000    Asti   \n",
       "18   24.00        73    1016.0  1436928078        1.50   310.000    Asti   \n",
       "19   23.00        83    1017.0  1436931718        0.50     0.000    Asti   \n",
       "20   23.00        78    1017.0  1436935298        3.10   350.000    Asti   \n",
       "21   25.00        73    1017.0  1436938882        1.50   330.000    Asti   \n",
       "22   27.00        65    1017.0  1436942516        0.50     0.000    Asti   \n",
       "23   27.00        65    1017.0  1436945951        2.10    50.000    Asti   \n",
       "24   28.79        54    1012.0  1437730850        3.10    70.000    Asti   \n",
       "25   30.02        58    1012.0  1437734493        3.10    70.000    Asti   \n",
       "26   30.79        49    1007.0  1437738045        2.06    24.000    Asti   \n",
       "27   32.02        51    1011.0  1437741579        4.10    10.000    Asti   \n",
       "28   30.93        51    1011.0  1437745188        2.60   120.000    Asti   \n",
       "29   29.12        48    1009.0  1437748777        2.10     0.000    Asti   \n",
       "..     ...       ...       ...         ...         ...       ...     ...   \n",
       "645  21.75        64    1009.0  1437781191        4.10    10.000  Torino   \n",
       "646  23.01        64    1009.0  1437784762        2.10   280.000  Torino   \n",
       "647  22.39        64    1009.0  1437788332        1.50   290.000  Torino   \n",
       "648  21.50        73    1009.0  1437791949        0.50     0.000  Torino   \n",
       "649  21.84        83    1009.0  1437795572        1.00   350.000  Torino   \n",
       "650  21.84        77    1009.0  1437799177        1.50   330.000  Torino   \n",
       "651  21.50        88    1010.0  1437802719        1.50    50.000  Torino   \n",
       "652  23.54        78    1010.0  1437806353        0.50     0.000  Torino   \n",
       "653  25.72        64    1010.0  1437809920        1.00     0.000  Torino   \n",
       "654  25.84        64    1010.0  1437813560        1.50     0.000  Torino   \n",
       "655  23.80        64    1019.0  1435387651        1.00     0.000  Torino   \n",
       "656  24.68        60    1018.0  1435390804        2.10    80.000  Torino   \n",
       "657  25.12        60    1018.0  1435394206        2.60    50.000  Torino   \n",
       "658  25.54        60    1018.0  1435398681        2.60    50.000  Torino   \n",
       "659  27.42        57    1017.0  1435402112        2.10    70.000  Torino   \n",
       "660  28.97        47    1017.0  1435405743        1.50    60.000  Torino   \n",
       "661  29.36        45    1017.0  1435409402        1.50   360.000  Torino   \n",
       "662  30.56        45    1015.0  1435416605        2.10   170.000  Torino   \n",
       "663  31.04        48    1015.0  1435420220        1.00     0.000  Torino   \n",
       "664  31.32        48    1014.0  1435423957        2.10    90.000  Torino   \n",
       "665  30.69        48    1014.0  1435427586        2.10    50.000  Torino   \n",
       "666  25.15        73    1015.0  1435438091        2.60    10.000  Torino   \n",
       "667  24.57        73    1016.0  1435441890        3.10   340.000  Torino   \n",
       "668  24.00        73    1016.0  1435445529        3.10   340.000  Torino   \n",
       "669  22.19        77    1017.0  1435452880        2.10   340.000  Torino   \n",
       "670  20.50        77    1017.0  1435456195        2.10   340.000  Torino   \n",
       "671  18.94        77    1018.0  1435459725        2.60    30.000  Torino   \n",
       "672  19.07        77    1018.0  1435463493        2.10   360.000  Torino   \n",
       "673  19.05        82    1018.0  1435466876        1.50    10.000  Torino   \n",
       "674  21.20        82    1018.0  1435470573        1.00    40.000  Torino   \n",
       "\n",
       "                     day  dist  \n",
       "0    2015-07-14 10:39:36   315  \n",
       "1    2015-07-14 11:39:19   315  \n",
       "2    2015-07-14 12:41:50   315  \n",
       "3    2015-07-14 13:41:38   315  \n",
       "4    2015-07-14 14:40:45   315  \n",
       "5    2015-07-14 15:42:09   315  \n",
       "6    2015-07-14 16:42:09   315  \n",
       "7    2015-07-14 17:41:53   315  \n",
       "8    2015-07-14 18:42:12   315  \n",
       "9    2015-07-14 19:42:03   315  \n",
       "10   2015-07-14 20:42:16   315  \n",
       "11   2015-07-14 21:42:23   315  \n",
       "12   2015-07-14 22:42:12   315  \n",
       "13   2015-07-14 23:42:29   315  \n",
       "14   2015-07-15 00:42:19   315  \n",
       "15   2015-07-15 01:41:51   315  \n",
       "16   2015-07-15 02:42:11   315  \n",
       "17   2015-07-15 03:40:26   315  \n",
       "18   2015-07-15 04:41:18   315  \n",
       "19   2015-07-15 05:41:58   315  \n",
       "20   2015-07-15 06:41:38   315  \n",
       "21   2015-07-15 07:41:22   315  \n",
       "22   2015-07-15 08:41:56   315  \n",
       "23   2015-07-15 09:39:11   315  \n",
       "24   2015-07-24 11:40:50   315  \n",
       "25   2015-07-24 12:41:33   315  \n",
       "26   2015-07-24 13:40:45   315  \n",
       "27   2015-07-24 14:39:39   315  \n",
       "28   2015-07-24 15:39:48   315  \n",
       "29   2015-07-24 16:39:37   315  \n",
       "..                   ...   ...  \n",
       "645  2015-07-25 01:39:51   357  \n",
       "646  2015-07-25 02:39:22   357  \n",
       "647  2015-07-25 03:38:52   357  \n",
       "648  2015-07-25 04:39:09   357  \n",
       "649  2015-07-25 05:39:32   357  \n",
       "650  2015-07-25 06:39:37   357  \n",
       "651  2015-07-25 07:38:39   357  \n",
       "652  2015-07-25 08:39:13   357  \n",
       "653  2015-07-25 09:38:40   357  \n",
       "654  2015-07-25 10:39:20   357  \n",
       "655  2015-06-27 08:47:31   357  \n",
       "656  2015-06-27 09:40:04   357  \n",
       "657  2015-06-27 10:36:46   357  \n",
       "658  2015-06-27 11:51:21   357  \n",
       "659  2015-06-27 12:48:32   357  \n",
       "660  2015-06-27 13:49:03   357  \n",
       "661  2015-06-27 14:50:02   357  \n",
       "662  2015-06-27 16:50:05   357  \n",
       "663  2015-06-27 17:50:20   357  \n",
       "664  2015-06-27 18:52:37   357  \n",
       "665  2015-06-27 19:53:06   357  \n",
       "666  2015-06-27 22:48:11   357  \n",
       "667  2015-06-27 23:51:30   357  \n",
       "668  2015-06-28 00:52:09   357  \n",
       "669  2015-06-28 02:54:40   357  \n",
       "670  2015-06-28 03:49:55   357  \n",
       "671  2015-06-28 04:48:45   357  \n",
       "672  2015-06-28 05:51:33   357  \n",
       "673  2015-06-28 06:47:56   357  \n",
       "674  2015-06-28 07:49:33   357  \n",
       "\n",
       "[675 rows x 9 columns]"
      ]
     },
     "execution_count": 8,
     "metadata": {},
     "output_type": "execute_result"
    }
   ],
   "source": [
    "data_all.drop(columns='description')"
   ]
  },
  {
   "cell_type": "markdown",
   "metadata": {},
   "source": [
    "各城市与海洋距离，最高温度，最低温度，最高湿度，最低湿度"
   ]
  },
  {
   "cell_type": "code",
   "execution_count": 9,
   "metadata": {},
   "outputs": [],
   "source": [
    "citys = data_all.groupby(['city'])[['dist','temp','humidity']].min()\n",
    "citys2 = data_all.groupby(['city'])[['temp','humidity']].max()"
   ]
  },
  {
   "cell_type": "code",
   "execution_count": 10,
   "metadata": {},
   "outputs": [
    {
     "data": {
      "text/html": [
       "<div>\n",
       "<style scoped>\n",
       "    .dataframe tbody tr th:only-of-type {\n",
       "        vertical-align: middle;\n",
       "    }\n",
       "\n",
       "    .dataframe tbody tr th {\n",
       "        vertical-align: top;\n",
       "    }\n",
       "\n",
       "    .dataframe thead th {\n",
       "        text-align: right;\n",
       "    }\n",
       "</style>\n",
       "<table border=\"1\" class=\"dataframe\">\n",
       "  <thead>\n",
       "    <tr style=\"text-align: right;\">\n",
       "      <th></th>\n",
       "      <th>dist</th>\n",
       "      <th>temp_min</th>\n",
       "      <th>humidity_min</th>\n",
       "      <th>temp_max</th>\n",
       "      <th>humidity_max</th>\n",
       "    </tr>\n",
       "    <tr>\n",
       "      <th>city</th>\n",
       "      <th></th>\n",
       "      <th></th>\n",
       "      <th></th>\n",
       "      <th></th>\n",
       "      <th></th>\n",
       "    </tr>\n",
       "  </thead>\n",
       "  <tbody>\n",
       "    <tr>\n",
       "      <th>Asti</th>\n",
       "      <td>315</td>\n",
       "      <td>18.01</td>\n",
       "      <td>29</td>\n",
       "      <td>34.31</td>\n",
       "      <td>93</td>\n",
       "    </tr>\n",
       "    <tr>\n",
       "      <th>Bologna</th>\n",
       "      <td>71</td>\n",
       "      <td>18.44</td>\n",
       "      <td>40</td>\n",
       "      <td>33.85</td>\n",
       "      <td>92</td>\n",
       "    </tr>\n",
       "    <tr>\n",
       "      <th>Cesena</th>\n",
       "      <td>14</td>\n",
       "      <td>18.41</td>\n",
       "      <td>61</td>\n",
       "      <td>32.81</td>\n",
       "      <td>100</td>\n",
       "    </tr>\n",
       "    <tr>\n",
       "      <th>Faenza</th>\n",
       "      <td>37</td>\n",
       "      <td>18.62</td>\n",
       "      <td>61</td>\n",
       "      <td>32.74</td>\n",
       "      <td>100</td>\n",
       "    </tr>\n",
       "    <tr>\n",
       "      <th>Ferrara</th>\n",
       "      <td>47</td>\n",
       "      <td>18.81</td>\n",
       "      <td>39</td>\n",
       "      <td>33.43</td>\n",
       "      <td>85</td>\n",
       "    </tr>\n",
       "    <tr>\n",
       "      <th>Mantova</th>\n",
       "      <td>121</td>\n",
       "      <td>19.03</td>\n",
       "      <td>28</td>\n",
       "      <td>34.18</td>\n",
       "      <td>100</td>\n",
       "    </tr>\n",
       "    <tr>\n",
       "      <th>Milano</th>\n",
       "      <td>250</td>\n",
       "      <td>18.28</td>\n",
       "      <td>35</td>\n",
       "      <td>34.81</td>\n",
       "      <td>100</td>\n",
       "    </tr>\n",
       "    <tr>\n",
       "      <th>Piacenza</th>\n",
       "      <td>200</td>\n",
       "      <td>18.68</td>\n",
       "      <td>35</td>\n",
       "      <td>33.92</td>\n",
       "      <td>100</td>\n",
       "    </tr>\n",
       "    <tr>\n",
       "      <th>Ravenna</th>\n",
       "      <td>8</td>\n",
       "      <td>18.22</td>\n",
       "      <td>34</td>\n",
       "      <td>32.79</td>\n",
       "      <td>94</td>\n",
       "    </tr>\n",
       "    <tr>\n",
       "      <th>Torino</th>\n",
       "      <td>357</td>\n",
       "      <td>18.94</td>\n",
       "      <td>45</td>\n",
       "      <td>34.69</td>\n",
       "      <td>88</td>\n",
       "    </tr>\n",
       "  </tbody>\n",
       "</table>\n",
       "</div>"
      ],
      "text/plain": [
       "          dist  temp_min  humidity_min  temp_max  humidity_max\n",
       "city                                                          \n",
       "Asti       315     18.01            29     34.31            93\n",
       "Bologna     71     18.44            40     33.85            92\n",
       "Cesena      14     18.41            61     32.81           100\n",
       "Faenza      37     18.62            61     32.74           100\n",
       "Ferrara     47     18.81            39     33.43            85\n",
       "Mantova    121     19.03            28     34.18           100\n",
       "Milano     250     18.28            35     34.81           100\n",
       "Piacenza   200     18.68            35     33.92           100\n",
       "Ravenna      8     18.22            34     32.79            94\n",
       "Torino     357     18.94            45     34.69            88"
      ]
     },
     "execution_count": 10,
     "metadata": {},
     "output_type": "execute_result"
    }
   ],
   "source": [
    "city_data = pd.merge(citys,citys2,on='city',suffixes=['_min','_max'])\n",
    "city_data"
   ]
  },
  {
   "cell_type": "markdown",
   "metadata": {},
   "source": [
    "显示最高温度与离海远近的关系"
   ]
  },
  {
   "cell_type": "code",
   "execution_count": 11,
   "metadata": {},
   "outputs": [],
   "source": [
    "dists = city_data[['dist']]\n",
    "temp_maxs = city_data[['temp_max']]"
   ]
  },
  {
   "cell_type": "code",
   "execution_count": 12,
   "metadata": {},
   "outputs": [
    {
     "data": {
      "text/plain": [
       "<matplotlib.collections.PathCollection at 0x2707714c0f0>"
      ]
     },
     "execution_count": 12,
     "metadata": {},
     "output_type": "execute_result"
    },
    {
     "data": {
      "image/png": "[encoded data removed]",
      "text/plain": [
       "<Figure size 432x288 with 1 Axes>"
      ]
     },
     "metadata": {
      "needs_background": "light"
     },
     "output_type": "display_data"
    }
   ],
   "source": [
    "plt.scatter(dists,temp_maxs,)"
   ]
  },
  {
   "cell_type": "markdown",
   "metadata": {},
   "source": [
    "观察发现，离海近的可以形成一条直线，离海远的也能形成一条直线。\n",
    "\n",
    "首先使用numpy：把列表转换为numpy数组，用于后续计算。\n",
    "\n",
    "分别以100公里和50公里为分界点，划分为离海近和离海远的两组数据"
   ]
  },
  {
   "cell_type": "code",
   "execution_count": 13,
   "metadata": {
    "scrolled": true
   },
   "outputs": [],
   "source": [
    "np_dists = np.array(dists)\n",
    "np_temp_maxs = np.array(temp_maxs)"
   ]
  },
  {
   "cell_type": "code",
   "execution_count": 60,
   "metadata": {},
   "outputs": [],
   "source": [
    "near_dists = dists[np_dists < 100]\n",
    "near_data =city_data.merge(near_dists,on='dist',right_index=True)[['dist','temp_max']]"
   ]
  },
  {
   "cell_type": "code",
   "execution_count": 61,
   "metadata": {},
   "outputs": [],
   "source": [
    "far_dists = dists[np_dists > 50]\n",
    "far_data = city_data.merge(far_dists,on='dist',right_index=True)[['dist','temp_max']]"
   ]
  },
  {
   "cell_type": "markdown",
   "metadata": {},
   "source": [
    "使用支持向量机计算回归参数"
   ]
  },
  {
   "cell_type": "code",
   "execution_count": 44,
   "metadata": {},
   "outputs": [],
   "source": [
    "from sklearn.svm import SVR"
   ]
  },
  {
   "cell_type": "code",
   "execution_count": 45,
   "metadata": {},
   "outputs": [],
   "source": [
    "# support vector machine"
   ]
  },
  {
   "cell_type": "code",
   "execution_count": 62,
   "metadata": {},
   "outputs": [],
   "source": [
    "near_dist_values = near_data['dist'].values\n",
    "near_temp_max_values = near_data['temp_max'].values\n",
    "far_dist_values = far_data['dist'].values\n",
    "far_temp_max_values = far_data['temp_max'].values"
   ]
  },
  {
   "cell_type": "code",
   "execution_count": 71,
   "metadata": {
    "collapsed": true
   },
   "outputs": [
    {
     "data": {
      "text/plain": [
       "SVR(C=1.0, cache_size=200, coef0=0.0, degree=3, epsilon=0.1,\n",
       "    gamma='auto_deprecated', kernel='linear', max_iter=-1, shrinking=True,\n",
       "    tol=0.001, verbose=False)"
      ]
     },
     "execution_count": 71,
     "metadata": {},
     "output_type": "execute_result"
    }
   ],
   "source": [
    "# 创建算法near_data\n",
    "svr_near = SVR(kernel='linear')\n",
    "svr_near.fit(near_dist_values.reshape(-1, 1),near_temp_max_values)"
   ]
  },
  {
   "cell_type": "code",
   "execution_count": 81,
   "metadata": {},
   "outputs": [
    {
     "data": {
      "text/plain": [
       "array([32.55539683, 32.57239218, 32.58938753, 32.60638288, 32.62337823,\n",
       "       32.64037358, 32.65736893, 32.67436428, 32.69135963, 32.70835498,\n",
       "       32.72535033, 32.74234568, 32.75934103, 32.77633638, 32.79333173,\n",
       "       32.81032708, 32.82732243, 32.84431778, 32.86131313, 32.87830848,\n",
       "       32.89530383, 32.91229918, 32.92929453, 32.94628988, 32.96328523,\n",
       "       32.98028058, 32.99727593, 33.01427128, 33.03126663, 33.04826198,\n",
       "       33.06525734, 33.08225269, 33.09924804, 33.11624339, 33.13323874,\n",
       "       33.15023409, 33.16722944, 33.18422479, 33.20122014, 33.21821549,\n",
       "       33.23521084, 33.25220619, 33.26920154, 33.28619689, 33.30319224,\n",
       "       33.32018759, 33.33718294, 33.35417829, 33.37117364, 33.38816899,\n",
       "       33.40516434, 33.42215969, 33.43915504, 33.45615039, 33.47314574,\n",
       "       33.49014109, 33.50713644, 33.52413179, 33.54112714, 33.55812249,\n",
       "       33.57511785, 33.5921132 , 33.60910855, 33.6261039 , 33.64309925,\n",
       "       33.6600946 , 33.67708995, 33.6940853 , 33.71108065, 33.728076  ,\n",
       "       33.74507135, 33.7620667 , 33.77906205, 33.7960574 , 33.81305275,\n",
       "       33.8300481 , 33.84704345, 33.8640388 , 33.88103415, 33.8980295 ,\n",
       "       33.91502485, 33.9320202 , 33.94901555, 33.9660109 , 33.98300625,\n",
       "       34.0000016 , 34.01699695, 34.0339923 , 34.05098765, 34.067983  ,\n",
       "       34.08497835, 34.10197371, 34.11896906, 34.13596441, 34.15295976,\n",
       "       34.16995511, 34.18695046, 34.20394581, 34.22094116, 34.23793651])"
      ]
     },
     "execution_count": 81,
     "metadata": {},
     "output_type": "execute_result"
    }
   ],
   "source": [
    "# 预测\n",
    "x_test_near = np.linspace(0,100,100).reshape(-1,1)\n",
    "y_near = svr_near.predict(x_test_near)\n",
    "y_near"
   ]
  },
  {
   "cell_type": "code",
   "execution_count": 82,
   "metadata": {
    "collapsed": true
   },
   "outputs": [
    {
     "data": {
      "text/plain": [
       "[<matplotlib.lines.Line2D at 0x2707d999b00>]"
      ]
     },
     "execution_count": 82,
     "metadata": {},
     "output_type": "execute_result"
    },
    {
     "data": {
      "image/png": "[encoded data removed]",
      "text/plain": [
       "<Figure size 432x288 with 1 Axes>"
      ]
     },
     "metadata": {
      "needs_background": "light"
     },
     "output_type": "display_data"
    }
   ],
   "source": [
    "plt.scatter(np_dists,np_temp_maxs)\n",
    "plt.axis((0,380,32,36))\n",
    "plt.plot(x_test_near,y_near,c='r')"
   ]
  },
  {
   "cell_type": "code",
   "execution_count": 84,
   "metadata": {},
   "outputs": [
    {
     "data": {
      "text/plain": [
       "[<matplotlib.lines.Line2D at 0x2707db19cc0>]"
      ]
     },
     "execution_count": 84,
     "metadata": {},
     "output_type": "execute_result"
    },
    {
     "data": {
      "image/png": "[encoded data removed]",
      "text/plain": [
       "<Figure size 432x288 with 1 Axes>"
      ]
     },
     "metadata": {
      "needs_background": "light"
     },
     "output_type": "display_data"
    }
   ],
   "source": [
    "svr_far = SVR(kernel='linear')\n",
    "svr_far.fit(far_dist_values.reshape(-1, 1),far_temp_max_values)\n",
    "x_test_far = np.linspace(100,360,100).reshape(-1,1)\n",
    "y_far = svr_far.predict(x_test_far)\n",
    "plt.scatter(np_dists,np_temp_maxs)\n",
    "plt.axis((0,380,32,36))\n",
    "plt.plot(x_test_near,y_near,c='b')\n",
    "plt.plot(x_test_far,y_far,c='r')"
   ]
  },
  {
   "cell_type": "markdown",
   "metadata": {
    "collapsed": true
   },
   "source": [
    "查看最低温度与海洋距离的关系"
   ]
  },
  {
   "cell_type": "code",
   "execution_count": 16,
   "metadata": {},
   "outputs": [],
   "source": [
    "dists = city_data[['dist']]\n",
    "temp_mins = city_data[['temp_min']]"
   ]
  },
  {
   "cell_type": "code",
   "execution_count": 98,
   "metadata": {},
   "outputs": [
    {
     "data": {
      "text/plain": [
       "<matplotlib.collections.PathCollection at 0x27000df5550>"
      ]
     },
     "execution_count": 98,
     "metadata": {},
     "output_type": "execute_result"
    },
    {
     "data": {
      "image/png": "[encoded data removed]",
      "text/plain": [
       "<Figure size 432x288 with 1 Axes>"
      ]
     },
     "metadata": {
      "needs_background": "light"
     },
     "output_type": "display_data"
    }
   ],
   "source": [
    "plt.scatter(dists,temp_mins)"
   ]
  },
  {
   "cell_type": "markdown",
   "metadata": {},
   "source": [
    "最低湿度与海洋距离的关系"
   ]
  },
  {
   "cell_type": "code",
   "execution_count": 18,
   "metadata": {
    "collapsed": true
   },
   "outputs": [
    {
     "data": {
      "text/plain": [
       "<bound method DataFrame.info of           dist  temp_min  humidity_min  temp_max  humidity_max\n",
       "city                                                          \n",
       "Asti       315     18.01            29     34.31            93\n",
       "Bologna     71     18.44            40     33.85            92\n",
       "Cesena      14     18.41            61     32.81           100\n",
       "Faenza      37     18.62            61     32.74           100\n",
       "Ferrara     47     18.81            39     33.43            85\n",
       "Mantova    121     19.03            28     34.18           100\n",
       "Milano     250     18.28            35     34.81           100\n",
       "Piacenza   200     18.68            35     33.92           100\n",
       "Ravenna      8     18.22            34     32.79            94\n",
       "Torino     357     18.94            45     34.69            88>"
      ]
     },
     "execution_count": 18,
     "metadata": {},
     "output_type": "execute_result"
    }
   ],
   "source": [
    "city_data.info"
   ]
  },
  {
   "cell_type": "code",
   "execution_count": 19,
   "metadata": {},
   "outputs": [],
   "source": [
    "dists = city_data[['dist']]\n",
    "humidity_mins = city_data[['humidity_min']]"
   ]
  },
  {
   "cell_type": "code",
   "execution_count": 20,
   "metadata": {},
   "outputs": [
    {
     "data": {
      "text/plain": [
       "<matplotlib.collections.PathCollection at 0x2707724e0f0>"
      ]
     },
     "execution_count": 20,
     "metadata": {},
     "output_type": "execute_result"
    },
    {
     "data": {
      "image/png": "[encoded data removed]",
      "text/plain": [
       "<Figure size 432x288 with 1 Axes>"
      ]
     },
     "metadata": {
      "needs_background": "light"
     },
     "output_type": "display_data"
    }
   ],
   "source": [
    "plt.scatter(dists,humidity_mins)"
   ]
  },
  {
   "cell_type": "markdown",
   "metadata": {},
   "source": [
    "最高湿度与海洋距离的关系"
   ]
  },
  {
   "cell_type": "code",
   "execution_count": 21,
   "metadata": {},
   "outputs": [
    {
     "data": {
      "text/plain": [
       "<matplotlib.collections.PathCollection at 0x270772b1358>"
      ]
     },
     "execution_count": 21,
     "metadata": {},
     "output_type": "execute_result"
    },
    {
     "data": {
      "image/png": "[encoded data removed]",
      "text/plain": [
       "<Figure size 432x288 with 1 Axes>"
      ]
     },
     "metadata": {
      "needs_background": "light"
     },
     "output_type": "display_data"
    }
   ],
   "source": [
    "dists = city_data[['dist']]\n",
    "humidity_maxs = city_data[['humidity_max']]\n",
    "plt.scatter(dists,humidity_maxs,)"
   ]
  },
  {
   "cell_type": "markdown",
   "metadata": {},
   "source": [
    "平均湿度与海洋距离的关系"
   ]
  },
  {
   "cell_type": "code",
   "execution_count": 22,
   "metadata": {},
   "outputs": [
    {
     "data": {
      "text/plain": [
       "<matplotlib.collections.PathCollection at 0x27077317048>"
      ]
     },
     "execution_count": 22,
     "metadata": {},
     "output_type": "execute_result"
    },
    {
     "data": {
      "image/png": "[encoded data removed]",
      "text/plain": [
       "<Figure size 432x288 with 1 Axes>"
      ]
     },
     "metadata": {
      "needs_background": "light"
     },
     "output_type": "display_data"
    }
   ],
   "source": [
    "dists = city_data[['dist']]\n",
    "humidity_mean = (city_data['humidity_min'] + city_data['humidity_max']) / 2\n",
    "plt.scatter(dists,humidity_mean,)"
   ]
  },
  {
   "cell_type": "markdown",
   "metadata": {},
   "source": [
    "思考：模仿最高温度，得到平均湿度与海洋距离的回归曲线"
   ]
  },
  {
   "cell_type": "markdown",
   "metadata": {},
   "source": [
    "风向与风速的关系"
   ]
  },
  {
   "cell_type": "code",
   "execution_count": 23,
   "metadata": {},
   "outputs": [
    {
     "data": {
      "text/html": [
       "<div>\n",
       "<style scoped>\n",
       "    .dataframe tbody tr th:only-of-type {\n",
       "        vertical-align: middle;\n",
       "    }\n",
       "\n",
       "    .dataframe tbody tr th {\n",
       "        vertical-align: top;\n",
       "    }\n",
       "\n",
       "    .dataframe thead th {\n",
       "        text-align: right;\n",
       "    }\n",
       "</style>\n",
       "<table border=\"1\" class=\"dataframe\">\n",
       "  <thead>\n",
       "    <tr style=\"text-align: right;\">\n",
       "      <th></th>\n",
       "      <th>temp</th>\n",
       "      <th>humidity</th>\n",
       "      <th>pressure</th>\n",
       "      <th>description</th>\n",
       "      <th>dt</th>\n",
       "      <th>wind_speed</th>\n",
       "      <th>wind_deg</th>\n",
       "      <th>city</th>\n",
       "      <th>day</th>\n",
       "      <th>dist</th>\n",
       "    </tr>\n",
       "  </thead>\n",
       "  <tbody>\n",
       "    <tr>\n",
       "      <th>0</th>\n",
       "      <td>28.05</td>\n",
       "      <td>66</td>\n",
       "      <td>1014.0</td>\n",
       "      <td>Sky is Clear</td>\n",
       "      <td>1436863176</td>\n",
       "      <td>2.57</td>\n",
       "      <td>42.501</td>\n",
       "      <td>Asti</td>\n",
       "      <td>2015-07-14 10:39:36</td>\n",
       "      <td>315</td>\n",
       "    </tr>\n",
       "    <tr>\n",
       "      <th>1</th>\n",
       "      <td>29.51</td>\n",
       "      <td>64</td>\n",
       "      <td>1014.0</td>\n",
       "      <td>Sky is Clear</td>\n",
       "      <td>1436866759</td>\n",
       "      <td>1.54</td>\n",
       "      <td>263.000</td>\n",
       "      <td>Asti</td>\n",
       "      <td>2015-07-14 11:39:19</td>\n",
       "      <td>315</td>\n",
       "    </tr>\n",
       "    <tr>\n",
       "      <th>2</th>\n",
       "      <td>30.39</td>\n",
       "      <td>58</td>\n",
       "      <td>1017.0</td>\n",
       "      <td>Sky is Clear</td>\n",
       "      <td>1436870510</td>\n",
       "      <td>2.60</td>\n",
       "      <td>100.000</td>\n",
       "      <td>Asti</td>\n",
       "      <td>2015-07-14 12:41:50</td>\n",
       "      <td>315</td>\n",
       "    </tr>\n",
       "    <tr>\n",
       "      <th>3</th>\n",
       "      <td>31.10</td>\n",
       "      <td>54</td>\n",
       "      <td>1017.0</td>\n",
       "      <td>Sky is Clear</td>\n",
       "      <td>1436874098</td>\n",
       "      <td>2.10</td>\n",
       "      <td>90.000</td>\n",
       "      <td>Asti</td>\n",
       "      <td>2015-07-14 13:41:38</td>\n",
       "      <td>315</td>\n",
       "    </tr>\n",
       "    <tr>\n",
       "      <th>4</th>\n",
       "      <td>33.23</td>\n",
       "      <td>45</td>\n",
       "      <td>1016.0</td>\n",
       "      <td>few clouds</td>\n",
       "      <td>1436877645</td>\n",
       "      <td>2.10</td>\n",
       "      <td>120.000</td>\n",
       "      <td>Asti</td>\n",
       "      <td>2015-07-14 14:40:45</td>\n",
       "      <td>315</td>\n",
       "    </tr>\n",
       "  </tbody>\n",
       "</table>\n",
       "</div>"
      ],
      "text/plain": [
       "    temp  humidity  pressure   description          dt  wind_speed  wind_deg  \\\n",
       "0  28.05        66    1014.0  Sky is Clear  1436863176        2.57    42.501   \n",
       "1  29.51        64    1014.0  Sky is Clear  1436866759        1.54   263.000   \n",
       "2  30.39        58    1017.0  Sky is Clear  1436870510        2.60   100.000   \n",
       "3  31.10        54    1017.0  Sky is Clear  1436874098        2.10    90.000   \n",
       "4  33.23        45    1016.0    few clouds  1436877645        2.10   120.000   \n",
       "\n",
       "   city                  day  dist  \n",
       "0  Asti  2015-07-14 10:39:36   315  \n",
       "1  Asti  2015-07-14 11:39:19   315  \n",
       "2  Asti  2015-07-14 12:41:50   315  \n",
       "3  Asti  2015-07-14 13:41:38   315  \n",
       "4  Asti  2015-07-14 14:40:45   315  "
      ]
     },
     "execution_count": 23,
     "metadata": {},
     "output_type": "execute_result"
    }
   ],
   "source": [
    "data_all.head()"
   ]
  },
  {
   "cell_type": "code",
   "execution_count": 24,
   "metadata": {},
   "outputs": [
    {
     "data": {
      "text/plain": [
       "<matplotlib.collections.PathCollection at 0x270773726d8>"
      ]
     },
     "execution_count": 24,
     "metadata": {},
     "output_type": "execute_result"
    },
    {
     "data": {
      "image/png": "[encoded data removed]",
      "text/plain": [
       "<Figure size 432x288 with 1 Axes>"
      ]
     },
     "metadata": {
      "needs_background": "light"
     },
     "output_type": "display_data"
    }
   ],
   "source": [
    "wind_speeds = data_all['wind_speed']\n",
    "wind_degs = data_all['wind_deg']\n",
    "plt.scatter(wind_degs,wind_speeds)"
   ]
  },
  {
   "cell_type": "markdown",
   "metadata": {},
   "source": [
    "在子图中，同时比较风向与湿度和风力的关系"
   ]
  },
  {
   "cell_type": "code",
   "execution_count": 99,
   "metadata": {},
   "outputs": [
    {
     "data": {
      "text/plain": [
       "<matplotlib.collections.PathCollection at 0x270010ca518>"
      ]
     },
     "execution_count": 99,
     "metadata": {},
     "output_type": "execute_result"
    },
    {
     "data": {
      "image/png": "[encoded data removed]",
      "text/plain": [
       "<Figure size 1152x288 with 2 Axes>"
      ]
     },
     "metadata": {
      "needs_background": "light"
     },
     "output_type": "display_data"
    }
   ],
   "source": [
    "plt.figure(figsize=(8*2,4))\n",
    "axes1 = plt.subplot(1,2,1)\n",
    "axes1.scatter(data_all['wind_deg'],data_all['wind_speed'])\n",
    "axes2 = plt.subplot(1,2,2)\n",
    "axes2.scatter(data_all['wind_deg'],data_all['humidity'])"
   ]
  },
  {
   "cell_type": "markdown",
   "metadata": {},
   "source": [
    "可以看到散点图显示效果不好"
   ]
  },
  {
   "cell_type": "markdown",
   "metadata": {},
   "source": [
    "由于风向是360度，我们可以考虑使用玫瑰图（极坐标条形图）"
   ]
  },
  {
   "cell_type": "markdown",
   "metadata": {},
   "source": [
    "首先自定义一个画图函数"
   ]
  },
  {
   "cell_type": "code",
   "execution_count": 156,
   "metadata": {
    "scrolled": true
   },
   "outputs": [],
   "source": [
    "def city_wind_deg(degree,ranges):\n",
    "    plt.axes([0.,0.,1.5,1.5], polar=True, facecolor='w')\n",
    "    ranges = np.arange(0,2*np.pi,2*np.pi/8)\n",
    "    colors = np.random.rand(8,3)\n",
    "    plt.bar(ranges, degree, color=colors,width = 2*np.pi/8)\n",
    "    plt.title('city_wind_deg')"
   ]
  },
  {
   "cell_type": "markdown",
   "metadata": {},
   "source": [
    "用numpy创建一个直方图，将360度划分为8个面元，将数据分类到这8个面元中"
   ]
  },
  {
   "cell_type": "code",
   "execution_count": 140,
   "metadata": {},
   "outputs": [
    {
     "data": {
      "text/plain": [
       "array([126,  88, 161,  86,  72,  58,  31,  53], dtype=int64)"
      ]
     },
     "metadata": {},
     "output_type": "display_data"
    },
    {
     "data": {
      "text/plain": [
       "array([  0.,  45.,  90., 135., 180., 225., 270., 315., 360.])"
      ]
     },
     "metadata": {},
     "output_type": "display_data"
    }
   ],
   "source": [
    "degree, ranges = np.histogram(data_all['wind_deg'], bins=8, range=[0,360])\n",
    "display(degree, ranges)"
   ]
  },
  {
   "cell_type": "code",
   "execution_count": 141,
   "metadata": {
    "collapsed": true
   },
   "outputs": [
    {
     "data": {
      "text/plain": [
       "<BarContainer object of 8 artists>"
      ]
     },
     "execution_count": 141,
     "metadata": {},
     "output_type": "execute_result"
    },
    {
     "data": {
      "image/png": "[encoded data removed]",
      "text/plain": [
       "<Figure size 432x288 with 1 Axes>"
      ]
     },
     "metadata": {
      "needs_background": "light"
     },
     "output_type": "display_data"
    }
   ],
   "source": [
    "ranges = np.arange(0,2*np.pi,2*np.pi/8)\n",
    "plt.bar(ranges, height= degree,width=0.5)"
   ]
  },
  {
   "cell_type": "markdown",
   "metadata": {
    "collapsed": true
   },
   "source": [
    "计算米兰各个方向上的风速"
   ]
  },
  {
   "cell_type": "code",
   "execution_count": 128,
   "metadata": {
    "scrolled": true
   },
   "outputs": [
    {
     "data": {
      "text/plain": [
       "array(['Asti', 'Bologna', 'Cesena', 'Faenza', 'Ferrara', 'Mantova',\n",
       "       'Milano', 'Piacenza', 'Ravenna', 'Torino'], dtype=object)"
      ]
     },
     "execution_count": 128,
     "metadata": {},
     "output_type": "execute_result"
    }
   ],
   "source": [
    "pd.unique(data_all['city'])"
   ]
  },
  {
   "cell_type": "code",
   "execution_count": 142,
   "metadata": {
    "collapsed": true
   },
   "outputs": [
    {
     "data": {
      "text/html": [
       "<div>\n",
       "<style scoped>\n",
       "    .dataframe tbody tr th:only-of-type {\n",
       "        vertical-align: middle;\n",
       "    }\n",
       "\n",
       "    .dataframe tbody tr th {\n",
       "        vertical-align: top;\n",
       "    }\n",
       "\n",
       "    .dataframe thead th {\n",
       "        text-align: right;\n",
       "    }\n",
       "</style>\n",
       "<table border=\"1\" class=\"dataframe\">\n",
       "  <thead>\n",
       "    <tr style=\"text-align: right;\">\n",
       "      <th></th>\n",
       "      <th>temp</th>\n",
       "      <th>humidity</th>\n",
       "      <th>pressure</th>\n",
       "      <th>description</th>\n",
       "      <th>dt</th>\n",
       "      <th>wind_speed</th>\n",
       "      <th>wind_deg</th>\n",
       "      <th>city</th>\n",
       "      <th>day</th>\n",
       "      <th>dist</th>\n",
       "    </tr>\n",
       "  </thead>\n",
       "  <tbody>\n",
       "    <tr>\n",
       "      <th>407</th>\n",
       "      <td>28.57</td>\n",
       "      <td>54</td>\n",
       "      <td>1016.0</td>\n",
       "      <td>Sky is Clear</td>\n",
       "      <td>1436863175</td>\n",
       "      <td>2.1</td>\n",
       "      <td>100.0</td>\n",
       "      <td>Milano</td>\n",
       "      <td>2015-07-14 10:39:35</td>\n",
       "      <td>250</td>\n",
       "    </tr>\n",
       "    <tr>\n",
       "      <th>408</th>\n",
       "      <td>29.74</td>\n",
       "      <td>48</td>\n",
       "      <td>1016.0</td>\n",
       "      <td>Sky is Clear</td>\n",
       "      <td>1436866758</td>\n",
       "      <td>2.6</td>\n",
       "      <td>0.0</td>\n",
       "      <td>Milano</td>\n",
       "      <td>2015-07-14 11:39:18</td>\n",
       "      <td>250</td>\n",
       "    </tr>\n",
       "    <tr>\n",
       "      <th>409</th>\n",
       "      <td>31.12</td>\n",
       "      <td>48</td>\n",
       "      <td>1016.0</td>\n",
       "      <td>Sky is Clear</td>\n",
       "      <td>1436870509</td>\n",
       "      <td>2.6</td>\n",
       "      <td>140.0</td>\n",
       "      <td>Milano</td>\n",
       "      <td>2015-07-14 12:41:49</td>\n",
       "      <td>250</td>\n",
       "    </tr>\n",
       "    <tr>\n",
       "      <th>410</th>\n",
       "      <td>32.16</td>\n",
       "      <td>45</td>\n",
       "      <td>1015.0</td>\n",
       "      <td>Sky is Clear</td>\n",
       "      <td>1436874098</td>\n",
       "      <td>2.1</td>\n",
       "      <td>0.0</td>\n",
       "      <td>Milano</td>\n",
       "      <td>2015-07-14 13:41:38</td>\n",
       "      <td>250</td>\n",
       "    </tr>\n",
       "    <tr>\n",
       "      <th>411</th>\n",
       "      <td>33.59</td>\n",
       "      <td>43</td>\n",
       "      <td>1015.0</td>\n",
       "      <td>Sky is Clear</td>\n",
       "      <td>1436877644</td>\n",
       "      <td>3.1</td>\n",
       "      <td>80.0</td>\n",
       "      <td>Milano</td>\n",
       "      <td>2015-07-14 14:40:44</td>\n",
       "      <td>250</td>\n",
       "    </tr>\n",
       "  </tbody>\n",
       "</table>\n",
       "</div>"
      ],
      "text/plain": [
       "      temp  humidity  pressure   description          dt  wind_speed  \\\n",
       "407  28.57        54    1016.0  Sky is Clear  1436863175         2.1   \n",
       "408  29.74        48    1016.0  Sky is Clear  1436866758         2.6   \n",
       "409  31.12        48    1016.0  Sky is Clear  1436870509         2.6   \n",
       "410  32.16        45    1015.0  Sky is Clear  1436874098         2.1   \n",
       "411  33.59        43    1015.0  Sky is Clear  1436877644         3.1   \n",
       "\n",
       "     wind_deg    city                  day  dist  \n",
       "407     100.0  Milano  2015-07-14 10:39:35   250  \n",
       "408       0.0  Milano  2015-07-14 11:39:18   250  \n",
       "409     140.0  Milano  2015-07-14 12:41:49   250  \n",
       "410       0.0  Milano  2015-07-14 13:41:38   250  \n",
       "411      80.0  Milano  2015-07-14 14:40:44   250  "
      ]
     },
     "execution_count": 142,
     "metadata": {},
     "output_type": "execute_result"
    }
   ],
   "source": [
    "milan_wind_deg = data_all[data_all['city']=='Milano']\n",
    "milan_wind_deg.head()"
   ]
  },
  {
   "cell_type": "code",
   "execution_count": 153,
   "metadata": {
    "collapsed": true
   },
   "outputs": [
    {
     "data": {
      "text/html": [
       "<div>\n",
       "<style scoped>\n",
       "    .dataframe tbody tr th:only-of-type {\n",
       "        vertical-align: middle;\n",
       "    }\n",
       "\n",
       "    .dataframe tbody tr th {\n",
       "        vertical-align: top;\n",
       "    }\n",
       "\n",
       "    .dataframe thead th {\n",
       "        text-align: right;\n",
       "    }\n",
       "</style>\n",
       "<table border=\"1\" class=\"dataframe\">\n",
       "  <thead>\n",
       "    <tr style=\"text-align: right;\">\n",
       "      <th></th>\n",
       "      <th>wind_speed</th>\n",
       "    </tr>\n",
       "    <tr>\n",
       "      <th>wind_deg</th>\n",
       "      <th></th>\n",
       "    </tr>\n",
       "  </thead>\n",
       "  <tbody>\n",
       "    <tr>\n",
       "      <th>0.0</th>\n",
       "      <td>1.406667</td>\n",
       "    </tr>\n",
       "    <tr>\n",
       "      <th>10.0</th>\n",
       "      <td>3.050000</td>\n",
       "    </tr>\n",
       "    <tr>\n",
       "      <th>20.0</th>\n",
       "      <td>2.100000</td>\n",
       "    </tr>\n",
       "    <tr>\n",
       "      <th>30.0</th>\n",
       "      <td>3.600000</td>\n",
       "    </tr>\n",
       "    <tr>\n",
       "      <th>40.0</th>\n",
       "      <td>2.600000</td>\n",
       "    </tr>\n",
       "    <tr>\n",
       "      <th>50.0</th>\n",
       "      <td>2.600000</td>\n",
       "    </tr>\n",
       "    <tr>\n",
       "      <th>60.0</th>\n",
       "      <td>1.500000</td>\n",
       "    </tr>\n",
       "    <tr>\n",
       "      <th>70.0</th>\n",
       "      <td>1.866667</td>\n",
       "    </tr>\n",
       "    <tr>\n",
       "      <th>80.0</th>\n",
       "      <td>2.575000</td>\n",
       "    </tr>\n",
       "    <tr>\n",
       "      <th>90.0</th>\n",
       "      <td>2.400000</td>\n",
       "    </tr>\n",
       "    <tr>\n",
       "      <th>100.0</th>\n",
       "      <td>2.600000</td>\n",
       "    </tr>\n",
       "    <tr>\n",
       "      <th>110.0</th>\n",
       "      <td>1.500000</td>\n",
       "    </tr>\n",
       "    <tr>\n",
       "      <th>120.0</th>\n",
       "      <td>4.600000</td>\n",
       "    </tr>\n",
       "    <tr>\n",
       "      <th>130.0</th>\n",
       "      <td>3.600000</td>\n",
       "    </tr>\n",
       "    <tr>\n",
       "      <th>140.0</th>\n",
       "      <td>2.325000</td>\n",
       "    </tr>\n",
       "    <tr>\n",
       "      <th>150.0</th>\n",
       "      <td>4.100000</td>\n",
       "    </tr>\n",
       "    <tr>\n",
       "      <th>160.0</th>\n",
       "      <td>2.100000</td>\n",
       "    </tr>\n",
       "    <tr>\n",
       "      <th>200.0</th>\n",
       "      <td>1.950000</td>\n",
       "    </tr>\n",
       "    <tr>\n",
       "      <th>210.0</th>\n",
       "      <td>2.400000</td>\n",
       "    </tr>\n",
       "    <tr>\n",
       "      <th>220.0</th>\n",
       "      <td>2.600000</td>\n",
       "    </tr>\n",
       "    <tr>\n",
       "      <th>230.0</th>\n",
       "      <td>2.100000</td>\n",
       "    </tr>\n",
       "    <tr>\n",
       "      <th>250.0</th>\n",
       "      <td>2.600000</td>\n",
       "    </tr>\n",
       "    <tr>\n",
       "      <th>270.0</th>\n",
       "      <td>2.600000</td>\n",
       "    </tr>\n",
       "    <tr>\n",
       "      <th>310.0</th>\n",
       "      <td>1.500000</td>\n",
       "    </tr>\n",
       "    <tr>\n",
       "      <th>320.0</th>\n",
       "      <td>2.100000</td>\n",
       "    </tr>\n",
       "    <tr>\n",
       "      <th>350.0</th>\n",
       "      <td>2.100000</td>\n",
       "    </tr>\n",
       "  </tbody>\n",
       "</table>\n",
       "</div>"
      ],
      "text/plain": [
       "          wind_speed\n",
       "wind_deg            \n",
       "0.0         1.406667\n",
       "10.0        3.050000\n",
       "20.0        2.100000\n",
       "30.0        3.600000\n",
       "40.0        2.600000\n",
       "50.0        2.600000\n",
       "60.0        1.500000\n",
       "70.0        1.866667\n",
       "80.0        2.575000\n",
       "90.0        2.400000\n",
       "100.0       2.600000\n",
       "110.0       1.500000\n",
       "120.0       4.600000\n",
       "130.0       3.600000\n",
       "140.0       2.325000\n",
       "150.0       4.100000\n",
       "160.0       2.100000\n",
       "200.0       1.950000\n",
       "210.0       2.400000\n",
       "220.0       2.600000\n",
       "230.0       2.100000\n",
       "250.0       2.600000\n",
       "270.0       2.600000\n",
       "310.0       1.500000\n",
       "320.0       2.100000\n",
       "350.0       2.100000"
      ]
     },
     "execution_count": 153,
     "metadata": {},
     "output_type": "execute_result"
    }
   ],
   "source": [
    "milan_wind_speed = milan_wind_deg.groupby(['wind_deg'])[['wind_speed']].mean()\n",
    "milan_wind_speed"
   ]
  },
  {
   "cell_type": "markdown",
   "metadata": {},
   "source": [
    "将各个方向的风速保存在列表中"
   ]
  },
  {
   "cell_type": "code",
   "execution_count": 154,
   "metadata": {},
   "outputs": [
    {
     "data": {
      "text/plain": [
       "array([21,  9,  9,  6, 14,  3,  2,  2], dtype=int64)"
      ]
     },
     "metadata": {},
     "output_type": "display_data"
    },
    {
     "data": {
      "text/plain": [
       "array([  0.,  45.,  90., 135., 180., 225., 270., 315., 360.])"
      ]
     },
     "metadata": {},
     "output_type": "display_data"
    }
   ],
   "source": [
    "degree, ranges = np.histogram(milan_wind_deg['wind_deg'], bins=8, range=[0,360])\n",
    "display(degree, ranges)"
   ]
  },
  {
   "cell_type": "markdown",
   "metadata": {},
   "source": [
    "画出各个方向的风速"
   ]
  },
  {
   "cell_type": "code",
   "execution_count": 157,
   "metadata": {
    "collapsed": true
   },
   "outputs": [
    {
     "data": {
      "image/png": "[encoded data removed]",
      "text/plain": [
       "<Figure size 432x288 with 1 Axes>"
      ]
     },
     "metadata": {
      "needs_background": "light"
     },
     "output_type": "display_data"
    }
   ],
   "source": [
    "city_wind_deg(degree,ranges)"
   ]
  },
  {
   "cell_type": "markdown",
   "metadata": {},
   "source": [
    "将上面步骤写成函数"
   ]
  },
  {
   "cell_type": "code",
   "execution_count": 169,
   "metadata": {},
   "outputs": [],
   "source": [
    "def city_wind_deg(city_name):\n",
    "    city_wind_deg = data_all[data_all['city']== city_name]\n",
    "    degree, ranges = np.histogram(city_wind_deg['wind_deg'], bins=8, range=[0,360])\n",
    "    plt.axes([0.,0.,1.5,1.5], polar=True, facecolor='w')\n",
    "    ranges = np.arange(0,2*np.pi,2*np.pi/8)\n",
    "    colors = np.random.rand(8,3)\n",
    "    plt.bar(ranges, degree, color=colors,width = 2*np.pi/8)\n",
    "    plt.title('city_wind_deg')"
   ]
  },
  {
   "cell_type": "code",
   "execution_count": 170,
   "metadata": {},
   "outputs": [
    {
     "data": {
      "image/png": "[encoded data removed]",
      "text/plain": [
       "<Figure size 432x288 with 1 Axes>"
      ]
     },
     "metadata": {
      "needs_background": "light"
     },
     "output_type": "display_data"
    }
   ],
   "source": [
    "city_wind_deg('Milano')"
   ]
  },
  {
   "cell_type": "code",
   "execution_count": null,
   "metadata": {},
   "outputs": [],
   "source": []
  }
 ],
 "metadata": {
  "kernelspec": {
   "display_name": "Python 3",
   "language": "python",
   "name": "python3"
  },
  "language_info": {
   "codemirror_mode": {
    "name": "ipython",
    "version": 3
   },
   "file_extension": ".py",
   "mimetype": "text/x-python",
   "name": "python",
   "nbconvert_exporter": "python",
   "pygments_lexer": "ipython3",
   "version": "3.6.3"
  }
 },
 "nbformat": 4,
 "nbformat_minor": 1
}
