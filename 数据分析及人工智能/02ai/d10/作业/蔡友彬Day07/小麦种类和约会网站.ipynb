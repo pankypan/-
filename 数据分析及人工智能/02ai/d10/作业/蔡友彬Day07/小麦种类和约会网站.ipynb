{
 "cells": [
  {
   "cell_type": "code",
   "execution_count": 1,
   "metadata": {},
   "outputs": [],
   "source": [
    "import numpy as np\n",
    "import pandas as pd\n",
    "from pandas import DataFrame, Series\n",
    "import matplotlib.pyplot as plt\n",
    "%matplotlib inline"
   ]
  },
  {
   "cell_type": "markdown",
   "metadata": {},
   "source": [
    "#### 小麦种类预测"
   ]
  },
  {
   "cell_type": "markdown",
   "metadata": {},
   "source": [
    "读取seeds.tsv文件，最后一列是小麦品种，其他列是小麦特征"
   ]
  },
  {
   "cell_type": "code",
   "execution_count": 2,
   "metadata": {},
   "outputs": [
    {
     "data": {
      "text/html": [
       "<div>\n",
       "<style scoped>\n",
       "    .dataframe tbody tr th:only-of-type {\n",
       "        vertical-align: middle;\n",
       "    }\n",
       "\n",
       "    .dataframe tbody tr th {\n",
       "        vertical-align: top;\n",
       "    }\n",
       "\n",
       "    .dataframe thead th {\n",
       "        text-align: right;\n",
       "    }\n",
       "</style>\n",
       "<table border=\"1\" class=\"dataframe\">\n",
       "  <thead>\n",
       "    <tr style=\"text-align: right;\">\n",
       "      <th></th>\n",
       "      <th>0</th>\n",
       "      <th>1</th>\n",
       "      <th>2</th>\n",
       "      <th>3</th>\n",
       "      <th>4</th>\n",
       "      <th>5</th>\n",
       "      <th>6</th>\n",
       "      <th>7</th>\n",
       "    </tr>\n",
       "  </thead>\n",
       "  <tbody>\n",
       "    <tr>\n",
       "      <th>200</th>\n",
       "      <td>12.38</td>\n",
       "      <td>13.44</td>\n",
       "      <td>0.8609</td>\n",
       "      <td>5.219</td>\n",
       "      <td>2.989</td>\n",
       "      <td>5.472</td>\n",
       "      <td>5.045</td>\n",
       "      <td>Canadian</td>\n",
       "    </tr>\n",
       "    <tr>\n",
       "      <th>201</th>\n",
       "      <td>12.67</td>\n",
       "      <td>13.32</td>\n",
       "      <td>0.8977</td>\n",
       "      <td>4.984</td>\n",
       "      <td>3.135</td>\n",
       "      <td>2.300</td>\n",
       "      <td>4.745</td>\n",
       "      <td>Canadian</td>\n",
       "    </tr>\n",
       "    <tr>\n",
       "      <th>202</th>\n",
       "      <td>11.18</td>\n",
       "      <td>12.72</td>\n",
       "      <td>0.8680</td>\n",
       "      <td>5.009</td>\n",
       "      <td>2.810</td>\n",
       "      <td>4.051</td>\n",
       "      <td>4.828</td>\n",
       "      <td>Canadian</td>\n",
       "    </tr>\n",
       "    <tr>\n",
       "      <th>203</th>\n",
       "      <td>12.70</td>\n",
       "      <td>13.41</td>\n",
       "      <td>0.8874</td>\n",
       "      <td>5.183</td>\n",
       "      <td>3.091</td>\n",
       "      <td>8.456</td>\n",
       "      <td>5.000</td>\n",
       "      <td>Canadian</td>\n",
       "    </tr>\n",
       "    <tr>\n",
       "      <th>204</th>\n",
       "      <td>12.37</td>\n",
       "      <td>13.47</td>\n",
       "      <td>0.8567</td>\n",
       "      <td>5.204</td>\n",
       "      <td>2.960</td>\n",
       "      <td>3.919</td>\n",
       "      <td>5.001</td>\n",
       "      <td>Canadian</td>\n",
       "    </tr>\n",
       "    <tr>\n",
       "      <th>205</th>\n",
       "      <td>12.19</td>\n",
       "      <td>13.20</td>\n",
       "      <td>0.8783</td>\n",
       "      <td>5.137</td>\n",
       "      <td>2.981</td>\n",
       "      <td>3.631</td>\n",
       "      <td>4.870</td>\n",
       "      <td>Canadian</td>\n",
       "    </tr>\n",
       "    <tr>\n",
       "      <th>206</th>\n",
       "      <td>11.23</td>\n",
       "      <td>12.88</td>\n",
       "      <td>0.8511</td>\n",
       "      <td>5.140</td>\n",
       "      <td>2.795</td>\n",
       "      <td>4.325</td>\n",
       "      <td>5.003</td>\n",
       "      <td>Canadian</td>\n",
       "    </tr>\n",
       "    <tr>\n",
       "      <th>207</th>\n",
       "      <td>13.20</td>\n",
       "      <td>13.66</td>\n",
       "      <td>0.8883</td>\n",
       "      <td>5.236</td>\n",
       "      <td>3.232</td>\n",
       "      <td>8.315</td>\n",
       "      <td>5.056</td>\n",
       "      <td>Canadian</td>\n",
       "    </tr>\n",
       "    <tr>\n",
       "      <th>208</th>\n",
       "      <td>11.84</td>\n",
       "      <td>13.21</td>\n",
       "      <td>0.8521</td>\n",
       "      <td>5.175</td>\n",
       "      <td>2.836</td>\n",
       "      <td>3.598</td>\n",
       "      <td>5.044</td>\n",
       "      <td>Canadian</td>\n",
       "    </tr>\n",
       "    <tr>\n",
       "      <th>209</th>\n",
       "      <td>12.30</td>\n",
       "      <td>13.34</td>\n",
       "      <td>0.8684</td>\n",
       "      <td>5.243</td>\n",
       "      <td>2.974</td>\n",
       "      <td>5.637</td>\n",
       "      <td>5.063</td>\n",
       "      <td>Canadian</td>\n",
       "    </tr>\n",
       "  </tbody>\n",
       "</table>\n",
       "</div>"
      ],
      "text/plain": [
       "         0      1       2      3      4      5      6         7\n",
       "200  12.38  13.44  0.8609  5.219  2.989  5.472  5.045  Canadian\n",
       "201  12.67  13.32  0.8977  4.984  3.135  2.300  4.745  Canadian\n",
       "202  11.18  12.72  0.8680  5.009  2.810  4.051  4.828  Canadian\n",
       "203  12.70  13.41  0.8874  5.183  3.091  8.456  5.000  Canadian\n",
       "204  12.37  13.47  0.8567  5.204  2.960  3.919  5.001  Canadian\n",
       "205  12.19  13.20  0.8783  5.137  2.981  3.631  4.870  Canadian\n",
       "206  11.23  12.88  0.8511  5.140  2.795  4.325  5.003  Canadian\n",
       "207  13.20  13.66  0.8883  5.236  3.232  8.315  5.056  Canadian\n",
       "208  11.84  13.21  0.8521  5.175  2.836  3.598  5.044  Canadian\n",
       "209  12.30  13.34  0.8684  5.243  2.974  5.637  5.063  Canadian"
      ]
     },
     "execution_count": 2,
     "metadata": {},
     "output_type": "execute_result"
    }
   ],
   "source": [
    "wheat = pd.read_csv('./data/seeds.tsv', sep='\\t', header=None)\n",
    "wheat.tail(10)"
   ]
  },
  {
   "cell_type": "code",
   "execution_count": 3,
   "metadata": {},
   "outputs": [
    {
     "data": {
      "text/plain": [
       "array([[15.26, 14.84, 0.871, ..., 3.312, 2.221, 5.22],\n",
       "       [14.88, 14.57, 0.8811, ..., 3.333, 1.018, 4.956],\n",
       "       [14.29, 14.09, 0.905, ..., 3.3369999999999997, 2.699, 4.825],\n",
       "       ...,\n",
       "       [13.2, 13.66, 0.8883, ..., 3.2319999999999998, 8.315, 5.056],\n",
       "       [11.84, 13.21, 0.8521, ..., 2.8360000000000003,\n",
       "        3.5980000000000003, 5.044],\n",
       "       [12.3, 13.34, 0.8684, ..., 2.9739999999999998, 5.6370000000000005,\n",
       "        5.063]], dtype=object)"
      ]
     },
     "execution_count": 3,
     "metadata": {},
     "output_type": "execute_result"
    }
   ],
   "source": [
    "data = wheat.values[:,0:7]\n",
    "data"
   ]
  },
  {
   "cell_type": "code",
   "execution_count": 4,
   "metadata": {},
   "outputs": [
    {
     "data": {
      "text/plain": [
       "array(['Kama', 'Kama', 'Kama', 'Kama', 'Kama', 'Kama', 'Kama', 'Kama',\n",
       "       'Kama', 'Kama', 'Kama', 'Kama', 'Kama', 'Kama', 'Kama', 'Kama',\n",
       "       'Kama', 'Kama', 'Kama', 'Kama', 'Kama', 'Kama', 'Kama', 'Kama',\n",
       "       'Kama', 'Kama', 'Kama', 'Kama', 'Kama', 'Kama', 'Kama', 'Kama',\n",
       "       'Kama', 'Kama', 'Kama', 'Kama', 'Kama', 'Kama', 'Kama', 'Kama',\n",
       "       'Kama', 'Kama', 'Kama', 'Kama', 'Kama', 'Kama', 'Kama', 'Kama',\n",
       "       'Kama', 'Kama', 'Kama', 'Kama', 'Kama', 'Kama', 'Kama', 'Kama',\n",
       "       'Kama', 'Kama', 'Kama', 'Kama', 'Kama', 'Kama', 'Kama', 'Kama',\n",
       "       'Kama', 'Kama', 'Kama', 'Kama', 'Kama', 'Kama', 'Rosa', 'Rosa',\n",
       "       'Rosa', 'Rosa', 'Rosa', 'Rosa', 'Rosa', 'Rosa', 'Rosa', 'Rosa',\n",
       "       'Rosa', 'Rosa', 'Rosa', 'Rosa', 'Rosa', 'Rosa', 'Rosa', 'Rosa',\n",
       "       'Rosa', 'Rosa', 'Rosa', 'Rosa', 'Rosa', 'Rosa', 'Rosa', 'Rosa',\n",
       "       'Rosa', 'Rosa', 'Rosa', 'Rosa', 'Rosa', 'Rosa', 'Rosa', 'Rosa',\n",
       "       'Rosa', 'Rosa', 'Rosa', 'Rosa', 'Rosa', 'Rosa', 'Rosa', 'Rosa',\n",
       "       'Rosa', 'Rosa', 'Rosa', 'Rosa', 'Rosa', 'Rosa', 'Rosa', 'Rosa',\n",
       "       'Rosa', 'Rosa', 'Rosa', 'Rosa', 'Rosa', 'Rosa', 'Rosa', 'Rosa',\n",
       "       'Rosa', 'Rosa', 'Rosa', 'Rosa', 'Rosa', 'Rosa', 'Rosa', 'Rosa',\n",
       "       'Rosa', 'Rosa', 'Rosa', 'Rosa', 'Canadian', 'Canadian', 'Canadian',\n",
       "       'Canadian', 'Canadian', 'Canadian', 'Canadian', 'Canadian',\n",
       "       'Canadian', 'Canadian', 'Canadian', 'Canadian', 'Canadian',\n",
       "       'Canadian', 'Canadian', 'Canadian', 'Canadian', 'Canadian',\n",
       "       'Canadian', 'Canadian', 'Canadian', 'Canadian', 'Canadian',\n",
       "       'Canadian', 'Canadian', 'Canadian', 'Canadian', 'Canadian',\n",
       "       'Canadian', 'Canadian', 'Canadian', 'Canadian', 'Canadian',\n",
       "       'Canadian', 'Canadian', 'Canadian', 'Canadian', 'Canadian',\n",
       "       'Canadian', 'Canadian', 'Canadian', 'Canadian', 'Canadian',\n",
       "       'Canadian', 'Canadian', 'Canadian', 'Canadian', 'Canadian',\n",
       "       'Canadian', 'Canadian', 'Canadian', 'Canadian', 'Canadian',\n",
       "       'Canadian', 'Canadian', 'Canadian', 'Canadian', 'Canadian',\n",
       "       'Canadian', 'Canadian', 'Canadian', 'Canadian', 'Canadian',\n",
       "       'Canadian', 'Canadian', 'Canadian', 'Canadian', 'Canadian',\n",
       "       'Canadian', 'Canadian'], dtype=object)"
      ]
     },
     "execution_count": 4,
     "metadata": {},
     "output_type": "execute_result"
    }
   ],
   "source": [
    "target = wheat.values[:,-1]\n",
    "target"
   ]
  },
  {
   "cell_type": "code",
   "execution_count": 5,
   "metadata": {},
   "outputs": [],
   "source": [
    "from sklearn.neighbors import KNeighborsClassifier\n",
    "from sklearn.model_selection import train_test_split"
   ]
  },
  {
   "cell_type": "code",
   "execution_count": 6,
   "metadata": {},
   "outputs": [],
   "source": [
    "X_train, X_test, y_train, y_test = train_test_split(data, target, test_size=0.2)"
   ]
  },
  {
   "cell_type": "code",
   "execution_count": 7,
   "metadata": {},
   "outputs": [],
   "source": [
    "knn = KNeighborsClassifier().fit(X_train, y_train)"
   ]
  },
  {
   "cell_type": "code",
   "execution_count": 8,
   "metadata": {},
   "outputs": [],
   "source": [
    "y_ = knn.predict(X_test)"
   ]
  },
  {
   "cell_type": "code",
   "execution_count": 9,
   "metadata": {},
   "outputs": [
    {
     "data": {
      "text/plain": [
       "0.9345238095238095"
      ]
     },
     "execution_count": 9,
     "metadata": {},
     "output_type": "execute_result"
    }
   ],
   "source": [
    "knn.score(X_train, y_train)"
   ]
  },
  {
   "cell_type": "code",
   "execution_count": 10,
   "metadata": {},
   "outputs": [
    {
     "data": {
      "text/plain": [
       "0.8333333333333334"
      ]
     },
     "execution_count": 10,
     "metadata": {},
     "output_type": "execute_result"
    }
   ],
   "source": [
    "knn.score(X_test, y_test)"
   ]
  },
  {
   "cell_type": "markdown",
   "metadata": {},
   "source": [
    "正则化"
   ]
  },
  {
   "cell_type": "code",
   "execution_count": 11,
   "metadata": {},
   "outputs": [
    {
     "data": {
      "text/plain": [
       "0.9166666666666666"
      ]
     },
     "metadata": {},
     "output_type": "display_data"
    },
    {
     "data": {
      "text/plain": [
       "0.9047619047619048"
      ]
     },
     "metadata": {},
     "output_type": "display_data"
    }
   ],
   "source": [
    "data = (data - data.min())/(data.max() - data.min())\n",
    "X_train, X_test, y_train, y_test = train_test_split(data, target, test_size=0.2)\n",
    "knn = KNeighborsClassifier().fit(X_train, y_train)\n",
    "y_ = knn.predict(X_test)\n",
    "display(knn.score(X_train, y_train), knn.score(X_test, y_test))"
   ]
  },
  {
   "cell_type": "markdown",
   "metadata": {},
   "source": [
    "#### 改进约会网站的匹配效果"
   ]
  },
  {
   "cell_type": "markdown",
   "metadata": {},
   "source": [
    "读取datingTestSet.txt文件，最后一列是喜欢程度。模型：根据前几列的信息，预测喜欢程度"
   ]
  },
  {
   "cell_type": "code",
   "execution_count": 12,
   "metadata": {
    "scrolled": true
   },
   "outputs": [
    {
     "data": {
      "text/html": [
       "<div>\n",
       "<style scoped>\n",
       "    .dataframe tbody tr th:only-of-type {\n",
       "        vertical-align: middle;\n",
       "    }\n",
       "\n",
       "    .dataframe tbody tr th {\n",
       "        vertical-align: top;\n",
       "    }\n",
       "\n",
       "    .dataframe thead th {\n",
       "        text-align: right;\n",
       "    }\n",
       "</style>\n",
       "<table border=\"1\" class=\"dataframe\">\n",
       "  <thead>\n",
       "    <tr style=\"text-align: right;\">\n",
       "      <th></th>\n",
       "      <th>0</th>\n",
       "      <th>1</th>\n",
       "      <th>2</th>\n",
       "      <th>3</th>\n",
       "    </tr>\n",
       "  </thead>\n",
       "  <tbody>\n",
       "    <tr>\n",
       "      <th>990</th>\n",
       "      <td>27750</td>\n",
       "      <td>8.546741</td>\n",
       "      <td>0.128706</td>\n",
       "      <td>largeDoses</td>\n",
       "    </tr>\n",
       "    <tr>\n",
       "      <th>991</th>\n",
       "      <td>9868</td>\n",
       "      <td>2.694977</td>\n",
       "      <td>0.432818</td>\n",
       "      <td>smallDoses</td>\n",
       "    </tr>\n",
       "    <tr>\n",
       "      <th>992</th>\n",
       "      <td>18333</td>\n",
       "      <td>3.951256</td>\n",
       "      <td>0.333300</td>\n",
       "      <td>smallDoses</td>\n",
       "    </tr>\n",
       "    <tr>\n",
       "      <th>993</th>\n",
       "      <td>3780</td>\n",
       "      <td>9.856183</td>\n",
       "      <td>0.329181</td>\n",
       "      <td>smallDoses</td>\n",
       "    </tr>\n",
       "    <tr>\n",
       "      <th>994</th>\n",
       "      <td>18190</td>\n",
       "      <td>2.068962</td>\n",
       "      <td>0.429927</td>\n",
       "      <td>smallDoses</td>\n",
       "    </tr>\n",
       "    <tr>\n",
       "      <th>995</th>\n",
       "      <td>11145</td>\n",
       "      <td>3.410627</td>\n",
       "      <td>0.631838</td>\n",
       "      <td>smallDoses</td>\n",
       "    </tr>\n",
       "    <tr>\n",
       "      <th>996</th>\n",
       "      <td>68846</td>\n",
       "      <td>9.974715</td>\n",
       "      <td>0.669787</td>\n",
       "      <td>didntLike</td>\n",
       "    </tr>\n",
       "    <tr>\n",
       "      <th>997</th>\n",
       "      <td>26575</td>\n",
       "      <td>10.650102</td>\n",
       "      <td>0.866627</td>\n",
       "      <td>largeDoses</td>\n",
       "    </tr>\n",
       "    <tr>\n",
       "      <th>998</th>\n",
       "      <td>48111</td>\n",
       "      <td>9.134528</td>\n",
       "      <td>0.728045</td>\n",
       "      <td>largeDoses</td>\n",
       "    </tr>\n",
       "    <tr>\n",
       "      <th>999</th>\n",
       "      <td>43757</td>\n",
       "      <td>7.882601</td>\n",
       "      <td>1.332446</td>\n",
       "      <td>largeDoses</td>\n",
       "    </tr>\n",
       "  </tbody>\n",
       "</table>\n",
       "</div>"
      ],
      "text/plain": [
       "         0          1         2           3\n",
       "990  27750   8.546741  0.128706  largeDoses\n",
       "991   9868   2.694977  0.432818  smallDoses\n",
       "992  18333   3.951256  0.333300  smallDoses\n",
       "993   3780   9.856183  0.329181  smallDoses\n",
       "994  18190   2.068962  0.429927  smallDoses\n",
       "995  11145   3.410627  0.631838  smallDoses\n",
       "996  68846   9.974715  0.669787   didntLike\n",
       "997  26575  10.650102  0.866627  largeDoses\n",
       "998  48111   9.134528  0.728045  largeDoses\n",
       "999  43757   7.882601  1.332446  largeDoses"
      ]
     },
     "execution_count": 12,
     "metadata": {},
     "output_type": "execute_result"
    }
   ],
   "source": [
    "wechat = pd.read_csv('./data/datingTestSet.txt', sep='\\t', header=None)\n",
    "wechat.tail(10)"
   ]
  },
  {
   "cell_type": "code",
   "execution_count": 13,
   "metadata": {},
   "outputs": [],
   "source": [
    "data = wechat.values[:,0:2]\n",
    "target = wechat.values[:,-1]\n",
    "X_train, X_test, y_train, y_test = train_test_split(data, target, test_size=0.3)"
   ]
  },
  {
   "cell_type": "code",
   "execution_count": 14,
   "metadata": {},
   "outputs": [
    {
     "data": {
      "text/plain": [
       "0.8542857142857143"
      ]
     },
     "metadata": {},
     "output_type": "display_data"
    },
    {
     "data": {
      "text/plain": [
       "0.79"
      ]
     },
     "metadata": {},
     "output_type": "display_data"
    }
   ],
   "source": [
    "knn = KNeighborsClassifier().fit(X_train, y_train)\n",
    "y_ = knn.predict(X_test)\n",
    "display(knn.score(X_train, y_train), knn.score(X_test, y_test))"
   ]
  },
  {
   "cell_type": "code",
   "execution_count": 15,
   "metadata": {},
   "outputs": [],
   "source": [
    "data = (data - data.min())/(data.max() - data.min())\n",
    "X_train, X_test, y_train, y_test = train_test_split(data, target, test_size=0.3)"
   ]
  },
  {
   "cell_type": "code",
   "execution_count": 16,
   "metadata": {},
   "outputs": [
    {
     "data": {
      "text/plain": [
       "0.86"
      ]
     },
     "metadata": {},
     "output_type": "display_data"
    },
    {
     "data": {
      "text/plain": [
       "0.7866666666666666"
      ]
     },
     "metadata": {},
     "output_type": "display_data"
    }
   ],
   "source": [
    "knn = KNeighborsClassifier().fit(X_train, y_train)\n",
    "y_ = knn.predict(X_test)\n",
    "display(knn.score(X_train, y_train), knn.score(X_test, y_test))"
   ]
  }
 ],
 "metadata": {
  "kernelspec": {
   "display_name": "Python 3",
   "language": "python",
   "name": "python3"
  },
  "language_info": {
   "codemirror_mode": {
    "name": "ipython",
    "version": 3
   },
   "file_extension": ".py",
   "mimetype": "text/x-python",
   "name": "python",
   "nbconvert_exporter": "python",
   "pygments_lexer": "ipython3",
   "version": "3.6.8"
  }
 },
 "nbformat": 4,
 "nbformat_minor": 2
}
