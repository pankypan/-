{
 "cells": [
  {
   "cell_type": "markdown",
   "metadata": {},
   "source": [
    "# 城市气候与海洋的关系研究"
   ]
  },
  {
   "cell_type": "markdown",
   "metadata": {},
   "source": [
    "#### 导入包"
   ]
  },
  {
   "cell_type": "code",
   "execution_count": 1,
   "metadata": {},
   "outputs": [],
   "source": [
    "import numpy as np\n",
    "import pandas as pd\n",
    "from pandas import DataFrame, Series\n",
    "import matplotlib.pyplot as plt\n",
    "%matplotlib inline"
   ]
  },
  {
   "cell_type": "code",
   "execution_count": 2,
   "metadata": {},
   "outputs": [],
   "source": [
    "import glob"
   ]
  },
  {
   "cell_type": "markdown",
   "metadata": {},
   "source": [
    "#### 导入数据各个海滨城市数据"
   ]
  },
  {
   "cell_type": "code",
   "execution_count": 3,
   "metadata": {},
   "outputs": [
    {
     "data": {
      "text/plain": [
       "['.\\\\asti_150715.csv',\n",
       " '.\\\\asti_250715.csv',\n",
       " '.\\\\asti_270615.csv',\n",
       " '.\\\\bologna_150715.csv',\n",
       " '.\\\\bologna_250715.csv',\n",
       " '.\\\\bologna_270615.csv',\n",
       " '.\\\\cesena_150715.csv',\n",
       " '.\\\\cesena_250715.csv',\n",
       " '.\\\\cesena_270615.csv',\n",
       " '.\\\\faenza_150715.csv',\n",
       " '.\\\\faenza_250715.csv',\n",
       " '.\\\\faenza_270615.csv',\n",
       " '.\\\\ferrara_150715.csv',\n",
       " '.\\\\ferrara_250715.csv',\n",
       " '.\\\\ferrara_270615.csv',\n",
       " '.\\\\mantova_150715.csv',\n",
       " '.\\\\mantova_250715.csv',\n",
       " '.\\\\mantova_270615.csv',\n",
       " '.\\\\milano_150715.csv',\n",
       " '.\\\\milano_250715.csv',\n",
       " '.\\\\milano_270615.csv',\n",
       " '.\\\\piacenza_150715.csv',\n",
       " '.\\\\piacenza_250715.csv',\n",
       " '.\\\\piacenza_270615.csv',\n",
       " '.\\\\ravenna_150715.csv',\n",
       " '.\\\\ravenna_250715.csv',\n",
       " '.\\\\ravenna_270615.csv',\n",
       " '.\\\\torino_150715.csv',\n",
       " '.\\\\torino_250715.csv',\n",
       " '.\\\\torino_270615.csv']"
      ]
     },
     "execution_count": 3,
     "metadata": {},
     "output_type": "execute_result"
    }
   ],
   "source": [
    "glob.glob('./*.csv')"
   ]
  },
  {
   "cell_type": "code",
   "execution_count": 4,
   "metadata": {
    "scrolled": true
   },
   "outputs": [],
   "source": [
    "files = glob.glob('./*.csv')\n",
    "df = DataFrame()\n",
    "for file in files:\n",
    "    temp = pd.read_csv(file)\n",
    "    df = df.append(temp, ignore_index=True)"
   ]
  },
  {
   "cell_type": "code",
   "execution_count": 5,
   "metadata": {
    "scrolled": true
   },
   "outputs": [
    {
     "data": {
      "text/html": [
       "<div>\n",
       "<style scoped>\n",
       "    .dataframe tbody tr th:only-of-type {\n",
       "        vertical-align: middle;\n",
       "    }\n",
       "\n",
       "    .dataframe tbody tr th {\n",
       "        vertical-align: top;\n",
       "    }\n",
       "\n",
       "    .dataframe thead th {\n",
       "        text-align: right;\n",
       "    }\n",
       "</style>\n",
       "<table border=\"1\" class=\"dataframe\">\n",
       "  <thead>\n",
       "    <tr style=\"text-align: right;\">\n",
       "      <th></th>\n",
       "      <th>Unnamed: 0</th>\n",
       "      <th>temp</th>\n",
       "      <th>humidity</th>\n",
       "      <th>pressure</th>\n",
       "      <th>description</th>\n",
       "      <th>dt</th>\n",
       "      <th>wind_speed</th>\n",
       "      <th>wind_deg</th>\n",
       "      <th>city</th>\n",
       "      <th>day</th>\n",
       "      <th>dist</th>\n",
       "    </tr>\n",
       "  </thead>\n",
       "  <tbody>\n",
       "    <tr>\n",
       "      <th>0</th>\n",
       "      <td>0</td>\n",
       "      <td>28.05</td>\n",
       "      <td>66</td>\n",
       "      <td>1014.0</td>\n",
       "      <td>Sky is Clear</td>\n",
       "      <td>1436863176</td>\n",
       "      <td>2.57</td>\n",
       "      <td>42.501</td>\n",
       "      <td>Asti</td>\n",
       "      <td>2015-07-14 10:39:36</td>\n",
       "      <td>315</td>\n",
       "    </tr>\n",
       "    <tr>\n",
       "      <th>1</th>\n",
       "      <td>1</td>\n",
       "      <td>29.51</td>\n",
       "      <td>64</td>\n",
       "      <td>1014.0</td>\n",
       "      <td>Sky is Clear</td>\n",
       "      <td>1436866759</td>\n",
       "      <td>1.54</td>\n",
       "      <td>263.000</td>\n",
       "      <td>Asti</td>\n",
       "      <td>2015-07-14 11:39:19</td>\n",
       "      <td>315</td>\n",
       "    </tr>\n",
       "    <tr>\n",
       "      <th>2</th>\n",
       "      <td>2</td>\n",
       "      <td>30.39</td>\n",
       "      <td>58</td>\n",
       "      <td>1017.0</td>\n",
       "      <td>Sky is Clear</td>\n",
       "      <td>1436870510</td>\n",
       "      <td>2.60</td>\n",
       "      <td>100.000</td>\n",
       "      <td>Asti</td>\n",
       "      <td>2015-07-14 12:41:50</td>\n",
       "      <td>315</td>\n",
       "    </tr>\n",
       "    <tr>\n",
       "      <th>3</th>\n",
       "      <td>3</td>\n",
       "      <td>31.10</td>\n",
       "      <td>54</td>\n",
       "      <td>1017.0</td>\n",
       "      <td>Sky is Clear</td>\n",
       "      <td>1436874098</td>\n",
       "      <td>2.10</td>\n",
       "      <td>90.000</td>\n",
       "      <td>Asti</td>\n",
       "      <td>2015-07-14 13:41:38</td>\n",
       "      <td>315</td>\n",
       "    </tr>\n",
       "    <tr>\n",
       "      <th>4</th>\n",
       "      <td>4</td>\n",
       "      <td>33.23</td>\n",
       "      <td>45</td>\n",
       "      <td>1016.0</td>\n",
       "      <td>few clouds</td>\n",
       "      <td>1436877645</td>\n",
       "      <td>2.10</td>\n",
       "      <td>120.000</td>\n",
       "      <td>Asti</td>\n",
       "      <td>2015-07-14 14:40:45</td>\n",
       "      <td>315</td>\n",
       "    </tr>\n",
       "  </tbody>\n",
       "</table>\n",
       "</div>"
      ],
      "text/plain": [
       "   Unnamed: 0   temp  humidity  pressure   description          dt  \\\n",
       "0           0  28.05        66    1014.0  Sky is Clear  1436863176   \n",
       "1           1  29.51        64    1014.0  Sky is Clear  1436866759   \n",
       "2           2  30.39        58    1017.0  Sky is Clear  1436870510   \n",
       "3           3  31.10        54    1017.0  Sky is Clear  1436874098   \n",
       "4           4  33.23        45    1016.0    few clouds  1436877645   \n",
       "\n",
       "   wind_speed  wind_deg  city                  day  dist  \n",
       "0        2.57    42.501  Asti  2015-07-14 10:39:36   315  \n",
       "1        1.54   263.000  Asti  2015-07-14 11:39:19   315  \n",
       "2        2.60   100.000  Asti  2015-07-14 12:41:50   315  \n",
       "3        2.10    90.000  Asti  2015-07-14 13:41:38   315  \n",
       "4        2.10   120.000  Asti  2015-07-14 14:40:45   315  "
      ]
     },
     "execution_count": 5,
     "metadata": {},
     "output_type": "execute_result"
    }
   ],
   "source": [
    "df.head()"
   ]
  },
  {
   "cell_type": "markdown",
   "metadata": {},
   "source": [
    "#### 查看行数"
   ]
  },
  {
   "cell_type": "code",
   "execution_count": 6,
   "metadata": {},
   "outputs": [
    {
     "data": {
      "text/plain": [
       "(675, 11)"
      ]
     },
     "execution_count": 6,
     "metadata": {},
     "output_type": "execute_result"
    }
   ],
   "source": [
    "df.shape"
   ]
  },
  {
   "cell_type": "markdown",
   "metadata": {},
   "source": [
    "#### 去除没用的列"
   ]
  },
  {
   "cell_type": "code",
   "execution_count": 7,
   "metadata": {},
   "outputs": [],
   "source": [
    "df.drop('Unnamed: 0',axis=1, inplace=True)"
   ]
  },
  {
   "cell_type": "code",
   "execution_count": 8,
   "metadata": {
    "scrolled": true
   },
   "outputs": [
    {
     "data": {
      "text/html": [
       "<div>\n",
       "<style scoped>\n",
       "    .dataframe tbody tr th:only-of-type {\n",
       "        vertical-align: middle;\n",
       "    }\n",
       "\n",
       "    .dataframe tbody tr th {\n",
       "        vertical-align: top;\n",
       "    }\n",
       "\n",
       "    .dataframe thead th {\n",
       "        text-align: right;\n",
       "    }\n",
       "</style>\n",
       "<table border=\"1\" class=\"dataframe\">\n",
       "  <thead>\n",
       "    <tr style=\"text-align: right;\">\n",
       "      <th></th>\n",
       "      <th>temp</th>\n",
       "      <th>humidity</th>\n",
       "      <th>pressure</th>\n",
       "      <th>description</th>\n",
       "      <th>dt</th>\n",
       "      <th>wind_speed</th>\n",
       "      <th>wind_deg</th>\n",
       "      <th>city</th>\n",
       "      <th>day</th>\n",
       "      <th>dist</th>\n",
       "    </tr>\n",
       "  </thead>\n",
       "  <tbody>\n",
       "    <tr>\n",
       "      <th>0</th>\n",
       "      <td>28.05</td>\n",
       "      <td>66</td>\n",
       "      <td>1014.0</td>\n",
       "      <td>Sky is Clear</td>\n",
       "      <td>1436863176</td>\n",
       "      <td>2.57</td>\n",
       "      <td>42.501</td>\n",
       "      <td>Asti</td>\n",
       "      <td>2015-07-14 10:39:36</td>\n",
       "      <td>315</td>\n",
       "    </tr>\n",
       "    <tr>\n",
       "      <th>1</th>\n",
       "      <td>29.51</td>\n",
       "      <td>64</td>\n",
       "      <td>1014.0</td>\n",
       "      <td>Sky is Clear</td>\n",
       "      <td>1436866759</td>\n",
       "      <td>1.54</td>\n",
       "      <td>263.000</td>\n",
       "      <td>Asti</td>\n",
       "      <td>2015-07-14 11:39:19</td>\n",
       "      <td>315</td>\n",
       "    </tr>\n",
       "    <tr>\n",
       "      <th>2</th>\n",
       "      <td>30.39</td>\n",
       "      <td>58</td>\n",
       "      <td>1017.0</td>\n",
       "      <td>Sky is Clear</td>\n",
       "      <td>1436870510</td>\n",
       "      <td>2.60</td>\n",
       "      <td>100.000</td>\n",
       "      <td>Asti</td>\n",
       "      <td>2015-07-14 12:41:50</td>\n",
       "      <td>315</td>\n",
       "    </tr>\n",
       "    <tr>\n",
       "      <th>3</th>\n",
       "      <td>31.10</td>\n",
       "      <td>54</td>\n",
       "      <td>1017.0</td>\n",
       "      <td>Sky is Clear</td>\n",
       "      <td>1436874098</td>\n",
       "      <td>2.10</td>\n",
       "      <td>90.000</td>\n",
       "      <td>Asti</td>\n",
       "      <td>2015-07-14 13:41:38</td>\n",
       "      <td>315</td>\n",
       "    </tr>\n",
       "    <tr>\n",
       "      <th>4</th>\n",
       "      <td>33.23</td>\n",
       "      <td>45</td>\n",
       "      <td>1016.0</td>\n",
       "      <td>few clouds</td>\n",
       "      <td>1436877645</td>\n",
       "      <td>2.10</td>\n",
       "      <td>120.000</td>\n",
       "      <td>Asti</td>\n",
       "      <td>2015-07-14 14:40:45</td>\n",
       "      <td>315</td>\n",
       "    </tr>\n",
       "    <tr>\n",
       "      <th>5</th>\n",
       "      <td>32.95</td>\n",
       "      <td>46</td>\n",
       "      <td>1016.0</td>\n",
       "      <td>few clouds</td>\n",
       "      <td>1436881329</td>\n",
       "      <td>2.10</td>\n",
       "      <td>110.000</td>\n",
       "      <td>Asti</td>\n",
       "      <td>2015-07-14 15:42:09</td>\n",
       "      <td>315</td>\n",
       "    </tr>\n",
       "    <tr>\n",
       "      <th>6</th>\n",
       "      <td>34.31</td>\n",
       "      <td>46</td>\n",
       "      <td>1015.0</td>\n",
       "      <td>few clouds</td>\n",
       "      <td>1436884929</td>\n",
       "      <td>2.10</td>\n",
       "      <td>100.000</td>\n",
       "      <td>Asti</td>\n",
       "      <td>2015-07-14 16:42:09</td>\n",
       "      <td>315</td>\n",
       "    </tr>\n",
       "    <tr>\n",
       "      <th>7</th>\n",
       "      <td>32.47</td>\n",
       "      <td>49</td>\n",
       "      <td>1015.0</td>\n",
       "      <td>few clouds</td>\n",
       "      <td>1436888513</td>\n",
       "      <td>2.10</td>\n",
       "      <td>100.000</td>\n",
       "      <td>Asti</td>\n",
       "      <td>2015-07-14 17:41:53</td>\n",
       "      <td>315</td>\n",
       "    </tr>\n",
       "    <tr>\n",
       "      <th>8</th>\n",
       "      <td>34.28</td>\n",
       "      <td>46</td>\n",
       "      <td>1015.0</td>\n",
       "      <td>few clouds</td>\n",
       "      <td>1436892132</td>\n",
       "      <td>1.50</td>\n",
       "      <td>100.000</td>\n",
       "      <td>Asti</td>\n",
       "      <td>2015-07-14 18:42:12</td>\n",
       "      <td>315</td>\n",
       "    </tr>\n",
       "    <tr>\n",
       "      <th>9</th>\n",
       "      <td>31.41</td>\n",
       "      <td>46</td>\n",
       "      <td>1014.0</td>\n",
       "      <td>Sky is Clear</td>\n",
       "      <td>1436895723</td>\n",
       "      <td>2.10</td>\n",
       "      <td>240.000</td>\n",
       "      <td>Asti</td>\n",
       "      <td>2015-07-14 19:42:03</td>\n",
       "      <td>315</td>\n",
       "    </tr>\n",
       "    <tr>\n",
       "      <th>10</th>\n",
       "      <td>29.72</td>\n",
       "      <td>58</td>\n",
       "      <td>1014.0</td>\n",
       "      <td>Sky is Clear</td>\n",
       "      <td>1436899336</td>\n",
       "      <td>2.10</td>\n",
       "      <td>70.000</td>\n",
       "      <td>Asti</td>\n",
       "      <td>2015-07-14 20:42:16</td>\n",
       "      <td>315</td>\n",
       "    </tr>\n",
       "    <tr>\n",
       "      <th>11</th>\n",
       "      <td>27.68</td>\n",
       "      <td>62</td>\n",
       "      <td>1015.0</td>\n",
       "      <td>Sky is Clear</td>\n",
       "      <td>1436902943</td>\n",
       "      <td>1.50</td>\n",
       "      <td>40.000</td>\n",
       "      <td>Asti</td>\n",
       "      <td>2015-07-14 21:42:23</td>\n",
       "      <td>315</td>\n",
       "    </tr>\n",
       "    <tr>\n",
       "      <th>12</th>\n",
       "      <td>26.44</td>\n",
       "      <td>69</td>\n",
       "      <td>1015.0</td>\n",
       "      <td>Sky is Clear</td>\n",
       "      <td>1436906532</td>\n",
       "      <td>1.50</td>\n",
       "      <td>30.000</td>\n",
       "      <td>Asti</td>\n",
       "      <td>2015-07-14 22:42:12</td>\n",
       "      <td>315</td>\n",
       "    </tr>\n",
       "    <tr>\n",
       "      <th>13</th>\n",
       "      <td>26.17</td>\n",
       "      <td>69</td>\n",
       "      <td>1016.0</td>\n",
       "      <td>Sky is Clear</td>\n",
       "      <td>1436910149</td>\n",
       "      <td>1.50</td>\n",
       "      <td>330.000</td>\n",
       "      <td>Asti</td>\n",
       "      <td>2015-07-14 23:42:29</td>\n",
       "      <td>315</td>\n",
       "    </tr>\n",
       "    <tr>\n",
       "      <th>14</th>\n",
       "      <td>25.21</td>\n",
       "      <td>78</td>\n",
       "      <td>1014.0</td>\n",
       "      <td>Sky is Clear</td>\n",
       "      <td>1436913739</td>\n",
       "      <td>0.51</td>\n",
       "      <td>0.000</td>\n",
       "      <td>Asti</td>\n",
       "      <td>2015-07-15 00:42:19</td>\n",
       "      <td>315</td>\n",
       "    </tr>\n",
       "    <tr>\n",
       "      <th>15</th>\n",
       "      <td>24.45</td>\n",
       "      <td>73</td>\n",
       "      <td>1016.0</td>\n",
       "      <td>Sky is Clear</td>\n",
       "      <td>1436917311</td>\n",
       "      <td>2.60</td>\n",
       "      <td>350.000</td>\n",
       "      <td>Asti</td>\n",
       "      <td>2015-07-15 01:41:51</td>\n",
       "      <td>315</td>\n",
       "    </tr>\n",
       "    <tr>\n",
       "      <th>16</th>\n",
       "      <td>24.32</td>\n",
       "      <td>73</td>\n",
       "      <td>1016.0</td>\n",
       "      <td>Sky is Clear</td>\n",
       "      <td>1436920931</td>\n",
       "      <td>2.60</td>\n",
       "      <td>340.000</td>\n",
       "      <td>Asti</td>\n",
       "      <td>2015-07-15 02:42:11</td>\n",
       "      <td>315</td>\n",
       "    </tr>\n",
       "    <tr>\n",
       "      <th>17</th>\n",
       "      <td>24.24</td>\n",
       "      <td>73</td>\n",
       "      <td>1016.0</td>\n",
       "      <td>Sky is Clear</td>\n",
       "      <td>1436924426</td>\n",
       "      <td>2.10</td>\n",
       "      <td>360.000</td>\n",
       "      <td>Asti</td>\n",
       "      <td>2015-07-15 03:40:26</td>\n",
       "      <td>315</td>\n",
       "    </tr>\n",
       "    <tr>\n",
       "      <th>18</th>\n",
       "      <td>24.00</td>\n",
       "      <td>73</td>\n",
       "      <td>1016.0</td>\n",
       "      <td>Sky is Clear</td>\n",
       "      <td>1436928078</td>\n",
       "      <td>1.50</td>\n",
       "      <td>310.000</td>\n",
       "      <td>Asti</td>\n",
       "      <td>2015-07-15 04:41:18</td>\n",
       "      <td>315</td>\n",
       "    </tr>\n",
       "    <tr>\n",
       "      <th>19</th>\n",
       "      <td>23.00</td>\n",
       "      <td>83</td>\n",
       "      <td>1017.0</td>\n",
       "      <td>broken clouds</td>\n",
       "      <td>1436931718</td>\n",
       "      <td>0.50</td>\n",
       "      <td>0.000</td>\n",
       "      <td>Asti</td>\n",
       "      <td>2015-07-15 05:41:58</td>\n",
       "      <td>315</td>\n",
       "    </tr>\n",
       "    <tr>\n",
       "      <th>20</th>\n",
       "      <td>23.00</td>\n",
       "      <td>78</td>\n",
       "      <td>1017.0</td>\n",
       "      <td>scattered clouds</td>\n",
       "      <td>1436935298</td>\n",
       "      <td>3.10</td>\n",
       "      <td>350.000</td>\n",
       "      <td>Asti</td>\n",
       "      <td>2015-07-15 06:41:38</td>\n",
       "      <td>315</td>\n",
       "    </tr>\n",
       "    <tr>\n",
       "      <th>21</th>\n",
       "      <td>25.00</td>\n",
       "      <td>73</td>\n",
       "      <td>1017.0</td>\n",
       "      <td>few clouds</td>\n",
       "      <td>1436938882</td>\n",
       "      <td>1.50</td>\n",
       "      <td>330.000</td>\n",
       "      <td>Asti</td>\n",
       "      <td>2015-07-15 07:41:22</td>\n",
       "      <td>315</td>\n",
       "    </tr>\n",
       "    <tr>\n",
       "      <th>22</th>\n",
       "      <td>27.00</td>\n",
       "      <td>65</td>\n",
       "      <td>1017.0</td>\n",
       "      <td>few clouds</td>\n",
       "      <td>1436942516</td>\n",
       "      <td>0.50</td>\n",
       "      <td>0.000</td>\n",
       "      <td>Asti</td>\n",
       "      <td>2015-07-15 08:41:56</td>\n",
       "      <td>315</td>\n",
       "    </tr>\n",
       "    <tr>\n",
       "      <th>23</th>\n",
       "      <td>27.00</td>\n",
       "      <td>65</td>\n",
       "      <td>1017.0</td>\n",
       "      <td>Sky is Clear</td>\n",
       "      <td>1436945951</td>\n",
       "      <td>2.10</td>\n",
       "      <td>50.000</td>\n",
       "      <td>Asti</td>\n",
       "      <td>2015-07-15 09:39:11</td>\n",
       "      <td>315</td>\n",
       "    </tr>\n",
       "    <tr>\n",
       "      <th>24</th>\n",
       "      <td>28.79</td>\n",
       "      <td>54</td>\n",
       "      <td>1012.0</td>\n",
       "      <td>Sky is Clear</td>\n",
       "      <td>1437730850</td>\n",
       "      <td>3.10</td>\n",
       "      <td>70.000</td>\n",
       "      <td>Asti</td>\n",
       "      <td>2015-07-24 11:40:50</td>\n",
       "      <td>315</td>\n",
       "    </tr>\n",
       "    <tr>\n",
       "      <th>25</th>\n",
       "      <td>30.02</td>\n",
       "      <td>58</td>\n",
       "      <td>1012.0</td>\n",
       "      <td>Sky is Clear</td>\n",
       "      <td>1437734493</td>\n",
       "      <td>3.10</td>\n",
       "      <td>70.000</td>\n",
       "      <td>Asti</td>\n",
       "      <td>2015-07-24 12:41:33</td>\n",
       "      <td>315</td>\n",
       "    </tr>\n",
       "    <tr>\n",
       "      <th>26</th>\n",
       "      <td>30.79</td>\n",
       "      <td>49</td>\n",
       "      <td>1007.0</td>\n",
       "      <td>light rain</td>\n",
       "      <td>1437738045</td>\n",
       "      <td>2.06</td>\n",
       "      <td>24.000</td>\n",
       "      <td>Asti</td>\n",
       "      <td>2015-07-24 13:40:45</td>\n",
       "      <td>315</td>\n",
       "    </tr>\n",
       "    <tr>\n",
       "      <th>27</th>\n",
       "      <td>32.02</td>\n",
       "      <td>51</td>\n",
       "      <td>1011.0</td>\n",
       "      <td>few clouds</td>\n",
       "      <td>1437741579</td>\n",
       "      <td>4.10</td>\n",
       "      <td>10.000</td>\n",
       "      <td>Asti</td>\n",
       "      <td>2015-07-24 14:39:39</td>\n",
       "      <td>315</td>\n",
       "    </tr>\n",
       "    <tr>\n",
       "      <th>28</th>\n",
       "      <td>30.93</td>\n",
       "      <td>51</td>\n",
       "      <td>1011.0</td>\n",
       "      <td>few clouds</td>\n",
       "      <td>1437745188</td>\n",
       "      <td>2.60</td>\n",
       "      <td>120.000</td>\n",
       "      <td>Asti</td>\n",
       "      <td>2015-07-24 15:39:48</td>\n",
       "      <td>315</td>\n",
       "    </tr>\n",
       "    <tr>\n",
       "      <th>29</th>\n",
       "      <td>29.12</td>\n",
       "      <td>48</td>\n",
       "      <td>1009.0</td>\n",
       "      <td>light rain</td>\n",
       "      <td>1437748777</td>\n",
       "      <td>2.10</td>\n",
       "      <td>0.000</td>\n",
       "      <td>Asti</td>\n",
       "      <td>2015-07-24 16:39:37</td>\n",
       "      <td>315</td>\n",
       "    </tr>\n",
       "    <tr>\n",
       "      <th>...</th>\n",
       "      <td>...</td>\n",
       "      <td>...</td>\n",
       "      <td>...</td>\n",
       "      <td>...</td>\n",
       "      <td>...</td>\n",
       "      <td>...</td>\n",
       "      <td>...</td>\n",
       "      <td>...</td>\n",
       "      <td>...</td>\n",
       "      <td>...</td>\n",
       "    </tr>\n",
       "    <tr>\n",
       "      <th>645</th>\n",
       "      <td>21.75</td>\n",
       "      <td>64</td>\n",
       "      <td>1009.0</td>\n",
       "      <td>broken clouds</td>\n",
       "      <td>1437781191</td>\n",
       "      <td>4.10</td>\n",
       "      <td>10.000</td>\n",
       "      <td>Torino</td>\n",
       "      <td>2015-07-25 01:39:51</td>\n",
       "      <td>357</td>\n",
       "    </tr>\n",
       "    <tr>\n",
       "      <th>646</th>\n",
       "      <td>23.01</td>\n",
       "      <td>64</td>\n",
       "      <td>1009.0</td>\n",
       "      <td>Sky is Clear</td>\n",
       "      <td>1437784762</td>\n",
       "      <td>2.10</td>\n",
       "      <td>280.000</td>\n",
       "      <td>Torino</td>\n",
       "      <td>2015-07-25 02:39:22</td>\n",
       "      <td>357</td>\n",
       "    </tr>\n",
       "    <tr>\n",
       "      <th>647</th>\n",
       "      <td>22.39</td>\n",
       "      <td>64</td>\n",
       "      <td>1009.0</td>\n",
       "      <td>light rain</td>\n",
       "      <td>1437788332</td>\n",
       "      <td>1.50</td>\n",
       "      <td>290.000</td>\n",
       "      <td>Torino</td>\n",
       "      <td>2015-07-25 03:38:52</td>\n",
       "      <td>357</td>\n",
       "    </tr>\n",
       "    <tr>\n",
       "      <th>648</th>\n",
       "      <td>21.50</td>\n",
       "      <td>73</td>\n",
       "      <td>1009.0</td>\n",
       "      <td>scattered clouds</td>\n",
       "      <td>1437791949</td>\n",
       "      <td>0.50</td>\n",
       "      <td>0.000</td>\n",
       "      <td>Torino</td>\n",
       "      <td>2015-07-25 04:39:09</td>\n",
       "      <td>357</td>\n",
       "    </tr>\n",
       "    <tr>\n",
       "      <th>649</th>\n",
       "      <td>21.84</td>\n",
       "      <td>83</td>\n",
       "      <td>1009.0</td>\n",
       "      <td>scattered clouds</td>\n",
       "      <td>1437795572</td>\n",
       "      <td>1.00</td>\n",
       "      <td>350.000</td>\n",
       "      <td>Torino</td>\n",
       "      <td>2015-07-25 05:39:32</td>\n",
       "      <td>357</td>\n",
       "    </tr>\n",
       "    <tr>\n",
       "      <th>650</th>\n",
       "      <td>21.84</td>\n",
       "      <td>77</td>\n",
       "      <td>1009.0</td>\n",
       "      <td>broken clouds</td>\n",
       "      <td>1437799177</td>\n",
       "      <td>1.50</td>\n",
       "      <td>330.000</td>\n",
       "      <td>Torino</td>\n",
       "      <td>2015-07-25 06:39:37</td>\n",
       "      <td>357</td>\n",
       "    </tr>\n",
       "    <tr>\n",
       "      <th>651</th>\n",
       "      <td>21.50</td>\n",
       "      <td>88</td>\n",
       "      <td>1010.0</td>\n",
       "      <td>broken clouds</td>\n",
       "      <td>1437802719</td>\n",
       "      <td>1.50</td>\n",
       "      <td>50.000</td>\n",
       "      <td>Torino</td>\n",
       "      <td>2015-07-25 07:38:39</td>\n",
       "      <td>357</td>\n",
       "    </tr>\n",
       "    <tr>\n",
       "      <th>652</th>\n",
       "      <td>23.54</td>\n",
       "      <td>78</td>\n",
       "      <td>1010.0</td>\n",
       "      <td>Sky is Clear</td>\n",
       "      <td>1437806353</td>\n",
       "      <td>0.50</td>\n",
       "      <td>0.000</td>\n",
       "      <td>Torino</td>\n",
       "      <td>2015-07-25 08:39:13</td>\n",
       "      <td>357</td>\n",
       "    </tr>\n",
       "    <tr>\n",
       "      <th>653</th>\n",
       "      <td>25.72</td>\n",
       "      <td>64</td>\n",
       "      <td>1010.0</td>\n",
       "      <td>Sky is Clear</td>\n",
       "      <td>1437809920</td>\n",
       "      <td>1.00</td>\n",
       "      <td>0.000</td>\n",
       "      <td>Torino</td>\n",
       "      <td>2015-07-25 09:38:40</td>\n",
       "      <td>357</td>\n",
       "    </tr>\n",
       "    <tr>\n",
       "      <th>654</th>\n",
       "      <td>25.84</td>\n",
       "      <td>64</td>\n",
       "      <td>1010.0</td>\n",
       "      <td>Sky is Clear</td>\n",
       "      <td>1437813560</td>\n",
       "      <td>1.50</td>\n",
       "      <td>0.000</td>\n",
       "      <td>Torino</td>\n",
       "      <td>2015-07-25 10:39:20</td>\n",
       "      <td>357</td>\n",
       "    </tr>\n",
       "    <tr>\n",
       "      <th>655</th>\n",
       "      <td>23.80</td>\n",
       "      <td>64</td>\n",
       "      <td>1019.0</td>\n",
       "      <td>Sky is Clear</td>\n",
       "      <td>1435387651</td>\n",
       "      <td>1.00</td>\n",
       "      <td>0.000</td>\n",
       "      <td>Torino</td>\n",
       "      <td>2015-06-27 08:47:31</td>\n",
       "      <td>357</td>\n",
       "    </tr>\n",
       "    <tr>\n",
       "      <th>656</th>\n",
       "      <td>24.68</td>\n",
       "      <td>60</td>\n",
       "      <td>1018.0</td>\n",
       "      <td>Sky is Clear</td>\n",
       "      <td>1435390804</td>\n",
       "      <td>2.10</td>\n",
       "      <td>80.000</td>\n",
       "      <td>Torino</td>\n",
       "      <td>2015-06-27 09:40:04</td>\n",
       "      <td>357</td>\n",
       "    </tr>\n",
       "    <tr>\n",
       "      <th>657</th>\n",
       "      <td>25.12</td>\n",
       "      <td>60</td>\n",
       "      <td>1018.0</td>\n",
       "      <td>Sky is Clear</td>\n",
       "      <td>1435394206</td>\n",
       "      <td>2.60</td>\n",
       "      <td>50.000</td>\n",
       "      <td>Torino</td>\n",
       "      <td>2015-06-27 10:36:46</td>\n",
       "      <td>357</td>\n",
       "    </tr>\n",
       "    <tr>\n",
       "      <th>658</th>\n",
       "      <td>25.54</td>\n",
       "      <td>60</td>\n",
       "      <td>1018.0</td>\n",
       "      <td>Sky is Clear</td>\n",
       "      <td>1435398681</td>\n",
       "      <td>2.60</td>\n",
       "      <td>50.000</td>\n",
       "      <td>Torino</td>\n",
       "      <td>2015-06-27 11:51:21</td>\n",
       "      <td>357</td>\n",
       "    </tr>\n",
       "    <tr>\n",
       "      <th>659</th>\n",
       "      <td>27.42</td>\n",
       "      <td>57</td>\n",
       "      <td>1017.0</td>\n",
       "      <td>Sky is Clear</td>\n",
       "      <td>1435402112</td>\n",
       "      <td>2.10</td>\n",
       "      <td>70.000</td>\n",
       "      <td>Torino</td>\n",
       "      <td>2015-06-27 12:48:32</td>\n",
       "      <td>357</td>\n",
       "    </tr>\n",
       "    <tr>\n",
       "      <th>660</th>\n",
       "      <td>28.97</td>\n",
       "      <td>47</td>\n",
       "      <td>1017.0</td>\n",
       "      <td>Sky is Clear</td>\n",
       "      <td>1435405743</td>\n",
       "      <td>1.50</td>\n",
       "      <td>60.000</td>\n",
       "      <td>Torino</td>\n",
       "      <td>2015-06-27 13:49:03</td>\n",
       "      <td>357</td>\n",
       "    </tr>\n",
       "    <tr>\n",
       "      <th>661</th>\n",
       "      <td>29.36</td>\n",
       "      <td>45</td>\n",
       "      <td>1017.0</td>\n",
       "      <td>Sky is Clear</td>\n",
       "      <td>1435409402</td>\n",
       "      <td>1.50</td>\n",
       "      <td>360.000</td>\n",
       "      <td>Torino</td>\n",
       "      <td>2015-06-27 14:50:02</td>\n",
       "      <td>357</td>\n",
       "    </tr>\n",
       "    <tr>\n",
       "      <th>662</th>\n",
       "      <td>30.56</td>\n",
       "      <td>45</td>\n",
       "      <td>1015.0</td>\n",
       "      <td>Sky is Clear</td>\n",
       "      <td>1435416605</td>\n",
       "      <td>2.10</td>\n",
       "      <td>170.000</td>\n",
       "      <td>Torino</td>\n",
       "      <td>2015-06-27 16:50:05</td>\n",
       "      <td>357</td>\n",
       "    </tr>\n",
       "    <tr>\n",
       "      <th>663</th>\n",
       "      <td>31.04</td>\n",
       "      <td>48</td>\n",
       "      <td>1015.0</td>\n",
       "      <td>Sky is Clear</td>\n",
       "      <td>1435420220</td>\n",
       "      <td>1.00</td>\n",
       "      <td>0.000</td>\n",
       "      <td>Torino</td>\n",
       "      <td>2015-06-27 17:50:20</td>\n",
       "      <td>357</td>\n",
       "    </tr>\n",
       "    <tr>\n",
       "      <th>664</th>\n",
       "      <td>31.32</td>\n",
       "      <td>48</td>\n",
       "      <td>1014.0</td>\n",
       "      <td>Sky is Clear</td>\n",
       "      <td>1435423957</td>\n",
       "      <td>2.10</td>\n",
       "      <td>90.000</td>\n",
       "      <td>Torino</td>\n",
       "      <td>2015-06-27 18:52:37</td>\n",
       "      <td>357</td>\n",
       "    </tr>\n",
       "    <tr>\n",
       "      <th>665</th>\n",
       "      <td>30.69</td>\n",
       "      <td>48</td>\n",
       "      <td>1014.0</td>\n",
       "      <td>Sky is Clear</td>\n",
       "      <td>1435427586</td>\n",
       "      <td>2.10</td>\n",
       "      <td>50.000</td>\n",
       "      <td>Torino</td>\n",
       "      <td>2015-06-27 19:53:06</td>\n",
       "      <td>357</td>\n",
       "    </tr>\n",
       "    <tr>\n",
       "      <th>666</th>\n",
       "      <td>25.15</td>\n",
       "      <td>73</td>\n",
       "      <td>1015.0</td>\n",
       "      <td>Sky is Clear</td>\n",
       "      <td>1435438091</td>\n",
       "      <td>2.60</td>\n",
       "      <td>10.000</td>\n",
       "      <td>Torino</td>\n",
       "      <td>2015-06-27 22:48:11</td>\n",
       "      <td>357</td>\n",
       "    </tr>\n",
       "    <tr>\n",
       "      <th>667</th>\n",
       "      <td>24.57</td>\n",
       "      <td>73</td>\n",
       "      <td>1016.0</td>\n",
       "      <td>Sky is Clear</td>\n",
       "      <td>1435441890</td>\n",
       "      <td>3.10</td>\n",
       "      <td>340.000</td>\n",
       "      <td>Torino</td>\n",
       "      <td>2015-06-27 23:51:30</td>\n",
       "      <td>357</td>\n",
       "    </tr>\n",
       "    <tr>\n",
       "      <th>668</th>\n",
       "      <td>24.00</td>\n",
       "      <td>73</td>\n",
       "      <td>1016.0</td>\n",
       "      <td>Sky is Clear</td>\n",
       "      <td>1435445529</td>\n",
       "      <td>3.10</td>\n",
       "      <td>340.000</td>\n",
       "      <td>Torino</td>\n",
       "      <td>2015-06-28 00:52:09</td>\n",
       "      <td>357</td>\n",
       "    </tr>\n",
       "    <tr>\n",
       "      <th>669</th>\n",
       "      <td>22.19</td>\n",
       "      <td>77</td>\n",
       "      <td>1017.0</td>\n",
       "      <td>broken clouds</td>\n",
       "      <td>1435452880</td>\n",
       "      <td>2.10</td>\n",
       "      <td>340.000</td>\n",
       "      <td>Torino</td>\n",
       "      <td>2015-06-28 02:54:40</td>\n",
       "      <td>357</td>\n",
       "    </tr>\n",
       "    <tr>\n",
       "      <th>670</th>\n",
       "      <td>20.50</td>\n",
       "      <td>77</td>\n",
       "      <td>1017.0</td>\n",
       "      <td>broken clouds</td>\n",
       "      <td>1435456195</td>\n",
       "      <td>2.10</td>\n",
       "      <td>340.000</td>\n",
       "      <td>Torino</td>\n",
       "      <td>2015-06-28 03:49:55</td>\n",
       "      <td>357</td>\n",
       "    </tr>\n",
       "    <tr>\n",
       "      <th>671</th>\n",
       "      <td>18.94</td>\n",
       "      <td>77</td>\n",
       "      <td>1018.0</td>\n",
       "      <td>few clouds</td>\n",
       "      <td>1435459725</td>\n",
       "      <td>2.60</td>\n",
       "      <td>30.000</td>\n",
       "      <td>Torino</td>\n",
       "      <td>2015-06-28 04:48:45</td>\n",
       "      <td>357</td>\n",
       "    </tr>\n",
       "    <tr>\n",
       "      <th>672</th>\n",
       "      <td>19.07</td>\n",
       "      <td>77</td>\n",
       "      <td>1018.0</td>\n",
       "      <td>Sky is Clear</td>\n",
       "      <td>1435463493</td>\n",
       "      <td>2.10</td>\n",
       "      <td>360.000</td>\n",
       "      <td>Torino</td>\n",
       "      <td>2015-06-28 05:51:33</td>\n",
       "      <td>357</td>\n",
       "    </tr>\n",
       "    <tr>\n",
       "      <th>673</th>\n",
       "      <td>19.05</td>\n",
       "      <td>82</td>\n",
       "      <td>1018.0</td>\n",
       "      <td>Sky is Clear</td>\n",
       "      <td>1435466876</td>\n",
       "      <td>1.50</td>\n",
       "      <td>10.000</td>\n",
       "      <td>Torino</td>\n",
       "      <td>2015-06-28 06:47:56</td>\n",
       "      <td>357</td>\n",
       "    </tr>\n",
       "    <tr>\n",
       "      <th>674</th>\n",
       "      <td>21.20</td>\n",
       "      <td>82</td>\n",
       "      <td>1018.0</td>\n",
       "      <td>Sky is Clear</td>\n",
       "      <td>1435470573</td>\n",
       "      <td>1.00</td>\n",
       "      <td>40.000</td>\n",
       "      <td>Torino</td>\n",
       "      <td>2015-06-28 07:49:33</td>\n",
       "      <td>357</td>\n",
       "    </tr>\n",
       "  </tbody>\n",
       "</table>\n",
       "<p>675 rows × 10 columns</p>\n",
       "</div>"
      ],
      "text/plain": [
       "      temp  humidity  pressure       description          dt  wind_speed  \\\n",
       "0    28.05        66    1014.0      Sky is Clear  1436863176        2.57   \n",
       "1    29.51        64    1014.0      Sky is Clear  1436866759        1.54   \n",
       "2    30.39        58    1017.0      Sky is Clear  1436870510        2.60   \n",
       "3    31.10        54    1017.0      Sky is Clear  1436874098        2.10   \n",
       "4    33.23        45    1016.0        few clouds  1436877645        2.10   \n",
       "5    32.95        46    1016.0        few clouds  1436881329        2.10   \n",
       "6    34.31        46    1015.0        few clouds  1436884929        2.10   \n",
       "7    32.47        49    1015.0        few clouds  1436888513        2.10   \n",
       "8    34.28        46    1015.0        few clouds  1436892132        1.50   \n",
       "9    31.41        46    1014.0      Sky is Clear  1436895723        2.10   \n",
       "10   29.72        58    1014.0      Sky is Clear  1436899336        2.10   \n",
       "11   27.68        62    1015.0      Sky is Clear  1436902943        1.50   \n",
       "12   26.44        69    1015.0      Sky is Clear  1436906532        1.50   \n",
       "13   26.17        69    1016.0      Sky is Clear  1436910149        1.50   \n",
       "14   25.21        78    1014.0      Sky is Clear  1436913739        0.51   \n",
       "15   24.45        73    1016.0      Sky is Clear  1436917311        2.60   \n",
       "16   24.32        73    1016.0      Sky is Clear  1436920931        2.60   \n",
       "17   24.24        73    1016.0      Sky is Clear  1436924426        2.10   \n",
       "18   24.00        73    1016.0      Sky is Clear  1436928078        1.50   \n",
       "19   23.00        83    1017.0     broken clouds  1436931718        0.50   \n",
       "20   23.00        78    1017.0  scattered clouds  1436935298        3.10   \n",
       "21   25.00        73    1017.0        few clouds  1436938882        1.50   \n",
       "22   27.00        65    1017.0        few clouds  1436942516        0.50   \n",
       "23   27.00        65    1017.0      Sky is Clear  1436945951        2.10   \n",
       "24   28.79        54    1012.0      Sky is Clear  1437730850        3.10   \n",
       "25   30.02        58    1012.0      Sky is Clear  1437734493        3.10   \n",
       "26   30.79        49    1007.0        light rain  1437738045        2.06   \n",
       "27   32.02        51    1011.0        few clouds  1437741579        4.10   \n",
       "28   30.93        51    1011.0        few clouds  1437745188        2.60   \n",
       "29   29.12        48    1009.0        light rain  1437748777        2.10   \n",
       "..     ...       ...       ...               ...         ...         ...   \n",
       "645  21.75        64    1009.0     broken clouds  1437781191        4.10   \n",
       "646  23.01        64    1009.0      Sky is Clear  1437784762        2.10   \n",
       "647  22.39        64    1009.0        light rain  1437788332        1.50   \n",
       "648  21.50        73    1009.0  scattered clouds  1437791949        0.50   \n",
       "649  21.84        83    1009.0  scattered clouds  1437795572        1.00   \n",
       "650  21.84        77    1009.0     broken clouds  1437799177        1.50   \n",
       "651  21.50        88    1010.0     broken clouds  1437802719        1.50   \n",
       "652  23.54        78    1010.0      Sky is Clear  1437806353        0.50   \n",
       "653  25.72        64    1010.0      Sky is Clear  1437809920        1.00   \n",
       "654  25.84        64    1010.0      Sky is Clear  1437813560        1.50   \n",
       "655  23.80        64    1019.0      Sky is Clear  1435387651        1.00   \n",
       "656  24.68        60    1018.0      Sky is Clear  1435390804        2.10   \n",
       "657  25.12        60    1018.0      Sky is Clear  1435394206        2.60   \n",
       "658  25.54        60    1018.0      Sky is Clear  1435398681        2.60   \n",
       "659  27.42        57    1017.0      Sky is Clear  1435402112        2.10   \n",
       "660  28.97        47    1017.0      Sky is Clear  1435405743        1.50   \n",
       "661  29.36        45    1017.0      Sky is Clear  1435409402        1.50   \n",
       "662  30.56        45    1015.0      Sky is Clear  1435416605        2.10   \n",
       "663  31.04        48    1015.0      Sky is Clear  1435420220        1.00   \n",
       "664  31.32        48    1014.0      Sky is Clear  1435423957        2.10   \n",
       "665  30.69        48    1014.0      Sky is Clear  1435427586        2.10   \n",
       "666  25.15        73    1015.0      Sky is Clear  1435438091        2.60   \n",
       "667  24.57        73    1016.0      Sky is Clear  1435441890        3.10   \n",
       "668  24.00        73    1016.0      Sky is Clear  1435445529        3.10   \n",
       "669  22.19        77    1017.0     broken clouds  1435452880        2.10   \n",
       "670  20.50        77    1017.0     broken clouds  1435456195        2.10   \n",
       "671  18.94        77    1018.0        few clouds  1435459725        2.60   \n",
       "672  19.07        77    1018.0      Sky is Clear  1435463493        2.10   \n",
       "673  19.05        82    1018.0      Sky is Clear  1435466876        1.50   \n",
       "674  21.20        82    1018.0      Sky is Clear  1435470573        1.00   \n",
       "\n",
       "     wind_deg    city                  day  dist  \n",
       "0      42.501    Asti  2015-07-14 10:39:36   315  \n",
       "1     263.000    Asti  2015-07-14 11:39:19   315  \n",
       "2     100.000    Asti  2015-07-14 12:41:50   315  \n",
       "3      90.000    Asti  2015-07-14 13:41:38   315  \n",
       "4     120.000    Asti  2015-07-14 14:40:45   315  \n",
       "5     110.000    Asti  2015-07-14 15:42:09   315  \n",
       "6     100.000    Asti  2015-07-14 16:42:09   315  \n",
       "7     100.000    Asti  2015-07-14 17:41:53   315  \n",
       "8     100.000    Asti  2015-07-14 18:42:12   315  \n",
       "9     240.000    Asti  2015-07-14 19:42:03   315  \n",
       "10     70.000    Asti  2015-07-14 20:42:16   315  \n",
       "11     40.000    Asti  2015-07-14 21:42:23   315  \n",
       "12     30.000    Asti  2015-07-14 22:42:12   315  \n",
       "13    330.000    Asti  2015-07-14 23:42:29   315  \n",
       "14      0.000    Asti  2015-07-15 00:42:19   315  \n",
       "15    350.000    Asti  2015-07-15 01:41:51   315  \n",
       "16    340.000    Asti  2015-07-15 02:42:11   315  \n",
       "17    360.000    Asti  2015-07-15 03:40:26   315  \n",
       "18    310.000    Asti  2015-07-15 04:41:18   315  \n",
       "19      0.000    Asti  2015-07-15 05:41:58   315  \n",
       "20    350.000    Asti  2015-07-15 06:41:38   315  \n",
       "21    330.000    Asti  2015-07-15 07:41:22   315  \n",
       "22      0.000    Asti  2015-07-15 08:41:56   315  \n",
       "23     50.000    Asti  2015-07-15 09:39:11   315  \n",
       "24     70.000    Asti  2015-07-24 11:40:50   315  \n",
       "25     70.000    Asti  2015-07-24 12:41:33   315  \n",
       "26     24.000    Asti  2015-07-24 13:40:45   315  \n",
       "27     10.000    Asti  2015-07-24 14:39:39   315  \n",
       "28    120.000    Asti  2015-07-24 15:39:48   315  \n",
       "29      0.000    Asti  2015-07-24 16:39:37   315  \n",
       "..        ...     ...                  ...   ...  \n",
       "645    10.000  Torino  2015-07-25 01:39:51   357  \n",
       "646   280.000  Torino  2015-07-25 02:39:22   357  \n",
       "647   290.000  Torino  2015-07-25 03:38:52   357  \n",
       "648     0.000  Torino  2015-07-25 04:39:09   357  \n",
       "649   350.000  Torino  2015-07-25 05:39:32   357  \n",
       "650   330.000  Torino  2015-07-25 06:39:37   357  \n",
       "651    50.000  Torino  2015-07-25 07:38:39   357  \n",
       "652     0.000  Torino  2015-07-25 08:39:13   357  \n",
       "653     0.000  Torino  2015-07-25 09:38:40   357  \n",
       "654     0.000  Torino  2015-07-25 10:39:20   357  \n",
       "655     0.000  Torino  2015-06-27 08:47:31   357  \n",
       "656    80.000  Torino  2015-06-27 09:40:04   357  \n",
       "657    50.000  Torino  2015-06-27 10:36:46   357  \n",
       "658    50.000  Torino  2015-06-27 11:51:21   357  \n",
       "659    70.000  Torino  2015-06-27 12:48:32   357  \n",
       "660    60.000  Torino  2015-06-27 13:49:03   357  \n",
       "661   360.000  Torino  2015-06-27 14:50:02   357  \n",
       "662   170.000  Torino  2015-06-27 16:50:05   357  \n",
       "663     0.000  Torino  2015-06-27 17:50:20   357  \n",
       "664    90.000  Torino  2015-06-27 18:52:37   357  \n",
       "665    50.000  Torino  2015-06-27 19:53:06   357  \n",
       "666    10.000  Torino  2015-06-27 22:48:11   357  \n",
       "667   340.000  Torino  2015-06-27 23:51:30   357  \n",
       "668   340.000  Torino  2015-06-28 00:52:09   357  \n",
       "669   340.000  Torino  2015-06-28 02:54:40   357  \n",
       "670   340.000  Torino  2015-06-28 03:49:55   357  \n",
       "671    30.000  Torino  2015-06-28 04:48:45   357  \n",
       "672   360.000  Torino  2015-06-28 05:51:33   357  \n",
       "673    10.000  Torino  2015-06-28 06:47:56   357  \n",
       "674    40.000  Torino  2015-06-28 07:49:33   357  \n",
       "\n",
       "[675 rows x 10 columns]"
      ]
     },
     "execution_count": 8,
     "metadata": {},
     "output_type": "execute_result"
    }
   ],
   "source": [
    "df"
   ]
  },
  {
   "cell_type": "markdown",
   "metadata": {},
   "source": [
    "#### 各城市与海洋距离，最高温度，最低温度，最高湿度，最低湿度"
   ]
  },
  {
   "cell_type": "code",
   "execution_count": 9,
   "metadata": {
    "scrolled": false
   },
   "outputs": [
    {
     "data": {
      "text/plain": [
       "array([315,  71,  14,  37,  47, 121, 250, 200,   8, 357], dtype=int64)"
      ]
     },
     "execution_count": 9,
     "metadata": {},
     "output_type": "execute_result"
    }
   ],
   "source": [
    "city_dist = df['dist'].unique()\n",
    "city_dist\n"
   ]
  },
  {
   "cell_type": "code",
   "execution_count": 10,
   "metadata": {},
   "outputs": [
    {
     "data": {
      "text/plain": [
       "city\n",
       "Asti        34.31\n",
       "Bologna     33.85\n",
       "Cesena      32.81\n",
       "Faenza      32.74\n",
       "Ferrara     33.43\n",
       "Mantova     34.18\n",
       "Milano      34.81\n",
       "Piacenza    33.92\n",
       "Ravenna     32.79\n",
       "Torino      34.69\n",
       "Name: temp, dtype: float64"
      ]
     },
     "execution_count": 10,
     "metadata": {},
     "output_type": "execute_result"
    }
   ],
   "source": [
    "temp_max = df.groupby(by='city')['temp'].max()\n",
    "temp_max"
   ]
  },
  {
   "cell_type": "code",
   "execution_count": 11,
   "metadata": {},
   "outputs": [
    {
     "data": {
      "text/plain": [
       "city\n",
       "Asti        18.01\n",
       "Bologna     18.44\n",
       "Cesena      18.41\n",
       "Faenza      18.62\n",
       "Ferrara     18.81\n",
       "Mantova     19.03\n",
       "Milano      18.28\n",
       "Piacenza    18.68\n",
       "Ravenna     18.22\n",
       "Torino      18.94\n",
       "Name: temp, dtype: float64"
      ]
     },
     "execution_count": 11,
     "metadata": {},
     "output_type": "execute_result"
    }
   ],
   "source": [
    "temp_min = df.groupby(by='city')['temp'].min()\n",
    "temp_min"
   ]
  },
  {
   "cell_type": "code",
   "execution_count": 12,
   "metadata": {},
   "outputs": [
    {
     "data": {
      "text/plain": [
       "city\n",
       "Asti         93\n",
       "Bologna      92\n",
       "Cesena      100\n",
       "Faenza      100\n",
       "Ferrara      85\n",
       "Mantova     100\n",
       "Milano      100\n",
       "Piacenza    100\n",
       "Ravenna      94\n",
       "Torino       88\n",
       "Name: humidity, dtype: int64"
      ]
     },
     "execution_count": 12,
     "metadata": {},
     "output_type": "execute_result"
    }
   ],
   "source": [
    "humidity_max = df.groupby(by='city')['humidity'].max()\n",
    "humidity_max"
   ]
  },
  {
   "cell_type": "code",
   "execution_count": 13,
   "metadata": {
    "scrolled": true
   },
   "outputs": [
    {
     "data": {
      "text/plain": [
       "city\n",
       "Asti        29\n",
       "Bologna     40\n",
       "Cesena      61\n",
       "Faenza      61\n",
       "Ferrara     39\n",
       "Mantova     28\n",
       "Milano      35\n",
       "Piacenza    35\n",
       "Ravenna     34\n",
       "Torino      45\n",
       "Name: humidity, dtype: int64"
      ]
     },
     "execution_count": 13,
     "metadata": {},
     "output_type": "execute_result"
    }
   ],
   "source": [
    "humidity_min = df.groupby(by='city')['humidity'].min()\n",
    "humidity_min"
   ]
  },
  {
   "cell_type": "markdown",
   "metadata": {},
   "source": [
    "#### 显示最高温度与离海远近的关系"
   ]
  },
  {
   "cell_type": "code",
   "execution_count": 14,
   "metadata": {},
   "outputs": [],
   "source": [
    "import seaborn as sns"
   ]
  },
  {
   "cell_type": "code",
   "execution_count": 15,
   "metadata": {},
   "outputs": [],
   "source": [
    "sns.set(style='darkgrid')"
   ]
  },
  {
   "cell_type": "code",
   "execution_count": 16,
   "metadata": {
    "scrolled": true
   },
   "outputs": [
    {
     "data": {
      "text/plain": [
       "<matplotlib.collections.PathCollection at 0x143df8f4208>"
      ]
     },
     "execution_count": 16,
     "metadata": {},
     "output_type": "execute_result"
    },
    {
     "data": {
      "image/png": "[encoded data removed]",
      "text/plain": [
       "<Figure size 432x288 with 1 Axes>"
      ]
     },
     "metadata": {},
     "output_type": "display_data"
    }
   ],
   "source": [
    "plt.scatter(y=temp_max, x=city_dist)"
   ]
  },
  {
   "cell_type": "code",
   "execution_count": 17,
   "metadata": {
    "scrolled": true
   },
   "outputs": [
    {
     "data": {
      "image/png": "[encoded data removed]",
      "text/plain": [
       "<Figure size 432x288 with 1 Axes>"
      ]
     },
     "metadata": {},
     "output_type": "display_data"
    }
   ],
   "source": [
    "_ = sns.scatterplot(city_dist, temp_max)"
   ]
  },
  {
   "cell_type": "code",
   "execution_count": 18,
   "metadata": {
    "scrolled": false
   },
   "outputs": [
    {
     "data": {
      "image/png": "[encoded data removed]",
      "text/plain": [
       "<Figure size 432x288 with 1 Axes>"
      ]
     },
     "metadata": {},
     "output_type": "display_data"
    }
   ],
   "source": [
    "_ = sns.regplot(city_dist, temp_max, marker='*',fit_reg=False)"
   ]
  },
  {
   "cell_type": "code",
   "execution_count": 19,
   "metadata": {
    "scrolled": true
   },
   "outputs": [
    {
     "data": {
      "text/plain": [
       "<matplotlib.axes._subplots.AxesSubplot at 0x143dfa397b8>"
      ]
     },
     "execution_count": 19,
     "metadata": {},
     "output_type": "execute_result"
    },
    {
     "data": {
      "image/png": "[encoded data removed]",
      "text/plain": [
       "<Figure size 432x288 with 1 Axes>"
      ]
     },
     "metadata": {},
     "output_type": "display_data"
    }
   ],
   "source": [
    "sns.regplot(city_dist, temp_max, marker='*')"
   ]
  },
  {
   "cell_type": "markdown",
   "metadata": {},
   "source": [
    "\n",
    "观察发现，离海近的可以形成一条直线，离海远的也能形成一条直线。\n",
    "\n",
    "首先使用numpy：把列表转换为numpy数组，用于后续计算。\n",
    "\n",
    "分别以100公里和50公里为分界点，划分为离海近和离海远的两组数据"
   ]
  },
  {
   "cell_type": "code",
   "execution_count": 20,
   "metadata": {},
   "outputs": [],
   "source": [
    "dist_near = city_dist[city_dist < 100]\n",
    "temp_near = temp_max[city_dist < 100]"
   ]
  },
  {
   "cell_type": "code",
   "execution_count": 21,
   "metadata": {},
   "outputs": [],
   "source": [
    "dist_far = city_dist[city_dist > 50]\n",
    "temp_far = temp_max[city_dist > 50]"
   ]
  },
  {
   "cell_type": "markdown",
   "metadata": {},
   "source": [
    "#### 使用支持向量机计算回归参数"
   ]
  },
  {
   "cell_type": "code",
   "execution_count": 22,
   "metadata": {},
   "outputs": [],
   "source": [
    "from sklearn.svm import SVR"
   ]
  },
  {
   "cell_type": "code",
   "execution_count": 23,
   "metadata": {},
   "outputs": [
    {
     "data": {
      "text/plain": [
       "array([[71],\n",
       "       [14],\n",
       "       [37],\n",
       "       [47],\n",
       "       [ 8]], dtype=int64)"
      ]
     },
     "execution_count": 23,
     "metadata": {},
     "output_type": "execute_result"
    }
   ],
   "source": [
    "dist_near.reshape(-1,1)"
   ]
  },
  {
   "cell_type": "code",
   "execution_count": 24,
   "metadata": {},
   "outputs": [
    {
     "data": {
      "text/plain": [
       "array([[33.85],\n",
       "       [32.81],\n",
       "       [32.74],\n",
       "       [33.43],\n",
       "       [32.79]])"
      ]
     },
     "execution_count": 24,
     "metadata": {},
     "output_type": "execute_result"
    }
   ],
   "source": [
    "temp_near.values.reshape(-1,1)"
   ]
  },
  {
   "cell_type": "code",
   "execution_count": 25,
   "metadata": {
    "scrolled": true
   },
   "outputs": [
    {
     "name": "stderr",
     "output_type": "stream",
     "text": [
      "d:\\envs\\envspider\\lib\\site-packages\\sklearn\\utils\\validation.py:724: DataConversionWarning: A column-vector y was passed when a 1d array was expected. Please change the shape of y to (n_samples, ), for example using ravel().\n",
      "  y = column_or_1d(y, warn=True)\n"
     ]
    },
    {
     "data": {
      "text/plain": [
       "SVR(C=1.0, cache_size=200, coef0=0.0, degree=3, epsilon=0.1,\n",
       "    gamma='auto_deprecated', kernel='linear', max_iter=-1, shrinking=True,\n",
       "    tol=0.001, verbose=False)"
      ]
     },
     "execution_count": 25,
     "metadata": {},
     "output_type": "execute_result"
    }
   ],
   "source": [
    "svr_near = SVR(kernel='linear')\n",
    "svr_near.fit(dist_near.reshape(-1,1), temp_near.values.reshape(-1,1))"
   ]
  },
  {
   "cell_type": "code",
   "execution_count": 26,
   "metadata": {},
   "outputs": [],
   "source": [
    "x_test_near = np.linspace(0,150,100).reshape(-1,1)\n",
    "y_ = svr_near.predict(x_test_near)"
   ]
  },
  {
   "cell_type": "code",
   "execution_count": 27,
   "metadata": {},
   "outputs": [
    {
     "data": {
      "text/plain": [
       "<matplotlib.collections.PathCollection at 0x143dff7fa20>"
      ]
     },
     "execution_count": 27,
     "metadata": {},
     "output_type": "execute_result"
    },
    {
     "data": {
      "image/png": "[encoded data removed]",
      "text/plain": [
       "<Figure size 432x288 with 1 Axes>"
      ]
     },
     "metadata": {},
     "output_type": "display_data"
    }
   ],
   "source": [
    "plt.scatter(dist_near, temp_near)"
   ]
  },
  {
   "cell_type": "code",
   "execution_count": 28,
   "metadata": {},
   "outputs": [
    {
     "data": {
      "image/png": "[encoded data removed]",
      "text/plain": [
       "<Figure size 432x288 with 1 Axes>"
      ]
     },
     "metadata": {},
     "output_type": "display_data"
    }
   ],
   "source": [
    "sns.regplot(city_dist, temp_max, marker='*',fit_reg=False)\n",
    "# plt.scatter(city_dist, temp_max)\n",
    "_ = plt.plot(x_test_near, y_)"
   ]
  },
  {
   "cell_type": "code",
   "execution_count": 29,
   "metadata": {},
   "outputs": [
    {
     "name": "stderr",
     "output_type": "stream",
     "text": [
      "d:\\envs\\envspider\\lib\\site-packages\\sklearn\\utils\\validation.py:724: DataConversionWarning: A column-vector y was passed when a 1d array was expected. Please change the shape of y to (n_samples, ), for example using ravel().\n",
      "  y = column_or_1d(y, warn=True)\n"
     ]
    },
    {
     "data": {
      "text/plain": [
       "SVR(C=1.0, cache_size=200, coef0=0.0, degree=3, epsilon=0.1,\n",
       "    gamma='auto_deprecated', kernel='linear', max_iter=-1, shrinking=True,\n",
       "    tol=0.001, verbose=False)"
      ]
     },
     "execution_count": 29,
     "metadata": {},
     "output_type": "execute_result"
    }
   ],
   "source": [
    "svr_far = SVR(kernel='linear')\n",
    "svr_far.fit(dist_far.reshape(-1,1), temp_far.values.reshape(-1,1))"
   ]
  },
  {
   "cell_type": "code",
   "execution_count": 30,
   "metadata": {},
   "outputs": [],
   "source": [
    "x_test_far = np.linspace(100,400,100).reshape(-1,1)\n",
    "y1_ = svr_far.predict(x_test_far)"
   ]
  },
  {
   "cell_type": "code",
   "execution_count": 31,
   "metadata": {},
   "outputs": [
    {
     "data": {
      "text/plain": [
       "[<matplotlib.lines.Line2D at 0x143dfffe9b0>]"
      ]
     },
     "execution_count": 31,
     "metadata": {},
     "output_type": "execute_result"
    },
    {
     "data": {
      "image/png": "[encoded data removed]",
      "text/plain": [
       "<Figure size 432x288 with 1 Axes>"
      ]
     },
     "metadata": {},
     "output_type": "display_data"
    }
   ],
   "source": [
    "sns.regplot(city_dist, temp_max, marker='*',fit_reg=False)\n",
    "# plt.scatter(city_dist, temp_max)\n",
    "plt.ylim(32, 36)\n",
    "plt.plot(x_test_near, y_)\n",
    "plt.plot(x_test_far, y1_)"
   ]
  },
  {
   "cell_type": "markdown",
   "metadata": {
    "collapsed": true
   },
   "source": [
    "#### 查看最低温度与海洋距离的关系"
   ]
  },
  {
   "cell_type": "code",
   "execution_count": 32,
   "metadata": {},
   "outputs": [
    {
     "data": {
      "text/plain": [
       "<matplotlib.axes._subplots.AxesSubplot at 0x143e0083f60>"
      ]
     },
     "execution_count": 32,
     "metadata": {},
     "output_type": "execute_result"
    },
    {
     "data": {
      "image/png": "[encoded data removed]",
      "text/plain": [
       "<Figure size 432x288 with 1 Axes>"
      ]
     },
     "metadata": {},
     "output_type": "display_data"
    }
   ],
   "source": [
    "sns.scatterplot(city_dist, temp_min)"
   ]
  },
  {
   "cell_type": "markdown",
   "metadata": {},
   "source": [
    "#### 最低湿度与海洋距离的关系"
   ]
  },
  {
   "cell_type": "code",
   "execution_count": 33,
   "metadata": {},
   "outputs": [
    {
     "data": {
      "text/plain": [
       "<matplotlib.axes._subplots.AxesSubplot at 0x143df9e9b00>"
      ]
     },
     "execution_count": 33,
     "metadata": {},
     "output_type": "execute_result"
    },
    {
     "data": {
      "image/png": "[encoded data removed]",
      "text/plain": [
       "<Figure size 432x288 with 1 Axes>"
      ]
     },
     "metadata": {},
     "output_type": "display_data"
    }
   ],
   "source": [
    "sns.scatterplot(city_dist, humidity_min)"
   ]
  },
  {
   "cell_type": "markdown",
   "metadata": {},
   "source": [
    "#### 最高湿度与海洋距离的关系"
   ]
  },
  {
   "cell_type": "code",
   "execution_count": 34,
   "metadata": {},
   "outputs": [
    {
     "data": {
      "text/plain": [
       "<matplotlib.axes._subplots.AxesSubplot at 0x143e00b45f8>"
      ]
     },
     "execution_count": 34,
     "metadata": {},
     "output_type": "execute_result"
    },
    {
     "data": {
      "image/png": "[encoded data removed]",
      "text/plain": [
       "<Figure size 432x288 with 1 Axes>"
      ]
     },
     "metadata": {},
     "output_type": "display_data"
    }
   ],
   "source": [
    "sns.scatterplot(city_dist, humidity_max)"
   ]
  },
  {
   "cell_type": "markdown",
   "metadata": {},
   "source": [
    "#### 平均湿度与海洋距离的关系"
   ]
  },
  {
   "cell_type": "code",
   "execution_count": 35,
   "metadata": {},
   "outputs": [],
   "source": [
    "humidity_mean = df.groupby(by='city')[['humidity']].mean()"
   ]
  },
  {
   "cell_type": "code",
   "execution_count": 36,
   "metadata": {},
   "outputs": [
    {
     "data": {
      "text/plain": [
       "<matplotlib.axes._subplots.AxesSubplot at 0x143e0102860>"
      ]
     },
     "execution_count": 36,
     "metadata": {},
     "output_type": "execute_result"
    },
    {
     "data": {
      "image/png": "[encoded data removed]",
      "text/plain": [
       "<Figure size 432x288 with 1 Axes>"
      ]
     },
     "metadata": {},
     "output_type": "display_data"
    }
   ],
   "source": [
    "sns.scatterplot(city_dist, humidity_mean['humidity'], marker='d', color='r')"
   ]
  },
  {
   "cell_type": "markdown",
   "metadata": {},
   "source": [
    "思考：模仿最高温度，得到平均湿度与海洋距离的回归曲线"
   ]
  },
  {
   "cell_type": "markdown",
   "metadata": {},
   "source": [
    "#### 风向与风速的关系"
   ]
  },
  {
   "cell_type": "code",
   "execution_count": 37,
   "metadata": {
    "scrolled": true
   },
   "outputs": [
    {
     "data": {
      "text/html": [
       "<div>\n",
       "<style scoped>\n",
       "    .dataframe tbody tr th:only-of-type {\n",
       "        vertical-align: middle;\n",
       "    }\n",
       "\n",
       "    .dataframe tbody tr th {\n",
       "        vertical-align: top;\n",
       "    }\n",
       "\n",
       "    .dataframe thead th {\n",
       "        text-align: right;\n",
       "    }\n",
       "</style>\n",
       "<table border=\"1\" class=\"dataframe\">\n",
       "  <thead>\n",
       "    <tr style=\"text-align: right;\">\n",
       "      <th></th>\n",
       "      <th>temp</th>\n",
       "      <th>humidity</th>\n",
       "      <th>pressure</th>\n",
       "      <th>description</th>\n",
       "      <th>dt</th>\n",
       "      <th>wind_speed</th>\n",
       "      <th>wind_deg</th>\n",
       "      <th>city</th>\n",
       "      <th>day</th>\n",
       "      <th>dist</th>\n",
       "    </tr>\n",
       "  </thead>\n",
       "  <tbody>\n",
       "    <tr>\n",
       "      <th>0</th>\n",
       "      <td>28.05</td>\n",
       "      <td>66</td>\n",
       "      <td>1014.0</td>\n",
       "      <td>Sky is Clear</td>\n",
       "      <td>1436863176</td>\n",
       "      <td>2.57</td>\n",
       "      <td>42.501</td>\n",
       "      <td>Asti</td>\n",
       "      <td>2015-07-14 10:39:36</td>\n",
       "      <td>315</td>\n",
       "    </tr>\n",
       "    <tr>\n",
       "      <th>1</th>\n",
       "      <td>29.51</td>\n",
       "      <td>64</td>\n",
       "      <td>1014.0</td>\n",
       "      <td>Sky is Clear</td>\n",
       "      <td>1436866759</td>\n",
       "      <td>1.54</td>\n",
       "      <td>263.000</td>\n",
       "      <td>Asti</td>\n",
       "      <td>2015-07-14 11:39:19</td>\n",
       "      <td>315</td>\n",
       "    </tr>\n",
       "    <tr>\n",
       "      <th>2</th>\n",
       "      <td>30.39</td>\n",
       "      <td>58</td>\n",
       "      <td>1017.0</td>\n",
       "      <td>Sky is Clear</td>\n",
       "      <td>1436870510</td>\n",
       "      <td>2.60</td>\n",
       "      <td>100.000</td>\n",
       "      <td>Asti</td>\n",
       "      <td>2015-07-14 12:41:50</td>\n",
       "      <td>315</td>\n",
       "    </tr>\n",
       "    <tr>\n",
       "      <th>3</th>\n",
       "      <td>31.10</td>\n",
       "      <td>54</td>\n",
       "      <td>1017.0</td>\n",
       "      <td>Sky is Clear</td>\n",
       "      <td>1436874098</td>\n",
       "      <td>2.10</td>\n",
       "      <td>90.000</td>\n",
       "      <td>Asti</td>\n",
       "      <td>2015-07-14 13:41:38</td>\n",
       "      <td>315</td>\n",
       "    </tr>\n",
       "    <tr>\n",
       "      <th>4</th>\n",
       "      <td>33.23</td>\n",
       "      <td>45</td>\n",
       "      <td>1016.0</td>\n",
       "      <td>few clouds</td>\n",
       "      <td>1436877645</td>\n",
       "      <td>2.10</td>\n",
       "      <td>120.000</td>\n",
       "      <td>Asti</td>\n",
       "      <td>2015-07-14 14:40:45</td>\n",
       "      <td>315</td>\n",
       "    </tr>\n",
       "  </tbody>\n",
       "</table>\n",
       "</div>"
      ],
      "text/plain": [
       "    temp  humidity  pressure   description          dt  wind_speed  wind_deg  \\\n",
       "0  28.05        66    1014.0  Sky is Clear  1436863176        2.57    42.501   \n",
       "1  29.51        64    1014.0  Sky is Clear  1436866759        1.54   263.000   \n",
       "2  30.39        58    1017.0  Sky is Clear  1436870510        2.60   100.000   \n",
       "3  31.10        54    1017.0  Sky is Clear  1436874098        2.10    90.000   \n",
       "4  33.23        45    1016.0    few clouds  1436877645        2.10   120.000   \n",
       "\n",
       "   city                  day  dist  \n",
       "0  Asti  2015-07-14 10:39:36   315  \n",
       "1  Asti  2015-07-14 11:39:19   315  \n",
       "2  Asti  2015-07-14 12:41:50   315  \n",
       "3  Asti  2015-07-14 13:41:38   315  \n",
       "4  Asti  2015-07-14 14:40:45   315  "
      ]
     },
     "execution_count": 37,
     "metadata": {},
     "output_type": "execute_result"
    }
   ],
   "source": [
    "df.head()"
   ]
  },
  {
   "cell_type": "code",
   "execution_count": 38,
   "metadata": {
    "scrolled": true
   },
   "outputs": [
    {
     "data": {
      "text/html": [
       "<div>\n",
       "<style scoped>\n",
       "    .dataframe tbody tr th:only-of-type {\n",
       "        vertical-align: middle;\n",
       "    }\n",
       "\n",
       "    .dataframe tbody tr th {\n",
       "        vertical-align: top;\n",
       "    }\n",
       "\n",
       "    .dataframe thead th {\n",
       "        text-align: right;\n",
       "    }\n",
       "</style>\n",
       "<table border=\"1\" class=\"dataframe\">\n",
       "  <thead>\n",
       "    <tr style=\"text-align: right;\">\n",
       "      <th></th>\n",
       "      <th>wind_deg</th>\n",
       "      <th>wind_speed</th>\n",
       "    </tr>\n",
       "  </thead>\n",
       "  <tbody>\n",
       "    <tr>\n",
       "      <th>0</th>\n",
       "      <td>42.501</td>\n",
       "      <td>2.57</td>\n",
       "    </tr>\n",
       "    <tr>\n",
       "      <th>1</th>\n",
       "      <td>263.000</td>\n",
       "      <td>1.54</td>\n",
       "    </tr>\n",
       "    <tr>\n",
       "      <th>2</th>\n",
       "      <td>100.000</td>\n",
       "      <td>2.60</td>\n",
       "    </tr>\n",
       "    <tr>\n",
       "      <th>3</th>\n",
       "      <td>90.000</td>\n",
       "      <td>2.10</td>\n",
       "    </tr>\n",
       "    <tr>\n",
       "      <th>4</th>\n",
       "      <td>120.000</td>\n",
       "      <td>2.10</td>\n",
       "    </tr>\n",
       "    <tr>\n",
       "      <th>5</th>\n",
       "      <td>110.000</td>\n",
       "      <td>2.10</td>\n",
       "    </tr>\n",
       "    <tr>\n",
       "      <th>6</th>\n",
       "      <td>100.000</td>\n",
       "      <td>2.10</td>\n",
       "    </tr>\n",
       "    <tr>\n",
       "      <th>7</th>\n",
       "      <td>100.000</td>\n",
       "      <td>2.10</td>\n",
       "    </tr>\n",
       "    <tr>\n",
       "      <th>8</th>\n",
       "      <td>100.000</td>\n",
       "      <td>1.50</td>\n",
       "    </tr>\n",
       "    <tr>\n",
       "      <th>9</th>\n",
       "      <td>240.000</td>\n",
       "      <td>2.10</td>\n",
       "    </tr>\n",
       "  </tbody>\n",
       "</table>\n",
       "</div>"
      ],
      "text/plain": [
       "   wind_deg  wind_speed\n",
       "0    42.501        2.57\n",
       "1   263.000        1.54\n",
       "2   100.000        2.60\n",
       "3    90.000        2.10\n",
       "4   120.000        2.10\n",
       "5   110.000        2.10\n",
       "6   100.000        2.10\n",
       "7   100.000        2.10\n",
       "8   100.000        1.50\n",
       "9   240.000        2.10"
      ]
     },
     "execution_count": 38,
     "metadata": {},
     "output_type": "execute_result"
    }
   ],
   "source": [
    "df[['wind_deg','wind_speed']].head(10)"
   ]
  },
  {
   "cell_type": "code",
   "execution_count": 39,
   "metadata": {
    "scrolled": false
   },
   "outputs": [
    {
     "data": {
      "text/plain": [
       "<matplotlib.axes._subplots.AxesSubplot at 0x143e01636a0>"
      ]
     },
     "execution_count": 39,
     "metadata": {},
     "output_type": "execute_result"
    },
    {
     "data": {
      "image/png": "[encoded data removed]",
      "text/plain": [
       "<Figure size 432x288 with 1 Axes>"
      ]
     },
     "metadata": {},
     "output_type": "display_data"
    }
   ],
   "source": [
    "sns.scatterplot(df['wind_deg'],df['wind_speed'])"
   ]
  },
  {
   "cell_type": "markdown",
   "metadata": {},
   "source": [
    "#### 在子图中，同时比较风向与湿度和风力的关系"
   ]
  },
  {
   "cell_type": "code",
   "execution_count": 40,
   "metadata": {},
   "outputs": [
    {
     "data": {
      "text/plain": [
       "<matplotlib.axes._subplots.AxesSubplot at 0x143e01d32b0>"
      ]
     },
     "execution_count": 40,
     "metadata": {},
     "output_type": "execute_result"
    },
    {
     "data": {
      "image/png": "[encoded data removed]",
      "text/plain": [
       "<Figure size 1152x576 with 2 Axes>"
      ]
     },
     "metadata": {},
     "output_type": "display_data"
    }
   ],
   "source": [
    "plt.figure(figsize=(2*8,8))\n",
    "axes1= plt.subplot(1,2,1)\n",
    "\n",
    "sns.scatterplot(df['wind_deg'],df['humidity'])\n",
    "axes2= plt.subplot(1,2,2)\n",
    "sns.scatterplot(df['wind_deg'],df['wind_speed'])"
   ]
  },
  {
   "cell_type": "markdown",
   "metadata": {},
   "source": [
    "可以看到散点图显示效果不好"
   ]
  },
  {
   "cell_type": "markdown",
   "metadata": {},
   "source": [
    "由于风向是360度，我们可以考虑使用玫瑰图（极坐标条形图）"
   ]
  },
  {
   "cell_type": "markdown",
   "metadata": {},
   "source": [
    "首先自定义一个画图函数"
   ]
  },
  {
   "cell_type": "markdown",
   "metadata": {},
   "source": [
    "#### 用numpy创建一个直方图，将360度划分为8个面元，将数据分类到这8个面元中"
   ]
  },
  {
   "cell_type": "code",
   "execution_count": 41,
   "metadata": {},
   "outputs": [
    {
     "data": {
      "text/plain": [
       "array(['Asti', 'Bologna', 'Cesena', 'Faenza', 'Ferrara', 'Mantova',\n",
       "       'Milano', 'Piacenza', 'Ravenna', 'Torino'], dtype=object)"
      ]
     },
     "execution_count": 41,
     "metadata": {},
     "output_type": "execute_result"
    }
   ],
   "source": [
    "df['city'].unique()"
   ]
  },
  {
   "cell_type": "code",
   "execution_count": 42,
   "metadata": {},
   "outputs": [
    {
     "data": {
      "text/html": [
       "<div>\n",
       "<style scoped>\n",
       "    .dataframe tbody tr th:only-of-type {\n",
       "        vertical-align: middle;\n",
       "    }\n",
       "\n",
       "    .dataframe tbody tr th {\n",
       "        vertical-align: top;\n",
       "    }\n",
       "\n",
       "    .dataframe thead th {\n",
       "        text-align: right;\n",
       "    }\n",
       "</style>\n",
       "<table border=\"1\" class=\"dataframe\">\n",
       "  <thead>\n",
       "    <tr style=\"text-align: right;\">\n",
       "      <th></th>\n",
       "      <th>temp</th>\n",
       "      <th>humidity</th>\n",
       "      <th>pressure</th>\n",
       "      <th>description</th>\n",
       "      <th>dt</th>\n",
       "      <th>wind_speed</th>\n",
       "      <th>wind_deg</th>\n",
       "      <th>city</th>\n",
       "      <th>day</th>\n",
       "      <th>dist</th>\n",
       "    </tr>\n",
       "  </thead>\n",
       "  <tbody>\n",
       "    <tr>\n",
       "      <th>468</th>\n",
       "      <td>20.27</td>\n",
       "      <td>68</td>\n",
       "      <td>1017.0</td>\n",
       "      <td>Sky is Clear</td>\n",
       "      <td>1435453226</td>\n",
       "      <td>2.6</td>\n",
       "      <td>90.0</td>\n",
       "      <td>Milano</td>\n",
       "      <td>2015-06-28 03:00:26</td>\n",
       "      <td>250</td>\n",
       "    </tr>\n",
       "    <tr>\n",
       "      <th>469</th>\n",
       "      <td>19.62</td>\n",
       "      <td>72</td>\n",
       "      <td>1017.0</td>\n",
       "      <td>Sky is Clear</td>\n",
       "      <td>1435456482</td>\n",
       "      <td>2.6</td>\n",
       "      <td>50.0</td>\n",
       "      <td>Milano</td>\n",
       "      <td>2015-06-28 03:54:42</td>\n",
       "      <td>250</td>\n",
       "    </tr>\n",
       "    <tr>\n",
       "      <th>470</th>\n",
       "      <td>18.68</td>\n",
       "      <td>72</td>\n",
       "      <td>1017.0</td>\n",
       "      <td>Sky is Clear</td>\n",
       "      <td>1435460036</td>\n",
       "      <td>2.6</td>\n",
       "      <td>40.0</td>\n",
       "      <td>Milano</td>\n",
       "      <td>2015-06-28 04:53:56</td>\n",
       "      <td>250</td>\n",
       "    </tr>\n",
       "    <tr>\n",
       "      <th>471</th>\n",
       "      <td>18.28</td>\n",
       "      <td>72</td>\n",
       "      <td>1017.0</td>\n",
       "      <td>Sky is Clear</td>\n",
       "      <td>1435463874</td>\n",
       "      <td>2.6</td>\n",
       "      <td>40.0</td>\n",
       "      <td>Milano</td>\n",
       "      <td>2015-06-28 05:57:54</td>\n",
       "      <td>250</td>\n",
       "    </tr>\n",
       "    <tr>\n",
       "      <th>472</th>\n",
       "      <td>18.86</td>\n",
       "      <td>77</td>\n",
       "      <td>1017.0</td>\n",
       "      <td>Sky is Clear</td>\n",
       "      <td>1435467177</td>\n",
       "      <td>0.5</td>\n",
       "      <td>0.0</td>\n",
       "      <td>Milano</td>\n",
       "      <td>2015-06-28 06:52:57</td>\n",
       "      <td>250</td>\n",
       "    </tr>\n",
       "  </tbody>\n",
       "</table>\n",
       "</div>"
      ],
      "text/plain": [
       "      temp  humidity  pressure   description          dt  wind_speed  \\\n",
       "468  20.27        68    1017.0  Sky is Clear  1435453226         2.6   \n",
       "469  19.62        72    1017.0  Sky is Clear  1435456482         2.6   \n",
       "470  18.68        72    1017.0  Sky is Clear  1435460036         2.6   \n",
       "471  18.28        72    1017.0  Sky is Clear  1435463874         2.6   \n",
       "472  18.86        77    1017.0  Sky is Clear  1435467177         0.5   \n",
       "\n",
       "     wind_deg    city                  day  dist  \n",
       "468      90.0  Milano  2015-06-28 03:00:26   250  \n",
       "469      50.0  Milano  2015-06-28 03:54:42   250  \n",
       "470      40.0  Milano  2015-06-28 04:53:56   250  \n",
       "471      40.0  Milano  2015-06-28 05:57:54   250  \n",
       "472       0.0  Milano  2015-06-28 06:52:57   250  "
      ]
     },
     "execution_count": 42,
     "metadata": {},
     "output_type": "execute_result"
    }
   ],
   "source": [
    "Milano = df[df['city'] == 'Milano']\n",
    "Milano.tail()"
   ]
  },
  {
   "cell_type": "code",
   "execution_count": 43,
   "metadata": {},
   "outputs": [
    {
     "data": {
      "text/plain": [
       "array([21,  9,  9,  6, 14,  3,  2,  2], dtype=int64)"
      ]
     },
     "execution_count": 43,
     "metadata": {},
     "output_type": "execute_result"
    }
   ],
   "source": [
    "milano_deg_data, _ = np.histogram(Milano['wind_deg'].values, bins=8, range=[0,360])\n",
    "milano_deg_data"
   ]
  },
  {
   "cell_type": "code",
   "execution_count": 44,
   "metadata": {},
   "outputs": [
    {
     "data": {
      "text/plain": [
       "array([  0,  45,  90, 135, 180, 225, 270, 315])"
      ]
     },
     "execution_count": 44,
     "metadata": {},
     "output_type": "execute_result"
    }
   ],
   "source": [
    "# degree = np.arange(0, 2*np.pi, 2*np.pi/8)\n",
    "degree = np.arange(0,360,45)\n",
    "degree"
   ]
  },
  {
   "cell_type": "code",
   "execution_count": 45,
   "metadata": {},
   "outputs": [],
   "source": [
    "from pyecharts.charts import Bar"
   ]
  },
  {
   "cell_type": "code",
   "execution_count": 46,
   "metadata": {},
   "outputs": [
    {
     "data": {
      "text/plain": [
       "array([21,  9,  9,  6, 14,  3,  2,  2], dtype=int64)"
      ]
     },
     "execution_count": 46,
     "metadata": {},
     "output_type": "execute_result"
    }
   ],
   "source": [
    "milano_deg_data"
   ]
  },
  {
   "cell_type": "code",
   "execution_count": 47,
   "metadata": {},
   "outputs": [
    {
     "data": {
      "text/html": [
       "<script>\n",
       "    require.config({\n",
       "        paths: {\n",
       "            'echarts':'https://assets.pyecharts.org/assets/echarts.min'\n",
       "        }\n",
       "    });\n",
       "</script>\n",
       "\n",
       "    <div id=\"fd49ef791fe843aaa71b81d9360fe95a\" style=\"width:900px; height:500px;\"></div>\n",
       "\n",
       "\n",
       "<script>\n",
       "    require(['echarts'], function(echarts) {\n",
       "        var chart_fd49ef791fe843aaa71b81d9360fe95a = echarts.init(\n",
       "            document.getElementById('fd49ef791fe843aaa71b81d9360fe95a'), 'white', {renderer: 'canvas'});\n",
       "        var option_fd49ef791fe843aaa71b81d9360fe95a = {\n",
       "    \"color\": [\n",
       "        \"#c23531\",\n",
       "        \"#2f4554\",\n",
       "        \"#61a0a8\",\n",
       "        \"#d48265\",\n",
       "        \"#749f83\",\n",
       "        \"#ca8622\",\n",
       "        \"#bda29a\",\n",
       "        \"#6e7074\",\n",
       "        \"#546570\",\n",
       "        \"#c4ccd3\",\n",
       "        \"#f05b72\",\n",
       "        \"#ef5b9c\",\n",
       "        \"#f47920\",\n",
       "        \"#905a3d\",\n",
       "        \"#fab27b\",\n",
       "        \"#2a5caa\",\n",
       "        \"#444693\",\n",
       "        \"#726930\",\n",
       "        \"#b2d235\",\n",
       "        \"#6d8346\",\n",
       "        \"#ac6767\",\n",
       "        \"#1d953f\",\n",
       "        \"#6950a1\",\n",
       "        \"#918597\"\n",
       "    ],\n",
       "    \"series\": [\n",
       "        {\n",
       "            \"type\": \"bar\",\n",
       "            \"name\": \"\\u5404\\u65b9\\u5411\\u522e\\u98ce\\u6b21\\u6570\",\n",
       "            \"data\": [\n",
       "                21,\n",
       "                9,\n",
       "                9,\n",
       "                6,\n",
       "                14,\n",
       "                3,\n",
       "                2,\n",
       "                2\n",
       "            ],\n",
       "            \"barCategoryGap\": \"20%\",\n",
       "            \"label\": {\n",
       "                \"show\": true,\n",
       "                \"position\": \"top\",\n",
       "                \"margin\": 8\n",
       "            }\n",
       "        }\n",
       "    ],\n",
       "    \"legend\": [\n",
       "        {\n",
       "            \"data\": [\n",
       "                \"\\u5404\\u65b9\\u5411\\u522e\\u98ce\\u6b21\\u6570\"\n",
       "            ],\n",
       "            \"selected\": {\n",
       "                \"\\u5404\\u65b9\\u5411\\u522e\\u98ce\\u6b21\\u6570\": true\n",
       "            }\n",
       "        }\n",
       "    ],\n",
       "    \"tooltip\": {\n",
       "        \"show\": true,\n",
       "        \"trigger\": \"item\",\n",
       "        \"triggerOn\": \"mousemove|click\",\n",
       "        \"axisPointer\": {\n",
       "            \"type\": \"line\"\n",
       "        },\n",
       "        \"textStyle\": {\n",
       "            \"fontSize\": 14\n",
       "        },\n",
       "        \"borderWidth\": 0\n",
       "    },\n",
       "    \"xAxis\": [\n",
       "        {\n",
       "            \"show\": true,\n",
       "            \"scale\": false,\n",
       "            \"nameLocation\": \"end\",\n",
       "            \"nameGap\": 15,\n",
       "            \"gridIndex\": 0,\n",
       "            \"inverse\": false,\n",
       "            \"offset\": 0,\n",
       "            \"splitNumber\": 5,\n",
       "            \"minInterval\": 0,\n",
       "            \"splitLine\": {\n",
       "                \"show\": false,\n",
       "                \"lineStyle\": {\n",
       "                    \"width\": 1,\n",
       "                    \"opacity\": 1,\n",
       "                    \"curveness\": 0,\n",
       "                    \"type\": \"solid\"\n",
       "                }\n",
       "            },\n",
       "            \"data\": [\n",
       "                0,\n",
       "                45,\n",
       "                90,\n",
       "                135,\n",
       "                180,\n",
       "                225,\n",
       "                270,\n",
       "                315\n",
       "            ]\n",
       "        }\n",
       "    ],\n",
       "    \"yAxis\": [\n",
       "        {\n",
       "            \"show\": true,\n",
       "            \"scale\": false,\n",
       "            \"nameLocation\": \"end\",\n",
       "            \"nameGap\": 15,\n",
       "            \"gridIndex\": 0,\n",
       "            \"inverse\": false,\n",
       "            \"offset\": 0,\n",
       "            \"splitNumber\": 5,\n",
       "            \"minInterval\": 0,\n",
       "            \"splitLine\": {\n",
       "                \"show\": false,\n",
       "                \"lineStyle\": {\n",
       "                    \"width\": 1,\n",
       "                    \"opacity\": 1,\n",
       "                    \"curveness\": 0,\n",
       "                    \"type\": \"solid\"\n",
       "                }\n",
       "            }\n",
       "        }\n",
       "    ]\n",
       "};\n",
       "        chart_fd49ef791fe843aaa71b81d9360fe95a.setOption(option_fd49ef791fe843aaa71b81d9360fe95a);\n",
       "    });\n",
       "</script>\n"
      ],
      "text/plain": [
       "<pyecharts.render.display.HTML at 0x143e0510128>"
      ]
     },
     "execution_count": 47,
     "metadata": {},
     "output_type": "execute_result"
    }
   ],
   "source": [
    "bar = Bar()\n",
    "bar.add_xaxis(degree.tolist())\n",
    "\n",
    "bar.add_yaxis(\"各方向刮风次数\",milano_deg_data.tolist())\n",
    "bar.render_notebook()"
   ]
  },
  {
   "cell_type": "markdown",
   "metadata": {},
   "source": [
    "#### pyecharts 例子\n",
    "```\n",
    "from pyecharts.charts import Bar\n",
    "\n",
    "bar = Bar()\n",
    "\n",
    "bar.add_xaxis([\"衬衫\", \"羊毛衫\", \"雪纺衫\", \"裤子\", \"高跟鞋\", \"袜子\"])\n",
    "\n",
    "bar.add_yaxis(\"商家A\", [5, 20, 36, 10, 75, 90])\n",
    "bar.render()\n",
    "```\n",
    "render 会生成本地 HTML 文件，默认会在当前目录生成 render.html 文件\n",
    "也可以传入路径参数，如 bar.render(\"mycharts.html\")\n",
    "\n",
    "bar.rander_notebook() 可以在jupyter中直接显示\n"
   ]
  },
  {
   "cell_type": "markdown",
   "metadata": {
    "collapsed": true
   },
   "source": [
    "#### 计算米兰各个方向上的风速"
   ]
  },
  {
   "cell_type": "markdown",
   "metadata": {},
   "source": [
    "#### 将各个方向的风速保存在列表中"
   ]
  },
  {
   "cell_type": "code",
   "execution_count": 48,
   "metadata": {},
   "outputs": [],
   "source": [
    "conn_45 = Milano['wind_deg'] < 45"
   ]
  },
  {
   "cell_type": "code",
   "execution_count": 49,
   "metadata": {},
   "outputs": [
    {
     "data": {
      "text/plain": [
       "1.8142857142857143"
      ]
     },
     "execution_count": 49,
     "metadata": {},
     "output_type": "execute_result"
    }
   ],
   "source": [
    "Milano[conn_45]['wind_speed'].mean()"
   ]
  },
  {
   "cell_type": "code",
   "execution_count": 50,
   "metadata": {
    "scrolled": false
   },
   "outputs": [
    {
     "name": "stdout",
     "output_type": "stream",
     "text": [
      "45\n",
      "90\n",
      "135\n",
      "180\n",
      "225\n",
      "270\n",
      "315\n"
     ]
    }
   ],
   "source": [
    "for conn_deg in range(45, 360, 45):\n",
    "    print(conn_deg)"
   ]
  },
  {
   "cell_type": "code",
   "execution_count": 51,
   "metadata": {},
   "outputs": [
    {
     "data": {
      "text/plain": [
       "[1.8142857142857143,\n",
       " 2.2222222222222223,\n",
       " 2.855555555555556,\n",
       " 2.583333333333333,\n",
       " 2.3285714285714287,\n",
       " 2.266666666666667,\n",
       " 2.05,\n",
       " 2.1]"
      ]
     },
     "execution_count": 51,
     "metadata": {},
     "output_type": "execute_result"
    }
   ],
   "source": [
    "lst = []\n",
    "for conn_deg in range(45, 360+45, 45):\n",
    "    #  不能直接  conn_deg - 45  <= Milano['wind_deg'] < conn_deg - 45\n",
    "    conn = (Milano['wind_deg'] >= conn_deg - 45)  & (Milano['wind_deg'] < conn_deg)\n",
    "    lst.append(Milano[conn]['wind_speed'].mean())\n",
    "lst    "
   ]
  },
  {
   "cell_type": "markdown",
   "metadata": {},
   "source": [
    "#### 画出各个方向的风速"
   ]
  },
  {
   "cell_type": "code",
   "execution_count": 52,
   "metadata": {
    "scrolled": false
   },
   "outputs": [
    {
     "data": {
      "text/plain": [
       "Text(0.5, 1.05, 'Milano speed wind')"
      ]
     },
     "execution_count": 52,
     "metadata": {},
     "output_type": "execute_result"
    },
    {
     "data": {
      "image/png": "[encoded data removed]",
      "text/plain": [
       "<Figure size 576x576 with 1 Axes>"
      ]
     },
     "metadata": {},
     "output_type": "display_data"
    }
   ],
   "source": [
    "plt.figure(figsize=(8,8))\n",
    "plt.subplot(projection='polar')\n",
    "degree = np.arange(0, 2*np.pi, 2*np.pi/8)\n",
    "\n",
    "#  玫瑰图下面的字被挡住了\n",
    "# color=np.concatenate((np.random.rand(8, 3), np.full((8,1),[0.9])), axis=1)  # 颜色随机并透明 10% \n",
    "color=np.random.rand(8, 3)\n",
    "plt.bar(degree-np.pi/8, lst,width=np.pi/4,color=color, alpha=0.5)  # 调整图形和画布的关系\n",
    "plt.title('Milano speed wind', fontdict=dict(size=15))"
   ]
  },
  {
   "cell_type": "markdown",
   "metadata": {},
   "source": [
    "#### 将上面步骤写成函数"
   ]
  },
  {
   "cell_type": "code",
   "execution_count": 53,
   "metadata": {},
   "outputs": [],
   "source": [
    "def speed_wind(cityname):\n",
    "    city = df[df['city'] == cityname]\n",
    "    lst = []\n",
    "    for conn_deg in range(45, 360+45, 45):\n",
    "        #  不能直接  conn_deg - 45  <= Milano['wind_deg'] < conn_deg - 45\n",
    "        conn = (city['wind_deg'] >= conn_deg - 45)  & (city['wind_deg'] < conn_deg)\n",
    "        lst.append(city[conn]['wind_speed'].mean())\n",
    "    plt.figure(figsize=(8,8))\n",
    "    plt.subplot(projection='polar')\n",
    "    degree = np.arange(0, 2*np.pi, 2*np.pi/8)\n",
    "    #  玫瑰图下面的字被挡住了\n",
    "    color=np.concatenate((np.random.rand(8, 3), np.full((8,1),[0.9])), axis=1)  # 颜色随机并透明 10% \n",
    "    plt.bar(degree-np.pi/8, lst,width=np.pi/4,color=color)\n",
    "    plt.title(f'{cityname} speed wind', fontdict=dict(size=15))"
   ]
  },
  {
   "cell_type": "code",
   "execution_count": 54,
   "metadata": {},
   "outputs": [
    {
     "data": {
      "text/plain": [
       "array(['Asti', 'Bologna', 'Cesena', 'Faenza', 'Ferrara', 'Mantova',\n",
       "       'Milano', 'Piacenza', 'Ravenna', 'Torino'], dtype=object)"
      ]
     },
     "execution_count": 54,
     "metadata": {},
     "output_type": "execute_result"
    }
   ],
   "source": [
    "df['city'].unique()"
   ]
  },
  {
   "cell_type": "code",
   "execution_count": 55,
   "metadata": {
    "scrolled": false
   },
   "outputs": [
    {
     "data": {
      "image/png": "[encoded data removed]",
      "text/plain": [
       "<Figure size 576x576 with 1 Axes>"
      ]
     },
     "metadata": {},
     "output_type": "display_data"
    }
   ],
   "source": [
    "speed_wind('Piacenza')"
   ]
  }
 ],
 "metadata": {
  "kernelspec": {
   "display_name": "Python 3",
   "language": "python",
   "name": "python3"
  },
  "language_info": {
   "codemirror_mode": {
    "name": "ipython",
    "version": 3
   },
   "file_extension": ".py",
   "mimetype": "text/x-python",
   "name": "python",
   "nbconvert_exporter": "python",
   "pygments_lexer": "ipython3",
   "version": "3.6.8"
  }
 },
 "nbformat": 4,
 "nbformat_minor": 1
}
