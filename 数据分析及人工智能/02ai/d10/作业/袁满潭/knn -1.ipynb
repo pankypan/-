{
 "cells": [
  {
   "cell_type": "markdown",
   "metadata": {},
   "source": [
    "# K-近邻算法（KNN）"
   ]
  },
  {
   "cell_type": "code",
   "execution_count": 1,
   "metadata": {},
   "outputs": [],
   "source": [
    "import numpy as np\n",
    "import matplotlib.pyplot as plt\n",
    "import pandas as pd\n",
    "%matplotlib inline\n",
    "plt.rcParams['font.sans-serif']=['SimHei']"
   ]
  },
  {
   "cell_type": "markdown",
   "metadata": {
    "collapsed": true
   },
   "source": [
    "K nearest neighbor"
   ]
  },
  {
   "cell_type": "code",
   "execution_count": 2,
   "metadata": {},
   "outputs": [
    {
     "data": {
      "text/html": [
       "<div>\n",
       "<style scoped>\n",
       "    .dataframe tbody tr th:only-of-type {\n",
       "        vertical-align: middle;\n",
       "    }\n",
       "\n",
       "    .dataframe tbody tr th {\n",
       "        vertical-align: top;\n",
       "    }\n",
       "\n",
       "    .dataframe thead th {\n",
       "        text-align: right;\n",
       "    }\n",
       "</style>\n",
       "<table border=\"1\" class=\"dataframe\">\n",
       "  <thead>\n",
       "    <tr style=\"text-align: right;\">\n",
       "      <th></th>\n",
       "      <th>电影名称</th>\n",
       "      <th>武打镜头</th>\n",
       "      <th>接吻镜头</th>\n",
       "      <th>分类情况</th>\n",
       "    </tr>\n",
       "  </thead>\n",
       "  <tbody>\n",
       "    <tr>\n",
       "      <th>0</th>\n",
       "      <td>大话西游</td>\n",
       "      <td>36</td>\n",
       "      <td>1</td>\n",
       "      <td>动作片</td>\n",
       "    </tr>\n",
       "    <tr>\n",
       "      <th>1</th>\n",
       "      <td>杀破狼</td>\n",
       "      <td>43</td>\n",
       "      <td>2</td>\n",
       "      <td>动作片</td>\n",
       "    </tr>\n",
       "    <tr>\n",
       "      <th>2</th>\n",
       "      <td>前任3</td>\n",
       "      <td>0</td>\n",
       "      <td>10</td>\n",
       "      <td>爱情片</td>\n",
       "    </tr>\n",
       "    <tr>\n",
       "      <th>3</th>\n",
       "      <td>战狼2</td>\n",
       "      <td>59</td>\n",
       "      <td>1</td>\n",
       "      <td>动作片</td>\n",
       "    </tr>\n",
       "    <tr>\n",
       "      <th>4</th>\n",
       "      <td>泰坦尼克号</td>\n",
       "      <td>1</td>\n",
       "      <td>15</td>\n",
       "      <td>爱情片</td>\n",
       "    </tr>\n",
       "    <tr>\n",
       "      <th>5</th>\n",
       "      <td>星语心愿</td>\n",
       "      <td>2</td>\n",
       "      <td>19</td>\n",
       "      <td>爱情片</td>\n",
       "    </tr>\n",
       "  </tbody>\n",
       "</table>\n",
       "</div>"
      ],
      "text/plain": [
       "    电影名称  武打镜头  接吻镜头 分类情况\n",
       "0   大话西游    36     1  动作片\n",
       "1    杀破狼    43     2  动作片\n",
       "2    前任3     0    10  爱情片\n",
       "3    战狼2    59     1  动作片\n",
       "4  泰坦尼克号     1    15  爱情片\n",
       "5   星语心愿     2    19  爱情片"
      ]
     },
     "execution_count": 2,
     "metadata": {},
     "output_type": "execute_result"
    }
   ],
   "source": [
    "movie=pd.read_excel('../data/tests.xlsx',1)\n",
    "movie"
   ]
  },
  {
   "cell_type": "code",
   "execution_count": 3,
   "metadata": {},
   "outputs": [
    {
     "data": {
      "text/plain": [
       "Text(0, 0.5, '接吻镜头')"
      ]
     },
     "execution_count": 3,
     "metadata": {},
     "output_type": "execute_result"
    },
    {
     "data": {
      "image/png": "[encoded data removed]",
      "text/plain": [
       "<Figure size 432x288 with 1 Axes>"
      ]
     },
     "metadata": {
      "needs_background": "light"
     },
     "output_type": "display_data"
    }
   ],
   "source": [
    "plt.scatter(movie['武打镜头'],movie['接吻镜头'])\n",
    "plt.xlabel('武打镜头',fontdict=dict(fontsize=10))\n",
    "plt.ylabel('接吻镜头',fontdict=dict(fontsize=10))"
   ]
  },
  {
   "cell_type": "code",
   "execution_count": 4,
   "metadata": {},
   "outputs": [
    {
     "ename": "NameError",
     "evalue": "name 'KNeighborsClassifier' is not defined",
     "output_type": "error",
     "traceback": [
      "\u001b[1;31m---------------------------------------------------------------------------\u001b[0m",
      "\u001b[1;31mNameError\u001b[0m                                 Traceback (most recent call last)",
      "\u001b[1;32m<ipython-input-4-48f4d5426051>\u001b[0m in \u001b[0;36m<module>\u001b[1;34m\u001b[0m\n\u001b[1;32m----> 1\u001b[1;33m \u001b[0mknn\u001b[0m\u001b[1;33m=\u001b[0m\u001b[0mKNeighborsClassifier\u001b[0m\u001b[1;33m(\u001b[0m\u001b[1;33m)\u001b[0m\u001b[1;33m\u001b[0m\u001b[0m\n\u001b[0m\u001b[0;32m      2\u001b[0m \u001b[0mknn\u001b[0m\u001b[1;33m.\u001b[0m\u001b[0mfit\u001b[0m\u001b[1;33m(\u001b[0m\u001b[0mmovie\u001b[0m\u001b[1;33m[\u001b[0m\u001b[1;33m[\u001b[0m\u001b[1;34m'武打镜头'\u001b[0m\u001b[1;33m,\u001b[0m\u001b[1;34m'接吻镜头'\u001b[0m\u001b[1;33m]\u001b[0m\u001b[1;33m]\u001b[0m\u001b[1;33m,\u001b[0m\u001b[0mmovie\u001b[0m\u001b[1;33m[\u001b[0m\u001b[1;34m'分类情况'\u001b[0m\u001b[1;33m]\u001b[0m\u001b[1;33m)\u001b[0m\u001b[1;33m\u001b[0m\u001b[0m\n",
      "\u001b[1;31mNameError\u001b[0m: name 'KNeighborsClassifier' is not defined"
     ]
    }
   ],
   "source": [
    "knn=KNeighborsClassifier()\n",
    "knn.fit(movie[['武打镜头','接吻镜头']],movie['分类情况'])"
   ]
  },
  {
   "cell_type": "code",
   "execution_count": null,
   "metadata": {},
   "outputs": [],
   "source": [
    "X_test=np.array([[30,2],[50,10],[20,2]])\n",
    "Y=knn.predict(X_test)\n",
    "Y"
   ]
  },
  {
   "cell_type": "code",
   "execution_count": null,
   "metadata": {},
   "outputs": [],
   "source": [
    "#准确率\n",
    "knn.score(movie[['武打镜头','接吻镜头']],movie['分类情况'])"
   ]
  },
  {
   "cell_type": "code",
   "execution_count": null,
   "metadata": {},
   "outputs": [],
   "source": [
    "plt.scatter(movie['武打镜头'],movie['接吻镜头'])\n",
    "plt.scatter(X_test[:,0],X_test[:,1])"
   ]
  },
  {
   "cell_type": "markdown",
   "metadata": {},
   "source": [
    "## 0、导引"
   ]
  },
  {
   "cell_type": "markdown",
   "metadata": {},
   "source": [
    "### 如何进行电影分类\n",
    "众所周知，电影可以按照题材分类，然而题材本身是如何定义的?由谁来判定某部电影属于哪\n",
    "个题材?也就是说同一题材的电影具有哪些公共特征?这些都是在进行电影分类时必须要考虑的问\n",
    "题。没有哪个电影人会说自己制作的电影和以前的某部电影类似，但我们确实知道每部电影在风格\n",
    "上的确有可能会和同题材的电影相近。那么动作片具有哪些共有特征，使得动作片之间非常类似，\n",
    "而与爱情片存在着明显的差别呢？动作片中也会存在接吻镜头，爱情片中也会存在打斗场景，我们\n",
    "不能单纯依靠是否存在打斗或者亲吻来判断影片的类型。但是爱情片中的亲吻镜头更多，动作片中\n",
    "的打斗场景也更频繁，基于此类场景在某部电影中出现的次数可以用来进行电影分类。\n",
    "\n",
    "本章介绍第一个机器学习算法：K-近邻算法，它非常有效而且易于掌握。"
   ]
  },
  {
   "cell_type": "markdown",
   "metadata": {},
   "source": [
    "## 1、k-近邻算法原理"
   ]
  },
  {
   "cell_type": "markdown",
   "metadata": {},
   "source": [
    "简单地说，K-近邻算法采用测量不同特征值之间的距离方法进行分类。"
   ]
  },
  {
   "cell_type": "markdown",
   "metadata": {},
   "source": [
    "- 优点：精度高、对异常值不敏感、无数据输入假定。\n",
    "- 缺点：时间复杂度高、空间复杂度高。\n",
    "- 适用数据范围：数值型和标称型。"
   ]
  },
  {
   "cell_type": "markdown",
   "metadata": {},
   "source": [
    "### 工作原理"
   ]
  },
  {
   "cell_type": "markdown",
   "metadata": {},
   "source": [
    "存在一个样本数据集合，也称作训练样本集，并且样本集中每个数据都存在标签，即我们知道样本集中每一数据\n",
    "与所属分类的对应关系。输入没有标签的新数据后，将新数据的每个特征与样本集中数据对应的\n",
    "特征进行比较，然后算法提取样本集中特征最相似数据（最近邻）的分类标签。一般来说，我们\n",
    "只选择样本数据集中前K个最相似的数据，这就是K-近邻算法中K的出处,通常*K是不大于20的整数。\n",
    "最后 ，选择K个最相似数据中出现次数最多的分类，作为新数据的分类*。"
   ]
  },
  {
   "attachments": {
    "1.PNG": {
     "image/png": "[encoded data removed]"
    }
   },
   "cell_type": "markdown",
   "metadata": {},
   "source": [
    "回到前面电影分类的例子，使用K-近邻算法分类爱情片和动作片。有人曾经统计过很多电影的打斗镜头和接吻镜头，下图显示了6部电影的打斗和接吻次数。假如有一部未看过的电影，如何确定它是爱情片还是动作片呢？我们可以使用K-近邻算法来解决这个问题。\n",
    "\n",
    "![1.PNG](attachment:1.PNG)"
   ]
  },
  {
   "attachments": {
    "2.PNG": {
     "image/png": "[encoded data removed]"
    }
   },
   "cell_type": "markdown",
   "metadata": {},
   "source": [
    "首先我们需要知道这个未知电影存在多少个打斗镜头和接吻镜头，上图中问号位置是该未知电影出现的镜头数图形化展示，具体数字参见下表。\n",
    "\n",
    "![2.PNG](attachment:2.PNG)"
   ]
  },
  {
   "attachments": {
    "3.PNG": {
     "image/png": "[encoded data removed]"
    }
   },
   "cell_type": "markdown",
   "metadata": {},
   "source": [
    "即使不知道未知电影属于哪种类型，我们也可以通过某种方法计算出来。首先计算未知电影与样本集中其他电影的距离，如图所示。\n",
    "\n",
    "![3.PNG](attachment:3.PNG)"
   ]
  },
  {
   "cell_type": "markdown",
   "metadata": {},
   "source": [
    "现在我们得到了样本集中所有电影与未知电影的距离，按照距离递增排序，可以找到K个距\n",
    "离最近的电影。假定k=3，则三个最靠近的电影依次是California Man、He's Not Really into Dudes、Beautiful Woman。K-近邻算法按照距离最近的三部电影的类型，决定未知电影的类型，而这三部电影全是爱情片，因此我们判定未知电影是爱情片。"
   ]
  },
  {
   "cell_type": "markdown",
   "metadata": {},
   "source": [
    "### 欧几里得距离(Euclidean Distance)"
   ]
  },
  {
   "attachments": {
    "4.png": {
     "image/png": "[encoded data removed]"
    }
   },
   "cell_type": "markdown",
   "metadata": {},
   "source": [
    "欧氏距离是最常见的距离度量，衡量的是多维空间中各个点之间的绝对距离。公式如下：\n",
    "\n",
    "![4.png](attachment:4.png)"
   ]
  },
  {
   "cell_type": "markdown",
   "metadata": {},
   "source": [
    "## 2、在scikit-learn库中使用k-近邻算法"
   ]
  },
  {
   "cell_type": "markdown",
   "metadata": {},
   "source": [
    "- 分类问题：from sklearn.neighbors import KNeighborsClassifier\n",
    "\n",
    "- 回归问题：from sklearn.neighbors import KNeighborsRegressor"
   ]
  },
  {
   "cell_type": "markdown",
   "metadata": {},
   "source": [
    "### 0）一个最简单的例子"
   ]
  },
  {
   "cell_type": "code",
   "execution_count": 5,
   "metadata": {},
   "outputs": [],
   "source": [
    "from sklearn.neighbors import KNeighborsClassifier\n",
    "import numpy as np\n",
    "import pandas as pd"
   ]
  },
  {
   "cell_type": "code",
   "execution_count": null,
   "metadata": {},
   "outputs": [],
   "source": [
    "msg_train=np.array([[170,70,42],[175,80,43],[160,50,39],[158,55,39],[180,84,44],[155,55,37]])\n",
    "sex_msg=np.array(['男','男','女','女','男','女'])\n",
    "knn=KNeighborsClassifier()\n",
    "knn.fit(msg_train,sex_msg)\n",
    "xtest_=np.array([[172,70,40],[158,55,37]])\n",
    "sex_=knn.predict(xtest_)\n",
    "sex_"
   ]
  },
  {
   "cell_type": "code",
   "execution_count": null,
   "metadata": {},
   "outputs": [],
   "source": [
    "knn.score(msg_train,sex_msg)"
   ]
  },
  {
   "cell_type": "code",
   "execution_count": null,
   "metadata": {},
   "outputs": [],
   "source": [
    "knn.predict(msg_train)"
   ]
  },
  {
   "cell_type": "markdown",
   "metadata": {},
   "source": [
    "身高、体重、鞋子尺码数据对应性别"
   ]
  },
  {
   "cell_type": "markdown",
   "metadata": {},
   "source": [
    "### 1）用于分类"
   ]
  },
  {
   "cell_type": "markdown",
   "metadata": {},
   "source": [
    "导包，机器学习的算法KNN、数据鸢尾花\n"
   ]
  },
  {
   "cell_type": "code",
   "execution_count": null,
   "metadata": {},
   "outputs": [],
   "source": [
    "import sklearn.datasets as datasets\n",
    "iris=datasets.load_iris()\n",
    "iris"
   ]
  },
  {
   "cell_type": "markdown",
   "metadata": {},
   "source": [
    "获取训练样本"
   ]
  },
  {
   "cell_type": "code",
   "execution_count": null,
   "metadata": {},
   "outputs": [],
   "source": [
    "data=iris['data']\n",
    "target=iris['target']"
   ]
  },
  {
   "cell_type": "markdown",
   "metadata": {
    "collapsed": true
   },
   "source": [
    "绘制图形"
   ]
  },
  {
   "cell_type": "code",
   "execution_count": 10,
   "metadata": {},
   "outputs": [],
   "source": [
    "#切割数据\n",
    "from sklearn.model_selection import train_test_split"
   ]
  },
  {
   "cell_type": "code",
   "execution_count": null,
   "metadata": {},
   "outputs": [],
   "source": [
    "knn.fit(X_train, Y_train)"
   ]
  },
  {
   "cell_type": "code",
   "execution_count": null,
   "metadata": {},
   "outputs": [],
   "source": [
    "knn.predict(X_test)"
   ]
  },
  {
   "cell_type": "code",
   "execution_count": null,
   "metadata": {},
   "outputs": [],
   "source": [
    "Y_test"
   ]
  },
  {
   "cell_type": "code",
   "execution_count": null,
   "metadata": {},
   "outputs": [],
   "source": [
    "#训练准确度\n",
    "knn.score(X_train, Y_train)"
   ]
  },
  {
   "cell_type": "code",
   "execution_count": null,
   "metadata": {},
   "outputs": [],
   "source": [
    "knn.score(X_test,Y_test)"
   ]
  },
  {
   "cell_type": "markdown",
   "metadata": {},
   "source": [
    "定义KNN分类器"
   ]
  },
  {
   "cell_type": "markdown",
   "metadata": {},
   "source": [
    "第一步，训练数据"
   ]
  },
  {
   "cell_type": "markdown",
   "metadata": {},
   "source": [
    "第二步预测数据：，所预测的数据，自己创造，就是上面所显示图片的背景点  \n",
    "\n",
    "生成预测数据"
   ]
  },
  {
   "cell_type": "code",
   "execution_count": null,
   "metadata": {},
   "outputs": [],
   "source": [
    "from pandas import DataFrame,Series\n",
    "df=DataFrame(data=data)\n",
    "df.head()"
   ]
  },
  {
   "cell_type": "code",
   "execution_count": null,
   "metadata": {},
   "outputs": [],
   "source": [
    "plt.plot(df)"
   ]
  },
  {
   "cell_type": "code",
   "execution_count": null,
   "metadata": {},
   "outputs": [],
   "source": [
    "data=data[:,0:2]\n",
    "data"
   ]
  },
  {
   "cell_type": "code",
   "execution_count": null,
   "metadata": {},
   "outputs": [],
   "source": [
    "plt.scatter(data[:,0],data[:,1],c=target)"
   ]
  },
  {
   "cell_type": "code",
   "execution_count": null,
   "metadata": {},
   "outputs": [],
   "source": [
    "knn=KNeighborsClassifier()\n",
    "knn.fit(data,target)"
   ]
  },
  {
   "cell_type": "code",
   "execution_count": null,
   "metadata": {},
   "outputs": [],
   "source": [
    "knn.score(data,target)"
   ]
  },
  {
   "cell_type": "code",
   "execution_count": null,
   "metadata": {},
   "outputs": [],
   "source": [
    "#生成平面上的点来做预测数据\n",
    "xmin,xmax=data[:,0].min(),data[:,0].max()\n",
    "ymin,ymax=data[:,1].min(),data[:,1].max()\n",
    "x=np.linspace(xmin,xmax,100)\n",
    "y=np.linspace(ymin,ymax,100)\n",
    "X,Y=np.meshgrid(x,y)\n",
    "X_test=np.c_[X.ravel(),Y.ravel()]\n",
    "X_test"
   ]
  },
  {
   "cell_type": "code",
   "execution_count": 60,
   "metadata": {},
   "outputs": [
    {
     "data": {
      "text/plain": [
       "array(['Canadian', 'Kama', 'Rosa', 'Canadian', 'Canadian', 'Canadian',\n",
       "       'Canadian', 'Kama', 'Rosa', 'Canadian', 'Kama', 'Kama', 'Canadian',\n",
       "       'Rosa', 'Canadian', 'Canadian', 'Canadian', 'Kama', 'Kama',\n",
       "       'Canadian', 'Kama', 'Kama', 'Rosa', 'Rosa', 'Canadian', 'Canadian',\n",
       "       'Kama', 'Canadian', 'Kama', 'Canadian', 'Canadian', 'Rosa', 'Rosa',\n",
       "       'Rosa', 'Canadian', 'Rosa', 'Kama', 'Canadian', 'Kama', 'Canadian',\n",
       "       'Rosa', 'Rosa'], dtype=object)"
      ]
     },
     "execution_count": 60,
     "metadata": {},
     "output_type": "execute_result"
    }
   ],
   "source": [
    "Y_=knn.predict(X_test)\n",
    "Y_"
   ]
  },
  {
   "cell_type": "code",
   "execution_count": null,
   "metadata": {},
   "outputs": [],
   "source": [
    "plt.scatter(data[:,0],data[:,1],c=target)\n",
    "plt.scatter(X_test[:,0],X_test[:,1],c=Y_)"
   ]
  },
  {
   "cell_type": "code",
   "execution_count": null,
   "metadata": {},
   "outputs": [],
   "source": [
    "plt.pcolormesh(X,Y,Y_.reshape(100,100))\n",
    "plt.scatter(data[:,0],data[:,1],c=target,cmap='rainbow')"
   ]
  },
  {
   "cell_type": "markdown",
   "metadata": {},
   "source": [
    "对数据进行预测"
   ]
  },
  {
   "cell_type": "markdown",
   "metadata": {},
   "source": [
    "显示数据"
   ]
  },
  {
   "cell_type": "markdown",
   "metadata": {},
   "source": [
    "### 2）用于回归  \n",
    "回归用于对趋势的预测"
   ]
  },
  {
   "cell_type": "markdown",
   "metadata": {},
   "source": [
    "导包"
   ]
  },
  {
   "cell_type": "markdown",
   "metadata": {},
   "source": [
    "生成样本数据"
   ]
  },
  {
   "cell_type": "markdown",
   "metadata": {},
   "source": [
    "生成测试数据的结果"
   ]
  },
  {
   "cell_type": "markdown",
   "metadata": {},
   "source": [
    "第一步：生成模型，并训练数据"
   ]
  },
  {
   "cell_type": "markdown",
   "metadata": {},
   "source": [
    "第二步：使用模型，预测数据"
   ]
  },
  {
   "cell_type": "markdown",
   "metadata": {},
   "source": [
    "绘图显示数据"
   ]
  },
  {
   "cell_type": "markdown",
   "metadata": {},
   "source": [
    "### 练习\n",
    "人类动作识别  \n",
    "步行，上楼，下楼，坐着，站立和躺着  \n",
    "![](stand-sit-run.jpg)  \n",
    "数据采集每个人在腰部穿着智能手机，进行了六个活动（步行，上楼，下楼，坐着，站立和躺着）。采用嵌入式加速度计和陀螺仪，以50Hz的恒定速度捕获3轴线性加速度和3轴角速度，来获取数据"
   ]
  },
  {
   "cell_type": "markdown",
   "metadata": {},
   "source": [
    "导入数据"
   ]
  },
  {
   "cell_type": "markdown",
   "metadata": {},
   "source": [
    "获取数据"
   ]
  },
  {
   "cell_type": "markdown",
   "metadata": {},
   "source": [
    "绘制"
   ]
  },
  {
   "cell_type": "markdown",
   "metadata": {},
   "source": [
    "## 3、作业"
   ]
  },
  {
   "cell_type": "markdown",
   "metadata": {},
   "source": [
    "#### 1、预测年收入是否大于50K美元"
   ]
  },
  {
   "cell_type": "markdown",
   "metadata": {},
   "source": [
    "读取adult.txt文件，最后一列是年收入，并使用KNN算法训练模型，然后使用模型预测一个人的年收入是否大于50"
   ]
  },
  {
   "cell_type": "markdown",
   "metadata": {},
   "source": [
    "获取年龄、教育程度、职位、每周工作时间作为机器学习数据  \n",
    "获取薪水作为对应结果"
   ]
  },
  {
   "cell_type": "code",
   "execution_count": null,
   "metadata": {},
   "outputs": [],
   "source": []
  },
  {
   "cell_type": "markdown",
   "metadata": {},
   "source": [
    "数据转换，将String类型数据转换为int"
   ]
  },
  {
   "cell_type": "markdown",
   "metadata": {},
   "source": [
    "【知识点】map方法，进行数据转换"
   ]
  },
  {
   "cell_type": "code",
   "execution_count": null,
   "metadata": {},
   "outputs": [],
   "source": []
  },
  {
   "cell_type": "markdown",
   "metadata": {},
   "source": [
    "切片：训练数据和预测数据"
   ]
  },
  {
   "cell_type": "code",
   "execution_count": null,
   "metadata": {},
   "outputs": [],
   "source": []
  },
  {
   "cell_type": "markdown",
   "metadata": {},
   "source": [
    "生成算法"
   ]
  },
  {
   "cell_type": "code",
   "execution_count": null,
   "metadata": {},
   "outputs": [],
   "source": []
  },
  {
   "cell_type": "markdown",
   "metadata": {},
   "source": [
    "第一步：训练数据"
   ]
  },
  {
   "cell_type": "code",
   "execution_count": null,
   "metadata": {},
   "outputs": [],
   "source": []
  },
  {
   "cell_type": "markdown",
   "metadata": {
    "collapsed": true
   },
   "source": [
    "第二步：预测数据"
   ]
  },
  {
   "cell_type": "code",
   "execution_count": null,
   "metadata": {},
   "outputs": [],
   "source": []
  },
  {
   "cell_type": "markdown",
   "metadata": {},
   "source": [
    "保存训练模型  \n",
    "from sklearn.externals import joblib"
   ]
  },
  {
   "cell_type": "markdown",
   "metadata": {},
   "source": [
    "#### 2、小麦种类预测"
   ]
  },
  {
   "cell_type": "markdown",
   "metadata": {},
   "source": [
    "读取seeds.tsv文件，最后一列是小麦品种，其他列是小麦特征"
   ]
  },
  {
   "cell_type": "code",
   "execution_count": 320,
   "metadata": {
    "scrolled": false
   },
   "outputs": [
    {
     "data": {
      "text/html": [
       "<div>\n",
       "<style scoped>\n",
       "    .dataframe tbody tr th:only-of-type {\n",
       "        vertical-align: middle;\n",
       "    }\n",
       "\n",
       "    .dataframe tbody tr th {\n",
       "        vertical-align: top;\n",
       "    }\n",
       "\n",
       "    .dataframe thead th {\n",
       "        text-align: right;\n",
       "    }\n",
       "</style>\n",
       "<table border=\"1\" class=\"dataframe\">\n",
       "  <thead>\n",
       "    <tr style=\"text-align: right;\">\n",
       "      <th></th>\n",
       "      <th>0</th>\n",
       "      <th>1</th>\n",
       "      <th>2</th>\n",
       "      <th>3</th>\n",
       "      <th>4</th>\n",
       "      <th>5</th>\n",
       "      <th>6</th>\n",
       "      <th>7</th>\n",
       "    </tr>\n",
       "  </thead>\n",
       "  <tbody>\n",
       "    <tr>\n",
       "      <th>0</th>\n",
       "      <td>15.26</td>\n",
       "      <td>14.84</td>\n",
       "      <td>0.8710</td>\n",
       "      <td>5.763</td>\n",
       "      <td>3.312</td>\n",
       "      <td>2.221</td>\n",
       "      <td>5.220</td>\n",
       "      <td>Kama</td>\n",
       "    </tr>\n",
       "    <tr>\n",
       "      <th>1</th>\n",
       "      <td>14.88</td>\n",
       "      <td>14.57</td>\n",
       "      <td>0.8811</td>\n",
       "      <td>5.554</td>\n",
       "      <td>3.333</td>\n",
       "      <td>1.018</td>\n",
       "      <td>4.956</td>\n",
       "      <td>Kama</td>\n",
       "    </tr>\n",
       "    <tr>\n",
       "      <th>2</th>\n",
       "      <td>14.29</td>\n",
       "      <td>14.09</td>\n",
       "      <td>0.9050</td>\n",
       "      <td>5.291</td>\n",
       "      <td>3.337</td>\n",
       "      <td>2.699</td>\n",
       "      <td>4.825</td>\n",
       "      <td>Kama</td>\n",
       "    </tr>\n",
       "    <tr>\n",
       "      <th>3</th>\n",
       "      <td>13.84</td>\n",
       "      <td>13.94</td>\n",
       "      <td>0.8955</td>\n",
       "      <td>5.324</td>\n",
       "      <td>3.379</td>\n",
       "      <td>2.259</td>\n",
       "      <td>4.805</td>\n",
       "      <td>Kama</td>\n",
       "    </tr>\n",
       "    <tr>\n",
       "      <th>4</th>\n",
       "      <td>16.14</td>\n",
       "      <td>14.99</td>\n",
       "      <td>0.9034</td>\n",
       "      <td>5.658</td>\n",
       "      <td>3.562</td>\n",
       "      <td>1.355</td>\n",
       "      <td>5.175</td>\n",
       "      <td>Kama</td>\n",
       "    </tr>\n",
       "  </tbody>\n",
       "</table>\n",
       "</div>"
      ],
      "text/plain": [
       "       0      1       2      3      4      5      6     7\n",
       "0  15.26  14.84  0.8710  5.763  3.312  2.221  5.220  Kama\n",
       "1  14.88  14.57  0.8811  5.554  3.333  1.018  4.956  Kama\n",
       "2  14.29  14.09  0.9050  5.291  3.337  2.699  4.825  Kama\n",
       "3  13.84  13.94  0.8955  5.324  3.379  2.259  4.805  Kama\n",
       "4  16.14  14.99  0.9034  5.658  3.562  1.355  5.175  Kama"
      ]
     },
     "execution_count": 320,
     "metadata": {},
     "output_type": "execute_result"
    }
   ],
   "source": [
    "wheat=pd.read_csv('../data/seeds.tsv',sep='\\t',header=None)\n",
    "wheat.head()"
   ]
  },
  {
   "cell_type": "code",
   "execution_count": 321,
   "metadata": {
    "scrolled": true
   },
   "outputs": [
    {
     "data": {
      "text/plain": [
       "<matplotlib.axes._subplots.AxesSubplot at 0x219398d0>"
      ]
     },
     "execution_count": 321,
     "metadata": {},
     "output_type": "execute_result"
    },
    {
     "data": {
      "image/png": "[encoded data removed]",
      "text/plain": [
       "<Figure size 432x288 with 1 Axes>"
      ]
     },
     "metadata": {
      "needs_background": "light"
     },
     "output_type": "display_data"
    }
   ],
   "source": [
    "#画出每个数据的图形，找出最合适的两列进行分析\n",
    "wheat.plot()"
   ]
  },
  {
   "cell_type": "code",
   "execution_count": 364,
   "metadata": {
    "collapsed": true
   },
   "outputs": [
    {
     "data": {
      "text/plain": [
       "array([[0.871, 5.22],\n",
       "       [0.8811, 4.956],\n",
       "       [0.905, 4.825],\n",
       "       [0.8955, 4.805],\n",
       "       [0.9034, 5.175],\n",
       "       [0.8951, 4.956],\n",
       "       [0.8799, 5.218999999999999],\n",
       "       [0.8911, 5.0],\n",
       "       [0.8747, 5.877000000000001],\n",
       "       [0.888, 5.5329999999999995],\n",
       "       [0.8696, 5.314],\n",
       "       [0.8796, 5.001],\n",
       "       [0.888, 4.738],\n",
       "       [0.8759, 4.872],\n",
       "       [0.8744, 4.825],\n",
       "       [0.8993, 4.781000000000001],\n",
       "       [0.9183, 4.781000000000001],\n",
       "       [0.9058, 5.046],\n",
       "       [0.9153, 4.649],\n",
       "       [0.8686, 4.914],\n",
       "       [0.8584, 5.176],\n",
       "       [0.8722, 5.218999999999999],\n",
       "       [0.8988, 5.091],\n",
       "       [0.8664, 4.961],\n",
       "       [0.8657, 5.001],\n",
       "       [0.8849, 5.307],\n",
       "       [0.8641, 4.825],\n",
       "       [0.8564, 4.869],\n",
       "       [0.882, 5.038],\n",
       "       [0.8604, 5.0969999999999995],\n",
       "       [0.8662, 5.056],\n",
       "       [0.8724, 5.228],\n",
       "       [0.8529, 5.2989999999999995],\n",
       "       [0.8728, 5.012],\n",
       "       [0.8779, 5.36],\n",
       "       [0.9, 5.443],\n",
       "       [0.8734, 5.527],\n",
       "       [0.9079, 5.484],\n",
       "       [0.8823, 5.309],\n",
       "       [0.8944, 5.001],\n",
       "       [0.8871, 5.178],\n",
       "       [0.8852, 5.176],\n",
       "       [0.9009, 4.783],\n",
       "       [0.882, 5.528],\n",
       "       [0.8986, 5.18],\n",
       "       [0.8794, 4.961],\n",
       "       [0.8861, 5.132000000000001],\n",
       "       [0.8883, 5.175],\n",
       "       [0.8819, 5.111000000000001],\n",
       "       [0.8676, 5.351],\n",
       "       [0.8751, 5.144],\n",
       "       [0.8923, 5.136],\n",
       "       [0.8538, 5.396],\n",
       "       [0.8831, 5.224],\n",
       "       [0.8557, 5.487],\n",
       "       [0.8658, 5.439],\n",
       "       [0.8818, 5.044],\n",
       "       [0.9006, 5.088],\n",
       "       [0.8857, 5.222],\n",
       "       [0.8392, 4.519],\n",
       "       [0.8683, 4.607],\n",
       "       [0.884, 4.703],\n",
       "       [0.8923, 4.605],\n",
       "       [0.868, 5.088],\n",
       "       [0.8716, 4.782],\n",
       "       [0.8879, 4.607],\n",
       "       [0.8726, 5.15],\n",
       "       [0.8625, 5.132000000000001],\n",
       "       [0.8726, 5.3],\n",
       "       [0.8458, 5.067],\n",
       "       [0.8673, 6.06],\n",
       "       [0.8623, 5.877000000000001],\n",
       "       [0.8763, 5.791],\n",
       "       [0.9081, 6.079],\n",
       "       [0.8786, 5.841],\n",
       "       [0.8638, 5.795],\n",
       "       [0.8599, 5.922000000000001],\n",
       "       [0.8763, 6.4510000000000005],\n",
       "       [0.875, 6.362],\n",
       "       [0.8892, 5.746],\n",
       "       [0.8823, 5.88],\n",
       "       [0.8977, 5.879],\n",
       "       [0.8894, 6.187],\n",
       "       [0.8779, 6.273],\n",
       "       [0.878, 6.185],\n",
       "       [0.887, 6.197],\n",
       "       [0.8969, 6.109],\n",
       "       [0.8590000000000001, 6.497999999999999],\n",
       "       [0.8989, 6.231],\n",
       "       [0.9031, 6.321000000000001],\n",
       "       [0.8746, 6.449],\n",
       "       [0.8984, 6.053],\n",
       "       [0.8906, 6.053],\n",
       "       [0.9066, 5.877000000000001],\n",
       "       [0.8452, 6.4479999999999995],\n",
       "       [0.8648, 5.9670000000000005],\n",
       "       [0.8815, 6.2379999999999995],\n",
       "       [0.8687, 6.452999999999999],\n",
       "       [0.8637, 6.273],\n",
       "       [0.8809999999999999, 6.097],\n",
       "       [0.8866, 5.617999999999999],\n",
       "       [0.8992, 5.837000000000001],\n",
       "       [0.8985, 6.0089999999999995],\n",
       "       [0.8717, 6.229],\n",
       "       [0.8829, 6.148],\n",
       "       [0.8917, 5.879],\n",
       "       [0.9056, 6.2],\n",
       "       [0.88, 5.928999999999999],\n",
       "       [0.8752, 6.55],\n",
       "       [0.8865, 5.894],\n",
       "       [0.8921, 5.794],\n",
       "       [0.8716, 5.965],\n",
       "       [0.9035, 5.9239999999999995],\n",
       "       [0.8722, 6.053],\n",
       "       [0.8859, 6.316],\n",
       "       [0.8854, 6.162999999999999],\n",
       "       [0.9077, 5.75],\n",
       "       [0.889, 6.185],\n",
       "       [0.9008, 5.966],\n",
       "       [0.8811, 6.32],\n",
       "       [0.8897, 6.188],\n",
       "       [0.8772, 6.011],\n",
       "       [0.8588, 5.702999999999999],\n",
       "       [0.9077, 5.905],\n",
       "       [0.9064, 5.144],\n",
       "       [0.8999, 5.992000000000001],\n",
       "       [0.8698, 6.102],\n",
       "       [0.8993, 5.919],\n",
       "       [0.8735, 6.185],\n",
       "       [0.8991, 5.6610000000000005],\n",
       "       [0.9108, 5.962000000000001],\n",
       "       [0.8942, 5.949],\n",
       "       [0.8706, 5.795],\n",
       "       [0.8644, 5.795],\n",
       "       [0.8823, 5.847],\n",
       "       [0.899, 5.439],\n",
       "       [0.8785, 5.971],\n",
       "       [0.8527, 5.879],\n",
       "       [0.858, 5.752000000000001],\n",
       "       [0.885, 5.922000000000001],\n",
       "       [0.848, 5.395],\n",
       "       [0.8613, 5.44],\n",
       "       [0.862, 5.307],\n",
       "       [0.8652, 5.221],\n",
       "       [0.8274, 5.178],\n",
       "       [0.8167, 5.275],\n",
       "       [0.8335, 5.132000000000001],\n",
       "       [0.8658, 5.002],\n",
       "       [0.8491, 5.316],\n",
       "       [0.8107, 5.194],\n",
       "       [0.8496, 5.307],\n",
       "       [0.8249, 5.27],\n",
       "       [0.8333, 5.36],\n",
       "       [0.8266, 5.001],\n",
       "       [0.8382, 5.263],\n",
       "       [0.8253, 5.218999999999999],\n",
       "       [0.8596, 5.003],\n",
       "       [0.8081, 5.22],\n",
       "       [0.8082, 5.31],\n",
       "       [0.8263, 5.31],\n",
       "       [0.8425, 5.4910000000000005],\n",
       "       [0.8503, 5.308],\n",
       "       [0.8416, 5.046],\n",
       "       [0.8558, 5.176],\n",
       "       [0.8558, 5.0489999999999995],\n",
       "       [0.8793, 5.056],\n",
       "       [0.8462, 5.27],\n",
       "       [0.8443, 5.337999999999999],\n",
       "       [0.8291, 5.132000000000001],\n",
       "       [0.8359, 5.088],\n",
       "       [0.8189, 5.162999999999999],\n",
       "       [0.8455, 4.956],\n",
       "       [0.8419, 5.0],\n",
       "       [0.8375, 5.0889999999999995],\n",
       "       [0.8099, 5.185],\n",
       "       [0.8590000000000001, 5.063],\n",
       "       [0.8355, 5.092],\n",
       "       [0.8329, 4.963],\n",
       "       [0.8473, 5.002],\n",
       "       [0.8453, 5.178],\n",
       "       [0.856, 4.825],\n",
       "       [0.8706, 5.147],\n",
       "       [0.8579, 5.1579999999999995],\n",
       "       [0.8575, 5.135],\n",
       "       [0.8541, 5.316],\n",
       "       [0.8198, 5.182],\n",
       "       [0.8198, 5.352],\n",
       "       [0.8372, 4.956],\n",
       "       [0.8594, 4.957],\n",
       "       [0.8648, 4.794],\n",
       "       [0.8390000000000001, 5.045],\n",
       "       [0.8563, 5.001],\n",
       "       [0.8795, 5.132000000000001],\n",
       "       [0.8256, 5.0889999999999995],\n",
       "       [0.8639, 5.012],\n",
       "       [0.8859999999999999, 4.914],\n",
       "       [0.8786, 4.958],\n",
       "       [0.8849, 5.091],\n",
       "       [0.8481, 5.231],\n",
       "       [0.8964, 4.83],\n",
       "       [0.8609, 5.045],\n",
       "       [0.8977, 4.745],\n",
       "       [0.868, 4.828],\n",
       "       [0.8874, 5.0],\n",
       "       [0.8567, 5.001],\n",
       "       [0.8783, 4.87],\n",
       "       [0.8511, 5.003],\n",
       "       [0.8883, 5.056],\n",
       "       [0.8521, 5.044],\n",
       "       [0.8684, 5.063]], dtype=object)"
      ]
     },
     "metadata": {},
     "output_type": "display_data"
    },
    {
     "data": {
      "text/plain": [
       "array(['Kama', 'Kama', 'Kama', 'Kama', 'Kama', 'Kama', 'Kama', 'Kama',\n",
       "       'Kama', 'Kama', 'Kama', 'Kama', 'Kama', 'Kama', 'Kama', 'Kama',\n",
       "       'Kama', 'Kama', 'Kama', 'Kama', 'Kama', 'Kama', 'Kama', 'Kama',\n",
       "       'Kama', 'Kama', 'Kama', 'Kama', 'Kama', 'Kama', 'Kama', 'Kama',\n",
       "       'Kama', 'Kama', 'Kama', 'Kama', 'Kama', 'Kama', 'Kama', 'Kama',\n",
       "       'Kama', 'Kama', 'Kama', 'Kama', 'Kama', 'Kama', 'Kama', 'Kama',\n",
       "       'Kama', 'Kama', 'Kama', 'Kama', 'Kama', 'Kama', 'Kama', 'Kama',\n",
       "       'Kama', 'Kama', 'Kama', 'Kama', 'Kama', 'Kama', 'Kama', 'Kama',\n",
       "       'Kama', 'Kama', 'Kama', 'Kama', 'Kama', 'Kama', 'Rosa', 'Rosa',\n",
       "       'Rosa', 'Rosa', 'Rosa', 'Rosa', 'Rosa', 'Rosa', 'Rosa', 'Rosa',\n",
       "       'Rosa', 'Rosa', 'Rosa', 'Rosa', 'Rosa', 'Rosa', 'Rosa', 'Rosa',\n",
       "       'Rosa', 'Rosa', 'Rosa', 'Rosa', 'Rosa', 'Rosa', 'Rosa', 'Rosa',\n",
       "       'Rosa', 'Rosa', 'Rosa', 'Rosa', 'Rosa', 'Rosa', 'Rosa', 'Rosa',\n",
       "       'Rosa', 'Rosa', 'Rosa', 'Rosa', 'Rosa', 'Rosa', 'Rosa', 'Rosa',\n",
       "       'Rosa', 'Rosa', 'Rosa', 'Rosa', 'Rosa', 'Rosa', 'Rosa', 'Rosa',\n",
       "       'Rosa', 'Rosa', 'Rosa', 'Rosa', 'Rosa', 'Rosa', 'Rosa', 'Rosa',\n",
       "       'Rosa', 'Rosa', 'Rosa', 'Rosa', 'Rosa', 'Rosa', 'Rosa', 'Rosa',\n",
       "       'Rosa', 'Rosa', 'Rosa', 'Rosa', 'Canadian', 'Canadian', 'Canadian',\n",
       "       'Canadian', 'Canadian', 'Canadian', 'Canadian', 'Canadian',\n",
       "       'Canadian', 'Canadian', 'Canadian', 'Canadian', 'Canadian',\n",
       "       'Canadian', 'Canadian', 'Canadian', 'Canadian', 'Canadian',\n",
       "       'Canadian', 'Canadian', 'Canadian', 'Canadian', 'Canadian',\n",
       "       'Canadian', 'Canadian', 'Canadian', 'Canadian', 'Canadian',\n",
       "       'Canadian', 'Canadian', 'Canadian', 'Canadian', 'Canadian',\n",
       "       'Canadian', 'Canadian', 'Canadian', 'Canadian', 'Canadian',\n",
       "       'Canadian', 'Canadian', 'Canadian', 'Canadian', 'Canadian',\n",
       "       'Canadian', 'Canadian', 'Canadian', 'Canadian', 'Canadian',\n",
       "       'Canadian', 'Canadian', 'Canadian', 'Canadian', 'Canadian',\n",
       "       'Canadian', 'Canadian', 'Canadian', 'Canadian', 'Canadian',\n",
       "       'Canadian', 'Canadian', 'Canadian', 'Canadian', 'Canadian',\n",
       "       'Canadian', 'Canadian', 'Canadian', 'Canadian', 'Canadian',\n",
       "       'Canadian', 'Canadian'], dtype=object)"
      ]
     },
     "metadata": {},
     "output_type": "display_data"
    }
   ],
   "source": [
    "#选取2和6两列进行分析\n",
    "data=wheat.values[:,[1,5]]\n",
    "target=wheat.values[:,-1]\n",
    "display(msg,target)"
   ]
  },
  {
   "cell_type": "code",
   "execution_count": 365,
   "metadata": {},
   "outputs": [],
   "source": [
    "X_train,X_test,Y_train,Y_test=train_test_split(data,target,test_size=0.2)"
   ]
  },
  {
   "cell_type": "code",
   "execution_count": 366,
   "metadata": {
    "collapsed": true
   },
   "outputs": [
    {
     "data": {
      "text/html": [
       "<div>\n",
       "<style scoped>\n",
       "    .dataframe tbody tr th:only-of-type {\n",
       "        vertical-align: middle;\n",
       "    }\n",
       "\n",
       "    .dataframe tbody tr th {\n",
       "        vertical-align: top;\n",
       "    }\n",
       "\n",
       "    .dataframe thead th {\n",
       "        text-align: right;\n",
       "    }\n",
       "</style>\n",
       "<table border=\"1\" class=\"dataframe\">\n",
       "  <thead>\n",
       "    <tr style=\"text-align: right;\">\n",
       "      <th></th>\n",
       "      <th>0</th>\n",
       "    </tr>\n",
       "  </thead>\n",
       "  <tbody>\n",
       "    <tr>\n",
       "      <th>0</th>\n",
       "      <td>0</td>\n",
       "    </tr>\n",
       "    <tr>\n",
       "      <th>1</th>\n",
       "      <td>0</td>\n",
       "    </tr>\n",
       "    <tr>\n",
       "      <th>2</th>\n",
       "      <td>0</td>\n",
       "    </tr>\n",
       "    <tr>\n",
       "      <th>3</th>\n",
       "      <td>0</td>\n",
       "    </tr>\n",
       "    <tr>\n",
       "      <th>4</th>\n",
       "      <td>0</td>\n",
       "    </tr>\n",
       "    <tr>\n",
       "      <th>5</th>\n",
       "      <td>0</td>\n",
       "    </tr>\n",
       "    <tr>\n",
       "      <th>6</th>\n",
       "      <td>0</td>\n",
       "    </tr>\n",
       "    <tr>\n",
       "      <th>7</th>\n",
       "      <td>0</td>\n",
       "    </tr>\n",
       "    <tr>\n",
       "      <th>8</th>\n",
       "      <td>0</td>\n",
       "    </tr>\n",
       "    <tr>\n",
       "      <th>9</th>\n",
       "      <td>0</td>\n",
       "    </tr>\n",
       "    <tr>\n",
       "      <th>10</th>\n",
       "      <td>0</td>\n",
       "    </tr>\n",
       "    <tr>\n",
       "      <th>11</th>\n",
       "      <td>0</td>\n",
       "    </tr>\n",
       "    <tr>\n",
       "      <th>12</th>\n",
       "      <td>0</td>\n",
       "    </tr>\n",
       "    <tr>\n",
       "      <th>13</th>\n",
       "      <td>0</td>\n",
       "    </tr>\n",
       "    <tr>\n",
       "      <th>14</th>\n",
       "      <td>0</td>\n",
       "    </tr>\n",
       "    <tr>\n",
       "      <th>15</th>\n",
       "      <td>0</td>\n",
       "    </tr>\n",
       "    <tr>\n",
       "      <th>16</th>\n",
       "      <td>0</td>\n",
       "    </tr>\n",
       "    <tr>\n",
       "      <th>17</th>\n",
       "      <td>0</td>\n",
       "    </tr>\n",
       "    <tr>\n",
       "      <th>18</th>\n",
       "      <td>0</td>\n",
       "    </tr>\n",
       "    <tr>\n",
       "      <th>19</th>\n",
       "      <td>0</td>\n",
       "    </tr>\n",
       "    <tr>\n",
       "      <th>20</th>\n",
       "      <td>0</td>\n",
       "    </tr>\n",
       "    <tr>\n",
       "      <th>21</th>\n",
       "      <td>0</td>\n",
       "    </tr>\n",
       "    <tr>\n",
       "      <th>22</th>\n",
       "      <td>0</td>\n",
       "    </tr>\n",
       "    <tr>\n",
       "      <th>23</th>\n",
       "      <td>0</td>\n",
       "    </tr>\n",
       "    <tr>\n",
       "      <th>24</th>\n",
       "      <td>0</td>\n",
       "    </tr>\n",
       "    <tr>\n",
       "      <th>25</th>\n",
       "      <td>0</td>\n",
       "    </tr>\n",
       "    <tr>\n",
       "      <th>26</th>\n",
       "      <td>0</td>\n",
       "    </tr>\n",
       "    <tr>\n",
       "      <th>27</th>\n",
       "      <td>0</td>\n",
       "    </tr>\n",
       "    <tr>\n",
       "      <th>28</th>\n",
       "      <td>0</td>\n",
       "    </tr>\n",
       "    <tr>\n",
       "      <th>29</th>\n",
       "      <td>0</td>\n",
       "    </tr>\n",
       "    <tr>\n",
       "      <th>...</th>\n",
       "      <td>...</td>\n",
       "    </tr>\n",
       "    <tr>\n",
       "      <th>180</th>\n",
       "      <td>2</td>\n",
       "    </tr>\n",
       "    <tr>\n",
       "      <th>181</th>\n",
       "      <td>2</td>\n",
       "    </tr>\n",
       "    <tr>\n",
       "      <th>182</th>\n",
       "      <td>2</td>\n",
       "    </tr>\n",
       "    <tr>\n",
       "      <th>183</th>\n",
       "      <td>2</td>\n",
       "    </tr>\n",
       "    <tr>\n",
       "      <th>184</th>\n",
       "      <td>2</td>\n",
       "    </tr>\n",
       "    <tr>\n",
       "      <th>185</th>\n",
       "      <td>2</td>\n",
       "    </tr>\n",
       "    <tr>\n",
       "      <th>186</th>\n",
       "      <td>2</td>\n",
       "    </tr>\n",
       "    <tr>\n",
       "      <th>187</th>\n",
       "      <td>2</td>\n",
       "    </tr>\n",
       "    <tr>\n",
       "      <th>188</th>\n",
       "      <td>2</td>\n",
       "    </tr>\n",
       "    <tr>\n",
       "      <th>189</th>\n",
       "      <td>2</td>\n",
       "    </tr>\n",
       "    <tr>\n",
       "      <th>190</th>\n",
       "      <td>2</td>\n",
       "    </tr>\n",
       "    <tr>\n",
       "      <th>191</th>\n",
       "      <td>2</td>\n",
       "    </tr>\n",
       "    <tr>\n",
       "      <th>192</th>\n",
       "      <td>2</td>\n",
       "    </tr>\n",
       "    <tr>\n",
       "      <th>193</th>\n",
       "      <td>2</td>\n",
       "    </tr>\n",
       "    <tr>\n",
       "      <th>194</th>\n",
       "      <td>2</td>\n",
       "    </tr>\n",
       "    <tr>\n",
       "      <th>195</th>\n",
       "      <td>2</td>\n",
       "    </tr>\n",
       "    <tr>\n",
       "      <th>196</th>\n",
       "      <td>2</td>\n",
       "    </tr>\n",
       "    <tr>\n",
       "      <th>197</th>\n",
       "      <td>2</td>\n",
       "    </tr>\n",
       "    <tr>\n",
       "      <th>198</th>\n",
       "      <td>2</td>\n",
       "    </tr>\n",
       "    <tr>\n",
       "      <th>199</th>\n",
       "      <td>2</td>\n",
       "    </tr>\n",
       "    <tr>\n",
       "      <th>200</th>\n",
       "      <td>2</td>\n",
       "    </tr>\n",
       "    <tr>\n",
       "      <th>201</th>\n",
       "      <td>2</td>\n",
       "    </tr>\n",
       "    <tr>\n",
       "      <th>202</th>\n",
       "      <td>2</td>\n",
       "    </tr>\n",
       "    <tr>\n",
       "      <th>203</th>\n",
       "      <td>2</td>\n",
       "    </tr>\n",
       "    <tr>\n",
       "      <th>204</th>\n",
       "      <td>2</td>\n",
       "    </tr>\n",
       "    <tr>\n",
       "      <th>205</th>\n",
       "      <td>2</td>\n",
       "    </tr>\n",
       "    <tr>\n",
       "      <th>206</th>\n",
       "      <td>2</td>\n",
       "    </tr>\n",
       "    <tr>\n",
       "      <th>207</th>\n",
       "      <td>2</td>\n",
       "    </tr>\n",
       "    <tr>\n",
       "      <th>208</th>\n",
       "      <td>2</td>\n",
       "    </tr>\n",
       "    <tr>\n",
       "      <th>209</th>\n",
       "      <td>2</td>\n",
       "    </tr>\n",
       "  </tbody>\n",
       "</table>\n",
       "<p>210 rows × 1 columns</p>\n",
       "</div>"
      ],
      "text/plain": [
       "     0\n",
       "0    0\n",
       "1    0\n",
       "2    0\n",
       "3    0\n",
       "4    0\n",
       "5    0\n",
       "6    0\n",
       "7    0\n",
       "8    0\n",
       "9    0\n",
       "10   0\n",
       "11   0\n",
       "12   0\n",
       "13   0\n",
       "14   0\n",
       "15   0\n",
       "16   0\n",
       "17   0\n",
       "18   0\n",
       "19   0\n",
       "20   0\n",
       "21   0\n",
       "22   0\n",
       "23   0\n",
       "24   0\n",
       "25   0\n",
       "26   0\n",
       "27   0\n",
       "28   0\n",
       "29   0\n",
       "..  ..\n",
       "180  2\n",
       "181  2\n",
       "182  2\n",
       "183  2\n",
       "184  2\n",
       "185  2\n",
       "186  2\n",
       "187  2\n",
       "188  2\n",
       "189  2\n",
       "190  2\n",
       "191  2\n",
       "192  2\n",
       "193  2\n",
       "194  2\n",
       "195  2\n",
       "196  2\n",
       "197  2\n",
       "198  2\n",
       "199  2\n",
       "200  2\n",
       "201  2\n",
       "202  2\n",
       "203  2\n",
       "204  2\n",
       "205  2\n",
       "206  2\n",
       "207  2\n",
       "208  2\n",
       "209  2\n",
       "\n",
       "[210 rows x 1 columns]"
      ]
     },
     "execution_count": 366,
     "metadata": {},
     "output_type": "execute_result"
    }
   ],
   "source": [
    "Y2=DataFrame(wheat.values[:,-1])\n",
    "mapping={'Kama':0,'Rosa':1,'Canadian':2}\n",
    "Y2[0]=Y2[0].map(mapping)\n",
    "Y2"
   ]
  },
  {
   "cell_type": "code",
   "execution_count": 367,
   "metadata": {},
   "outputs": [
    {
     "data": {
      "text/plain": [
       "array(['Kama', 'Kama', 'Rosa', 'Kama', 'Rosa', 'Canadian', 'Kama', 'Kama',\n",
       "       'Kama', 'Kama', 'Canadian', 'Rosa', 'Rosa', 'Rosa', 'Rosa', 'Kama',\n",
       "       'Rosa', 'Canadian', 'Canadian', 'Canadian', 'Kama', 'Kama',\n",
       "       'Canadian', 'Canadian', 'Rosa', 'Kama', 'Canadian', 'Canadian',\n",
       "       'Canadian', 'Rosa', 'Rosa', 'Canadian', 'Kama', 'Canadian', 'Kama',\n",
       "       'Canadian', 'Kama', 'Canadian', 'Rosa', 'Canadian', 'Rosa', 'Kama'],\n",
       "      dtype=object)"
      ]
     },
     "execution_count": 367,
     "metadata": {},
     "output_type": "execute_result"
    }
   ],
   "source": [
    "knn=KNeighborsClassifier()\n",
    "knn.fit(X_train,Y_train)\n",
    "Y_=knn.predict(X_test)\n",
    "#预测结果\n",
    "Y_"
   ]
  },
  {
   "cell_type": "code",
   "execution_count": 368,
   "metadata": {},
   "outputs": [
    {
     "data": {
      "text/plain": [
       "0.9285714285714286"
      ]
     },
     "execution_count": 368,
     "metadata": {},
     "output_type": "execute_result"
    }
   ],
   "source": [
    "knn.score(X_train,Y_train)"
   ]
  },
  {
   "cell_type": "code",
   "execution_count": 369,
   "metadata": {},
   "outputs": [
    {
     "data": {
      "text/plain": [
       "0.8571428571428571"
      ]
     },
     "execution_count": 369,
     "metadata": {},
     "output_type": "execute_result"
    }
   ],
   "source": [
    "knn.score(X_test,Y_test)"
   ]
  },
  {
   "cell_type": "code",
   "execution_count": 370,
   "metadata": {
    "scrolled": true
   },
   "outputs": [
    {
     "data": {
      "text/plain": [
       "<matplotlib.collections.PathCollection at 0x22e74400>"
      ]
     },
     "execution_count": 370,
     "metadata": {},
     "output_type": "execute_result"
    },
    {
     "data": {
      "image/png": "[encoded data removed]",
      "text/plain": [
       "<Figure size 432x288 with 1 Axes>"
      ]
     },
     "metadata": {
      "needs_background": "light"
     },
     "output_type": "display_data"
    }
   ],
   "source": [
    "plt.scatter(data[:,0],data[:,1],c=Y2.values.ravel())"
   ]
  },
  {
   "cell_type": "code",
   "execution_count": 371,
   "metadata": {
    "scrolled": true
   },
   "outputs": [
    {
     "data": {
      "text/plain": [
       "array(['Kama', 'Kama', 'Kama', ..., 'Rosa', 'Rosa', 'Rosa'], dtype=object)"
      ]
     },
     "execution_count": 371,
     "metadata": {},
     "output_type": "execute_result"
    }
   ],
   "source": [
    "xmin,xmax=data[:,0].min(),data[:,0].max()\n",
    "ymin,ymax=data[:,1].min(),data[:,1].max()\n",
    "x=np.linspace(xmin,xmax,100)\n",
    "y=np.linspace(ymin,ymax,100)\n",
    "X,Y=np.meshgrid(x,y)\n",
    "X_=np.c_[X.ravel(),Y.ravel()]\n",
    "Y__=knn.predict(X_)\n",
    "Y__"
   ]
  },
  {
   "cell_type": "code",
   "execution_count": 372,
   "metadata": {
    "collapsed": true
   },
   "outputs": [
    {
     "data": {
      "text/html": [
       "<div>\n",
       "<style scoped>\n",
       "    .dataframe tbody tr th:only-of-type {\n",
       "        vertical-align: middle;\n",
       "    }\n",
       "\n",
       "    .dataframe tbody tr th {\n",
       "        vertical-align: top;\n",
       "    }\n",
       "\n",
       "    .dataframe thead th {\n",
       "        text-align: right;\n",
       "    }\n",
       "</style>\n",
       "<table border=\"1\" class=\"dataframe\">\n",
       "  <thead>\n",
       "    <tr style=\"text-align: right;\">\n",
       "      <th></th>\n",
       "      <th>0</th>\n",
       "    </tr>\n",
       "  </thead>\n",
       "  <tbody>\n",
       "    <tr>\n",
       "      <th>0</th>\n",
       "      <td>0</td>\n",
       "    </tr>\n",
       "    <tr>\n",
       "      <th>1</th>\n",
       "      <td>0</td>\n",
       "    </tr>\n",
       "    <tr>\n",
       "      <th>2</th>\n",
       "      <td>0</td>\n",
       "    </tr>\n",
       "    <tr>\n",
       "      <th>3</th>\n",
       "      <td>0</td>\n",
       "    </tr>\n",
       "    <tr>\n",
       "      <th>4</th>\n",
       "      <td>0</td>\n",
       "    </tr>\n",
       "    <tr>\n",
       "      <th>5</th>\n",
       "      <td>0</td>\n",
       "    </tr>\n",
       "    <tr>\n",
       "      <th>6</th>\n",
       "      <td>0</td>\n",
       "    </tr>\n",
       "    <tr>\n",
       "      <th>7</th>\n",
       "      <td>0</td>\n",
       "    </tr>\n",
       "    <tr>\n",
       "      <th>8</th>\n",
       "      <td>0</td>\n",
       "    </tr>\n",
       "    <tr>\n",
       "      <th>9</th>\n",
       "      <td>0</td>\n",
       "    </tr>\n",
       "    <tr>\n",
       "      <th>10</th>\n",
       "      <td>0</td>\n",
       "    </tr>\n",
       "    <tr>\n",
       "      <th>11</th>\n",
       "      <td>0</td>\n",
       "    </tr>\n",
       "    <tr>\n",
       "      <th>12</th>\n",
       "      <td>0</td>\n",
       "    </tr>\n",
       "    <tr>\n",
       "      <th>13</th>\n",
       "      <td>0</td>\n",
       "    </tr>\n",
       "    <tr>\n",
       "      <th>14</th>\n",
       "      <td>0</td>\n",
       "    </tr>\n",
       "    <tr>\n",
       "      <th>15</th>\n",
       "      <td>0</td>\n",
       "    </tr>\n",
       "    <tr>\n",
       "      <th>16</th>\n",
       "      <td>0</td>\n",
       "    </tr>\n",
       "    <tr>\n",
       "      <th>17</th>\n",
       "      <td>0</td>\n",
       "    </tr>\n",
       "    <tr>\n",
       "      <th>18</th>\n",
       "      <td>0</td>\n",
       "    </tr>\n",
       "    <tr>\n",
       "      <th>19</th>\n",
       "      <td>0</td>\n",
       "    </tr>\n",
       "    <tr>\n",
       "      <th>20</th>\n",
       "      <td>0</td>\n",
       "    </tr>\n",
       "    <tr>\n",
       "      <th>21</th>\n",
       "      <td>0</td>\n",
       "    </tr>\n",
       "    <tr>\n",
       "      <th>22</th>\n",
       "      <td>0</td>\n",
       "    </tr>\n",
       "    <tr>\n",
       "      <th>23</th>\n",
       "      <td>0</td>\n",
       "    </tr>\n",
       "    <tr>\n",
       "      <th>24</th>\n",
       "      <td>0</td>\n",
       "    </tr>\n",
       "    <tr>\n",
       "      <th>25</th>\n",
       "      <td>0</td>\n",
       "    </tr>\n",
       "    <tr>\n",
       "      <th>26</th>\n",
       "      <td>0</td>\n",
       "    </tr>\n",
       "    <tr>\n",
       "      <th>27</th>\n",
       "      <td>0</td>\n",
       "    </tr>\n",
       "    <tr>\n",
       "      <th>28</th>\n",
       "      <td>0</td>\n",
       "    </tr>\n",
       "    <tr>\n",
       "      <th>29</th>\n",
       "      <td>0</td>\n",
       "    </tr>\n",
       "    <tr>\n",
       "      <th>...</th>\n",
       "      <td>...</td>\n",
       "    </tr>\n",
       "    <tr>\n",
       "      <th>9970</th>\n",
       "      <td>2</td>\n",
       "    </tr>\n",
       "    <tr>\n",
       "      <th>9971</th>\n",
       "      <td>2</td>\n",
       "    </tr>\n",
       "    <tr>\n",
       "      <th>9972</th>\n",
       "      <td>2</td>\n",
       "    </tr>\n",
       "    <tr>\n",
       "      <th>9973</th>\n",
       "      <td>2</td>\n",
       "    </tr>\n",
       "    <tr>\n",
       "      <th>9974</th>\n",
       "      <td>2</td>\n",
       "    </tr>\n",
       "    <tr>\n",
       "      <th>9975</th>\n",
       "      <td>2</td>\n",
       "    </tr>\n",
       "    <tr>\n",
       "      <th>9976</th>\n",
       "      <td>2</td>\n",
       "    </tr>\n",
       "    <tr>\n",
       "      <th>9977</th>\n",
       "      <td>2</td>\n",
       "    </tr>\n",
       "    <tr>\n",
       "      <th>9978</th>\n",
       "      <td>2</td>\n",
       "    </tr>\n",
       "    <tr>\n",
       "      <th>9979</th>\n",
       "      <td>1</td>\n",
       "    </tr>\n",
       "    <tr>\n",
       "      <th>9980</th>\n",
       "      <td>1</td>\n",
       "    </tr>\n",
       "    <tr>\n",
       "      <th>9981</th>\n",
       "      <td>1</td>\n",
       "    </tr>\n",
       "    <tr>\n",
       "      <th>9982</th>\n",
       "      <td>1</td>\n",
       "    </tr>\n",
       "    <tr>\n",
       "      <th>9983</th>\n",
       "      <td>1</td>\n",
       "    </tr>\n",
       "    <tr>\n",
       "      <th>9984</th>\n",
       "      <td>1</td>\n",
       "    </tr>\n",
       "    <tr>\n",
       "      <th>9985</th>\n",
       "      <td>1</td>\n",
       "    </tr>\n",
       "    <tr>\n",
       "      <th>9986</th>\n",
       "      <td>1</td>\n",
       "    </tr>\n",
       "    <tr>\n",
       "      <th>9987</th>\n",
       "      <td>1</td>\n",
       "    </tr>\n",
       "    <tr>\n",
       "      <th>9988</th>\n",
       "      <td>1</td>\n",
       "    </tr>\n",
       "    <tr>\n",
       "      <th>9989</th>\n",
       "      <td>1</td>\n",
       "    </tr>\n",
       "    <tr>\n",
       "      <th>9990</th>\n",
       "      <td>1</td>\n",
       "    </tr>\n",
       "    <tr>\n",
       "      <th>9991</th>\n",
       "      <td>1</td>\n",
       "    </tr>\n",
       "    <tr>\n",
       "      <th>9992</th>\n",
       "      <td>1</td>\n",
       "    </tr>\n",
       "    <tr>\n",
       "      <th>9993</th>\n",
       "      <td>1</td>\n",
       "    </tr>\n",
       "    <tr>\n",
       "      <th>9994</th>\n",
       "      <td>1</td>\n",
       "    </tr>\n",
       "    <tr>\n",
       "      <th>9995</th>\n",
       "      <td>1</td>\n",
       "    </tr>\n",
       "    <tr>\n",
       "      <th>9996</th>\n",
       "      <td>1</td>\n",
       "    </tr>\n",
       "    <tr>\n",
       "      <th>9997</th>\n",
       "      <td>1</td>\n",
       "    </tr>\n",
       "    <tr>\n",
       "      <th>9998</th>\n",
       "      <td>1</td>\n",
       "    </tr>\n",
       "    <tr>\n",
       "      <th>9999</th>\n",
       "      <td>1</td>\n",
       "    </tr>\n",
       "  </tbody>\n",
       "</table>\n",
       "<p>10000 rows × 1 columns</p>\n",
       "</div>"
      ],
      "text/plain": [
       "      0\n",
       "0     0\n",
       "1     0\n",
       "2     0\n",
       "3     0\n",
       "4     0\n",
       "5     0\n",
       "6     0\n",
       "7     0\n",
       "8     0\n",
       "9     0\n",
       "10    0\n",
       "11    0\n",
       "12    0\n",
       "13    0\n",
       "14    0\n",
       "15    0\n",
       "16    0\n",
       "17    0\n",
       "18    0\n",
       "19    0\n",
       "20    0\n",
       "21    0\n",
       "22    0\n",
       "23    0\n",
       "24    0\n",
       "25    0\n",
       "26    0\n",
       "27    0\n",
       "28    0\n",
       "29    0\n",
       "...  ..\n",
       "9970  2\n",
       "9971  2\n",
       "9972  2\n",
       "9973  2\n",
       "9974  2\n",
       "9975  2\n",
       "9976  2\n",
       "9977  2\n",
       "9978  2\n",
       "9979  1\n",
       "9980  1\n",
       "9981  1\n",
       "9982  1\n",
       "9983  1\n",
       "9984  1\n",
       "9985  1\n",
       "9986  1\n",
       "9987  1\n",
       "9988  1\n",
       "9989  1\n",
       "9990  1\n",
       "9991  1\n",
       "9992  1\n",
       "9993  1\n",
       "9994  1\n",
       "9995  1\n",
       "9996  1\n",
       "9997  1\n",
       "9998  1\n",
       "9999  1\n",
       "\n",
       "[10000 rows x 1 columns]"
      ]
     },
     "execution_count": 372,
     "metadata": {},
     "output_type": "execute_result"
    }
   ],
   "source": [
    "from pandas import DataFrame,Series\n",
    "Y1=DataFrame(Y__)\n",
    "mapping={'Kama':0,'Rosa':1,'Canadian':2}\n",
    "Y1[0]=Y1[0].map(mapping)\n",
    "Y1"
   ]
  },
  {
   "cell_type": "code",
   "execution_count": 373,
   "metadata": {
    "scrolled": true
   },
   "outputs": [
    {
     "data": {
      "text/plain": [
       "<matplotlib.collections.PathCollection at 0x22edc470>"
      ]
     },
     "execution_count": 373,
     "metadata": {},
     "output_type": "execute_result"
    },
    {
     "data": {
      "image/png": "[encoded data removed]",
      "text/plain": [
       "<Figure size 432x288 with 1 Axes>"
      ]
     },
     "metadata": {
      "needs_background": "light"
     },
     "output_type": "display_data"
    }
   ],
   "source": [
    "plt.scatter(X_[:,0],X_[:,1],c=Y1.values.ravel())\n",
    "plt.scatter(data[:,0],data[:,1],cmap='rainbow',c=Y2.values.ravel())\n"
   ]
  },
  {
   "cell_type": "markdown",
   "metadata": {},
   "source": [
    "#### 3、改进约会网站的匹配效果"
   ]
  },
  {
   "cell_type": "markdown",
   "metadata": {},
   "source": [
    "读取datingTestSet.txt文件，最后一列是喜欢程度。模型：根据前几列的信息，预测喜欢程度"
   ]
  },
  {
   "cell_type": "code",
   "execution_count": 311,
   "metadata": {
    "scrolled": false
   },
   "outputs": [
    {
     "data": {
      "text/plain": [
       "(1000, 4)"
      ]
     },
     "execution_count": 311,
     "metadata": {},
     "output_type": "execute_result"
    }
   ],
   "source": [
    "date=pd.read_csv('../data/datingTestSet.txt',sep='\\t',header=None)\n",
    "date.head()"
   ]
  },
  {
   "cell_type": "code",
   "execution_count": 246,
   "metadata": {},
   "outputs": [
    {
     "data": {
      "text/html": [
       "<div>\n",
       "<style scoped>\n",
       "    .dataframe tbody tr th:only-of-type {\n",
       "        vertical-align: middle;\n",
       "    }\n",
       "\n",
       "    .dataframe tbody tr th {\n",
       "        vertical-align: top;\n",
       "    }\n",
       "\n",
       "    .dataframe thead th {\n",
       "        text-align: right;\n",
       "    }\n",
       "</style>\n",
       "<table border=\"1\" class=\"dataframe\">\n",
       "  <thead>\n",
       "    <tr style=\"text-align: right;\">\n",
       "      <th></th>\n",
       "      <th>3</th>\n",
       "    </tr>\n",
       "  </thead>\n",
       "  <tbody>\n",
       "    <tr>\n",
       "      <th>0</th>\n",
       "      <td>largeDoses</td>\n",
       "    </tr>\n",
       "    <tr>\n",
       "      <th>1</th>\n",
       "      <td>smallDoses</td>\n",
       "    </tr>\n",
       "    <tr>\n",
       "      <th>2</th>\n",
       "      <td>didntLike</td>\n",
       "    </tr>\n",
       "  </tbody>\n",
       "</table>\n",
       "</div>"
      ],
      "text/plain": [
       "            3\n",
       "0  largeDoses\n",
       "1  smallDoses\n",
       "2   didntLike"
      ]
     },
     "execution_count": 246,
     "metadata": {},
     "output_type": "execute_result"
    }
   ],
   "source": [
    "date.loc[:,'3':'3'].drop_duplicates()"
   ]
  },
  {
   "cell_type": "code",
   "execution_count": 255,
   "metadata": {
    "collapsed": true
   },
   "outputs": [
    {
     "data": {
      "text/html": [
       "<div>\n",
       "<style scoped>\n",
       "    .dataframe tbody tr th:only-of-type {\n",
       "        vertical-align: middle;\n",
       "    }\n",
       "\n",
       "    .dataframe tbody tr th {\n",
       "        vertical-align: top;\n",
       "    }\n",
       "\n",
       "    .dataframe thead th {\n",
       "        text-align: right;\n",
       "    }\n",
       "</style>\n",
       "<table border=\"1\" class=\"dataframe\">\n",
       "  <thead>\n",
       "    <tr style=\"text-align: right;\">\n",
       "      <th></th>\n",
       "      <th>0</th>\n",
       "    </tr>\n",
       "  </thead>\n",
       "  <tbody>\n",
       "    <tr>\n",
       "      <th>0</th>\n",
       "      <td>2</td>\n",
       "    </tr>\n",
       "    <tr>\n",
       "      <th>1</th>\n",
       "      <td>0</td>\n",
       "    </tr>\n",
       "    <tr>\n",
       "      <th>2</th>\n",
       "      <td>1</td>\n",
       "    </tr>\n",
       "    <tr>\n",
       "      <th>3</th>\n",
       "      <td>1</td>\n",
       "    </tr>\n",
       "    <tr>\n",
       "      <th>4</th>\n",
       "      <td>1</td>\n",
       "    </tr>\n",
       "    <tr>\n",
       "      <th>5</th>\n",
       "      <td>1</td>\n",
       "    </tr>\n",
       "    <tr>\n",
       "      <th>6</th>\n",
       "      <td>2</td>\n",
       "    </tr>\n",
       "    <tr>\n",
       "      <th>7</th>\n",
       "      <td>2</td>\n",
       "    </tr>\n",
       "    <tr>\n",
       "      <th>8</th>\n",
       "      <td>1</td>\n",
       "    </tr>\n",
       "    <tr>\n",
       "      <th>9</th>\n",
       "      <td>2</td>\n",
       "    </tr>\n",
       "    <tr>\n",
       "      <th>10</th>\n",
       "      <td>1</td>\n",
       "    </tr>\n",
       "    <tr>\n",
       "      <th>11</th>\n",
       "      <td>1</td>\n",
       "    </tr>\n",
       "    <tr>\n",
       "      <th>12</th>\n",
       "      <td>0</td>\n",
       "    </tr>\n",
       "    <tr>\n",
       "      <th>13</th>\n",
       "      <td>1</td>\n",
       "    </tr>\n",
       "    <tr>\n",
       "      <th>14</th>\n",
       "      <td>1</td>\n",
       "    </tr>\n",
       "    <tr>\n",
       "      <th>15</th>\n",
       "      <td>1</td>\n",
       "    </tr>\n",
       "    <tr>\n",
       "      <th>16</th>\n",
       "      <td>1</td>\n",
       "    </tr>\n",
       "    <tr>\n",
       "      <th>17</th>\n",
       "      <td>1</td>\n",
       "    </tr>\n",
       "    <tr>\n",
       "      <th>18</th>\n",
       "      <td>0</td>\n",
       "    </tr>\n",
       "    <tr>\n",
       "      <th>19</th>\n",
       "      <td>2</td>\n",
       "    </tr>\n",
       "    <tr>\n",
       "      <th>20</th>\n",
       "      <td>0</td>\n",
       "    </tr>\n",
       "    <tr>\n",
       "      <th>21</th>\n",
       "      <td>1</td>\n",
       "    </tr>\n",
       "    <tr>\n",
       "      <th>22</th>\n",
       "      <td>0</td>\n",
       "    </tr>\n",
       "    <tr>\n",
       "      <th>23</th>\n",
       "      <td>2</td>\n",
       "    </tr>\n",
       "    <tr>\n",
       "      <th>24</th>\n",
       "      <td>0</td>\n",
       "    </tr>\n",
       "    <tr>\n",
       "      <th>25</th>\n",
       "      <td>2</td>\n",
       "    </tr>\n",
       "    <tr>\n",
       "      <th>26</th>\n",
       "      <td>0</td>\n",
       "    </tr>\n",
       "    <tr>\n",
       "      <th>27</th>\n",
       "      <td>2</td>\n",
       "    </tr>\n",
       "    <tr>\n",
       "      <th>28</th>\n",
       "      <td>0</td>\n",
       "    </tr>\n",
       "    <tr>\n",
       "      <th>29</th>\n",
       "      <td>1</td>\n",
       "    </tr>\n",
       "    <tr>\n",
       "      <th>...</th>\n",
       "      <td>...</td>\n",
       "    </tr>\n",
       "    <tr>\n",
       "      <th>970</th>\n",
       "      <td>2</td>\n",
       "    </tr>\n",
       "    <tr>\n",
       "      <th>971</th>\n",
       "      <td>1</td>\n",
       "    </tr>\n",
       "    <tr>\n",
       "      <th>972</th>\n",
       "      <td>0</td>\n",
       "    </tr>\n",
       "    <tr>\n",
       "      <th>973</th>\n",
       "      <td>1</td>\n",
       "    </tr>\n",
       "    <tr>\n",
       "      <th>974</th>\n",
       "      <td>0</td>\n",
       "    </tr>\n",
       "    <tr>\n",
       "      <th>975</th>\n",
       "      <td>2</td>\n",
       "    </tr>\n",
       "    <tr>\n",
       "      <th>976</th>\n",
       "      <td>1</td>\n",
       "    </tr>\n",
       "    <tr>\n",
       "      <th>977</th>\n",
       "      <td>2</td>\n",
       "    </tr>\n",
       "    <tr>\n",
       "      <th>978</th>\n",
       "      <td>0</td>\n",
       "    </tr>\n",
       "    <tr>\n",
       "      <th>979</th>\n",
       "      <td>0</td>\n",
       "    </tr>\n",
       "    <tr>\n",
       "      <th>980</th>\n",
       "      <td>0</td>\n",
       "    </tr>\n",
       "    <tr>\n",
       "      <th>981</th>\n",
       "      <td>0</td>\n",
       "    </tr>\n",
       "    <tr>\n",
       "      <th>982</th>\n",
       "      <td>0</td>\n",
       "    </tr>\n",
       "    <tr>\n",
       "      <th>983</th>\n",
       "      <td>0</td>\n",
       "    </tr>\n",
       "    <tr>\n",
       "      <th>984</th>\n",
       "      <td>0</td>\n",
       "    </tr>\n",
       "    <tr>\n",
       "      <th>985</th>\n",
       "      <td>0</td>\n",
       "    </tr>\n",
       "    <tr>\n",
       "      <th>986</th>\n",
       "      <td>0</td>\n",
       "    </tr>\n",
       "    <tr>\n",
       "      <th>987</th>\n",
       "      <td>0</td>\n",
       "    </tr>\n",
       "    <tr>\n",
       "      <th>988</th>\n",
       "      <td>0</td>\n",
       "    </tr>\n",
       "    <tr>\n",
       "      <th>989</th>\n",
       "      <td>0</td>\n",
       "    </tr>\n",
       "    <tr>\n",
       "      <th>990</th>\n",
       "      <td>2</td>\n",
       "    </tr>\n",
       "    <tr>\n",
       "      <th>991</th>\n",
       "      <td>0</td>\n",
       "    </tr>\n",
       "    <tr>\n",
       "      <th>992</th>\n",
       "      <td>0</td>\n",
       "    </tr>\n",
       "    <tr>\n",
       "      <th>993</th>\n",
       "      <td>0</td>\n",
       "    </tr>\n",
       "    <tr>\n",
       "      <th>994</th>\n",
       "      <td>0</td>\n",
       "    </tr>\n",
       "    <tr>\n",
       "      <th>995</th>\n",
       "      <td>0</td>\n",
       "    </tr>\n",
       "    <tr>\n",
       "      <th>996</th>\n",
       "      <td>1</td>\n",
       "    </tr>\n",
       "    <tr>\n",
       "      <th>997</th>\n",
       "      <td>2</td>\n",
       "    </tr>\n",
       "    <tr>\n",
       "      <th>998</th>\n",
       "      <td>2</td>\n",
       "    </tr>\n",
       "    <tr>\n",
       "      <th>999</th>\n",
       "      <td>2</td>\n",
       "    </tr>\n",
       "  </tbody>\n",
       "</table>\n",
       "<p>1000 rows × 1 columns</p>\n",
       "</div>"
      ],
      "text/plain": [
       "     0\n",
       "0    2\n",
       "1    0\n",
       "2    1\n",
       "3    1\n",
       "4    1\n",
       "5    1\n",
       "6    2\n",
       "7    2\n",
       "8    1\n",
       "9    2\n",
       "10   1\n",
       "11   1\n",
       "12   0\n",
       "13   1\n",
       "14   1\n",
       "15   1\n",
       "16   1\n",
       "17   1\n",
       "18   0\n",
       "19   2\n",
       "20   0\n",
       "21   1\n",
       "22   0\n",
       "23   2\n",
       "24   0\n",
       "25   2\n",
       "26   0\n",
       "27   2\n",
       "28   0\n",
       "29   1\n",
       "..  ..\n",
       "970  2\n",
       "971  1\n",
       "972  0\n",
       "973  1\n",
       "974  0\n",
       "975  2\n",
       "976  1\n",
       "977  2\n",
       "978  0\n",
       "979  0\n",
       "980  0\n",
       "981  0\n",
       "982  0\n",
       "983  0\n",
       "984  0\n",
       "985  0\n",
       "986  0\n",
       "987  0\n",
       "988  0\n",
       "989  0\n",
       "990  2\n",
       "991  0\n",
       "992  0\n",
       "993  0\n",
       "994  0\n",
       "995  0\n",
       "996  1\n",
       "997  2\n",
       "998  2\n",
       "999  2\n",
       "\n",
       "[1000 rows x 1 columns]"
      ]
     },
     "execution_count": 255,
     "metadata": {},
     "output_type": "execute_result"
    }
   ],
   "source": [
    "Y1=DataFrame(date.values[:,3])\n",
    "Y1[0]=Y1[0].map(mapping)\n",
    "Y1"
   ]
  },
  {
   "cell_type": "code",
   "execution_count": 376,
   "metadata": {},
   "outputs": [
    {
     "data": {
      "text/plain": [
       "<matplotlib.axes._subplots.AxesSubplot at 0x23fa9ef0>"
      ]
     },
     "execution_count": 376,
     "metadata": {},
     "output_type": "execute_result"
    },
    {
     "data": {
      "image/png": "[encoded data removed]",
      "text/plain": [
       "<Figure size 432x288 with 1 Axes>"
      ]
     },
     "metadata": {
      "needs_background": "light"
     },
     "output_type": "display_data"
    }
   ],
   "source": [
    "date.loc[:,'0':'1'].plot(ls='',marker='.')"
   ]
  },
  {
   "cell_type": "code",
   "execution_count": 300,
   "metadata": {
    "collapsed": true
   },
   "outputs": [
    {
     "data": {
      "text/plain": [
       "array([[40920, 8.326976],\n",
       "       [14488, 7.153469],\n",
       "       [26052, 1.441871],\n",
       "       ...,\n",
       "       [26575, 10.650102],\n",
       "       [48111, 9.134528],\n",
       "       [43757, 7.882600999999999]], dtype=object)"
      ]
     },
     "metadata": {},
     "output_type": "display_data"
    },
    {
     "data": {
      "text/plain": [
       "array([['largeDoses'],\n",
       "       ['smallDoses'],\n",
       "       ['didntLike'],\n",
       "       ['didntLike'],\n",
       "       ['didntLike'],\n",
       "       ['didntLike'],\n",
       "       ['largeDoses'],\n",
       "       ['largeDoses'],\n",
       "       ['didntLike'],\n",
       "       ['largeDoses'],\n",
       "       ['didntLike'],\n",
       "       ['didntLike'],\n",
       "       ['smallDoses'],\n",
       "       ['didntLike'],\n",
       "       ['didntLike'],\n",
       "       ['didntLike'],\n",
       "       ['didntLike'],\n",
       "       ['didntLike'],\n",
       "       ['smallDoses'],\n",
       "       ['largeDoses'],\n",
       "       ['smallDoses'],\n",
       "       ['didntLike'],\n",
       "       ['smallDoses'],\n",
       "       ['largeDoses'],\n",
       "       ['smallDoses'],\n",
       "       ['largeDoses'],\n",
       "       ['smallDoses'],\n",
       "       ['largeDoses'],\n",
       "       ['smallDoses'],\n",
       "       ['didntLike'],\n",
       "       ['largeDoses'],\n",
       "       ['didntLike'],\n",
       "       ['largeDoses'],\n",
       "       ['didntLike'],\n",
       "       ['smallDoses'],\n",
       "       ['didntLike'],\n",
       "       ['didntLike'],\n",
       "       ['smallDoses'],\n",
       "       ['largeDoses'],\n",
       "       ['largeDoses'],\n",
       "       ['didntLike'],\n",
       "       ['smallDoses'],\n",
       "       ['largeDoses'],\n",
       "       ['largeDoses'],\n",
       "       ['largeDoses'],\n",
       "       ['didntLike'],\n",
       "       ['didntLike'],\n",
       "       ['didntLike'],\n",
       "       ['didntLike'],\n",
       "       ['smallDoses'],\n",
       "       ['smallDoses'],\n",
       "       ['didntLike'],\n",
       "       ['largeDoses'],\n",
       "       ['smallDoses'],\n",
       "       ['smallDoses'],\n",
       "       ['smallDoses'],\n",
       "       ['smallDoses'],\n",
       "       ['largeDoses'],\n",
       "       ['didntLike'],\n",
       "       ['smallDoses'],\n",
       "       ['didntLike'],\n",
       "       ['smallDoses'],\n",
       "       ['smallDoses'],\n",
       "       ['smallDoses'],\n",
       "       ['smallDoses'],\n",
       "       ['smallDoses'],\n",
       "       ['largeDoses'],\n",
       "       ['smallDoses'],\n",
       "       ['largeDoses'],\n",
       "       ['didntLike'],\n",
       "       ['smallDoses'],\n",
       "       ['largeDoses'],\n",
       "       ['smallDoses'],\n",
       "       ['smallDoses'],\n",
       "       ['didntLike'],\n",
       "       ['largeDoses'],\n",
       "       ['didntLike'],\n",
       "       ['didntLike'],\n",
       "       ['largeDoses'],\n",
       "       ['largeDoses'],\n",
       "       ['didntLike'],\n",
       "       ['smallDoses'],\n",
       "       ['largeDoses'],\n",
       "       ['didntLike'],\n",
       "       ['largeDoses'],\n",
       "       ['didntLike'],\n",
       "       ['smallDoses'],\n",
       "       ['smallDoses'],\n",
       "       ['didntLike'],\n",
       "       ['didntLike'],\n",
       "       ['largeDoses'],\n",
       "       ['largeDoses'],\n",
       "       ['didntLike'],\n",
       "       ['smallDoses'],\n",
       "       ['didntLike'],\n",
       "       ['largeDoses'],\n",
       "       ['largeDoses'],\n",
       "       ['smallDoses'],\n",
       "       ['didntLike'],\n",
       "       ['didntLike'],\n",
       "       ['largeDoses'],\n",
       "       ['didntLike'],\n",
       "       ['smallDoses'],\n",
       "       ['largeDoses'],\n",
       "       ['largeDoses'],\n",
       "       ['smallDoses'],\n",
       "       ['largeDoses'],\n",
       "       ['largeDoses'],\n",
       "       ['didntLike'],\n",
       "       ['smallDoses'],\n",
       "       ['largeDoses'],\n",
       "       ['smallDoses'],\n",
       "       ['didntLike'],\n",
       "       ['largeDoses'],\n",
       "       ['didntLike'],\n",
       "       ['smallDoses'],\n",
       "       ['didntLike'],\n",
       "       ['didntLike'],\n",
       "       ['smallDoses'],\n",
       "       ['largeDoses'],\n",
       "       ['smallDoses'],\n",
       "       ['largeDoses'],\n",
       "       ['smallDoses'],\n",
       "       ['largeDoses'],\n",
       "       ['smallDoses'],\n",
       "       ['didntLike'],\n",
       "       ['largeDoses'],\n",
       "       ['largeDoses'],\n",
       "       ['largeDoses'],\n",
       "       ['didntLike'],\n",
       "       ['largeDoses'],\n",
       "       ['smallDoses'],\n",
       "       ['smallDoses'],\n",
       "       ['largeDoses'],\n",
       "       ['didntLike'],\n",
       "       ['largeDoses'],\n",
       "       ['largeDoses'],\n",
       "       ['largeDoses'],\n",
       "       ['didntLike'],\n",
       "       ['largeDoses'],\n",
       "       ['didntLike'],\n",
       "       ['didntLike'],\n",
       "       ['largeDoses'],\n",
       "       ['largeDoses'],\n",
       "       ['smallDoses'],\n",
       "       ['largeDoses'],\n",
       "       ['largeDoses'],\n",
       "       ['didntLike'],\n",
       "       ['smallDoses'],\n",
       "       ['largeDoses'],\n",
       "       ['smallDoses'],\n",
       "       ['smallDoses'],\n",
       "       ['largeDoses'],\n",
       "       ['largeDoses'],\n",
       "       ['largeDoses'],\n",
       "       ['didntLike'],\n",
       "       ['smallDoses'],\n",
       "       ['smallDoses'],\n",
       "       ['didntLike'],\n",
       "       ['didntLike'],\n",
       "       ['largeDoses'],\n",
       "       ['smallDoses'],\n",
       "       ['largeDoses'],\n",
       "       ['largeDoses'],\n",
       "       ['didntLike'],\n",
       "       ['smallDoses'],\n",
       "       ['didntLike'],\n",
       "       ['largeDoses'],\n",
       "       ['didntLike'],\n",
       "       ['smallDoses'],\n",
       "       ['largeDoses'],\n",
       "       ['smallDoses'],\n",
       "       ['largeDoses'],\n",
       "       ['didntLike'],\n",
       "       ['didntLike'],\n",
       "       ['didntLike'],\n",
       "       ['largeDoses'],\n",
       "       ['smallDoses'],\n",
       "       ['largeDoses'],\n",
       "       ['didntLike'],\n",
       "       ['largeDoses'],\n",
       "       ['smallDoses'],\n",
       "       ['didntLike'],\n",
       "       ['largeDoses'],\n",
       "       ['smallDoses'],\n",
       "       ['smallDoses'],\n",
       "       ['largeDoses'],\n",
       "       ['smallDoses'],\n",
       "       ['largeDoses'],\n",
       "       ['smallDoses'],\n",
       "       ['didntLike'],\n",
       "       ['didntLike'],\n",
       "       ['largeDoses'],\n",
       "       ['didntLike'],\n",
       "       ['largeDoses'],\n",
       "       ['smallDoses'],\n",
       "       ['smallDoses'],\n",
       "       ['smallDoses'],\n",
       "       ['largeDoses'],\n",
       "       ['smallDoses'],\n",
       "       ['smallDoses'],\n",
       "       ['didntLike'],\n",
       "       ['smallDoses'],\n",
       "       ['smallDoses'],\n",
       "       ['largeDoses'],\n",
       "       ['didntLike'],\n",
       "       ['largeDoses'],\n",
       "       ['largeDoses'],\n",
       "       ['smallDoses'],\n",
       "       ['didntLike'],\n",
       "       ['didntLike'],\n",
       "       ['didntLike'],\n",
       "       ['smallDoses'],\n",
       "       ['didntLike'],\n",
       "       ['largeDoses'],\n",
       "       ['largeDoses'],\n",
       "       ['largeDoses'],\n",
       "       ['largeDoses'],\n",
       "       ['smallDoses'],\n",
       "       ['didntLike'],\n",
       "       ['didntLike'],\n",
       "       ['didntLike'],\n",
       "       ['smallDoses'],\n",
       "       ['largeDoses'],\n",
       "       ['smallDoses'],\n",
       "       ['didntLike'],\n",
       "       ['largeDoses'],\n",
       "       ['didntLike'],\n",
       "       ['largeDoses'],\n",
       "       ['smallDoses'],\n",
       "       ['smallDoses'],\n",
       "       ['largeDoses'],\n",
       "       ['didntLike'],\n",
       "       ['largeDoses'],\n",
       "       ['didntLike'],\n",
       "       ['didntLike'],\n",
       "       ['smallDoses'],\n",
       "       ['didntLike'],\n",
       "       ['smallDoses'],\n",
       "       ['smallDoses'],\n",
       "       ['didntLike'],\n",
       "       ['largeDoses'],\n",
       "       ['didntLike'],\n",
       "       ['largeDoses'],\n",
       "       ['smallDoses'],\n",
       "       ['largeDoses'],\n",
       "       ['didntLike'],\n",
       "       ['smallDoses'],\n",
       "       ['largeDoses'],\n",
       "       ['didntLike'],\n",
       "       ['didntLike'],\n",
       "       ['didntLike'],\n",
       "       ['didntLike'],\n",
       "       ['smallDoses'],\n",
       "       ['largeDoses'],\n",
       "       ['smallDoses'],\n",
       "       ['smallDoses'],\n",
       "       ['largeDoses'],\n",
       "       ['didntLike'],\n",
       "       ['smallDoses'],\n",
       "       ['didntLike'],\n",
       "       ['didntLike'],\n",
       "       ['didntLike'],\n",
       "       ['largeDoses'],\n",
       "       ['largeDoses'],\n",
       "       ['smallDoses'],\n",
       "       ['didntLike'],\n",
       "       ['didntLike'],\n",
       "       ['didntLike'],\n",
       "       ['smallDoses'],\n",
       "       ['smallDoses'],\n",
       "       ['largeDoses'],\n",
       "       ['didntLike'],\n",
       "       ['didntLike'],\n",
       "       ['didntLike'],\n",
       "       ['smallDoses'],\n",
       "       ['didntLike'],\n",
       "       ['didntLike'],\n",
       "       ['smallDoses'],\n",
       "       ['didntLike'],\n",
       "       ['didntLike'],\n",
       "       ['didntLike'],\n",
       "       ['smallDoses'],\n",
       "       ['smallDoses'],\n",
       "       ['largeDoses'],\n",
       "       ['smallDoses'],\n",
       "       ['largeDoses'],\n",
       "       ['largeDoses'],\n",
       "       ['largeDoses'],\n",
       "       ['largeDoses'],\n",
       "       ['didntLike'],\n",
       "       ['smallDoses'],\n",
       "       ['largeDoses'],\n",
       "       ['didntLike'],\n",
       "       ['didntLike'],\n",
       "       ['didntLike'],\n",
       "       ['largeDoses'],\n",
       "       ['didntLike'],\n",
       "       ['largeDoses'],\n",
       "       ['smallDoses'],\n",
       "       ['smallDoses'],\n",
       "       ['didntLike'],\n",
       "       ['largeDoses'],\n",
       "       ['didntLike'],\n",
       "       ['largeDoses'],\n",
       "       ['smallDoses'],\n",
       "       ['smallDoses'],\n",
       "       ['didntLike'],\n",
       "       ['smallDoses'],\n",
       "       ['smallDoses'],\n",
       "       ['largeDoses'],\n",
       "       ['didntLike'],\n",
       "       ['largeDoses'],\n",
       "       ['smallDoses'],\n",
       "       ['didntLike'],\n",
       "       ['didntLike'],\n",
       "       ['largeDoses'],\n",
       "       ['largeDoses'],\n",
       "       ['smallDoses'],\n",
       "       ['largeDoses'],\n",
       "       ['largeDoses'],\n",
       "       ['smallDoses'],\n",
       "       ['largeDoses'],\n",
       "       ['didntLike'],\n",
       "       ['largeDoses'],\n",
       "       ['didntLike'],\n",
       "       ['largeDoses'],\n",
       "       ['largeDoses'],\n",
       "       ['didntLike'],\n",
       "       ['largeDoses'],\n",
       "       ['smallDoses'],\n",
       "       ['didntLike'],\n",
       "       ['largeDoses'],\n",
       "       ['didntLike'],\n",
       "       ['largeDoses'],\n",
       "       ['smallDoses'],\n",
       "       ['didntLike'],\n",
       "       ['smallDoses'],\n",
       "       ['smallDoses'],\n",
       "       ['didntLike'],\n",
       "       ['largeDoses'],\n",
       "       ['didntLike'],\n",
       "       ['didntLike'],\n",
       "       ['largeDoses'],\n",
       "       ['largeDoses'],\n",
       "       ['smallDoses'],\n",
       "       ['smallDoses'],\n",
       "       ['largeDoses'],\n",
       "       ['didntLike'],\n",
       "       ['smallDoses'],\n",
       "       ['largeDoses'],\n",
       "       ['largeDoses'],\n",
       "       ['smallDoses'],\n",
       "       ['smallDoses'],\n",
       "       ['didntLike'],\n",
       "       ['didntLike'],\n",
       "       ['didntLike'],\n",
       "       ['didntLike'],\n",
       "       ['largeDoses'],\n",
       "       ['smallDoses'],\n",
       "       ['didntLike'],\n",
       "       ['didntLike'],\n",
       "       ['largeDoses'],\n",
       "       ['smallDoses'],\n",
       "       ['didntLike'],\n",
       "       ['didntLike'],\n",
       "       ['largeDoses'],\n",
       "       ['largeDoses'],\n",
       "       ['largeDoses'],\n",
       "       ['smallDoses'],\n",
       "       ['largeDoses'],\n",
       "       ['smallDoses'],\n",
       "       ['didntLike'],\n",
       "       ['didntLike'],\n",
       "       ['didntLike'],\n",
       "       ['didntLike'],\n",
       "       ['didntLike'],\n",
       "       ['largeDoses'],\n",
       "       ['smallDoses'],\n",
       "       ['smallDoses'],\n",
       "       ['didntLike'],\n",
       "       ['smallDoses'],\n",
       "       ['didntLike'],\n",
       "       ['largeDoses'],\n",
       "       ['smallDoses'],\n",
       "       ['didntLike'],\n",
       "       ['largeDoses'],\n",
       "       ['smallDoses'],\n",
       "       ['didntLike'],\n",
       "       ['largeDoses'],\n",
       "       ['didntLike'],\n",
       "       ['didntLike'],\n",
       "       ['largeDoses'],\n",
       "       ['largeDoses'],\n",
       "       ['largeDoses'],\n",
       "       ['largeDoses'],\n",
       "       ['smallDoses'],\n",
       "       ['didntLike'],\n",
       "       ['didntLike'],\n",
       "       ['smallDoses'],\n",
       "       ['didntLike'],\n",
       "       ['largeDoses'],\n",
       "       ['largeDoses'],\n",
       "       ['smallDoses'],\n",
       "       ['didntLike'],\n",
       "       ['smallDoses'],\n",
       "       ['largeDoses'],\n",
       "       ['smallDoses'],\n",
       "       ['didntLike'],\n",
       "       ['smallDoses'],\n",
       "       ['smallDoses'],\n",
       "       ['smallDoses'],\n",
       "       ['didntLike'],\n",
       "       ['didntLike'],\n",
       "       ['largeDoses'],\n",
       "       ['didntLike'],\n",
       "       ['didntLike'],\n",
       "       ['smallDoses'],\n",
       "       ['largeDoses'],\n",
       "       ['didntLike'],\n",
       "       ['didntLike'],\n",
       "       ['smallDoses'],\n",
       "       ['largeDoses'],\n",
       "       ['didntLike'],\n",
       "       ['largeDoses'],\n",
       "       ['didntLike'],\n",
       "       ['didntLike'],\n",
       "       ['smallDoses'],\n",
       "       ['smallDoses'],\n",
       "       ['didntLike'],\n",
       "       ['smallDoses'],\n",
       "       ['smallDoses'],\n",
       "       ['smallDoses'],\n",
       "       ['largeDoses'],\n",
       "       ['didntLike'],\n",
       "       ['didntLike'],\n",
       "       ['didntLike'],\n",
       "       ['largeDoses'],\n",
       "       ['didntLike'],\n",
       "       ['largeDoses'],\n",
       "       ['didntLike'],\n",
       "       ['largeDoses'],\n",
       "       ['largeDoses'],\n",
       "       ['didntLike'],\n",
       "       ['didntLike'],\n",
       "       ['didntLike'],\n",
       "       ['largeDoses'],\n",
       "       ['smallDoses'],\n",
       "       ['largeDoses'],\n",
       "       ['largeDoses'],\n",
       "       ['smallDoses'],\n",
       "       ['smallDoses'],\n",
       "       ['didntLike'],\n",
       "       ['didntLike'],\n",
       "       ['didntLike'],\n",
       "       ['smallDoses'],\n",
       "       ['didntLike'],\n",
       "       ['smallDoses'],\n",
       "       ['smallDoses'],\n",
       "       ['largeDoses'],\n",
       "       ['largeDoses'],\n",
       "       ['largeDoses'],\n",
       "       ['didntLike'],\n",
       "       ['didntLike'],\n",
       "       ['largeDoses'],\n",
       "       ['largeDoses'],\n",
       "       ['smallDoses'],\n",
       "       ['largeDoses'],\n",
       "       ['largeDoses'],\n",
       "       ['smallDoses'],\n",
       "       ['largeDoses'],\n",
       "       ['largeDoses'],\n",
       "       ['largeDoses'],\n",
       "       ['smallDoses'],\n",
       "       ['largeDoses'],\n",
       "       ['largeDoses'],\n",
       "       ['didntLike'],\n",
       "       ['smallDoses'],\n",
       "       ['largeDoses'],\n",
       "       ['smallDoses'],\n",
       "       ['didntLike'],\n",
       "       ['didntLike'],\n",
       "       ['didntLike'],\n",
       "       ['didntLike'],\n",
       "       ['largeDoses'],\n",
       "       ['largeDoses'],\n",
       "       ['largeDoses'],\n",
       "       ['largeDoses'],\n",
       "       ['smallDoses'],\n",
       "       ['didntLike'],\n",
       "       ['didntLike'],\n",
       "       ['didntLike'],\n",
       "       ['didntLike'],\n",
       "       ['largeDoses'],\n",
       "       ['didntLike'],\n",
       "       ['didntLike'],\n",
       "       ['smallDoses'],\n",
       "       ['didntLike'],\n",
       "       ['didntLike'],\n",
       "       ['smallDoses'],\n",
       "       ['largeDoses'],\n",
       "       ['smallDoses'],\n",
       "       ['didntLike'],\n",
       "       ['smallDoses'],\n",
       "       ['smallDoses'],\n",
       "       ['smallDoses'],\n",
       "       ['largeDoses'],\n",
       "       ['smallDoses'],\n",
       "       ['didntLike'],\n",
       "       ['largeDoses'],\n",
       "       ['smallDoses'],\n",
       "       ['largeDoses'],\n",
       "       ['smallDoses'],\n",
       "       ['largeDoses'],\n",
       "       ['smallDoses'],\n",
       "       ['didntLike'],\n",
       "       ['didntLike'],\n",
       "       ['smallDoses'],\n",
       "       ['largeDoses'],\n",
       "       ['didntLike'],\n",
       "       ['largeDoses'],\n",
       "       ['largeDoses'],\n",
       "       ['largeDoses'],\n",
       "       ['didntLike'],\n",
       "       ['smallDoses'],\n",
       "       ['didntLike'],\n",
       "       ['smallDoses'],\n",
       "       ['smallDoses'],\n",
       "       ['didntLike'],\n",
       "       ['smallDoses'],\n",
       "       ['smallDoses'],\n",
       "       ['smallDoses'],\n",
       "       ['smallDoses'],\n",
       "       ['smallDoses'],\n",
       "       ['largeDoses'],\n",
       "       ['smallDoses'],\n",
       "       ['didntLike'],\n",
       "       ['largeDoses'],\n",
       "       ['largeDoses'],\n",
       "       ['smallDoses'],\n",
       "       ['smallDoses'],\n",
       "       ['smallDoses'],\n",
       "       ['largeDoses'],\n",
       "       ['didntLike'],\n",
       "       ['smallDoses'],\n",
       "       ['didntLike'],\n",
       "       ['didntLike'],\n",
       "       ['largeDoses'],\n",
       "       ['smallDoses'],\n",
       "       ['largeDoses'],\n",
       "       ['smallDoses'],\n",
       "       ['largeDoses'],\n",
       "       ['smallDoses'],\n",
       "       ['largeDoses'],\n",
       "       ['largeDoses'],\n",
       "       ['smallDoses'],\n",
       "       ['smallDoses'],\n",
       "       ['didntLike'],\n",
       "       ['largeDoses'],\n",
       "       ['didntLike'],\n",
       "       ['smallDoses'],\n",
       "       ['didntLike'],\n",
       "       ['largeDoses'],\n",
       "       ['didntLike'],\n",
       "       ['didntLike'],\n",
       "       ['didntLike'],\n",
       "       ['largeDoses'],\n",
       "       ['didntLike'],\n",
       "       ['didntLike'],\n",
       "       ['largeDoses'],\n",
       "       ['largeDoses'],\n",
       "       ['smallDoses'],\n",
       "       ['smallDoses'],\n",
       "       ['didntLike'],\n",
       "       ['largeDoses'],\n",
       "       ['didntLike'],\n",
       "       ['didntLike'],\n",
       "       ['largeDoses'],\n",
       "       ['smallDoses'],\n",
       "       ['largeDoses'],\n",
       "       ['didntLike'],\n",
       "       ['didntLike'],\n",
       "       ['largeDoses'],\n",
       "       ['didntLike'],\n",
       "       ['largeDoses'],\n",
       "       ['largeDoses'],\n",
       "       ['didntLike'],\n",
       "       ['smallDoses'],\n",
       "       ['largeDoses'],\n",
       "       ['didntLike'],\n",
       "       ['largeDoses'],\n",
       "       ['didntLike'],\n",
       "       ['didntLike'],\n",
       "       ['smallDoses'],\n",
       "       ['didntLike'],\n",
       "       ['largeDoses'],\n",
       "       ['didntLike'],\n",
       "       ['didntLike'],\n",
       "       ['didntLike'],\n",
       "       ['didntLike'],\n",
       "       ['smallDoses'],\n",
       "       ['didntLike'],\n",
       "       ['largeDoses'],\n",
       "       ['didntLike'],\n",
       "       ['smallDoses'],\n",
       "       ['didntLike'],\n",
       "       ['largeDoses'],\n",
       "       ['didntLike'],\n",
       "       ['largeDoses'],\n",
       "       ['didntLike'],\n",
       "       ['didntLike'],\n",
       "       ['smallDoses'],\n",
       "       ['smallDoses'],\n",
       "       ['smallDoses'],\n",
       "       ['largeDoses'],\n",
       "       ['smallDoses'],\n",
       "       ['smallDoses'],\n",
       "       ['didntLike'],\n",
       "       ['smallDoses'],\n",
       "       ['largeDoses'],\n",
       "       ['largeDoses'],\n",
       "       ['smallDoses'],\n",
       "       ['largeDoses'],\n",
       "       ['largeDoses'],\n",
       "       ['largeDoses'],\n",
       "       ['smallDoses'],\n",
       "       ['largeDoses'],\n",
       "       ['largeDoses'],\n",
       "       ['didntLike'],\n",
       "       ['largeDoses'],\n",
       "       ['smallDoses'],\n",
       "       ['largeDoses'],\n",
       "       ['smallDoses'],\n",
       "       ['didntLike'],\n",
       "       ['smallDoses'],\n",
       "       ['didntLike'],\n",
       "       ['didntLike'],\n",
       "       ['didntLike'],\n",
       "       ['smallDoses'],\n",
       "       ['largeDoses'],\n",
       "       ['smallDoses'],\n",
       "       ['smallDoses'],\n",
       "       ['didntLike'],\n",
       "       ['smallDoses'],\n",
       "       ['smallDoses'],\n",
       "       ['didntLike'],\n",
       "       ['largeDoses'],\n",
       "       ['didntLike'],\n",
       "       ['largeDoses'],\n",
       "       ['largeDoses'],\n",
       "       ['largeDoses'],\n",
       "       ['smallDoses'],\n",
       "       ['smallDoses'],\n",
       "       ['largeDoses'],\n",
       "       ['largeDoses'],\n",
       "       ['didntLike'],\n",
       "       ['smallDoses'],\n",
       "       ['smallDoses'],\n",
       "       ['smallDoses'],\n",
       "       ['largeDoses'],\n",
       "       ['didntLike'],\n",
       "       ['smallDoses'],\n",
       "       ['didntLike'],\n",
       "       ['largeDoses'],\n",
       "       ['didntLike'],\n",
       "       ['smallDoses'],\n",
       "       ['largeDoses'],\n",
       "       ['didntLike'],\n",
       "       ['didntLike'],\n",
       "       ['didntLike'],\n",
       "       ['smallDoses'],\n",
       "       ['smallDoses'],\n",
       "       ['largeDoses'],\n",
       "       ['didntLike'],\n",
       "       ['largeDoses'],\n",
       "       ['didntLike'],\n",
       "       ['didntLike'],\n",
       "       ['largeDoses'],\n",
       "       ['didntLike'],\n",
       "       ['smallDoses'],\n",
       "       ['largeDoses'],\n",
       "       ['didntLike'],\n",
       "       ['smallDoses'],\n",
       "       ['largeDoses'],\n",
       "       ['didntLike'],\n",
       "       ['smallDoses'],\n",
       "       ['largeDoses'],\n",
       "       ['smallDoses'],\n",
       "       ['smallDoses'],\n",
       "       ['smallDoses'],\n",
       "       ['largeDoses'],\n",
       "       ['didntLike'],\n",
       "       ['largeDoses'],\n",
       "       ['didntLike'],\n",
       "       ['smallDoses'],\n",
       "       ['largeDoses'],\n",
       "       ['smallDoses'],\n",
       "       ['smallDoses'],\n",
       "       ['largeDoses'],\n",
       "       ['didntLike'],\n",
       "       ['smallDoses'],\n",
       "       ['largeDoses'],\n",
       "       ['smallDoses'],\n",
       "       ['largeDoses'],\n",
       "       ['didntLike'],\n",
       "       ['smallDoses'],\n",
       "       ['smallDoses'],\n",
       "       ['largeDoses'],\n",
       "       ['didntLike'],\n",
       "       ['didntLike'],\n",
       "       ['didntLike'],\n",
       "       ['smallDoses'],\n",
       "       ['smallDoses'],\n",
       "       ['didntLike'],\n",
       "       ['didntLike'],\n",
       "       ['smallDoses'],\n",
       "       ['didntLike'],\n",
       "       ['smallDoses'],\n",
       "       ['didntLike'],\n",
       "       ['smallDoses'],\n",
       "       ['largeDoses'],\n",
       "       ['smallDoses'],\n",
       "       ['didntLike'],\n",
       "       ['largeDoses'],\n",
       "       ['largeDoses'],\n",
       "       ['largeDoses'],\n",
       "       ['didntLike'],\n",
       "       ['didntLike'],\n",
       "       ['largeDoses'],\n",
       "       ['didntLike'],\n",
       "       ['smallDoses'],\n",
       "       ['largeDoses'],\n",
       "       ['largeDoses'],\n",
       "       ['smallDoses'],\n",
       "       ['smallDoses'],\n",
       "       ['smallDoses'],\n",
       "       ['didntLike'],\n",
       "       ['smallDoses'],\n",
       "       ['largeDoses'],\n",
       "       ['smallDoses'],\n",
       "       ['smallDoses'],\n",
       "       ['largeDoses'],\n",
       "       ['smallDoses'],\n",
       "       ['smallDoses'],\n",
       "       ['smallDoses'],\n",
       "       ['largeDoses'],\n",
       "       ['largeDoses'],\n",
       "       ['smallDoses'],\n",
       "       ['didntLike'],\n",
       "       ['largeDoses'],\n",
       "       ['smallDoses'],\n",
       "       ['didntLike'],\n",
       "       ['largeDoses'],\n",
       "       ['largeDoses'],\n",
       "       ['didntLike'],\n",
       "       ['smallDoses'],\n",
       "       ['largeDoses'],\n",
       "       ['smallDoses'],\n",
       "       ['didntLike'],\n",
       "       ['largeDoses'],\n",
       "       ['largeDoses'],\n",
       "       ['largeDoses'],\n",
       "       ['didntLike'],\n",
       "       ['smallDoses'],\n",
       "       ['smallDoses'],\n",
       "       ['smallDoses'],\n",
       "       ['largeDoses'],\n",
       "       ['smallDoses'],\n",
       "       ['largeDoses'],\n",
       "       ['largeDoses'],\n",
       "       ['didntLike'],\n",
       "       ['smallDoses'],\n",
       "       ['didntLike'],\n",
       "       ['didntLike'],\n",
       "       ['smallDoses'],\n",
       "       ['didntLike'],\n",
       "       ['largeDoses'],\n",
       "       ['didntLike'],\n",
       "       ['smallDoses'],\n",
       "       ['smallDoses'],\n",
       "       ['didntLike'],\n",
       "       ['largeDoses'],\n",
       "       ['smallDoses'],\n",
       "       ['didntLike'],\n",
       "       ['largeDoses'],\n",
       "       ['largeDoses'],\n",
       "       ['smallDoses'],\n",
       "       ['smallDoses'],\n",
       "       ['smallDoses'],\n",
       "       ['didntLike'],\n",
       "       ['smallDoses'],\n",
       "       ['smallDoses'],\n",
       "       ['didntLike'],\n",
       "       ['largeDoses'],\n",
       "       ['didntLike'],\n",
       "       ['largeDoses'],\n",
       "       ['didntLike'],\n",
       "       ['largeDoses'],\n",
       "       ['largeDoses'],\n",
       "       ['didntLike'],\n",
       "       ['didntLike'],\n",
       "       ['smallDoses'],\n",
       "       ['largeDoses'],\n",
       "       ['smallDoses'],\n",
       "       ['smallDoses'],\n",
       "       ['largeDoses'],\n",
       "       ['didntLike'],\n",
       "       ['didntLike'],\n",
       "       ['didntLike'],\n",
       "       ['didntLike'],\n",
       "       ['largeDoses'],\n",
       "       ['smallDoses'],\n",
       "       ['smallDoses'],\n",
       "       ['didntLike'],\n",
       "       ['largeDoses'],\n",
       "       ['didntLike'],\n",
       "       ['smallDoses'],\n",
       "       ['largeDoses'],\n",
       "       ['didntLike'],\n",
       "       ['largeDoses'],\n",
       "       ['didntLike'],\n",
       "       ['largeDoses'],\n",
       "       ['didntLike'],\n",
       "       ['didntLike'],\n",
       "       ['largeDoses'],\n",
       "       ['smallDoses'],\n",
       "       ['largeDoses'],\n",
       "       ['didntLike'],\n",
       "       ['didntLike'],\n",
       "       ['largeDoses'],\n",
       "       ['largeDoses'],\n",
       "       ['largeDoses'],\n",
       "       ['largeDoses'],\n",
       "       ['didntLike'],\n",
       "       ['largeDoses'],\n",
       "       ['smallDoses'],\n",
       "       ['smallDoses'],\n",
       "       ['didntLike'],\n",
       "       ['didntLike'],\n",
       "       ['largeDoses'],\n",
       "       ['largeDoses'],\n",
       "       ['smallDoses'],\n",
       "       ['smallDoses'],\n",
       "       ['smallDoses'],\n",
       "       ['didntLike'],\n",
       "       ['smallDoses'],\n",
       "       ['didntLike'],\n",
       "       ['smallDoses'],\n",
       "       ['didntLike'],\n",
       "       ['largeDoses'],\n",
       "       ['smallDoses'],\n",
       "       ['didntLike'],\n",
       "       ['smallDoses'],\n",
       "       ['smallDoses'],\n",
       "       ['largeDoses'],\n",
       "       ['didntLike'],\n",
       "       ['smallDoses'],\n",
       "       ['smallDoses'],\n",
       "       ['smallDoses'],\n",
       "       ['largeDoses'],\n",
       "       ['smallDoses'],\n",
       "       ['didntLike'],\n",
       "       ['smallDoses'],\n",
       "       ['didntLike'],\n",
       "       ['smallDoses'],\n",
       "       ['largeDoses'],\n",
       "       ['largeDoses'],\n",
       "       ['smallDoses'],\n",
       "       ['largeDoses'],\n",
       "       ['didntLike'],\n",
       "       ['didntLike'],\n",
       "       ['largeDoses'],\n",
       "       ['largeDoses'],\n",
       "       ['didntLike'],\n",
       "       ['smallDoses'],\n",
       "       ['smallDoses'],\n",
       "       ['smallDoses'],\n",
       "       ['smallDoses'],\n",
       "       ['smallDoses'],\n",
       "       ['smallDoses'],\n",
       "       ['didntLike'],\n",
       "       ['largeDoses'],\n",
       "       ['largeDoses'],\n",
       "       ['largeDoses'],\n",
       "       ['largeDoses'],\n",
       "       ['largeDoses'],\n",
       "       ['didntLike'],\n",
       "       ['didntLike'],\n",
       "       ['largeDoses'],\n",
       "       ['smallDoses'],\n",
       "       ['didntLike'],\n",
       "       ['smallDoses'],\n",
       "       ['didntLike'],\n",
       "       ['smallDoses'],\n",
       "       ['smallDoses'],\n",
       "       ['largeDoses'],\n",
       "       ['smallDoses'],\n",
       "       ['smallDoses'],\n",
       "       ['smallDoses'],\n",
       "       ['largeDoses'],\n",
       "       ['didntLike'],\n",
       "       ['smallDoses'],\n",
       "       ['didntLike'],\n",
       "       ['smallDoses'],\n",
       "       ['smallDoses'],\n",
       "       ['didntLike'],\n",
       "       ['didntLike'],\n",
       "       ['smallDoses'],\n",
       "       ['largeDoses'],\n",
       "       ['largeDoses'],\n",
       "       ['didntLike'],\n",
       "       ['didntLike'],\n",
       "       ['didntLike'],\n",
       "       ['didntLike'],\n",
       "       ['largeDoses'],\n",
       "       ['largeDoses'],\n",
       "       ['largeDoses'],\n",
       "       ['largeDoses'],\n",
       "       ['largeDoses'],\n",
       "       ['largeDoses'],\n",
       "       ['didntLike'],\n",
       "       ['largeDoses'],\n",
       "       ['largeDoses'],\n",
       "       ['smallDoses'],\n",
       "       ['largeDoses'],\n",
       "       ['smallDoses'],\n",
       "       ['largeDoses'],\n",
       "       ['largeDoses'],\n",
       "       ['smallDoses'],\n",
       "       ['smallDoses'],\n",
       "       ['didntLike'],\n",
       "       ['didntLike'],\n",
       "       ['didntLike'],\n",
       "       ['largeDoses'],\n",
       "       ['largeDoses'],\n",
       "       ['didntLike'],\n",
       "       ['didntLike'],\n",
       "       ['didntLike'],\n",
       "       ['largeDoses'],\n",
       "       ['largeDoses'],\n",
       "       ['smallDoses'],\n",
       "       ['didntLike'],\n",
       "       ['smallDoses'],\n",
       "       ['didntLike'],\n",
       "       ['didntLike'],\n",
       "       ['smallDoses'],\n",
       "       ['smallDoses'],\n",
       "       ['didntLike'],\n",
       "       ['didntLike'],\n",
       "       ['didntLike'],\n",
       "       ['largeDoses'],\n",
       "       ['didntLike'],\n",
       "       ['didntLike'],\n",
       "       ['smallDoses'],\n",
       "       ['largeDoses'],\n",
       "       ['smallDoses'],\n",
       "       ['smallDoses'],\n",
       "       ['didntLike'],\n",
       "       ['largeDoses'],\n",
       "       ['didntLike'],\n",
       "       ['smallDoses'],\n",
       "       ['largeDoses'],\n",
       "       ['didntLike'],\n",
       "       ['smallDoses'],\n",
       "       ['smallDoses'],\n",
       "       ['smallDoses'],\n",
       "       ['smallDoses'],\n",
       "       ['largeDoses'],\n",
       "       ['smallDoses'],\n",
       "       ['largeDoses'],\n",
       "       ['largeDoses'],\n",
       "       ['didntLike'],\n",
       "       ['smallDoses'],\n",
       "       ['didntLike'],\n",
       "       ['smallDoses'],\n",
       "       ['largeDoses'],\n",
       "       ['didntLike'],\n",
       "       ['largeDoses'],\n",
       "       ['smallDoses'],\n",
       "       ['smallDoses'],\n",
       "       ['smallDoses'],\n",
       "       ['smallDoses'],\n",
       "       ['smallDoses'],\n",
       "       ['smallDoses'],\n",
       "       ['smallDoses'],\n",
       "       ['smallDoses'],\n",
       "       ['smallDoses'],\n",
       "       ['smallDoses'],\n",
       "       ['smallDoses'],\n",
       "       ['smallDoses'],\n",
       "       ['largeDoses'],\n",
       "       ['smallDoses'],\n",
       "       ['smallDoses'],\n",
       "       ['smallDoses'],\n",
       "       ['smallDoses'],\n",
       "       ['smallDoses'],\n",
       "       ['didntLike'],\n",
       "       ['largeDoses'],\n",
       "       ['largeDoses'],\n",
       "       ['largeDoses']], dtype=object)"
      ]
     },
     "metadata": {},
     "output_type": "display_data"
    }
   ],
   "source": [
    "data=date.values[:,[0,1]]\n",
    "target=date.values[:,[3]]\n",
    "display(data,target)"
   ]
  },
  {
   "cell_type": "code",
   "execution_count": 301,
   "metadata": {},
   "outputs": [],
   "source": [
    "X_train,X_test,Y_train,Y_test=train_test_split(data,target,test_size=0.1)"
   ]
  },
  {
   "cell_type": "code",
   "execution_count": 302,
   "metadata": {},
   "outputs": [
    {
     "name": "stderr",
     "output_type": "stream",
     "text": [
      "e:\\envs\\jupyter\\lib\\site-packages\\ipykernel_launcher.py:2: DataConversionWarning: A column-vector y was passed when a 1d array was expected. Please change the shape of y to (n_samples, ), for example using ravel().\n",
      "  \n"
     ]
    },
    {
     "data": {
      "text/plain": [
       "KNeighborsClassifier(algorithm='auto', leaf_size=30, metric='minkowski',\n",
       "                     metric_params=None, n_jobs=None, n_neighbors=5, p=2,\n",
       "                     weights='uniform')"
      ]
     },
     "execution_count": 302,
     "metadata": {},
     "output_type": "execute_result"
    }
   ],
   "source": [
    "knn=KNeighborsClassifier()\n",
    "knn.fit(X_train,Y_train)"
   ]
  },
  {
   "cell_type": "code",
   "execution_count": 303,
   "metadata": {
    "collapsed": true
   },
   "outputs": [
    {
     "data": {
      "text/plain": [
       "array(['didntLike', 'smallDoses', 'smallDoses', 'largeDoses',\n",
       "       'largeDoses', 'largeDoses', 'largeDoses', 'largeDoses',\n",
       "       'smallDoses', 'smallDoses', 'didntLike', 'smallDoses', 'didntLike',\n",
       "       'didntLike', 'smallDoses', 'didntLike', 'didntLike', 'smallDoses',\n",
       "       'didntLike', 'largeDoses', 'didntLike', 'smallDoses', 'smallDoses',\n",
       "       'smallDoses', 'smallDoses', 'smallDoses', 'largeDoses',\n",
       "       'largeDoses', 'smallDoses', 'largeDoses', 'didntLike', 'didntLike',\n",
       "       'didntLike', 'smallDoses', 'didntLike', 'smallDoses', 'largeDoses',\n",
       "       'smallDoses', 'largeDoses', 'smallDoses', 'smallDoses',\n",
       "       'didntLike', 'didntLike', 'smallDoses', 'largeDoses', 'smallDoses',\n",
       "       'smallDoses', 'didntLike', 'largeDoses', 'smallDoses', 'didntLike',\n",
       "       'didntLike', 'largeDoses', 'smallDoses', 'largeDoses',\n",
       "       'smallDoses', 'didntLike', 'smallDoses', 'didntLike', 'smallDoses',\n",
       "       'largeDoses', 'largeDoses', 'largeDoses', 'largeDoses',\n",
       "       'largeDoses', 'didntLike', 'smallDoses', 'largeDoses',\n",
       "       'largeDoses', 'largeDoses', 'smallDoses', 'largeDoses',\n",
       "       'didntLike', 'smallDoses', 'didntLike', 'didntLike', 'largeDoses',\n",
       "       'didntLike', 'smallDoses', 'smallDoses', 'didntLike', 'didntLike',\n",
       "       'didntLike', 'largeDoses', 'smallDoses', 'largeDoses', 'didntLike',\n",
       "       'didntLike', 'largeDoses', 'smallDoses', 'smallDoses',\n",
       "       'largeDoses', 'smallDoses', 'didntLike', 'smallDoses',\n",
       "       'largeDoses', 'largeDoses', 'smallDoses', 'largeDoses',\n",
       "       'didntLike'], dtype=object)"
      ]
     },
     "execution_count": 303,
     "metadata": {},
     "output_type": "execute_result"
    }
   ],
   "source": [
    "Y_=knn.predict(X_test)\n",
    "Y_"
   ]
  },
  {
   "cell_type": "code",
   "execution_count": 304,
   "metadata": {
    "scrolled": true
   },
   "outputs": [
    {
     "data": {
      "text/plain": [
       "0.8444444444444444"
      ]
     },
     "execution_count": 304,
     "metadata": {},
     "output_type": "execute_result"
    }
   ],
   "source": [
    "knn.score(X_train,Y_train)"
   ]
  },
  {
   "cell_type": "code",
   "execution_count": 305,
   "metadata": {},
   "outputs": [
    {
     "data": {
      "text/plain": [
       "0.86"
      ]
     },
     "execution_count": 305,
     "metadata": {},
     "output_type": "execute_result"
    }
   ],
   "source": [
    "knn.score(X_test,Y_test)"
   ]
  },
  {
   "cell_type": "code",
   "execution_count": 306,
   "metadata": {},
   "outputs": [],
   "source": [
    "xmin,xmax=data[:,0].min(),data[:,0].max()\n",
    "ymin,ymax=data[:,1].min(),data[:,1].max()\n",
    "x=np.linspace(xmin,xmax,100)\n",
    "y=np.linspace(ymin,ymax,100)\n",
    "X,Y=np.meshgrid(x,y)\n",
    "X_=np.c_[X.ravel(),Y.ravel()]"
   ]
  },
  {
   "cell_type": "code",
   "execution_count": 307,
   "metadata": {},
   "outputs": [
    {
     "data": {
      "text/plain": [
       "array(['smallDoses', 'smallDoses', 'smallDoses', ..., 'didntLike',\n",
       "       'didntLike', 'didntLike'], dtype=object)"
      ]
     },
     "execution_count": 307,
     "metadata": {},
     "output_type": "execute_result"
    }
   ],
   "source": [
    "Y__=knn.predict(X_)\n",
    "Y__"
   ]
  },
  {
   "cell_type": "code",
   "execution_count": 308,
   "metadata": {},
   "outputs": [
    {
     "data": {
      "text/plain": [
       "array([0, 0, 0, ..., 1, 1, 1], dtype=int64)"
      ]
     },
     "execution_count": 308,
     "metadata": {},
     "output_type": "execute_result"
    }
   ],
   "source": [
    "Y2=DataFrame(Y__)\n",
    "mapping={'smallDoses':0,'didntLike':1,'largeDoses':2}\n",
    "Y2[0]=Y2[0].map(mapping)\n",
    "Y2[0].values"
   ]
  },
  {
   "cell_type": "code",
   "execution_count": 309,
   "metadata": {},
   "outputs": [
    {
     "data": {
      "text/plain": [
       "<matplotlib.collections.PathCollection at 0x1fca9ef0>"
      ]
     },
     "execution_count": 309,
     "metadata": {},
     "output_type": "execute_result"
    },
    {
     "data": {
      "image/png": "[encoded data removed]",
      "text/plain": [
       "<Figure size 432x288 with 1 Axes>"
      ]
     },
     "metadata": {
      "needs_background": "light"
     },
     "output_type": "display_data"
    }
   ],
   "source": [
    "plt.scatter(X_[:,0],X_[:,1],c=Y2[0].values)\n",
    "plt.scatter(data[:,0],data[:,1],c=Y1[0].values,cmap='rainbow')"
   ]
  },
  {
   "cell_type": "code",
   "execution_count": null,
   "metadata": {},
   "outputs": [],
   "source": []
  }
 ],
 "metadata": {
  "kernelspec": {
   "display_name": "Python 3",
   "language": "python",
   "name": "python3"
  },
  "language_info": {
   "codemirror_mode": {
    "name": "ipython",
    "version": 3
   },
   "file_extension": ".py",
   "mimetype": "text/x-python",
   "name": "python",
   "nbconvert_exporter": "python",
   "pygments_lexer": "ipython3",
   "version": "3.6.3"
  }
 },
 "nbformat": 4,
 "nbformat_minor": 2
}
